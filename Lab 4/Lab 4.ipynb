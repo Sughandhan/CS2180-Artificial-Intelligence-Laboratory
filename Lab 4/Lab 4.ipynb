{
 "cells": [
  {
   "cell_type": "markdown",
   "metadata": {
    "id": "O5ihJ9duoFhP"
   },
   "source": [
    "**Lab 4 by Sughandhan S**"
   ]
  },
  {
   "cell_type": "markdown",
   "metadata": {
    "id": "sog6sEsgoMTM"
   },
   "source": [
    "#Libraries"
   ]
  },
  {
   "cell_type": "code",
   "execution_count": 1,
   "metadata": {
    "executionInfo": {
     "elapsed": 1831,
     "status": "ok",
     "timestamp": 1617130425212,
     "user": {
      "displayName": "Sughandhan S",
      "photoUrl": "https://lh3.googleusercontent.com/a-/AOh14GgCzJgz5tDGcNqn108PikDmo9i8xVBqBE7WCrGurg=s64",
      "userId": "16893705064560269479"
     },
     "user_tz": -330
    },
    "id": "6o65d82yoDlK"
   },
   "outputs": [],
   "source": [
    "import numpy as np\n",
    "import pandas as pd\n",
    "import matplotlib.pyplot as plt"
   ]
  },
  {
   "cell_type": "markdown",
   "metadata": {
    "id": "MrMqexmJAZmS"
   },
   "source": [
    "#ROUGHHHH\n"
   ]
  },
  {
   "cell_type": "markdown",
   "metadata": {
    "id": "gsofuIc2AeOS"
   },
   "source": [
    "#Q1 Starts HERE!"
   ]
  },
  {
   "cell_type": "code",
   "execution_count": 1,
   "metadata": {
    "executionInfo": {
     "elapsed": 3715,
     "status": "ok",
     "timestamp": 1617130427105,
     "user": {
      "displayName": "Sughandhan S",
      "photoUrl": "https://lh3.googleusercontent.com/a-/AOh14GgCzJgz5tDGcNqn108PikDmo9i8xVBqBE7WCrGurg=s64",
      "userId": "16893705064560269479"
     },
     "user_tz": -330
    },
    "id": "N_wwxTr6f1dz"
   },
   "outputs": [],
   "source": []
  },
  {
   "cell_type": "code",
   "execution_count": 2,
   "metadata": {
    "executionInfo": {
     "elapsed": 3711,
     "status": "ok",
     "timestamp": 1617130427106,
     "user": {
      "displayName": "Sughandhan S",
      "photoUrl": "https://lh3.googleusercontent.com/a-/AOh14GgCzJgz5tDGcNqn108PikDmo9i8xVBqBE7WCrGurg=s64",
      "userId": "16893705064560269479"
     },
     "user_tz": -330
    },
    "id": "4Ku4AAsj-Nlh"
   },
   "outputs": [],
   "source": [
    "dataset = pd.read_csv('Dataset.csv')"
   ]
  },
  {
   "cell_type": "markdown",
   "metadata": {
    "id": "mS4nNYDMdqL3"
   },
   "source": []
  },
  {
   "cell_type": "code",
   "execution_count": 3,
   "metadata": {
    "executionInfo": {
     "elapsed": 3706,
     "status": "ok",
     "timestamp": 1617130427106,
     "user": {
      "displayName": "Sughandhan S",
      "photoUrl": "https://lh3.googleusercontent.com/a-/AOh14GgCzJgz5tDGcNqn108PikDmo9i8xVBqBE7WCrGurg=s64",
      "userId": "16893705064560269479"
     },
     "user_tz": -330
    },
    "id": "R-XgmUVe-Rjs"
   },
   "outputs": [],
   "source": [
    "data = dataset.iloc[:, :].values"
   ]
  },
  {
   "cell_type": "code",
   "execution_count": 4,
   "metadata": {
    "colab": {
     "base_uri": "https://localhost:8080/"
    },
    "executionInfo": {
     "elapsed": 3703,
     "status": "ok",
     "timestamp": 1617130427107,
     "user": {
      "displayName": "Sughandhan S",
      "photoUrl": "https://lh3.googleusercontent.com/a-/AOh14GgCzJgz5tDGcNqn108PikDmo9i8xVBqBE7WCrGurg=s64",
      "userId": "16893705064560269479"
     },
     "user_tz": -330
    },
    "id": "C_bFcHLs-fNW",
    "outputId": "9acde17a-4483-41d0-85ce-2609a6c7ed14"
   },
   "outputs": [
    {
     "data": {
      "text/plain": [
       "array([[-3.195,  0.463],\n",
       "       [ 1.437, -1.386],\n",
       "       [ 1.01 , -1.   ],\n",
       "       ...,\n",
       "       [-2.706,  2.652],\n",
       "       [-2.763,  2.755],\n",
       "       [-0.508,  1.537]])"
      ]
     },
     "execution_count": 4,
     "metadata": {
      "tags": []
     },
     "output_type": "execute_result"
    }
   ],
   "source": [
    "data"
   ]
  },
  {
   "cell_type": "code",
   "execution_count": 5,
   "metadata": {
    "executionInfo": {
     "elapsed": 3699,
     "status": "ok",
     "timestamp": 1617130427107,
     "user": {
      "displayName": "Sughandhan S",
      "photoUrl": "https://lh3.googleusercontent.com/a-/AOh14GgCzJgz5tDGcNqn108PikDmo9i8xVBqBE7WCrGurg=s64",
      "userId": "16893705064560269479"
     },
     "user_tz": -330
    },
    "id": "k1qcOvqDdlOX"
   },
   "outputs": [],
   "source": [
    "data = np.append(data, [[-2.58, 0.661]], axis=0)"
   ]
  },
  {
   "cell_type": "code",
   "execution_count": 6,
   "metadata": {
    "colab": {
     "base_uri": "https://localhost:8080/"
    },
    "executionInfo": {
     "elapsed": 3694,
     "status": "ok",
     "timestamp": 1617130427107,
     "user": {
      "displayName": "Sughandhan S",
      "photoUrl": "https://lh3.googleusercontent.com/a-/AOh14GgCzJgz5tDGcNqn108PikDmo9i8xVBqBE7WCrGurg=s64",
      "userId": "16893705064560269479"
     },
     "user_tz": -330
    },
    "id": "XTXK4_AZkwdi",
    "outputId": "653328eb-f5c6-4085-ad3a-c613bf893d56"
   },
   "outputs": [
    {
     "data": {
      "text/plain": [
       "numpy.ndarray"
      ]
     },
     "execution_count": 6,
     "metadata": {
      "tags": []
     },
     "output_type": "execute_result"
    }
   ],
   "source": [
    "type(data)"
   ]
  },
  {
   "cell_type": "code",
   "execution_count": 7,
   "metadata": {
    "colab": {
     "base_uri": "https://localhost:8080/"
    },
    "executionInfo": {
     "elapsed": 3690,
     "status": "ok",
     "timestamp": 1617130427108,
     "user": {
      "displayName": "Sughandhan S",
      "photoUrl": "https://lh3.googleusercontent.com/a-/AOh14GgCzJgz5tDGcNqn108PikDmo9i8xVBqBE7WCrGurg=s64",
      "userId": "16893705064560269479"
     },
     "user_tz": -330
    },
    "id": "sNnQqVo2c3Q3",
    "outputId": "cd713d7b-a7bb-42e2-a372-7f8271eedb5b"
   },
   "outputs": [
    {
     "data": {
      "text/plain": [
       "1000"
      ]
     },
     "execution_count": 7,
     "metadata": {
      "tags": []
     },
     "output_type": "execute_result"
    }
   ],
   "source": [
    "len(data)"
   ]
  },
  {
   "cell_type": "code",
   "execution_count": 8,
   "metadata": {
    "colab": {
     "base_uri": "https://localhost:8080/"
    },
    "executionInfo": {
     "elapsed": 3686,
     "status": "ok",
     "timestamp": 1617130427108,
     "user": {
      "displayName": "Sughandhan S",
      "photoUrl": "https://lh3.googleusercontent.com/a-/AOh14GgCzJgz5tDGcNqn108PikDmo9i8xVBqBE7WCrGurg=s64",
      "userId": "16893705064560269479"
     },
     "user_tz": -330
    },
    "id": "gRNzHxDEb3XB",
    "outputId": "90931cbb-9270-4a9b-aeef-67c60ace8a48"
   },
   "outputs": [
    {
     "data": {
      "text/plain": [
       "1.4369999999999998"
      ]
     },
     "execution_count": 8,
     "metadata": {
      "tags": []
     },
     "output_type": "execute_result"
    }
   ],
   "source": [
    "data[1][0]"
   ]
  },
  {
   "cell_type": "markdown",
   "metadata": {
    "id": "C4BVGySfdpZX"
   },
   "source": [
    "#k_means_clustering function"
   ]
  },
  {
   "cell_type": "code",
   "execution_count": 9,
   "metadata": {
    "executionInfo": {
     "elapsed": 3681,
     "status": "ok",
     "timestamp": 1617130427109,
     "user": {
      "displayName": "Sughandhan S",
      "photoUrl": "https://lh3.googleusercontent.com/a-/AOh14GgCzJgz5tDGcNqn108PikDmo9i8xVBqBE7WCrGurg=s64",
      "userId": "16893705064560269479"
     },
     "user_tz": -330
    },
    "id": "tAnoNQJGmnV3"
   },
   "outputs": [],
   "source": [
    "def k_means_clus(points, k, centroids):\n",
    "  new_centroids=[1]\n",
    "  flag=0\n",
    "  ite=0\n",
    "  c_dist= []\n",
    "  label=[]\n",
    "  SSE=[]\n",
    "  n=1000\n",
    "  while np.array_equal(centroids, new_centroids)==False and n>0:\n",
    "    c_dist=[]\n",
    "    if flag==1:\n",
    "      centroids = new_centroids\n",
    "    #c_dist= []\n",
    "    new_centroids=[]\n",
    "    ##creating spaces for new centroids\n",
    "    \n",
    "    for i in centroids:\n",
    "      lst=[]\n",
    "      #print(i)\n",
    "      c_dist.append(lst)\n",
    "  \n",
    "    ##grouping points to their closest centroid\n",
    "    label=[]\n",
    "    for i in points:\n",
    "      index=0\n",
    "      lst = []\n",
    "      for j in centroids:\n",
    "        lst.append((np.linalg.norm(i-j), index))\n",
    "        index=index+1\n",
    "      num = min(lst)\n",
    "      label.append((i,num[1]))\n",
    "      c_dist[num[1]].append(i)\n",
    "\n",
    "    ##Calculating new centroids\n",
    "    for i in range(k):\n",
    "      c_dist[i] = np.array(c_dist[i])\n",
    "      x=len(c_dist[i])\n",
    "      x_cor=0\n",
    "      y_cor=0\n",
    "      for j in range(x):\n",
    "        x_cor+= c_dist[i][j][0]\n",
    "        y_cor+= c_dist[i][j][1]\n",
    "      if x!=0:\n",
    "        new_centroids.append([x_cor/x, y_cor/x])\n",
    "      else :\n",
    "        x= np.random.uniform(low=-5.7,high=2.79)\n",
    "        y= np.random.uniform(low=-3.19,high=5.3)\n",
    "        new_centroids.append([x,y])\n",
    "    flag=1\n",
    "    ite=ite+1\n",
    "\n",
    "    ##finding sse\n",
    "    sse=[]\n",
    "    for i in centroids:\n",
    "      lst=[]\n",
    "      #print(i)\n",
    "      sse.append(lst)\n",
    "    idx=0\n",
    "    sum = 0\n",
    "    for i in centroids:\n",
    "      for j in c_dist[idx]:\n",
    "        #sse[idx].append((np.linalg.norm(i-j)**2))\n",
    "      #idx=idx+1\n",
    "        sum+= (np.linalg.norm(i-j)**2)\n",
    "      idx=idx+1\n",
    "    \n",
    "    SSE.append(sum)\n",
    "    print(centroids)\n",
    "    print(new_centroids)\n",
    "    #for i in range(k):\n",
    "     # plt.scatter(c_dist[i][:,0], c_dist[i][:,1])\n",
    "    #plt.show()\n",
    "    n=n-1\n",
    "  return c_dist, label, SSE"
   ]
  },
  {
   "cell_type": "code",
   "execution_count": 9,
   "metadata": {
    "executionInfo": {
     "elapsed": 3675,
     "status": "ok",
     "timestamp": 1617130427109,
     "user": {
      "displayName": "Sughandhan S",
      "photoUrl": "https://lh3.googleusercontent.com/a-/AOh14GgCzJgz5tDGcNqn108PikDmo9i8xVBqBE7WCrGurg=s64",
      "userId": "16893705064560269479"
     },
     "user_tz": -330
    },
    "id": "xgaVX_ySQSjd"
   },
   "outputs": [],
   "source": []
  },
  {
   "cell_type": "markdown",
   "metadata": {
    "id": "B1jy-ITiLY-d"
   },
   "source": [
    "# Test data"
   ]
  },
  {
   "cell_type": "code",
   "execution_count": 10,
   "metadata": {
    "colab": {
     "base_uri": "https://localhost:8080/"
    },
    "executionInfo": {
     "elapsed": 3669,
     "status": "ok",
     "timestamp": 1617130427109,
     "user": {
      "displayName": "Sughandhan S",
      "photoUrl": "https://lh3.googleusercontent.com/a-/AOh14GgCzJgz5tDGcNqn108PikDmo9i8xVBqBE7WCrGurg=s64",
      "userId": "16893705064560269479"
     },
     "user_tz": -330
    },
    "id": "Jkxrrt7SLcuo",
    "outputId": "c7ac8335-ff24-4903-cd81-5c4cdbd86e89"
   },
   "outputs": [
    {
     "data": {
      "text/plain": [
       "array([[-2, -2],\n",
       "       [-3,  0],\n",
       "       [ 4, -3],\n",
       "       [ 3, -5],\n",
       "       [ 0, -4],\n",
       "       [ 2,  1],\n",
       "       [-3, -4],\n",
       "       [ 3,  0],\n",
       "       [-4, -2],\n",
       "       [-5,  2],\n",
       "       [ 3,  2],\n",
       "       [ 3, -5],\n",
       "       [-2, -5],\n",
       "       [ 1,  4],\n",
       "       [ 0,  0],\n",
       "       [ 4,  1],\n",
       "       [ 4,  4],\n",
       "       [ 0, -5],\n",
       "       [-2,  1],\n",
       "       [ 1, -1],\n",
       "       [-4,  4]])"
      ]
     },
     "execution_count": 10,
     "metadata": {
      "tags": []
     },
     "output_type": "execute_result"
    }
   ],
   "source": [
    "v = np.random.randint(-5,5,21)\n",
    "r = np.random.randint(-5,5,21)\n",
    "test = []\n",
    "for i in range(21):\n",
    "  test.append((v[i], r[i]))\n",
    "test = np.array(test)\n",
    "test"
   ]
  },
  {
   "cell_type": "code",
   "execution_count": 11,
   "metadata": {
    "colab": {
     "base_uri": "https://localhost:8080/"
    },
    "executionInfo": {
     "elapsed": 3666,
     "status": "ok",
     "timestamp": 1617130427110,
     "user": {
      "displayName": "Sughandhan S",
      "photoUrl": "https://lh3.googleusercontent.com/a-/AOh14GgCzJgz5tDGcNqn108PikDmo9i8xVBqBE7WCrGurg=s64",
      "userId": "16893705064560269479"
     },
     "user_tz": -330
    },
    "id": "sojeiYFlLteA",
    "outputId": "b629d521-7ee5-4b24-fc80-2722a5c1b774"
   },
   "outputs": [
    {
     "data": {
      "text/plain": [
       "array([[-2, -2],\n",
       "       [-3,  0],\n",
       "       [ 4, -3],\n",
       "       [ 3, -5],\n",
       "       [ 0, -4],\n",
       "       [ 2,  1],\n",
       "       [-3, -4],\n",
       "       [ 3,  0],\n",
       "       [-4, -2],\n",
       "       [-5,  2],\n",
       "       [ 3,  2],\n",
       "       [ 3, -5],\n",
       "       [-2, -5],\n",
       "       [ 1,  4],\n",
       "       [ 0,  0],\n",
       "       [ 4,  1],\n",
       "       [ 4,  4],\n",
       "       [ 0, -5],\n",
       "       [-2,  1],\n",
       "       [ 1, -1],\n",
       "       [-4,  4]])"
      ]
     },
     "execution_count": 11,
     "metadata": {
      "tags": []
     },
     "output_type": "execute_result"
    }
   ],
   "source": [
    "test = np.array(test)\n",
    "test"
   ]
  },
  {
   "cell_type": "code",
   "execution_count": 12,
   "metadata": {
    "executionInfo": {
     "elapsed": 3660,
     "status": "ok",
     "timestamp": 1617130427110,
     "user": {
      "displayName": "Sughandhan S",
      "photoUrl": "https://lh3.googleusercontent.com/a-/AOh14GgCzJgz5tDGcNqn108PikDmo9i8xVBqBE7WCrGurg=s64",
      "userId": "16893705064560269479"
     },
     "user_tz": -330
    },
    "id": "ZMqIk1CwMVOo"
   },
   "outputs": [],
   "source": [
    "centroids = [[0,0], [4,4]]\n",
    "centroids = np.array(centroids)"
   ]
  },
  {
   "cell_type": "code",
   "execution_count": 13,
   "metadata": {
    "colab": {
     "base_uri": "https://localhost:8080/"
    },
    "executionInfo": {
     "elapsed": 3655,
     "status": "ok",
     "timestamp": 1617130427110,
     "user": {
      "displayName": "Sughandhan S",
      "photoUrl": "https://lh3.googleusercontent.com/a-/AOh14GgCzJgz5tDGcNqn108PikDmo9i8xVBqBE7WCrGurg=s64",
      "userId": "16893705064560269479"
     },
     "user_tz": -330
    },
    "id": "pX7bLJknTwLI",
    "outputId": "c0676e35-9798-4340-a586-c833a44475a3"
   },
   "outputs": [
    {
     "data": {
      "text/plain": [
       "array([[0, 0],\n",
       "       [4, 4]])"
      ]
     },
     "execution_count": 13,
     "metadata": {
      "tags": []
     },
     "output_type": "execute_result"
    }
   ],
   "source": [
    "dd = centroids\n",
    "dd"
   ]
  },
  {
   "cell_type": "code",
   "execution_count": 14,
   "metadata": {
    "colab": {
     "base_uri": "https://localhost:8080/"
    },
    "executionInfo": {
     "elapsed": 3651,
     "status": "ok",
     "timestamp": 1617130427111,
     "user": {
      "displayName": "Sughandhan S",
      "photoUrl": "https://lh3.googleusercontent.com/a-/AOh14GgCzJgz5tDGcNqn108PikDmo9i8xVBqBE7WCrGurg=s64",
      "userId": "16893705064560269479"
     },
     "user_tz": -330
    },
    "id": "VUlIgcLHMJem",
    "outputId": "dbca2b98-7c71-4f13-e159-5e7da11dce48"
   },
   "outputs": [
    {
     "name": "stdout",
     "output_type": "stream",
     "text": [
      "[[0 0]\n",
      " [4 4]]\n",
      "[[-0.5294117647058824, -1.6470588235294117], [3.0, 2.75]]\n",
      "[[-0.5294117647058824, -1.6470588235294117], [3.0, 2.75]]\n",
      "[[-0.9333333333333333, -1.9333333333333333], [2.8333333333333335, 2.0]]\n",
      "[[-0.9333333333333333, -1.9333333333333333], [2.8333333333333335, 2.0]]\n",
      "[[-0.9333333333333333, -1.9333333333333333], [2.8333333333333335, 2.0]]\n"
     ]
    }
   ],
   "source": [
    "c_distance, label, sse = k_means_clus(test, 2, centroids)"
   ]
  },
  {
   "cell_type": "code",
   "execution_count": 15,
   "metadata": {
    "colab": {
     "base_uri": "https://localhost:8080/"
    },
    "executionInfo": {
     "elapsed": 3646,
     "status": "ok",
     "timestamp": 1617130427111,
     "user": {
      "displayName": "Sughandhan S",
      "photoUrl": "https://lh3.googleusercontent.com/a-/AOh14GgCzJgz5tDGcNqn108PikDmo9i8xVBqBE7WCrGurg=s64",
      "userId": "16893705064560269479"
     },
     "user_tz": -330
    },
    "id": "07B-DVvjMkyJ",
    "outputId": "d559623b-c253-4b31-c90b-37231ab5545a"
   },
   "outputs": [
    {
     "data": {
      "text/plain": [
       "[array([[-2, -2],\n",
       "        [-3,  0],\n",
       "        [ 4, -3],\n",
       "        [ 3, -5],\n",
       "        [ 0, -4],\n",
       "        [-3, -4],\n",
       "        [-4, -2],\n",
       "        [-5,  2],\n",
       "        [ 3, -5],\n",
       "        [-2, -5],\n",
       "        [ 0,  0],\n",
       "        [ 0, -5],\n",
       "        [-2,  1],\n",
       "        [ 1, -1],\n",
       "        [-4,  4]]), array([[2, 1],\n",
       "        [3, 0],\n",
       "        [3, 2],\n",
       "        [1, 4],\n",
       "        [4, 1],\n",
       "        [4, 4]])]"
      ]
     },
     "execution_count": 15,
     "metadata": {
      "tags": []
     },
     "output_type": "execute_result"
    }
   ],
   "source": [
    "c_distance"
   ]
  },
  {
   "cell_type": "code",
   "execution_count": 16,
   "metadata": {
    "colab": {
     "base_uri": "https://localhost:8080/"
    },
    "executionInfo": {
     "elapsed": 3641,
     "status": "ok",
     "timestamp": 1617130427111,
     "user": {
      "displayName": "Sughandhan S",
      "photoUrl": "https://lh3.googleusercontent.com/a-/AOh14GgCzJgz5tDGcNqn108PikDmo9i8xVBqBE7WCrGurg=s64",
      "userId": "16893705064560269479"
     },
     "user_tz": -330
    },
    "id": "FGbWw1hvMsHy",
    "outputId": "bbf4f06b-8e8a-40a6-ed6d-e7a64a3ce219"
   },
   "outputs": [
    {
     "data": {
      "text/plain": [
       "2"
      ]
     },
     "execution_count": 16,
     "metadata": {
      "tags": []
     },
     "output_type": "execute_result"
    }
   ],
   "source": [
    "len(c_distance)"
   ]
  },
  {
   "cell_type": "code",
   "execution_count": 17,
   "metadata": {
    "colab": {
     "base_uri": "https://localhost:8080/"
    },
    "executionInfo": {
     "elapsed": 3637,
     "status": "ok",
     "timestamp": 1617130427112,
     "user": {
      "displayName": "Sughandhan S",
      "photoUrl": "https://lh3.googleusercontent.com/a-/AOh14GgCzJgz5tDGcNqn108PikDmo9i8xVBqBE7WCrGurg=s64",
      "userId": "16893705064560269479"
     },
     "user_tz": -330
    },
    "id": "PBcP6jbBMuxH",
    "outputId": "3b687fd8-1b54-4cad-f479-a8682f1ef5e0"
   },
   "outputs": [
    {
     "data": {
      "text/plain": [
       "[(array([-2, -2]), 0),\n",
       " (array([-3,  0]), 0),\n",
       " (array([ 4, -3]), 0),\n",
       " (array([ 3, -5]), 0),\n",
       " (array([ 0, -4]), 0),\n",
       " (array([2, 1]), 1),\n",
       " (array([-3, -4]), 0),\n",
       " (array([3, 0]), 1),\n",
       " (array([-4, -2]), 0),\n",
       " (array([-5,  2]), 0),\n",
       " (array([3, 2]), 1),\n",
       " (array([ 3, -5]), 0),\n",
       " (array([-2, -5]), 0),\n",
       " (array([1, 4]), 1),\n",
       " (array([0, 0]), 0),\n",
       " (array([4, 1]), 1),\n",
       " (array([4, 4]), 1),\n",
       " (array([ 0, -5]), 0),\n",
       " (array([-2,  1]), 0),\n",
       " (array([ 1, -1]), 0),\n",
       " (array([-4,  4]), 0)]"
      ]
     },
     "execution_count": 17,
     "metadata": {
      "tags": []
     },
     "output_type": "execute_result"
    }
   ],
   "source": [
    "label"
   ]
  },
  {
   "cell_type": "code",
   "execution_count": 18,
   "metadata": {
    "colab": {
     "base_uri": "https://localhost:8080/"
    },
    "executionInfo": {
     "elapsed": 3633,
     "status": "ok",
     "timestamp": 1617130427112,
     "user": {
      "displayName": "Sughandhan S",
      "photoUrl": "https://lh3.googleusercontent.com/a-/AOh14GgCzJgz5tDGcNqn108PikDmo9i8xVBqBE7WCrGurg=s64",
      "userId": "16893705064560269479"
     },
     "user_tz": -330
    },
    "id": "YkZLz4eOMx5w",
    "outputId": "825b62d9-d216-4399-a02f-26ea926d4f43"
   },
   "outputs": [
    {
     "data": {
      "text/plain": [
       "[330.0, 251.91825259515568, 244.7]"
      ]
     },
     "execution_count": 18,
     "metadata": {
      "tags": []
     },
     "output_type": "execute_result"
    }
   ],
   "source": [
    "sse"
   ]
  },
  {
   "cell_type": "code",
   "execution_count": 18,
   "metadata": {
    "executionInfo": {
     "elapsed": 3628,
     "status": "ok",
     "timestamp": 1617130427112,
     "user": {
      "displayName": "Sughandhan S",
      "photoUrl": "https://lh3.googleusercontent.com/a-/AOh14GgCzJgz5tDGcNqn108PikDmo9i8xVBqBE7WCrGurg=s64",
      "userId": "16893705064560269479"
     },
     "user_tz": -330
    },
    "id": "iHsVXWMkMxHT"
   },
   "outputs": [],
   "source": []
  },
  {
   "cell_type": "code",
   "execution_count": 18,
   "metadata": {
    "executionInfo": {
     "elapsed": 3625,
     "status": "ok",
     "timestamp": 1617130427113,
     "user": {
      "displayName": "Sughandhan S",
      "photoUrl": "https://lh3.googleusercontent.com/a-/AOh14GgCzJgz5tDGcNqn108PikDmo9i8xVBqBE7WCrGurg=s64",
      "userId": "16893705064560269479"
     },
     "user_tz": -330
    },
    "id": "a_MAuHYpMw00"
   },
   "outputs": [],
   "source": []
  },
  {
   "cell_type": "code",
   "execution_count": 18,
   "metadata": {
    "executionInfo": {
     "elapsed": 3620,
     "status": "ok",
     "timestamp": 1617130427113,
     "user": {
      "displayName": "Sughandhan S",
      "photoUrl": "https://lh3.googleusercontent.com/a-/AOh14GgCzJgz5tDGcNqn108PikDmo9i8xVBqBE7WCrGurg=s64",
      "userId": "16893705064560269479"
     },
     "user_tz": -330
    },
    "id": "RbBMViviMuWC"
   },
   "outputs": [],
   "source": []
  },
  {
   "cell_type": "markdown",
   "metadata": {
    "id": "lWilXmVvLa-H"
   },
   "source": [
    "test ends here\n"
   ]
  },
  {
   "cell_type": "code",
   "execution_count": 19,
   "metadata": {
    "colab": {
     "base_uri": "https://localhost:8080/"
    },
    "executionInfo": {
     "elapsed": 3614,
     "status": "ok",
     "timestamp": 1617130427113,
     "user": {
      "displayName": "Sughandhan S",
      "photoUrl": "https://lh3.googleusercontent.com/a-/AOh14GgCzJgz5tDGcNqn108PikDmo9i8xVBqBE7WCrGurg=s64",
      "userId": "16893705064560269479"
     },
     "user_tz": -330
    },
    "id": "NfNXV1eaGrwJ",
    "outputId": "bde9670d-5233-453b-fc35-016532b7fd8d"
   },
   "outputs": [
    {
     "data": {
      "text/plain": [
       "array([[0, 0],\n",
       "       [4, 4]])"
      ]
     },
     "execution_count": 19,
     "metadata": {
      "tags": []
     },
     "output_type": "execute_result"
    }
   ],
   "source": [
    "centroids"
   ]
  },
  {
   "cell_type": "code",
   "execution_count": 20,
   "metadata": {
    "colab": {
     "base_uri": "https://localhost:8080/"
    },
    "executionInfo": {
     "elapsed": 3611,
     "status": "ok",
     "timestamp": 1617130427114,
     "user": {
      "displayName": "Sughandhan S",
      "photoUrl": "https://lh3.googleusercontent.com/a-/AOh14GgCzJgz5tDGcNqn108PikDmo9i8xVBqBE7WCrGurg=s64",
      "userId": "16893705064560269479"
     },
     "user_tz": -330
    },
    "id": "QNXhfTsAHM6c",
    "outputId": "852ff575-e9dc-45ce-ca9b-09c0d86a5256"
   },
   "outputs": [
    {
     "name": "stdout",
     "output_type": "stream",
     "text": [
      "[4 4]\n"
     ]
    }
   ],
   "source": [
    "print(centroids.sum(axis=0))"
   ]
  },
  {
   "cell_type": "code",
   "execution_count": 21,
   "metadata": {
    "colab": {
     "base_uri": "https://localhost:8080/"
    },
    "executionInfo": {
     "elapsed": 3606,
     "status": "ok",
     "timestamp": 1617130427114,
     "user": {
      "displayName": "Sughandhan S",
      "photoUrl": "https://lh3.googleusercontent.com/a-/AOh14GgCzJgz5tDGcNqn108PikDmo9i8xVBqBE7WCrGurg=s64",
      "userId": "16893705064560269479"
     },
     "user_tz": -330
    },
    "id": "U-NWUnmaHS-D",
    "outputId": "e10a1e09-5670-4d58-fcf9-0269f0160029"
   },
   "outputs": [
    {
     "name": "stdout",
     "output_type": "stream",
     "text": [
      "[0 8]\n"
     ]
    }
   ],
   "source": [
    "print(centroids.sum(axis=1))"
   ]
  },
  {
   "cell_type": "code",
   "execution_count": 22,
   "metadata": {
    "colab": {
     "base_uri": "https://localhost:8080/"
    },
    "executionInfo": {
     "elapsed": 4162,
     "status": "ok",
     "timestamp": 1617130427674,
     "user": {
      "displayName": "Sughandhan S",
      "photoUrl": "https://lh3.googleusercontent.com/a-/AOh14GgCzJgz5tDGcNqn108PikDmo9i8xVBqBE7WCrGurg=s64",
      "userId": "16893705064560269479"
     },
     "user_tz": -330
    },
    "id": "CVuKursLGkQT",
    "outputId": "048c8de4-1f02-4461-de41-9681aefb226e"
   },
   "outputs": [
    {
     "data": {
      "text/plain": [
       "[330.0, 251.91825259515568, 244.7]"
      ]
     },
     "execution_count": 22,
     "metadata": {
      "tags": []
     },
     "output_type": "execute_result"
    }
   ],
   "source": [
    "sse"
   ]
  },
  {
   "cell_type": "code",
   "execution_count": 23,
   "metadata": {
    "colab": {
     "base_uri": "https://localhost:8080/"
    },
    "executionInfo": {
     "elapsed": 4156,
     "status": "ok",
     "timestamp": 1617130427674,
     "user": {
      "displayName": "Sughandhan S",
      "photoUrl": "https://lh3.googleusercontent.com/a-/AOh14GgCzJgz5tDGcNqn108PikDmo9i8xVBqBE7WCrGurg=s64",
      "userId": "16893705064560269479"
     },
     "user_tz": -330
    },
    "id": "EDNqIFyUGBVr",
    "outputId": "fabbff4a-6a11-4277-970b-8a4ce1409ee2"
   },
   "outputs": [
    {
     "data": {
      "text/plain": [
       "826.6182525951556"
      ]
     },
     "execution_count": 23,
     "metadata": {
      "tags": []
     },
     "output_type": "execute_result"
    }
   ],
   "source": [
    "sse=np.array(sse)\n",
    "all = sse.sum(axis=0)\n",
    "all"
   ]
  },
  {
   "cell_type": "code",
   "execution_count": 24,
   "metadata": {
    "colab": {
     "base_uri": "https://localhost:8080/"
    },
    "executionInfo": {
     "elapsed": 4152,
     "status": "ok",
     "timestamp": 1617130427675,
     "user": {
      "displayName": "Sughandhan S",
      "photoUrl": "https://lh3.googleusercontent.com/a-/AOh14GgCzJgz5tDGcNqn108PikDmo9i8xVBqBE7WCrGurg=s64",
      "userId": "16893705064560269479"
     },
     "user_tz": -330
    },
    "id": "wOyGiBtqIOmL",
    "outputId": "6eb52ca9-45f4-42fc-88b2-05f7567bdf31"
   },
   "outputs": [
    {
     "name": "stdout",
     "output_type": "stream",
     "text": [
      "826.6182525951556\n"
     ]
    }
   ],
   "source": [
    "print(all.sum(axis=0))"
   ]
  },
  {
   "cell_type": "code",
   "execution_count": 25,
   "metadata": {
    "colab": {
     "base_uri": "https://localhost:8080/"
    },
    "executionInfo": {
     "elapsed": 4146,
     "status": "ok",
     "timestamp": 1617130427675,
     "user": {
      "displayName": "Sughandhan S",
      "photoUrl": "https://lh3.googleusercontent.com/a-/AOh14GgCzJgz5tDGcNqn108PikDmo9i8xVBqBE7WCrGurg=s64",
      "userId": "16893705064560269479"
     },
     "user_tz": -330
    },
    "id": "ldJ_FgmLGVoO",
    "outputId": "bfd72ea3-a22f-4e01-d120-45e2f8d37d27"
   },
   "outputs": [
    {
     "data": {
      "text/plain": [
       "3"
      ]
     },
     "execution_count": 25,
     "metadata": {
      "tags": []
     },
     "output_type": "execute_result"
    }
   ],
   "source": [
    "len(sse)"
   ]
  },
  {
   "cell_type": "code",
   "execution_count": 26,
   "metadata": {
    "colab": {
     "base_uri": "https://localhost:8080/"
    },
    "executionInfo": {
     "elapsed": 4142,
     "status": "ok",
     "timestamp": 1617130427676,
     "user": {
      "displayName": "Sughandhan S",
      "photoUrl": "https://lh3.googleusercontent.com/a-/AOh14GgCzJgz5tDGcNqn108PikDmo9i8xVBqBE7WCrGurg=s64",
      "userId": "16893705064560269479"
     },
     "user_tz": -330
    },
    "id": "bcBhQuXSIv6m",
    "outputId": "192caaea-9d4c-4988-b2e1-f9c7c17773c8"
   },
   "outputs": [
    {
     "data": {
      "text/plain": [
       "[1]"
      ]
     },
     "execution_count": 26,
     "metadata": {
      "tags": []
     },
     "output_type": "execute_result"
    }
   ],
   "source": [
    "pop=[]\n",
    "pop.append(1)\n",
    "pop"
   ]
  },
  {
   "cell_type": "markdown",
   "metadata": {
    "id": "Psj8zqyY2qBC"
   },
   "source": [
    "# Q1 Continued"
   ]
  },
  {
   "cell_type": "code",
   "execution_count": 27,
   "metadata": {
    "colab": {
     "base_uri": "https://localhost:8080/"
    },
    "executionInfo": {
     "elapsed": 4136,
     "status": "ok",
     "timestamp": 1617130427676,
     "user": {
      "displayName": "Sughandhan S",
      "photoUrl": "https://lh3.googleusercontent.com/a-/AOh14GgCzJgz5tDGcNqn108PikDmo9i8xVBqBE7WCrGurg=s64",
      "userId": "16893705064560269479"
     },
     "user_tz": -330
    },
    "id": "-7IkjxHi0Bip",
    "outputId": "f5b792c0-d2c4-4375-fa11-5f786e4bc7ca"
   },
   "outputs": [
    {
     "data": {
      "text/plain": [
       "array([[ 4,  3],\n",
       "       [ 1,  3],\n",
       "       [-5,  1],\n",
       "       [ 2, -4],\n",
       "       [-4,  1],\n",
       "       [ 3,  0],\n",
       "       [ 2,  2],\n",
       "       [ 0,  0],\n",
       "       [-1, -5],\n",
       "       [ 2, -4],\n",
       "       [ 3,  4],\n",
       "       [ 0, -5],\n",
       "       [-5, -5],\n",
       "       [ 2,  3],\n",
       "       [-1,  3],\n",
       "       [ 3, -1],\n",
       "       [ 1, -3],\n",
       "       [ 3, -2],\n",
       "       [-1,  0],\n",
       "       [ 1, -3],\n",
       "       [-5, -4]])"
      ]
     },
     "execution_count": 27,
     "metadata": {
      "tags": []
     },
     "output_type": "execute_result"
    }
   ],
   "source": [
    "v = np.random.randint(-5,5,21)\n",
    "r = np.random.randint(-5,5,21)\n",
    "points = []\n",
    "for i in range(21):\n",
    "  points.append((v[i], r[i]))\n",
    "points = np.array(points)\n",
    "points"
   ]
  },
  {
   "cell_type": "code",
   "execution_count": 28,
   "metadata": {
    "colab": {
     "base_uri": "https://localhost:8080/"
    },
    "executionInfo": {
     "elapsed": 4132,
     "status": "ok",
     "timestamp": 1617130427676,
     "user": {
      "displayName": "Sughandhan S",
      "photoUrl": "https://lh3.googleusercontent.com/a-/AOh14GgCzJgz5tDGcNqn108PikDmo9i8xVBqBE7WCrGurg=s64",
      "userId": "16893705064560269479"
     },
     "user_tz": -330
    },
    "id": "BIMrd8V785dD",
    "outputId": "af880adb-6ff6-4628-f5d6-9081436591f3"
   },
   "outputs": [
    {
     "data": {
      "text/plain": [
       "array([[ 4,  3],\n",
       "       [ 1,  3],\n",
       "       [-5,  1],\n",
       "       [ 2, -4],\n",
       "       [-4,  1],\n",
       "       [ 3,  0],\n",
       "       [ 2,  2],\n",
       "       [ 0,  0],\n",
       "       [-1, -5],\n",
       "       [ 2, -4],\n",
       "       [ 3,  4],\n",
       "       [ 0, -5],\n",
       "       [-5, -5],\n",
       "       [ 2,  3],\n",
       "       [-1,  3],\n",
       "       [ 3, -1],\n",
       "       [ 1, -3],\n",
       "       [ 3, -2],\n",
       "       [-1,  0],\n",
       "       [ 1, -3],\n",
       "       [-5, -4]])"
      ]
     },
     "execution_count": 28,
     "metadata": {
      "tags": []
     },
     "output_type": "execute_result"
    }
   ],
   "source": [
    "points"
   ]
  },
  {
   "cell_type": "code",
   "execution_count": 29,
   "metadata": {
    "colab": {
     "base_uri": "https://localhost:8080/"
    },
    "executionInfo": {
     "elapsed": 4128,
     "status": "ok",
     "timestamp": 1617130427677,
     "user": {
      "displayName": "Sughandhan S",
      "photoUrl": "https://lh3.googleusercontent.com/a-/AOh14GgCzJgz5tDGcNqn108PikDmo9i8xVBqBE7WCrGurg=s64",
      "userId": "16893705064560269479"
     },
     "user_tz": -330
    },
    "id": "zwz7p0If9W-_",
    "outputId": "3cf6193c-f905-46a9-d334-50ceb0d00688"
   },
   "outputs": [
    {
     "data": {
      "text/plain": [
       "array([4, 3])"
      ]
     },
     "execution_count": 29,
     "metadata": {
      "tags": []
     },
     "output_type": "execute_result"
    }
   ],
   "source": [
    "points[0]"
   ]
  },
  {
   "cell_type": "code",
   "execution_count": 30,
   "metadata": {
    "colab": {
     "base_uri": "https://localhost:8080/"
    },
    "executionInfo": {
     "elapsed": 18467,
     "status": "ok",
     "timestamp": 1617130442021,
     "user": {
      "displayName": "Sughandhan S",
      "photoUrl": "https://lh3.googleusercontent.com/a-/AOh14GgCzJgz5tDGcNqn108PikDmo9i8xVBqBE7WCrGurg=s64",
      "userId": "16893705064560269479"
     },
     "user_tz": -330
    },
    "id": "NL24LgWumnLP",
    "outputId": "ce2fb3f0-df80-4027-c2e7-f22602927790"
   },
   "outputs": [
    {
     "name": "stdout",
     "output_type": "stream",
     "text": [
      "3\n"
     ]
    }
   ],
   "source": [
    "k = int(input())"
   ]
  },
  {
   "cell_type": "code",
   "execution_count": 31,
   "metadata": {
    "colab": {
     "base_uri": "https://localhost:8080/"
    },
    "executionInfo": {
     "elapsed": 18463,
     "status": "ok",
     "timestamp": 1617130442022,
     "user": {
      "displayName": "Sughandhan S",
      "photoUrl": "https://lh3.googleusercontent.com/a-/AOh14GgCzJgz5tDGcNqn108PikDmo9i8xVBqBE7WCrGurg=s64",
      "userId": "16893705064560269479"
     },
     "user_tz": -330
    },
    "id": "-obWnpDUmnIP",
    "outputId": "f6342d8d-e7c4-4b71-dc25-d3a74f132cb7"
   },
   "outputs": [
    {
     "data": {
      "text/plain": [
       "array([[-0.90685149,  3.28390149],\n",
       "       [ 0.41546825, -1.4416827 ],\n",
       "       [ 4.0446373 ,  4.07088433]])"
      ]
     },
     "execution_count": 31,
     "metadata": {
      "tags": []
     },
     "output_type": "execute_result"
    }
   ],
   "source": [
    "centroids=[]\n",
    "for i in range(k):\n",
    "  x= np.random.uniform(low=-5,high=5)\n",
    "  y= np.random.uniform(low=-5,high=5)\n",
    "  centroids.append((x,y))\n",
    "centroids= np.array(centroids)\n",
    "centroids\n"
   ]
  },
  {
   "cell_type": "code",
   "execution_count": 32,
   "metadata": {
    "colab": {
     "base_uri": "https://localhost:8080/",
     "height": 282
    },
    "executionInfo": {
     "elapsed": 18459,
     "status": "ok",
     "timestamp": 1617130442023,
     "user": {
      "displayName": "Sughandhan S",
      "photoUrl": "https://lh3.googleusercontent.com/a-/AOh14GgCzJgz5tDGcNqn108PikDmo9i8xVBqBE7WCrGurg=s64",
      "userId": "16893705064560269479"
     },
     "user_tz": -330
    },
    "id": "lZX-w4QkXINQ",
    "outputId": "be96d5af-6b14-4b52-ccb4-8ccb334adac7"
   },
   "outputs": [
    {
     "data": {
      "text/plain": [
       "<matplotlib.collections.PathCollection at 0x7f679725d710>"
      ]
     },
     "execution_count": 32,
     "metadata": {
      "tags": []
     },
     "output_type": "execute_result"
    },
    {
     "data": {
      "image/png": "[encoded data removed]",
      "text/plain": [
       "<Figure size 432x288 with 1 Axes>"
      ]
     },
     "metadata": {
      "needs_background": "light",
      "tags": []
     },
     "output_type": "display_data"
    }
   ],
   "source": [
    "plt.scatter(centroids[:,0], centroids[:,1], color='g')"
   ]
  },
  {
   "cell_type": "code",
   "execution_count": 33,
   "metadata": {
    "colab": {
     "base_uri": "https://localhost:8080/"
    },
    "executionInfo": {
     "elapsed": 19772,
     "status": "ok",
     "timestamp": 1617130443340,
     "user": {
      "displayName": "Sughandhan S",
      "photoUrl": "https://lh3.googleusercontent.com/a-/AOh14GgCzJgz5tDGcNqn108PikDmo9i8xVBqBE7WCrGurg=s64",
      "userId": "16893705064560269479"
     },
     "user_tz": -330
    },
    "id": "hdd4iUh_1vSD",
    "outputId": "231384e9-2b40-49e7-a60a-86541c82ab8c"
   },
   "outputs": [
    {
     "name": "stdout",
     "output_type": "stream",
     "text": [
      "[[-0.90685149  3.28390149]\n",
      " [ 0.41546825 -1.4416827 ]\n",
      " [ 4.0446373   4.07088433]]\n",
      "[[-3.005933554817274, 2.1285481727574753], [0.4155125628140705, -0.7627412060301498], [1.7972381663609784, -0.40835813920800135]]\n",
      "[[-3.005933554817274, 2.1285481727574753], [0.4155125628140705, -0.7627412060301498], [1.7972381663609784, -0.40835813920800135]]\n",
      "[[-3.005554160125587, 1.9927252747252746], [0.2852804878048782, -0.39289837398373967], [1.7107777777777775, -1.6657948717948712]]\n",
      "[[-3.005554160125587, 1.9927252747252746], [0.2852804878048782, -0.39289837398373967], [1.7107777777777775, -1.6657948717948712]]\n",
      "[[-3.0137413249211344, 1.997954258675079], [0.13052995391705066, -0.20949769585253458], [1.5985838926174494, -1.6337382550335562]]\n",
      "[[-3.0137413249211344, 1.997954258675079], [0.13052995391705066, -0.20949769585253458], [1.5985838926174494, -1.6337382550335562]]\n",
      "[[-3.02758851674641, 2.0165454545454544], [-0.03064039408866997, -0.12556650246305412], [1.531294117647058, -1.5356999999999992]]\n",
      "[[-3.02758851674641, 2.0165454545454544], [-0.03064039408866997, -0.12556650246305412], [1.531294117647058, -1.5356999999999992]]\n",
      "[[-3.0356650563607066, 2.0370289855072463], [-0.18001554404145087, -0.07525388601036265], [1.482220430107527, -1.4658924731182787]]\n",
      "[[-3.0356650563607066, 2.0370289855072463], [-0.18001554404145087, -0.07525388601036265], [1.482220430107527, -1.4658924731182787]]\n",
      "[[-3.0480032626427382, 2.060399673735726], [-0.3270846560846562, -0.028587301587301585], [1.4446818181818184, -1.4131666666666658]]\n",
      "[[-3.0480032626427382, 2.060399673735726], [-0.3270846560846562, -0.028587301587301585], [1.4446818181818184, -1.4131666666666658]]\n",
      "[[-3.0743383333333303, 2.088295], [-0.5073439153439153, 0.0607830687830688], [1.404232227488152, -1.3585308056872025]]\n",
      "[[-3.0743383333333303, 2.088295], [-0.5073439153439153, 0.0607830687830688], [1.404232227488152, -1.3585308056872025]]\n",
      "[[-3.095003430531729, 2.142017152658662], [-0.7593906249999995, 0.11362499999999999], [1.3599644444444445, -1.301319999999999]]\n",
      "[[-3.095003430531729, 2.142017152658662], [-0.7593906249999995, 0.11362499999999999], [1.3599644444444445, -1.301319999999999]]\n",
      "[[-3.1229341637010664, 2.2026690391459076], [-1.044624365482233, 0.18376649746192888], [1.3140331950207471, -1.2294066390041483]]\n",
      "[[-3.1229341637010664, 2.2026690391459076], [-1.044624365482233, 0.18376649746192888], [1.3140331950207471, -1.2294066390041483]]\n",
      "[[-3.1554288389513103, 2.2871741573033706], [-1.384898058252427, 0.26959708737864063], [1.2541923076923076, -1.1502807692307682]]\n",
      "[[-3.1554288389513103, 2.2871741573033706], [-1.384898058252427, 0.26959708737864063], [1.2541923076923076, -1.1502807692307682]]\n",
      "[[-3.204432926829268, 2.4093333333333335], [-1.7946785714285711, 0.4025848214285716], [1.1774330985915489, -1.048436619718309]]\n",
      "[[-3.204432926829268, 2.4093333333333335], [-1.7946785714285711, 0.4025848214285716], [1.1774330985915489, -1.048436619718309]]\n",
      "[[-3.2374320175438585, 2.5184254385964904], [-2.06777868852459, 0.5029672131147542], [1.1220299999999996, -0.9777033333333325]]\n",
      "[[-3.2374320175438585, 2.5184254385964904], [-2.06777868852459, 0.5029672131147542], [1.1220299999999996, -0.9777033333333325]]\n",
      "[[-3.259866504854367, 2.6633689320388356], [-2.3110181159420304, 0.6066449275362321], [1.0791923076923076, -0.9196378205128198]]\n",
      "[[-3.259866504854367, 2.6633689320388356], [-2.3110181159420304, 0.6066449275362321], [1.0791923076923076, -0.9196378205128198]]\n",
      "[[-3.271870129870128, 2.7519870129870134], [-2.4499965986394563, 0.6753809523809527], [1.0460155763239873, -0.8730903426791273]]\n",
      "[[-3.271870129870128, 2.7519870129870134], [-2.4499965986394563, 0.6753809523809527], [1.0460155763239873, -0.8730903426791273]]\n",
      "[[-3.274816438356162, 2.8211917808219176], [-2.498920382165606, 0.7272038216560512], [1.0460155763239873, -0.8730903426791273]]\n",
      "[[-3.274816438356162, 2.8211917808219176], [-2.498920382165606, 0.7272038216560512], [1.0460155763239873, -0.8730903426791273]]\n",
      "[[-3.2856515580736505, 2.8587365439093477], [-2.5226092307692305, 0.7633692307692311], [1.0418788819875773, -0.8677453416149065]]\n",
      "[[-3.2856515580736505, 2.8587365439093477], [-2.5226092307692305, 0.7633692307692311], [1.0418788819875773, -0.8677453416149065]]\n",
      "[[-3.294468390804594, 2.8728850574712634], [-2.5248727272727276, 0.7801969696969699], [1.0418788819875773, -0.8677453416149065]]\n",
      "[[-3.294468390804594, 2.8728850574712634], [-2.5248727272727276, 0.7801969696969699], [1.0418788819875773, -0.8677453416149065]]\n",
      "[[-3.300289855072461, 2.881162318840579], [-2.5257747747747747, 0.7904744744744748], [1.0418788819875773, -0.8677453416149065]]\n",
      "[[-3.300289855072461, 2.881162318840579], [-2.5257747747747747, 0.7904744744744748], [1.0418788819875773, -0.8677453416149065]]\n",
      "[[-3.3033935860058277, 2.886979591836734], [-2.5272208955223876, 0.7970000000000002], [1.0418788819875773, -0.8677453416149065]]\n",
      "[[-3.3033935860058277, 2.886979591836734], [-2.5272208955223876, 0.7970000000000002], [1.0418788819875773, -0.8677453416149065]]\n",
      "[[-3.3033935860058277, 2.886979591836734], [-2.5272208955223876, 0.7970000000000002], [1.0418788819875773, -0.8677453416149065]]\n"
     ]
    }
   ],
   "source": [
    "c_distance, label, sse = k_means_clus(data, k, centroids)"
   ]
  },
  {
   "cell_type": "code",
   "execution_count": 34,
   "metadata": {
    "colab": {
     "base_uri": "https://localhost:8080/",
     "height": 282
    },
    "executionInfo": {
     "elapsed": 21195,
     "status": "ok",
     "timestamp": 1617130444768,
     "user": {
      "displayName": "Sughandhan S",
      "photoUrl": "https://lh3.googleusercontent.com/a-/AOh14GgCzJgz5tDGcNqn108PikDmo9i8xVBqBE7WCrGurg=s64",
      "userId": "16893705064560269479"
     },
     "user_tz": -330
    },
    "id": "YZH9s922KSRj",
    "outputId": "fa1abbd6-c342-4b88-c0cc-b8eb24fb9e5a"
   },
   "outputs": [
    {
     "data": {
      "text/plain": [
       "<matplotlib.collections.PathCollection at 0x7f679725d490>"
      ]
     },
     "execution_count": 34,
     "metadata": {
      "tags": []
     },
     "output_type": "execute_result"
    },
    {
     "data": {
      "image/png": "[encoded data removed]",
      "text/plain": [
       "<Figure size 432x288 with 1 Axes>"
      ]
     },
     "metadata": {
      "needs_background": "light",
      "tags": []
     },
     "output_type": "display_data"
    }
   ],
   "source": [
    "plt.scatter(centroids[:,0], centroids[:,1], color='g')"
   ]
  },
  {
   "cell_type": "code",
   "execution_count": 35,
   "metadata": {
    "colab": {
     "base_uri": "https://localhost:8080/"
    },
    "executionInfo": {
     "elapsed": 21192,
     "status": "ok",
     "timestamp": 1617130444769,
     "user": {
      "displayName": "Sughandhan S",
      "photoUrl": "https://lh3.googleusercontent.com/a-/AOh14GgCzJgz5tDGcNqn108PikDmo9i8xVBqBE7WCrGurg=s64",
      "userId": "16893705064560269479"
     },
     "user_tz": -330
    },
    "id": "5ZpYcdNsmm3f",
    "outputId": "c3d9a0d2-fde8-4573-c53d-968de41d8ce0"
   },
   "outputs": [
    {
     "data": {
      "text/plain": [
       "[array([[-3.76 ,  3.829],\n",
       "        [-2.258,  2.448],\n",
       "        [-2.929,  3.212],\n",
       "        [-2.651,  2.846],\n",
       "        [-3.217,  3.551],\n",
       "        [-2.864,  3.241],\n",
       "        [-3.805,  4.036],\n",
       "        [-3.769,  2.102],\n",
       "        [-3.838,  2.26 ],\n",
       "        [-3.154,  3.539],\n",
       "        [-3.06 ,  3.251],\n",
       "        [-3.98 ,  1.997],\n",
       "        [-3.864,  4.628],\n",
       "        [-3.545,  1.949],\n",
       "        [-3.502,  1.86 ],\n",
       "        [-3.282,  3.268],\n",
       "        [-3.962,  1.905],\n",
       "        [-2.558,  2.514],\n",
       "        [-2.979,  2.744],\n",
       "        [-3.196,  3.008],\n",
       "        [-3.908,  1.873],\n",
       "        [-3.701,  1.71 ],\n",
       "        [-2.521,  2.067],\n",
       "        [-3.566,  4.03 ],\n",
       "        [-2.855,  3.428],\n",
       "        [-2.957,  2.831],\n",
       "        [-2.622,  2.42 ],\n",
       "        [-2.979,  2.747],\n",
       "        [-2.706,  2.361],\n",
       "        [-4.387,  2.369],\n",
       "        [-2.594,  2.451],\n",
       "        [-2.668,  2.273],\n",
       "        [-2.529,  2.573],\n",
       "        [-2.998,  3.251],\n",
       "        [-4.507,  2.571],\n",
       "        [-3.454,  3.29 ],\n",
       "        [-3.567,  4.365],\n",
       "        [-2.741,  2.519],\n",
       "        [-1.807,  2.372],\n",
       "        [-2.606,  2.825],\n",
       "        [-4.07 ,  1.866],\n",
       "        [-3.214,  3.846],\n",
       "        [-2.579,  2.85 ],\n",
       "        [-3.419,  1.79 ],\n",
       "        [-3.909,  1.572],\n",
       "        [-3.115,  3.443],\n",
       "        [-2.562,  2.664],\n",
       "        [-3.241,  3.1  ],\n",
       "        [-2.714,  2.157],\n",
       "        [-2.841,  3.065],\n",
       "        [-2.375,  2.574],\n",
       "        [-2.449,  2.519],\n",
       "        [-3.476,  4.051],\n",
       "        [-4.295,  4.376],\n",
       "        [-3.801,  1.834],\n",
       "        [-3.725,  3.655],\n",
       "        [-2.822,  3.262],\n",
       "        [-2.316,  2.825],\n",
       "        [-2.553,  2.38 ],\n",
       "        [-3.571,  4.083],\n",
       "        [-3.139,  3.236],\n",
       "        [-3.049,  3.095],\n",
       "        [-2.357,  2.436],\n",
       "        [-2.299,  2.213],\n",
       "        [-2.778,  3.355],\n",
       "        [-3.798,  1.984],\n",
       "        [-4.655,  2.884],\n",
       "        [-4.997,  3.264],\n",
       "        [-2.298,  2.548],\n",
       "        [-2.365,  2.289],\n",
       "        [-3.225,  3.04 ],\n",
       "        [-3.536,  1.711],\n",
       "        [-3.492,  3.553],\n",
       "        [-3.667,  4.267],\n",
       "        [-3.604,  4.134],\n",
       "        [-2.649,  2.855],\n",
       "        [-3.854,  1.761],\n",
       "        [-4.209,  2.712],\n",
       "        [-2.451,  2.645],\n",
       "        [-2.867,  2.64 ],\n",
       "        [-3.129,  3.207],\n",
       "        [-4.27 ,  2.647],\n",
       "        [-4.557,  2.681],\n",
       "        [-2.519,  2.244],\n",
       "        [-2.34 ,  2.095],\n",
       "        [-2.504,  2.69 ],\n",
       "        [-3.283,  3.299],\n",
       "        [-3.133,  2.906],\n",
       "        [-3.221,  3.059],\n",
       "        [-3.424,  3.737],\n",
       "        [-4.378,  2.32 ],\n",
       "        [-2.764,  2.735],\n",
       "        [-3.272,  3.245],\n",
       "        [-3.766,  1.885],\n",
       "        [-2.318,  2.627],\n",
       "        [-2.841,  2.419],\n",
       "        [-2.772,  2.801],\n",
       "        [-3.194,  2.93 ],\n",
       "        [-4.141,  2.066],\n",
       "        [-3.007,  2.861],\n",
       "        [-2.821,  3.06 ],\n",
       "        [-3.772,  1.812],\n",
       "        [-4.357,  2.236],\n",
       "        [-3.979,  1.912],\n",
       "        [-2.519,  2.179],\n",
       "        [-3.242,  3.414],\n",
       "        [-3.285,  2.827],\n",
       "        [-2.657,  2.41 ],\n",
       "        [-2.97 ,  3.086],\n",
       "        [-4.827,  3.272],\n",
       "        [-2.169,  2.511],\n",
       "        [-3.211,  3.063],\n",
       "        [-3.929,  2.355],\n",
       "        [-2.731,  2.651],\n",
       "        [-3.421,  1.793],\n",
       "        [-2.611,  2.176],\n",
       "        [-3.638,  3.971],\n",
       "        [-3.926,  4.218],\n",
       "        [-3.376,  3.515],\n",
       "        [-2.992,  3.302],\n",
       "        [-2.23 ,  2.11 ],\n",
       "        [-3.582,  3.639],\n",
       "        [-3.904,  3.818],\n",
       "        [-2.503,  2.163],\n",
       "        [-4.666,  5.319],\n",
       "        [-4.428,  4.173],\n",
       "        [-3.299,  3.093],\n",
       "        [-3.454,  4.008],\n",
       "        [-3.8  ,  1.948],\n",
       "        [-3.667,  1.921],\n",
       "        [-3.597,  4.228],\n",
       "        [-3.389,  3.345],\n",
       "        [-2.564,  2.809],\n",
       "        [-3.767,  4.522],\n",
       "        [-2.636,  2.788],\n",
       "        [-4.836,  3.211],\n",
       "        [-2.863,  2.837],\n",
       "        [-4.062,  4.555],\n",
       "        [-3.476,  1.694],\n",
       "        [-2.415,  2.565],\n",
       "        [-3.132,  3.375],\n",
       "        [-3.654,  3.87 ],\n",
       "        [-3.673,  2.011],\n",
       "        [-3.924,  2.27 ],\n",
       "        [-3.929,  4.181],\n",
       "        [-3.47 ,  3.531],\n",
       "        [-3.35 ,  1.716],\n",
       "        [-3.075,  3.057],\n",
       "        [-2.362,  2.39 ],\n",
       "        [-3.105,  3.058],\n",
       "        [-2.903,  2.977],\n",
       "        [-3.334,  3.44 ],\n",
       "        [-4.645,  4.948],\n",
       "        [-1.973,  2.34 ],\n",
       "        [-3.97 ,  3.953],\n",
       "        [-4.116,  1.718],\n",
       "        [-3.079,  3.554],\n",
       "        [-2.439,  2.484],\n",
       "        [-4.099,  1.912],\n",
       "        [-2.312,  2.635],\n",
       "        [-2.743,  2.46 ],\n",
       "        [-2.266,  2.83 ],\n",
       "        [-2.705,  2.567],\n",
       "        [-4.049,  1.971],\n",
       "        [-2.852,  2.619],\n",
       "        [-4.458,  3.024],\n",
       "        [-2.536,  3.003],\n",
       "        [-2.718,  2.796],\n",
       "        [-4.082,  2.002],\n",
       "        [-3.819,  4.54 ],\n",
       "        [-2.511,  2.518],\n",
       "        [-3.086,  3.423],\n",
       "        [-2.627,  2.818],\n",
       "        [-3.56 ,  2.428],\n",
       "        [-2.812,  2.755],\n",
       "        [-2.848,  3.187],\n",
       "        [-4.415,  2.868],\n",
       "        [-3.866,  2.057],\n",
       "        [-2.6  ,  2.918],\n",
       "        [-3.104,  3.244],\n",
       "        [-2.593,  2.769],\n",
       "        [-3.655,  3.553],\n",
       "        [-3.728,  3.884],\n",
       "        [-4.451,  2.969],\n",
       "        [-4.392,  2.985],\n",
       "        [-3.355,  2.597],\n",
       "        [-3.256,  3.127],\n",
       "        [-2.923,  3.505],\n",
       "        [-3.53 ,  3.668],\n",
       "        [-4.282,  4.77 ],\n",
       "        [-2.968,  2.791],\n",
       "        [-3.737,  1.751],\n",
       "        [-3.148,  3.891],\n",
       "        [-3.977,  2.746],\n",
       "        [-2.827,  3.225],\n",
       "        [-3.521,  3.895],\n",
       "        [-3.883,  4.12 ],\n",
       "        [-2.401,  2.507],\n",
       "        [-2.351,  2.288],\n",
       "        [-3.793,  2.413],\n",
       "        [-2.696,  2.999],\n",
       "        [-2.859,  3.015],\n",
       "        [-3.701,  4.528],\n",
       "        [-2.513,  2.371],\n",
       "        [-2.498,  2.525],\n",
       "        [-4.005,  4.633],\n",
       "        [-3.477,  1.699],\n",
       "        [-3.043,  2.765],\n",
       "        [-2.569,  2.77 ],\n",
       "        [-2.913,  3.171],\n",
       "        [-2.685,  2.476],\n",
       "        [-2.247,  2.247],\n",
       "        [-3.136,  3.012],\n",
       "        [-3.983,  4.187],\n",
       "        [-3.278,  3.108],\n",
       "        [-2.777,  2.424],\n",
       "        [-2.619,  2.596],\n",
       "        [-3.284,  3.599],\n",
       "        [-3.577,  1.678],\n",
       "        [-4.398,  2.348],\n",
       "        [-3.432,  3.232],\n",
       "        [-3.432,  1.688],\n",
       "        [-3.376,  3.632],\n",
       "        [-2.979,  3.108],\n",
       "        [-3.606,  3.296],\n",
       "        [-3.032,  3.184],\n",
       "        [-2.693,  2.052],\n",
       "        [-2.343,  2.071],\n",
       "        [-2.721,  2.502],\n",
       "        [-3.656,  1.961],\n",
       "        [-2.285,  2.415],\n",
       "        [-2.505,  2.259],\n",
       "        [-4.811,  3.038],\n",
       "        [-4.115,  2.32 ],\n",
       "        [-5.241,  3.576],\n",
       "        [-3.255,  3.533],\n",
       "        [-3.265,  3.362],\n",
       "        [-1.997,  2.268],\n",
       "        [-4.468,  2.449],\n",
       "        [-4.424,  2.757],\n",
       "        [-2.82 ,  3.133],\n",
       "        [-2.345,  2.292],\n",
       "        [-4.052,  2.369],\n",
       "        [-3.332,  1.691],\n",
       "        [-3.713,  3.865],\n",
       "        [-3.548,  3.378],\n",
       "        [-2.939,  3.2  ],\n",
       "        [-3.467,  3.955],\n",
       "        [-2.227,  2.25 ],\n",
       "        [-2.697,  3.138],\n",
       "        [-3.574,  1.801],\n",
       "        [-3.592,  1.801],\n",
       "        [-2.652,  2.406],\n",
       "        [-3.858,  1.684],\n",
       "        [-3.178,  3.593],\n",
       "        [-2.961,  3.385],\n",
       "        [-3.558,  3.493],\n",
       "        [-2.337,  2.644],\n",
       "        [-3.149,  3.444],\n",
       "        [-3.172,  3.215],\n",
       "        [-4.231,  1.553],\n",
       "        [-3.681,  1.573],\n",
       "        [-3.865,  3.966],\n",
       "        [-4.065,  1.831],\n",
       "        [-3.361,  3.607],\n",
       "        [-2.225,  2.563],\n",
       "        [-2.195,  2.199],\n",
       "        [-3.488,  4.276],\n",
       "        [-3.651,  4.648],\n",
       "        [-2.811,  2.9  ],\n",
       "        [-4.975,  3.341],\n",
       "        [-3.722,  3.887],\n",
       "        [-4.029,  2.321],\n",
       "        [-2.536,  2.117],\n",
       "        [-2.233,  2.187],\n",
       "        [-3.204,  3.193],\n",
       "        [-2.817,  2.886],\n",
       "        [-4.339,  2.944],\n",
       "        [-3.192,  3.136],\n",
       "        [-3.174,  3.316],\n",
       "        [-3.691,  1.852],\n",
       "        [-3.786,  1.652],\n",
       "        [-3.679,  1.744],\n",
       "        [-3.452,  1.78 ],\n",
       "        [-3.168,  3.367],\n",
       "        [-3.573,  2.019],\n",
       "        [-2.138,  2.233],\n",
       "        [-2.737,  2.513],\n",
       "        [-3.273,  3.239],\n",
       "        [-3.612,  2.107],\n",
       "        [-2.157,  2.313],\n",
       "        [-2.759,  2.478],\n",
       "        [-3.362,  2.149],\n",
       "        [-4.31 ,  2.735],\n",
       "        [-2.76 ,  2.524],\n",
       "        [-4.472,  2.337],\n",
       "        [-2.806,  2.517],\n",
       "        [-3.391,  3.246],\n",
       "        [-3.928,  4.533],\n",
       "        [-2.219,  2.188],\n",
       "        [-2.314,  2.555],\n",
       "        [-3.359,  3.053],\n",
       "        [-3.132,  2.613],\n",
       "        [-4.867,  3.181],\n",
       "        [-2.474,  2.046],\n",
       "        [-3.102,  3.174],\n",
       "        [-2.969,  2.939],\n",
       "        [-3.831,  4.345],\n",
       "        [-3.449,  3.797],\n",
       "        [-3.666,  1.598],\n",
       "        [-4.702,  3.185],\n",
       "        [-3.574,  3.214],\n",
       "        [-3.052,  3.657],\n",
       "        [-3.879,  2.122],\n",
       "        [-2.807,  2.628],\n",
       "        [-4.125,  1.59 ],\n",
       "        [-3.312,  3.088],\n",
       "        [-3.646,  3.453],\n",
       "        [-3.474,  3.696],\n",
       "        [-3.805,  4.619],\n",
       "        [-3.048,  3.165],\n",
       "        [-4.334,  4.785],\n",
       "        [-4.206,  2.413],\n",
       "        [-4.733,  2.831],\n",
       "        [-2.543,  2.607],\n",
       "        [-3.251,  3.908],\n",
       "        [-2.884,  2.225],\n",
       "        [-4.672,  3.162],\n",
       "        [-2.924,  2.673],\n",
       "        [-2.883,  2.594],\n",
       "        [-4.01 ,  4.599],\n",
       "        [-5.701,  4.472],\n",
       "        [-3.309,  3.848],\n",
       "        [-3.847,  3.755],\n",
       "        [-3.897,  1.971],\n",
       "        [-3.19 ,  3.787],\n",
       "        [-4.296,  2.733],\n",
       "        [-3.867,  1.679],\n",
       "        [-3.078,  3.2  ],\n",
       "        [-2.913,  3.066],\n",
       "        [-2.78 ,  2.327],\n",
       "        [-2.706,  2.652],\n",
       "        [-2.763,  2.755]]), array([[-3.195,  0.463],\n",
       "        [-3.171,  0.789],\n",
       "        [-2.409,  1.907],\n",
       "        [-3.04 ,  0.94 ],\n",
       "        [-2.077,  2.14 ],\n",
       "        [-2.777, -0.24 ],\n",
       "        [-2.438,  0.482],\n",
       "        [-2.909,  0.591],\n",
       "        [-2.005,  1.677],\n",
       "        [-2.989,  0.915],\n",
       "        [-2.215, -0.33 ],\n",
       "        [-3.459,  1.627],\n",
       "        [-1.688, -1.532],\n",
       "        [-1.975,  1.874],\n",
       "        [-2.095, -0.324],\n",
       "        [-2.289, -0.425],\n",
       "        [-1.592, -1.379],\n",
       "        [-2.247,  1.834],\n",
       "        [-1.907,  1.825],\n",
       "        [-3.245,  1.697],\n",
       "        [-3.302,  1.029],\n",
       "        [-3.427,  0.925],\n",
       "        [-1.626,  1.02 ],\n",
       "        [-1.363,  0.741],\n",
       "        [-2.109,  1.676],\n",
       "        [-0.718,  1.789],\n",
       "        [-2.844,  0.053],\n",
       "        [-2.039,  1.83 ],\n",
       "        [-1.855,  1.597],\n",
       "        [-1.771,  1.308],\n",
       "        [-1.15 ,  1.072],\n",
       "        [-3.332,  1.429],\n",
       "        [-2.273,  1.885],\n",
       "        [-3.353,  0.807],\n",
       "        [-2.631,  0.267],\n",
       "        [-1.547,  1.587],\n",
       "        [-0.942,  0.961],\n",
       "        [-3.31 ,  1.175],\n",
       "        [-2.666, -0.128],\n",
       "        [-3.756,  1.332],\n",
       "        [-2.875,  0.55 ],\n",
       "        [-2.348, -0.116],\n",
       "        [-2.554, -0.184],\n",
       "        [-3.42 ,  1.361],\n",
       "        [-2.964,  0.772],\n",
       "        [-3.097,  0.813],\n",
       "        [-2.091, -0.972],\n",
       "        [-3.132,  0.84 ],\n",
       "        [-2.172,  1.606],\n",
       "        [-3.436,  1.278],\n",
       "        [-1.502,  1.249],\n",
       "        [-1.761, -0.388],\n",
       "        [-2.856,  0.158],\n",
       "        [-2.384,  0.112],\n",
       "        [-2.284,  1.902],\n",
       "        [-0.598,  1.231],\n",
       "        [-3.437,  1.607],\n",
       "        [-2.237,  0.389],\n",
       "        [-3.122,  1.099],\n",
       "        [-1.03 ,  0.434],\n",
       "        [-2.409, -0.218],\n",
       "        [-2.197, -0.754],\n",
       "        [-3.566,  1.217],\n",
       "        [-1.79 , -1.548],\n",
       "        [-2.087, -0.609],\n",
       "        [-0.769,  2.105],\n",
       "        [-2.734, -0.139],\n",
       "        [-2.811,  0.493],\n",
       "        [-0.98 ,  0.837],\n",
       "        [-3.317,  0.886],\n",
       "        [-2.342,  0.043],\n",
       "        [-2.16 ,  1.924],\n",
       "        [-2.988,  1.173],\n",
       "        [-3.301,  1.57 ],\n",
       "        [-3.484,  0.84 ],\n",
       "        [-1.469,  0.916],\n",
       "        [-1.786,  1.398],\n",
       "        [-2.263,  2.059],\n",
       "        [-2.491,  0.492],\n",
       "        [-2.967,  1.1  ],\n",
       "        [-3.264,  0.973],\n",
       "        [-3.345,  1.159],\n",
       "        [-3.504,  1.403],\n",
       "        [-2.172, -0.361],\n",
       "        [-1.295,  1.053],\n",
       "        [-1.957,  1.978],\n",
       "        [-2.333, -0.417],\n",
       "        [-2.519, -0.361],\n",
       "        [-2.316, -0.191],\n",
       "        [-2.433, -0.7  ],\n",
       "        [-3.477,  1.513],\n",
       "        [-1.758, -0.921],\n",
       "        [-2.128,  1.87 ],\n",
       "        [-0.826,  2.137],\n",
       "        [-2.01 ,  1.472],\n",
       "        [-1.922,  1.839],\n",
       "        [-3.387,  1.341],\n",
       "        [-2.818,  0.601],\n",
       "        [-2.134,  2.047],\n",
       "        [-2.957,  1.151],\n",
       "        [-1.795,  1.491],\n",
       "        [-2.883,  0.505],\n",
       "        [-3.099,  1.028],\n",
       "        [-2.902,  0.375],\n",
       "        [-2.473,  0.524],\n",
       "        [-1.626,  1.431],\n",
       "        [-3.047,  0.813],\n",
       "        [-2.61 ,  0.384],\n",
       "        [-2.744,  1.098],\n",
       "        [-3.342,  0.892],\n",
       "        [-3.62 ,  1.261],\n",
       "        [-2.26 , -0.629],\n",
       "        [-3.327,  1.017],\n",
       "        [-3.16 ,  0.803],\n",
       "        [-1.579, -1.233],\n",
       "        [-2.319,  2.017],\n",
       "        [-3.423,  1.378],\n",
       "        [-2.684,  0.607],\n",
       "        [-3.732,  1.249],\n",
       "        [-2.637,  0.876],\n",
       "        [-3.079,  1.2  ],\n",
       "        [-2.03 ,  1.739],\n",
       "        [-3.529,  1.5  ],\n",
       "        [-2.42 , -0.44 ],\n",
       "        [-3.135,  0.485],\n",
       "        [-3.119,  1.105],\n",
       "        [-1.713,  1.533],\n",
       "        [-2.937,  0.986],\n",
       "        [-0.59 ,  0.838],\n",
       "        [-3.005,  0.489],\n",
       "        [-2.995,  0.462],\n",
       "        [-2.073,  1.057],\n",
       "        [-2.332,  0.095],\n",
       "        [-3.341,  1.283],\n",
       "        [-3.476,  1.556],\n",
       "        [-2.801,  0.378],\n",
       "        [-2.394,  1.954],\n",
       "        [-1.886, -0.52 ],\n",
       "        [-3.553,  1.132],\n",
       "        [-1.951,  2.126],\n",
       "        [-2.239,  1.349],\n",
       "        [-3.338,  1.276],\n",
       "        [-2.744,  0.545],\n",
       "        [-2.87 ,  0.836],\n",
       "        [-3.36 ,  1.358],\n",
       "        [-3.327,  1.392],\n",
       "        [-2.176, -0.078],\n",
       "        [-1.81 ,  1.505],\n",
       "        [-2.247, -0.246],\n",
       "        [-1.565,  1.148],\n",
       "        [-2.074,  0.77 ],\n",
       "        [-1.753,  1.728],\n",
       "        [-2.486, -0.046],\n",
       "        [-3.316,  0.656],\n",
       "        [-2.522, -0.582],\n",
       "        [-1.999,  1.462],\n",
       "        [-2.867,  0.251],\n",
       "        [-3.572,  1.168],\n",
       "        [-3.335,  1.242],\n",
       "        [-3.017,  0.363],\n",
       "        [-1.842, -0.448],\n",
       "        [-2.435, -0.226],\n",
       "        [-2.177,  2.064],\n",
       "        [-3.053,  0.791],\n",
       "        [-3.375,  1.254],\n",
       "        [-1.574,  1.439],\n",
       "        [-3.215,  1.296],\n",
       "        [-3.405,  1.205],\n",
       "        [-1.313,  0.85 ],\n",
       "        [-1.83 , -0.766],\n",
       "        [-3.497,  1.508],\n",
       "        [-2.642,  0.405],\n",
       "        [-2.655,  0.517],\n",
       "        [-2.89 ,  0.464],\n",
       "        [-2.559,  0.067],\n",
       "        [-3.247,  0.885],\n",
       "        [-2.529,  0.257],\n",
       "        [-1.878,  1.661],\n",
       "        [-2.516,  0.453],\n",
       "        [-1.722,  1.165],\n",
       "        [-2.807,  0.455],\n",
       "        [-2.747,  0.476],\n",
       "        [-2.171,  2.037],\n",
       "        [-2.411,  1.382],\n",
       "        [-2.114,  1.93 ],\n",
       "        [-2.596,  0.156],\n",
       "        [-2.405,  0.275],\n",
       "        [-3.354,  1.247],\n",
       "        [-2.051,  1.893],\n",
       "        [-2.904,  0.515],\n",
       "        [-2.552,  0.127],\n",
       "        [-2.496,  0.525],\n",
       "        [-1.619, -1.289],\n",
       "        [-3.386,  1.534],\n",
       "        [-3.013,  1.41 ],\n",
       "        [-2.591,  0.405],\n",
       "        [-3.315,  1.436],\n",
       "        [-2.697,  0.108],\n",
       "        [-3.32 ,  1.063],\n",
       "        [-1.785, -0.286],\n",
       "        [-3.321,  0.829],\n",
       "        [-2.058, -0.465],\n",
       "        [-2.02 ,  1.735],\n",
       "        [-2.048, -0.738],\n",
       "        [-3.297,  1.415],\n",
       "        [-1.958, -1.142],\n",
       "        [-3.227,  0.727],\n",
       "        [-1.314,  1.037],\n",
       "        [-2.455,  0.386],\n",
       "        [-3.065,  0.911],\n",
       "        [-0.905,  0.512],\n",
       "        [-1.122,  0.473],\n",
       "        [-2.457,  0.148],\n",
       "        [-3.701,  1.104],\n",
       "        [-2.019, -0.607],\n",
       "        [-0.409,  1.337],\n",
       "        [-1.983,  1.52 ],\n",
       "        [-2.505, -0.039],\n",
       "        [-1.98 ,  1.472],\n",
       "        [-1.685,  1.077],\n",
       "        [-2.683,  0.131],\n",
       "        [-3.3  ,  0.93 ],\n",
       "        [-2.79 ,  0.797],\n",
       "        [-2.067,  0.437],\n",
       "        [-1.846, -0.016],\n",
       "        [-2.684,  0.088],\n",
       "        [-1.953, -0.823],\n",
       "        [-2.24 ,  1.79 ],\n",
       "        [-3.404,  1.569],\n",
       "        [-2.723,  0.294],\n",
       "        [-2.495,  0.486],\n",
       "        [-3.486,  0.464],\n",
       "        [-3.209,  1.288],\n",
       "        [-2.743,  0.303],\n",
       "        [-2.48 ,  0.36 ],\n",
       "        [-3.765,  1.271],\n",
       "        [-2.871,  0.621],\n",
       "        [-1.856,  1.51 ],\n",
       "        [-1.863,  1.577],\n",
       "        [-3.125,  1.207],\n",
       "        [-3.153,  1.432],\n",
       "        [-2.016,  1.825],\n",
       "        [-1.661,  0.969],\n",
       "        [-0.266,  1.277],\n",
       "        [-3.22 ,  0.925],\n",
       "        [-2.816,  0.315],\n",
       "        [-3.357,  1.348],\n",
       "        [-2.793,  1.198],\n",
       "        [-3.566,  1.402],\n",
       "        [-2.237,  0.293],\n",
       "        [-1.54 ,  1.125],\n",
       "        [-2.887,  0.667],\n",
       "        [-2.626,  0.318],\n",
       "        [-1.731,  1.296],\n",
       "        [-3.363,  1.08 ],\n",
       "        [-2.719,  0.301],\n",
       "        [-2.571,  0.227],\n",
       "        [-3.946,  1.242],\n",
       "        [-3.311,  0.528],\n",
       "        [-1.857,  1.671],\n",
       "        [-3.51 ,  0.9  ],\n",
       "        [-3.09 ,  0.791],\n",
       "        [-3.109,  1.138],\n",
       "        [-1.503,  1.287],\n",
       "        [-2.502,  0.586],\n",
       "        [-2.555,  0.634],\n",
       "        [-3.02 ,  0.958],\n",
       "        [-3.554,  0.937],\n",
       "        [-2.416,  1.906],\n",
       "        [-2.501,  1.792],\n",
       "        [-2.995,  1.151],\n",
       "        [-1.521,  1.002],\n",
       "        [-1.933,  1.563],\n",
       "        [-2.018, -0.36 ],\n",
       "        [-3.035,  0.683],\n",
       "        [-3.341,  0.942],\n",
       "        [-1.925,  1.872],\n",
       "        [-2.864,  0.494],\n",
       "        [-2.602, -0.164],\n",
       "        [-2.25 , -0.378],\n",
       "        [-3.355,  1.556],\n",
       "        [-1.895,  1.769],\n",
       "        [-2.926,  0.64 ],\n",
       "        [-3.225,  0.615],\n",
       "        [-2.032,  1.577],\n",
       "        [-1.547,  1.216],\n",
       "        [-3.154,  1.17 ],\n",
       "        [-3.078,  0.381],\n",
       "        [-2.649,  0.883],\n",
       "        [-3.031,  0.379],\n",
       "        [-3.333,  1.285],\n",
       "        [-3.181,  0.98 ],\n",
       "        [-2.926,  0.797],\n",
       "        [-2.751,  0.471],\n",
       "        [-2.367,  2.007],\n",
       "        [-3.207,  1.162],\n",
       "        [-1.814, -0.493],\n",
       "        [-1.085,  1.762],\n",
       "        [-2.807,  0.708],\n",
       "        [-3.072,  0.71 ],\n",
       "        [-2.295,  0.049],\n",
       "        [-3.688,  1.36 ],\n",
       "        [-1.853,  1.504],\n",
       "        [-2.839,  0.391],\n",
       "        [-3.413,  0.98 ],\n",
       "        [-2.426, -0.265],\n",
       "        [-1.919,  1.528],\n",
       "        [-2.966,  0.549],\n",
       "        [-2.69 ,  0.678],\n",
       "        [-1.533, -0.969],\n",
       "        [-2.618,  0.234],\n",
       "        [-2.087, -0.714],\n",
       "        [-2.547,  0.237],\n",
       "        [-1.938, -0.741],\n",
       "        [-2.415,  0.278],\n",
       "        [-2.732,  0.256],\n",
       "        [-2.557,  0.102],\n",
       "        [-1.907,  2.057],\n",
       "        [-3.039,  0.394],\n",
       "        [-2.584, -0.081],\n",
       "        [-1.707, -0.76 ],\n",
       "        [-3.189,  1.149],\n",
       "        [-0.351,  0.913],\n",
       "        [-3.118,  0.551],\n",
       "        [-2.599,  0.021],\n",
       "        [-1.62 ,  1.364],\n",
       "        [-3.358,  0.836],\n",
       "        [-3.094,  1.179],\n",
       "        [-2.806,  0.902],\n",
       "        [-3.546,  1.289],\n",
       "        [-2.116,  1.785],\n",
       "        [-3.562,  0.92 ],\n",
       "        [-3.564,  0.917],\n",
       "        [-0.508,  1.537],\n",
       "        [-2.58 ,  0.661]]), array([[ 1.437e+00, -1.386e+00],\n",
       "        [ 1.010e+00, -1.000e+00],\n",
       "        [ 4.640e-01,  1.870e-01],\n",
       "        [ 2.050e-01,  2.040e-01],\n",
       "        [ 2.840e-01,  7.000e-02],\n",
       "        [ 1.318e+00, -1.421e+00],\n",
       "        [-2.680e-01, -7.200e-02],\n",
       "        [ 1.167e+00, -8.890e-01],\n",
       "        [ 3.800e-02,  1.054e+00],\n",
       "        [ 1.197e+00, -1.288e+00],\n",
       "        [ 5.890e-01, -5.930e-01],\n",
       "        [ 9.140e-01, -3.830e-01],\n",
       "        [ 5.800e-01,  4.100e-02],\n",
       "        [ 1.388e+00, -1.779e+00],\n",
       "        [ 1.820e+00, -2.117e+00],\n",
       "        [ 2.273e+00, -2.879e+00],\n",
       "        [ 1.426e+00, -1.720e+00],\n",
       "        [ 4.110e-01, -1.420e-01],\n",
       "        [ 4.060e-01, -2.720e-01],\n",
       "        [ 1.265e+00, -1.470e+00],\n",
       "        [ 1.252e+00, -9.220e-01],\n",
       "        [ 2.208e+00, -2.350e+00],\n",
       "        [ 1.950e+00, -2.491e+00],\n",
       "        [ 6.840e-01, -2.190e-01],\n",
       "        [ 1.200e+00, -1.124e+00],\n",
       "        [ 5.330e-01,  4.190e-01],\n",
       "        [ 1.600e-01,  8.810e-01],\n",
       "        [ 1.965e+00, -2.639e+00],\n",
       "        [ 8.620e-01, -1.207e+00],\n",
       "        [ 3.720e-01, -4.400e-01],\n",
       "        [ 1.510e+00, -1.418e+00],\n",
       "        [ 1.526e+00, -9.780e-01],\n",
       "        [ 1.762e+00, -1.861e+00],\n",
       "        [ 8.080e-01, -2.410e-01],\n",
       "        [ 1.230e+00, -1.116e+00],\n",
       "        [ 1.324e+00, -1.500e+00],\n",
       "        [ 1.410e+00, -1.348e+00],\n",
       "        [ 2.081e+00, -2.947e+00],\n",
       "        [ 1.083e+00, -9.550e-01],\n",
       "        [ 4.050e-01,  2.610e-01],\n",
       "        [ 2.520e-01, -1.860e-01],\n",
       "        [ 2.459e+00, -2.694e+00],\n",
       "        [ 1.992e+00, -1.815e+00],\n",
       "        [ 1.770e+00, -1.671e+00],\n",
       "        [ 9.240e-01, -7.340e-01],\n",
       "        [ 1.062e+00, -9.000e-01],\n",
       "        [ 2.130e-01, -4.800e-02],\n",
       "        [ 1.870e-01,  6.610e-01],\n",
       "        [ 6.150e-01, -7.060e-01],\n",
       "        [ 1.702e+00, -1.496e+00],\n",
       "        [ 9.430e-01, -1.048e+00],\n",
       "        [ 1.763e+00, -1.131e+00],\n",
       "        [ 2.400e-01,  1.670e-01],\n",
       "        [ 1.726e+00, -1.435e+00],\n",
       "        [ 1.467e+00, -1.441e+00],\n",
       "        [ 1.226e+00, -9.660e-01],\n",
       "        [ 1.327e+00, -7.750e-01],\n",
       "        [ 6.830e-01, -3.000e-01],\n",
       "        [ 2.052e+00, -2.249e+00],\n",
       "        [ 1.687e+00, -1.239e+00],\n",
       "        [ 8.620e-01, -4.490e-01],\n",
       "        [ 2.190e-01,  3.270e-01],\n",
       "        [ 8.460e-01, -7.760e-01],\n",
       "        [ 1.696e+00, -1.987e+00],\n",
       "        [ 1.083e+00, -6.630e-01],\n",
       "        [-1.960e-01,  5.230e-01],\n",
       "        [ 2.860e-01, -1.420e-01],\n",
       "        [-4.600e-02,  7.440e-01],\n",
       "        [ 3.540e-01,  7.170e-01],\n",
       "        [ 1.238e+00, -1.457e+00],\n",
       "        [-1.000e-02,  3.610e-01],\n",
       "        [ 1.510e+00, -9.920e-01],\n",
       "        [ 2.795e+00, -3.196e+00],\n",
       "        [ 4.690e-01, -1.960e-01],\n",
       "        [ 9.330e-01, -7.850e-01],\n",
       "        [ 2.660e-01, -7.000e-03],\n",
       "        [ 8.140e-01, -2.970e-01],\n",
       "        [ 7.410e-01, -7.820e-01],\n",
       "        [ 1.890e-01,  3.100e-01],\n",
       "        [ 1.949e+00, -1.880e+00],\n",
       "        [ 1.622e+00, -1.815e+00],\n",
       "        [ 1.328e+00, -1.482e+00],\n",
       "        [ 8.850e-01, -3.050e-01],\n",
       "        [ 4.210e-01,  2.020e-01],\n",
       "        [ 1.970e-01, -1.130e-01],\n",
       "        [ 1.161e+00, -1.178e+00],\n",
       "        [ 1.342e+00, -1.711e+00],\n",
       "        [ 1.232e+00, -9.090e-01],\n",
       "        [ 1.047e+00, -9.630e-01],\n",
       "        [ 1.332e+00, -1.825e+00],\n",
       "        [ 1.905e+00, -1.913e+00],\n",
       "        [ 1.665e+00, -1.525e+00],\n",
       "        [ 1.428e+00, -9.840e-01],\n",
       "        [ 6.490e-01, -2.170e-01],\n",
       "        [ 9.330e-01, -3.860e-01],\n",
       "        [ 7.720e-01, -6.780e-01],\n",
       "        [ 1.716e+00, -2.319e+00],\n",
       "        [ 2.120e+00, -1.967e+00],\n",
       "        [ 1.195e+00, -4.570e-01],\n",
       "        [ 6.400e-01, -2.320e-01],\n",
       "        [ 1.218e+00, -1.403e+00],\n",
       "        [ 1.605e+00, -1.829e+00],\n",
       "        [ 1.008e+00, -7.840e-01],\n",
       "        [ 1.954e+00, -2.240e+00],\n",
       "        [ 1.980e+00, -1.726e+00],\n",
       "        [ 1.721e+00, -1.910e+00],\n",
       "        [ 4.470e-01, -8.180e-01],\n",
       "        [ 7.680e-01, -5.780e-01],\n",
       "        [ 1.110e+00, -7.460e-01],\n",
       "        [ 2.500e-01, -3.100e-02],\n",
       "        [ 1.883e+00, -1.076e+00],\n",
       "        [-6.200e-02,  6.230e-01],\n",
       "        [ 6.320e-01, -6.450e-01],\n",
       "        [ 6.560e-01, -2.600e-02],\n",
       "        [ 6.920e-01, -5.870e-01],\n",
       "        [ 2.720e-01,  1.900e-02],\n",
       "        [-1.450e-01,  7.980e-01],\n",
       "        [ 5.610e-01,  2.110e-01],\n",
       "        [ 1.645e+00, -1.762e+00],\n",
       "        [ 2.320e-01, -3.190e-01],\n",
       "        [ 4.600e-02,  7.210e-01],\n",
       "        [ 7.290e-01, -7.240e-01],\n",
       "        [ 1.870e+00, -2.036e+00],\n",
       "        [ 6.680e-01, -2.190e-01],\n",
       "        [ 3.300e-02,  8.840e-01],\n",
       "        [ 1.153e+00, -1.168e+00],\n",
       "        [ 7.080e-01, -4.490e-01],\n",
       "        [ 1.713e+00, -2.007e+00],\n",
       "        [ 1.080e-01,  3.150e-01],\n",
       "        [ 1.042e+00, -9.580e-01],\n",
       "        [ 2.108e+00, -2.470e+00],\n",
       "        [ 1.535e+00, -1.304e+00],\n",
       "        [ 8.090e-01, -3.330e-01],\n",
       "        [ 1.479e+00, -1.434e+00],\n",
       "        [ 6.950e-01, -6.900e-02],\n",
       "        [ 1.008e+00, -7.810e-01],\n",
       "        [ 9.050e-01,  2.800e-01],\n",
       "        [ 2.644e+00, -2.724e+00],\n",
       "        [ 1.577e+00, -1.451e+00],\n",
       "        [ 1.515e+00, -1.400e+00],\n",
       "        [ 1.169e+00, -7.150e-01],\n",
       "        [ 7.360e-01,  3.980e-01],\n",
       "        [ 2.416e+00, -2.728e+00],\n",
       "        [ 1.620e-01,  3.160e-01],\n",
       "        [-2.320e-01,  5.230e-01],\n",
       "        [ 1.155e+00, -1.261e+00],\n",
       "        [ 1.726e+00, -1.515e+00],\n",
       "        [ 8.300e-01, -6.160e-01],\n",
       "        [ 6.690e-01, -7.210e-01],\n",
       "        [ 6.780e-01, -5.030e-01],\n",
       "        [ 3.920e-01,  6.600e-02],\n",
       "        [ 2.070e-01,  6.060e-01],\n",
       "        [ 4.760e-01, -2.630e-01],\n",
       "        [ 1.826e+00, -1.776e+00],\n",
       "        [ 7.410e-01,  1.480e-01],\n",
       "        [ 9.040e-01, -4.920e-01],\n",
       "        [ 1.167e+00, -6.940e-01],\n",
       "        [ 2.423e+00, -2.369e+00],\n",
       "        [ 3.800e-01, -1.920e-01],\n",
       "        [ 9.210e-01, -5.060e-01],\n",
       "        [ 9.660e-01, -1.009e+00],\n",
       "        [ 1.437e+00, -8.900e-01],\n",
       "        [ 1.623e+00, -1.441e+00],\n",
       "        [ 2.034e+00, -2.156e+00],\n",
       "        [ 1.448e+00, -1.656e+00],\n",
       "        [ 9.030e-01, -9.520e-01],\n",
       "        [ 1.357e+00, -1.687e+00],\n",
       "        [ 6.240e-01, -5.140e-01],\n",
       "        [ 1.278e+00, -7.890e-01],\n",
       "        [ 3.430e-01,  4.600e-02],\n",
       "        [ 3.660e-01, -3.280e-01],\n",
       "        [ 9.150e-01,  6.800e-02],\n",
       "        [ 4.570e-01, -4.980e-01],\n",
       "        [ 1.188e+00, -9.170e-01],\n",
       "        [ 9.560e-01, -2.860e-01],\n",
       "        [ 9.240e-01, -9.480e-01],\n",
       "        [ 6.680e-01, -1.710e-01],\n",
       "        [ 9.960e-01, -1.154e+00],\n",
       "        [ 9.170e-01, -5.550e-01],\n",
       "        [ 3.180e-01, -2.000e-03],\n",
       "        [ 2.416e+00, -2.774e+00],\n",
       "        [ 1.029e+00, -7.830e-01],\n",
       "        [ 6.650e-01,  1.900e-02],\n",
       "        [ 8.760e-01, -5.800e-01],\n",
       "        [ 1.459e+00, -1.950e+00],\n",
       "        [ 1.522e+00, -1.849e+00],\n",
       "        [ 1.582e+00, -1.143e+00],\n",
       "        [ 1.653e+00, -1.872e+00],\n",
       "        [ 1.320e-01,  2.020e-01],\n",
       "        [ 1.207e+00, -9.620e-01],\n",
       "        [ 7.810e-01, -8.660e-01],\n",
       "        [ 6.830e-01, -2.410e-01],\n",
       "        [ 2.000e-02,  6.660e-01],\n",
       "        [ 1.238e+00, -5.760e-01],\n",
       "        [ 3.830e-01, -2.040e-01],\n",
       "        [ 5.300e-01, -4.670e-01],\n",
       "        [ 2.077e+00, -1.706e+00],\n",
       "        [ 1.508e+00, -1.608e+00],\n",
       "        [ 1.390e-01,  6.210e-01],\n",
       "        [ 1.095e+00, -1.339e+00],\n",
       "        [-2.860e-01,  8.480e-01],\n",
       "        [ 1.963e+00, -2.232e+00],\n",
       "        [ 1.173e+00, -9.420e-01],\n",
       "        [ 1.115e+00, -6.230e-01],\n",
       "        [ 1.618e+00, -1.837e+00],\n",
       "        [ 1.376e+00, -1.225e+00],\n",
       "        [-2.400e-02,  2.550e-01],\n",
       "        [ 1.480e+00, -1.289e+00],\n",
       "        [ 1.900e-02, -3.600e-02],\n",
       "        [ 1.507e+00, -1.361e+00],\n",
       "        [ 1.966e+00, -2.331e+00],\n",
       "        [ 4.520e-01,  3.600e-02],\n",
       "        [ 8.780e-01, -5.080e-01],\n",
       "        [ 2.229e+00, -2.122e+00],\n",
       "        [ 1.125e+00, -9.750e-01],\n",
       "        [ 1.351e+00, -1.547e+00],\n",
       "        [ 8.330e-01, -1.240e-01],\n",
       "        [ 1.573e+00, -1.601e+00],\n",
       "        [ 1.793e+00, -1.328e+00],\n",
       "        [ 8.950e-01, -6.140e-01],\n",
       "        [ 5.810e-01,  1.200e-02],\n",
       "        [ 4.030e-01, -4.150e-01],\n",
       "        [ 1.555e+00, -1.241e+00],\n",
       "        [ 1.036e+00, -3.920e-01],\n",
       "        [ 1.261e+00, -1.222e+00],\n",
       "        [-7.100e-02,  6.470e-01],\n",
       "        [ 1.274e+00, -1.421e+00],\n",
       "        [ 1.309e+00, -8.990e-01],\n",
       "        [ 8.780e-01, -8.240e-01],\n",
       "        [ 9.450e-01, -1.156e+00],\n",
       "        [ 2.016e+00, -2.028e+00],\n",
       "        [-9.100e-02,  4.950e-01],\n",
       "        [ 1.095e+00, -1.523e+00],\n",
       "        [ 1.270e-01, -6.800e-02],\n",
       "        [ 1.560e+00, -1.228e+00],\n",
       "        [ 1.496e+00, -1.108e+00],\n",
       "        [ 1.261e+00, -1.405e+00],\n",
       "        [ 1.601e+00, -1.498e+00],\n",
       "        [ 6.610e-01, -2.250e-01],\n",
       "        [ 5.450e-01, -1.240e-01],\n",
       "        [ 6.950e-01, -4.620e-01],\n",
       "        [ 1.503e+00, -1.890e+00],\n",
       "        [ 3.620e-01, -1.060e-01],\n",
       "        [ 1.404e+00, -1.055e+00],\n",
       "        [-1.020e-01,  8.580e-01],\n",
       "        [ 1.500e-01,  7.420e-01],\n",
       "        [ 4.970e-01, -1.810e-01],\n",
       "        [ 1.460e+00, -7.950e-01],\n",
       "        [ 8.200e-01, -5.580e-01],\n",
       "        [ 1.025e+00, -1.276e+00],\n",
       "        [ 1.583e+00, -1.449e+00],\n",
       "        [ 5.610e-01, -3.860e-01],\n",
       "        [ 9.240e-01, -8.530e-01],\n",
       "        [ 9.200e-02, -1.900e-02],\n",
       "        [ 1.467e+00, -1.505e+00],\n",
       "        [ 1.929e+00, -2.222e+00],\n",
       "        [ 1.414e+00, -1.462e+00],\n",
       "        [ 3.080e-01, -3.900e-01],\n",
       "        [-3.000e-03,  3.320e-01],\n",
       "        [ 1.726e+00, -1.545e+00],\n",
       "        [ 9.810e-01, -1.278e+00],\n",
       "        [-1.100e-01,  2.200e-02],\n",
       "        [ 7.750e-01, -8.620e-01],\n",
       "        [ 1.136e+00, -9.660e-01],\n",
       "        [ 1.164e+00, -8.030e-01],\n",
       "        [ 3.620e-01, -7.200e-02],\n",
       "        [ 9.840e-01, -7.840e-01],\n",
       "        [ 1.898e+00, -2.019e+00],\n",
       "        [ 2.118e+00, -1.995e+00],\n",
       "        [ 9.410e-01, -6.500e-01],\n",
       "        [ 1.476e+00, -5.720e-01],\n",
       "        [ 7.460e-01, -2.850e-01],\n",
       "        [ 2.011e+00, -2.152e+00],\n",
       "        [ 2.578e+00, -2.885e+00],\n",
       "        [ 9.240e-01, -8.580e-01],\n",
       "        [ 2.017e+00, -2.327e+00],\n",
       "        [ 9.430e-01, -1.391e+00],\n",
       "        [ 2.375e+00, -3.072e+00],\n",
       "        [-2.160e-01,  6.340e-01],\n",
       "        [ 1.625e+00, -1.792e+00],\n",
       "        [ 1.219e+00, -1.403e+00],\n",
       "        [ 1.899e+00, -1.957e+00],\n",
       "        [ 3.310e-01,  2.740e-01],\n",
       "        [ 4.110e-01,  2.350e-01],\n",
       "        [ 1.337e+00, -1.681e+00],\n",
       "        [ 1.786e+00, -1.457e+00],\n",
       "        [ 1.684e+00, -1.776e+00],\n",
       "        [ 1.169e+00, -1.128e+00],\n",
       "        [ 9.210e-01, -1.195e+00],\n",
       "        [ 8.320e-01, -1.073e+00],\n",
       "        [ 1.762e+00, -1.379e+00],\n",
       "        [ 1.369e+00, -1.686e+00],\n",
       "        [ 6.700e-02,  6.420e-01],\n",
       "        [ 3.540e-01,  2.980e-01],\n",
       "        [ 1.168e+00, -7.730e-01],\n",
       "        [ 1.038e+00, -6.430e-01],\n",
       "        [ 6.570e-01, -3.970e-01],\n",
       "        [ 1.644e+00, -2.259e+00],\n",
       "        [ 9.360e-01, -6.590e-01],\n",
       "        [ 1.522e+00, -1.991e+00],\n",
       "        [ 9.740e-01, -8.740e-01],\n",
       "        [ 1.552e+00, -1.687e+00],\n",
       "        [ 7.330e-01, -6.160e-01],\n",
       "        [ 4.580e-01, -4.700e-01],\n",
       "        [ 4.330e-01, -2.310e-01],\n",
       "        [ 2.206e+00, -2.888e+00],\n",
       "        [ 1.017e+00, -8.060e-01],\n",
       "        [ 7.040e-01, -3.290e-01],\n",
       "        [ 7.670e-01, -6.230e-01],\n",
       "        [ 1.096e+00, -5.500e-01],\n",
       "        [ 6.730e-01, -4.880e-01],\n",
       "        [ 3.400e-01,  1.900e-02],\n",
       "        [-4.900e-02,  3.720e-01],\n",
       "        [ 1.495e+00, -1.611e+00],\n",
       "        [ 8.550e-01, -7.040e-01],\n",
       "        [ 2.403e+00, -2.599e+00],\n",
       "        [ 1.430e+00, -1.541e+00],\n",
       "        [ 1.202e+00, -1.197e+00],\n",
       "        [ 7.470e-01, -4.380e-01],\n",
       "        [ 1.503e+00, -1.486e+00],\n",
       "        [ 1.350e+00, -4.560e-01],\n",
       "        [ 1.110e-01,  4.660e-01]])]"
      ]
     },
     "execution_count": 35,
     "metadata": {
      "tags": []
     },
     "output_type": "execute_result"
    }
   ],
   "source": [
    "c_distance"
   ]
  },
  {
   "cell_type": "code",
   "execution_count": 36,
   "metadata": {
    "colab": {
     "base_uri": "https://localhost:8080/"
    },
    "executionInfo": {
     "elapsed": 21188,
     "status": "ok",
     "timestamp": 1617130444769,
     "user": {
      "displayName": "Sughandhan S",
      "photoUrl": "https://lh3.googleusercontent.com/a-/AOh14GgCzJgz5tDGcNqn108PikDmo9i8xVBqBE7WCrGurg=s64",
      "userId": "16893705064560269479"
     },
     "user_tz": -330
    },
    "id": "z3dnaEYA7bqe",
    "outputId": "39256a1f-d12d-40c5-c34a-92785fab49df"
   },
   "outputs": [
    {
     "data": {
      "text/plain": [
       "3"
      ]
     },
     "execution_count": 36,
     "metadata": {
      "tags": []
     },
     "output_type": "execute_result"
    }
   ],
   "source": [
    "len(c_distance)"
   ]
  },
  {
   "cell_type": "code",
   "execution_count": 37,
   "metadata": {
    "colab": {
     "base_uri": "https://localhost:8080/"
    },
    "executionInfo": {
     "elapsed": 21183,
     "status": "ok",
     "timestamp": 1617130444770,
     "user": {
      "displayName": "Sughandhan S",
      "photoUrl": "https://lh3.googleusercontent.com/a-/AOh14GgCzJgz5tDGcNqn108PikDmo9i8xVBqBE7WCrGurg=s64",
      "userId": "16893705064560269479"
     },
     "user_tz": -330
    },
    "id": "Vt3etj6A78HV",
    "outputId": "bb6843ae-90b1-4065-9b4e-cd02e1b1f903"
   },
   "outputs": [
    {
     "data": {
      "text/plain": [
       "[(array([-3.195,  0.463]), 1),\n",
       " (array([ 1.437, -1.386]), 2),\n",
       " (array([ 1.01, -1.  ]), 2),\n",
       " (array([-3.171,  0.789]), 1),\n",
       " (array([0.464, 0.187]), 2),\n",
       " (array([0.205, 0.204]), 2),\n",
       " (array([-3.76 ,  3.829]), 0),\n",
       " (array([-2.409,  1.907]), 1),\n",
       " (array([0.284, 0.07 ]), 2),\n",
       " (array([-3.04,  0.94]), 1),\n",
       " (array([-2.258,  2.448]), 0),\n",
       " (array([-2.929,  3.212]), 0),\n",
       " (array([-2.077,  2.14 ]), 1),\n",
       " (array([-2.651,  2.846]), 0),\n",
       " (array([-3.217,  3.551]), 0),\n",
       " (array([-2.777, -0.24 ]), 1),\n",
       " (array([-2.438,  0.482]), 1),\n",
       " (array([-2.909,  0.591]), 1),\n",
       " (array([-2.864,  3.241]), 0),\n",
       " (array([-3.805,  4.036]), 0),\n",
       " (array([-2.005,  1.677]), 1),\n",
       " (array([-2.989,  0.915]), 1),\n",
       " (array([-2.215, -0.33 ]), 1),\n",
       " (array([-3.459,  1.627]), 1),\n",
       " (array([-1.688, -1.532]), 1),\n",
       " (array([-3.769,  2.102]), 0),\n",
       " (array([-1.975,  1.874]), 1),\n",
       " (array([ 1.318, -1.421]), 2),\n",
       " (array([-2.095, -0.324]), 1),\n",
       " (array([-0.268, -0.072]), 2),\n",
       " (array([-2.289, -0.425]), 1),\n",
       " (array([-1.592, -1.379]), 1),\n",
       " (array([-3.838,  2.26 ]), 0),\n",
       " (array([-2.247,  1.834]), 1),\n",
       " (array([-3.154,  3.539]), 0),\n",
       " (array([-3.06 ,  3.251]), 0),\n",
       " (array([-3.98 ,  1.997]), 0),\n",
       " (array([ 1.167, -0.889]), 2),\n",
       " (array([-3.864,  4.628]), 0),\n",
       " (array([0.038, 1.054]), 2),\n",
       " (array([ 1.197, -1.288]), 2),\n",
       " (array([-3.545,  1.949]), 0),\n",
       " (array([-3.502,  1.86 ]), 0),\n",
       " (array([-3.282,  3.268]), 0),\n",
       " (array([-1.907,  1.825]), 1),\n",
       " (array([-3.245,  1.697]), 1),\n",
       " (array([-3.962,  1.905]), 0),\n",
       " (array([-2.558,  2.514]), 0),\n",
       " (array([-2.979,  2.744]), 0),\n",
       " (array([ 0.589, -0.593]), 2),\n",
       " (array([-3.302,  1.029]), 1),\n",
       " (array([ 0.914, -0.383]), 2),\n",
       " (array([-3.196,  3.008]), 0),\n",
       " (array([-3.427,  0.925]), 1),\n",
       " (array([-1.626,  1.02 ]), 1),\n",
       " (array([-3.908,  1.873]), 0),\n",
       " (array([-3.701,  1.71 ]), 0),\n",
       " (array([-1.363,  0.741]), 1),\n",
       " (array([-2.521,  2.067]), 0),\n",
       " (array([-2.109,  1.676]), 1),\n",
       " (array([-3.566,  4.03 ]), 0),\n",
       " (array([-0.718,  1.789]), 1),\n",
       " (array([-2.855,  3.428]), 0),\n",
       " (array([-2.957,  2.831]), 0),\n",
       " (array([-2.622,  2.42 ]), 0),\n",
       " (array([-2.979,  2.747]), 0),\n",
       " (array([0.58 , 0.041]), 2),\n",
       " (array([-2.844,  0.053]), 1),\n",
       " (array([ 1.388, -1.779]), 2),\n",
       " (array([-2.706,  2.361]), 0),\n",
       " (array([ 1.82 , -2.117]), 2),\n",
       " (array([ 2.273, -2.879]), 2),\n",
       " (array([-4.387,  2.369]), 0),\n",
       " (array([-2.594,  2.451]), 0),\n",
       " (array([-2.668,  2.273]), 0),\n",
       " (array([-2.529,  2.573]), 0),\n",
       " (array([-2.039,  1.83 ]), 1),\n",
       " (array([ 1.426, -1.72 ]), 2),\n",
       " (array([-1.855,  1.597]), 1),\n",
       " (array([-1.771,  1.308]), 1),\n",
       " (array([ 0.411, -0.142]), 2),\n",
       " (array([-2.998,  3.251]), 0),\n",
       " (array([-1.15 ,  1.072]), 1),\n",
       " (array([ 0.406, -0.272]), 2),\n",
       " (array([ 1.265, -1.47 ]), 2),\n",
       " (array([-3.332,  1.429]), 1),\n",
       " (array([-4.507,  2.571]), 0),\n",
       " (array([-2.273,  1.885]), 1),\n",
       " (array([ 1.252, -0.922]), 2),\n",
       " (array([-3.454,  3.29 ]), 0),\n",
       " (array([ 2.208, -2.35 ]), 2),\n",
       " (array([-3.567,  4.365]), 0),\n",
       " (array([-3.353,  0.807]), 1),\n",
       " (array([ 1.95 , -2.491]), 2),\n",
       " (array([-2.631,  0.267]), 1),\n",
       " (array([-1.547,  1.587]), 1),\n",
       " (array([-0.942,  0.961]), 1),\n",
       " (array([-3.31 ,  1.175]), 1),\n",
       " (array([-2.741,  2.519]), 0),\n",
       " (array([-2.666, -0.128]), 1),\n",
       " (array([-1.807,  2.372]), 0),\n",
       " (array([ 0.684, -0.219]), 2),\n",
       " (array([-3.756,  1.332]), 1),\n",
       " (array([-2.606,  2.825]), 0),\n",
       " (array([-4.07 ,  1.866]), 0),\n",
       " (array([ 1.2  , -1.124]), 2),\n",
       " (array([-2.875,  0.55 ]), 1),\n",
       " (array([-3.214,  3.846]), 0),\n",
       " (array([-2.348, -0.116]), 1),\n",
       " (array([-2.579,  2.85 ]), 0),\n",
       " (array([-3.419,  1.79 ]), 0),\n",
       " (array([-2.554, -0.184]), 1),\n",
       " (array([-3.909,  1.572]), 0),\n",
       " (array([0.533, 0.419]), 2),\n",
       " (array([-3.115,  3.443]), 0),\n",
       " (array([0.16 , 0.881]), 2),\n",
       " (array([ 1.965, -2.639]), 2),\n",
       " (array([-2.562,  2.664]), 0),\n",
       " (array([-3.241,  3.1  ]), 0),\n",
       " (array([ 0.862, -1.207]), 2),\n",
       " (array([-2.714,  2.157]), 0),\n",
       " (array([-3.42 ,  1.361]), 1),\n",
       " (array([-2.964,  0.772]), 1),\n",
       " (array([ 0.372, -0.44 ]), 2),\n",
       " (array([-3.097,  0.813]), 1),\n",
       " (array([ 1.51 , -1.418]), 2),\n",
       " (array([ 1.526, -0.978]), 2),\n",
       " (array([-2.091, -0.972]), 1),\n",
       " (array([ 1.762, -1.861]), 2),\n",
       " (array([ 0.808, -0.241]), 2),\n",
       " (array([-2.841,  3.065]), 0),\n",
       " (array([-3.132,  0.84 ]), 1),\n",
       " (array([-2.375,  2.574]), 0),\n",
       " (array([-2.172,  1.606]), 1),\n",
       " (array([-2.449,  2.519]), 0),\n",
       " (array([ 1.23 , -1.116]), 2),\n",
       " (array([ 1.324, -1.5  ]), 2),\n",
       " (array([-3.436,  1.278]), 1),\n",
       " (array([ 1.41 , -1.348]), 2),\n",
       " (array([ 2.081, -2.947]), 2),\n",
       " (array([-1.502,  1.249]), 1),\n",
       " (array([-3.476,  4.051]), 0),\n",
       " (array([-4.295,  4.376]), 0),\n",
       " (array([ 1.083, -0.955]), 2),\n",
       " (array([-1.761, -0.388]), 1),\n",
       " (array([-2.856,  0.158]), 1),\n",
       " (array([-3.801,  1.834]), 0),\n",
       " (array([0.405, 0.261]), 2),\n",
       " (array([ 0.252, -0.186]), 2),\n",
       " (array([-2.384,  0.112]), 1),\n",
       " (array([-2.284,  1.902]), 1),\n",
       " (array([ 2.459, -2.694]), 2),\n",
       " (array([ 1.992, -1.815]), 2),\n",
       " (array([ 1.77 , -1.671]), 2),\n",
       " (array([-0.598,  1.231]), 1),\n",
       " (array([ 0.924, -0.734]), 2),\n",
       " (array([-3.437,  1.607]), 1),\n",
       " (array([ 1.062, -0.9  ]), 2),\n",
       " (array([ 0.213, -0.048]), 2),\n",
       " (array([0.187, 0.661]), 2),\n",
       " (array([ 0.615, -0.706]), 2),\n",
       " (array([-2.237,  0.389]), 1),\n",
       " (array([-3.725,  3.655]), 0),\n",
       " (array([ 1.702, -1.496]), 2),\n",
       " (array([ 0.943, -1.048]), 2),\n",
       " (array([ 1.763, -1.131]), 2),\n",
       " (array([0.24 , 0.167]), 2),\n",
       " (array([-2.822,  3.262]), 0),\n",
       " (array([ 1.726, -1.435]), 2),\n",
       " (array([-2.316,  2.825]), 0),\n",
       " (array([-2.553,  2.38 ]), 0),\n",
       " (array([-3.571,  4.083]), 0),\n",
       " (array([ 1.467, -1.441]), 2),\n",
       " (array([-3.139,  3.236]), 0),\n",
       " (array([ 1.226, -0.966]), 2),\n",
       " (array([-3.049,  3.095]), 0),\n",
       " (array([ 1.327, -0.775]), 2),\n",
       " (array([-3.122,  1.099]), 1),\n",
       " (array([-1.03 ,  0.434]), 1),\n",
       " (array([-2.357,  2.436]), 0),\n",
       " (array([-2.299,  2.213]), 0),\n",
       " (array([-2.409, -0.218]), 1),\n",
       " (array([ 0.683, -0.3  ]), 2),\n",
       " (array([ 2.052, -2.249]), 2),\n",
       " (array([-2.778,  3.355]), 0),\n",
       " (array([ 1.687, -1.239]), 2),\n",
       " (array([-3.798,  1.984]), 0),\n",
       " (array([-2.197, -0.754]), 1),\n",
       " (array([ 0.862, -0.449]), 2),\n",
       " (array([-3.566,  1.217]), 1),\n",
       " (array([-4.655,  2.884]), 0),\n",
       " (array([-1.79 , -1.548]), 1),\n",
       " (array([0.219, 0.327]), 2),\n",
       " (array([-2.087, -0.609]), 1),\n",
       " (array([-4.997,  3.264]), 0),\n",
       " (array([-2.298,  2.548]), 0),\n",
       " (array([ 0.846, -0.776]), 2),\n",
       " (array([-2.365,  2.289]), 0),\n",
       " (array([-0.769,  2.105]), 1),\n",
       " (array([-2.734, -0.139]), 1),\n",
       " (array([ 1.696, -1.987]), 2),\n",
       " (array([-3.225,  3.04 ]), 0),\n",
       " (array([ 1.083, -0.663]), 2),\n",
       " (array([-2.811,  0.493]), 1),\n",
       " (array([-3.536,  1.711]), 0),\n",
       " (array([-0.98 ,  0.837]), 1),\n",
       " (array([-3.492,  3.553]), 0),\n",
       " (array([-3.317,  0.886]), 1),\n",
       " (array([-3.667,  4.267]), 0),\n",
       " (array([-2.342,  0.043]), 1),\n",
       " (array([-2.16 ,  1.924]), 1),\n",
       " (array([-3.604,  4.134]), 0),\n",
       " (array([-2.649,  2.855]), 0),\n",
       " (array([-3.854,  1.761]), 0),\n",
       " (array([-4.209,  2.712]), 0),\n",
       " (array([-0.196,  0.523]), 2),\n",
       " (array([-2.451,  2.645]), 0),\n",
       " (array([-2.867,  2.64 ]), 0),\n",
       " (array([-2.988,  1.173]), 1),\n",
       " (array([-3.301,  1.57 ]), 1),\n",
       " (array([-3.484,  0.84 ]), 1),\n",
       " (array([-1.469,  0.916]), 1),\n",
       " (array([-1.786,  1.398]), 1),\n",
       " (array([ 0.286, -0.142]), 2),\n",
       " (array([-0.046,  0.744]), 2),\n",
       " (array([0.354, 0.717]), 2),\n",
       " (array([-2.263,  2.059]), 1),\n",
       " (array([ 1.238, -1.457]), 2),\n",
       " (array([-2.491,  0.492]), 1),\n",
       " (array([-2.967,  1.1  ]), 1),\n",
       " (array([-3.264,  0.973]), 1),\n",
       " (array([-0.01 ,  0.361]), 2),\n",
       " (array([ 1.51 , -0.992]), 2),\n",
       " (array([-3.129,  3.207]), 0),\n",
       " (array([-4.27 ,  2.647]), 0),\n",
       " (array([-4.557,  2.681]), 0),\n",
       " (array([-2.519,  2.244]), 0),\n",
       " (array([ 2.795, -3.196]), 2),\n",
       " (array([-3.345,  1.159]), 1),\n",
       " (array([ 0.469, -0.196]), 2),\n",
       " (array([ 0.933, -0.785]), 2),\n",
       " (array([ 0.266, -0.007]), 2),\n",
       " (array([-3.504,  1.403]), 1),\n",
       " (array([ 0.814, -0.297]), 2),\n",
       " (array([-2.34 ,  2.095]), 0),\n",
       " (array([-2.504,  2.69 ]), 0),\n",
       " (array([ 0.741, -0.782]), 2),\n",
       " (array([0.189, 0.31 ]), 2),\n",
       " (array([-3.283,  3.299]), 0),\n",
       " (array([ 1.949, -1.88 ]), 2),\n",
       " (array([-3.133,  2.906]), 0),\n",
       " (array([-3.221,  3.059]), 0),\n",
       " (array([ 1.622, -1.815]), 2),\n",
       " (array([-2.172, -0.361]), 1),\n",
       " (array([ 1.328, -1.482]), 2),\n",
       " (array([ 0.885, -0.305]), 2),\n",
       " (array([-3.424,  3.737]), 0),\n",
       " (array([-4.378,  2.32 ]), 0),\n",
       " (array([-2.764,  2.735]), 0),\n",
       " (array([-3.272,  3.245]), 0),\n",
       " (array([-3.766,  1.885]), 0),\n",
       " (array([-2.318,  2.627]), 0),\n",
       " (array([0.421, 0.202]), 2),\n",
       " (array([-1.295,  1.053]), 1),\n",
       " (array([-1.957,  1.978]), 1),\n",
       " (array([ 0.197, -0.113]), 2),\n",
       " (array([-2.333, -0.417]), 1),\n",
       " (array([-2.841,  2.419]), 0),\n",
       " (array([-2.772,  2.801]), 0),\n",
       " (array([-3.194,  2.93 ]), 0),\n",
       " (array([-4.141,  2.066]), 0),\n",
       " (array([-3.007,  2.861]), 0),\n",
       " (array([-2.821,  3.06 ]), 0),\n",
       " (array([ 1.161, -1.178]), 2),\n",
       " (array([-2.519, -0.361]), 1),\n",
       " (array([-3.772,  1.812]), 0),\n",
       " (array([-2.316, -0.191]), 1),\n",
       " (array([-4.357,  2.236]), 0),\n",
       " (array([ 1.342, -1.711]), 2),\n",
       " (array([ 1.232, -0.909]), 2),\n",
       " (array([-2.433, -0.7  ]), 1),\n",
       " (array([ 1.047, -0.963]), 2),\n",
       " (array([-3.979,  1.912]), 0),\n",
       " (array([-2.519,  2.179]), 0),\n",
       " (array([-3.242,  3.414]), 0),\n",
       " (array([-3.285,  2.827]), 0),\n",
       " (array([-2.657,  2.41 ]), 0),\n",
       " (array([-2.97 ,  3.086]), 0),\n",
       " (array([-3.477,  1.513]), 1),\n",
       " (array([ 1.332, -1.825]), 2),\n",
       " (array([-1.758, -0.921]), 1),\n",
       " (array([ 1.905, -1.913]), 2),\n",
       " (array([-4.827,  3.272]), 0),\n",
       " (array([-2.128,  1.87 ]), 1),\n",
       " (array([ 1.665, -1.525]), 2),\n",
       " (array([ 1.428, -0.984]), 2),\n",
       " (array([-2.169,  2.511]), 0),\n",
       " (array([-3.211,  3.063]), 0),\n",
       " (array([-0.826,  2.137]), 1),\n",
       " (array([ 0.649, -0.217]), 2),\n",
       " (array([-2.01 ,  1.472]), 1),\n",
       " (array([-1.922,  1.839]), 1),\n",
       " (array([ 0.933, -0.386]), 2),\n",
       " (array([-3.387,  1.341]), 1),\n",
       " (array([-3.929,  2.355]), 0),\n",
       " (array([-2.731,  2.651]), 0),\n",
       " (array([ 0.772, -0.678]), 2),\n",
       " (array([-2.818,  0.601]), 1),\n",
       " (array([-2.134,  2.047]), 1),\n",
       " (array([ 1.716, -2.319]), 2),\n",
       " (array([-3.421,  1.793]), 0),\n",
       " (array([ 2.12 , -1.967]), 2),\n",
       " (array([-2.611,  2.176]), 0),\n",
       " (array([-2.957,  1.151]), 1),\n",
       " (array([ 1.195, -0.457]), 2),\n",
       " (array([ 0.64 , -0.232]), 2),\n",
       " (array([-1.795,  1.491]), 1),\n",
       " (array([-2.883,  0.505]), 1),\n",
       " (array([ 1.218, -1.403]), 2),\n",
       " (array([-3.638,  3.971]), 0),\n",
       " (array([-3.926,  4.218]), 0),\n",
       " (array([ 1.605, -1.829]), 2),\n",
       " (array([ 1.008, -0.784]), 2),\n",
       " (array([-3.376,  3.515]), 0),\n",
       " (array([ 1.954, -2.24 ]), 2),\n",
       " (array([-2.992,  3.302]), 0),\n",
       " (array([-3.099,  1.028]), 1),\n",
       " (array([-2.902,  0.375]), 1),\n",
       " (array([ 1.98 , -1.726]), 2),\n",
       " (array([-2.473,  0.524]), 1),\n",
       " (array([ 1.721, -1.91 ]), 2),\n",
       " (array([-1.626,  1.431]), 1),\n",
       " (array([-3.047,  0.813]), 1),\n",
       " (array([ 0.447, -0.818]), 2),\n",
       " (array([-2.23,  2.11]), 0),\n",
       " (array([-3.582,  3.639]), 0),\n",
       " (array([-2.61 ,  0.384]), 1),\n",
       " (array([-2.744,  1.098]), 1),\n",
       " (array([-3.904,  3.818]), 0),\n",
       " (array([ 0.768, -0.578]), 2),\n",
       " (array([-3.342,  0.892]), 1),\n",
       " (array([-2.503,  2.163]), 0),\n",
       " (array([ 1.11 , -0.746]), 2),\n",
       " (array([-3.62 ,  1.261]), 1),\n",
       " (array([-2.26 , -0.629]), 1),\n",
       " (array([-4.666,  5.319]), 0),\n",
       " (array([-3.327,  1.017]), 1),\n",
       " (array([ 0.25 , -0.031]), 2),\n",
       " (array([ 1.883, -1.076]), 2),\n",
       " (array([-0.062,  0.623]), 2),\n",
       " (array([ 0.632, -0.645]), 2),\n",
       " (array([-3.16 ,  0.803]), 1),\n",
       " (array([-4.428,  4.173]), 0),\n",
       " (array([-1.579, -1.233]), 1),\n",
       " (array([ 0.656, -0.026]), 2),\n",
       " (array([-3.299,  3.093]), 0),\n",
       " (array([ 0.692, -0.587]), 2),\n",
       " (array([-3.454,  4.008]), 0),\n",
       " (array([0.272, 0.019]), 2),\n",
       " (array([-2.319,  2.017]), 1),\n",
       " (array([-3.423,  1.378]), 1),\n",
       " (array([-3.8  ,  1.948]), 0),\n",
       " (array([-2.684,  0.607]), 1),\n",
       " (array([-3.732,  1.249]), 1),\n",
       " (array([-2.637,  0.876]), 1),\n",
       " (array([-3.079,  1.2  ]), 1),\n",
       " (array([-0.145,  0.798]), 2),\n",
       " (array([-2.03 ,  1.739]), 1),\n",
       " (array([-3.667,  1.921]), 0),\n",
       " (array([0.561, 0.211]), 2),\n",
       " (array([-3.597,  4.228]), 0),\n",
       " (array([-3.529,  1.5  ]), 1),\n",
       " (array([-2.42, -0.44]), 1),\n",
       " (array([-3.135,  0.485]), 1),\n",
       " (array([ 1.645, -1.762]), 2),\n",
       " (array([-3.389,  3.345]), 0),\n",
       " (array([-3.119,  1.105]), 1),\n",
       " (array([ 0.232, -0.319]), 2),\n",
       " (array([0.046, 0.721]), 2),\n",
       " (array([-1.713,  1.533]), 1),\n",
       " (array([ 0.729, -0.724]), 2),\n",
       " (array([ 1.87 , -2.036]), 2),\n",
       " (array([ 0.668, -0.219]), 2),\n",
       " (array([-2.564,  2.809]), 0),\n",
       " (array([-3.767,  4.522]), 0),\n",
       " (array([-2.937,  0.986]), 1),\n",
       " (array([-0.59 ,  0.838]), 1),\n",
       " (array([0.033, 0.884]), 2),\n",
       " (array([ 1.153, -1.168]), 2),\n",
       " (array([-2.636,  2.788]), 0),\n",
       " (array([-4.836,  3.211]), 0),\n",
       " (array([-2.863,  2.837]), 0),\n",
       " (array([ 0.708, -0.449]), 2),\n",
       " (array([-4.062,  4.555]), 0),\n",
       " (array([ 1.713, -2.007]), 2),\n",
       " (array([0.108, 0.315]), 2),\n",
       " (array([-3.005,  0.489]), 1),\n",
       " (array([-2.995,  0.462]), 1),\n",
       " (array([ 1.042, -0.958]), 2),\n",
       " (array([ 2.108, -2.47 ]), 2),\n",
       " (array([-2.073,  1.057]), 1),\n",
       " (array([-2.332,  0.095]), 1),\n",
       " (array([-3.341,  1.283]), 1),\n",
       " (array([ 1.535, -1.304]), 2),\n",
       " (array([-3.476,  1.556]), 1),\n",
       " (array([-3.476,  1.694]), 0),\n",
       " (array([-2.801,  0.378]), 1),\n",
       " (array([-2.415,  2.565]), 0),\n",
       " (array([-2.394,  1.954]), 1),\n",
       " (array([-3.132,  3.375]), 0),\n",
       " (array([ 0.809, -0.333]), 2),\n",
       " (array([-1.886, -0.52 ]), 1),\n",
       " (array([ 1.479, -1.434]), 2),\n",
       " (array([-3.654,  3.87 ]), 0),\n",
       " (array([-3.553,  1.132]), 1),\n",
       " (array([-3.673,  2.011]), 0),\n",
       " (array([-1.951,  2.126]), 1),\n",
       " (array([-3.924,  2.27 ]), 0),\n",
       " (array([-2.239,  1.349]), 1),\n",
       " (array([ 0.695, -0.069]), 2),\n",
       " (array([-3.338,  1.276]), 1),\n",
       " (array([-2.744,  0.545]), 1),\n",
       " (array([ 1.008, -0.781]), 2),\n",
       " (array([-2.87 ,  0.836]), 1),\n",
       " (array([-3.36 ,  1.358]), 1),\n",
       " (array([-3.929,  4.181]), 0),\n",
       " (array([-3.327,  1.392]), 1),\n",
       " (array([-3.47 ,  3.531]), 0),\n",
       " (array([-3.35 ,  1.716]), 0),\n",
       " (array([-3.075,  3.057]), 0),\n",
       " (array([-2.176, -0.078]), 1),\n",
       " (array([-1.81 ,  1.505]), 1),\n",
       " (array([0.905, 0.28 ]), 2),\n",
       " (array([-2.362,  2.39 ]), 0),\n",
       " (array([-3.105,  3.058]), 0),\n",
       " (array([ 2.644, -2.724]), 2),\n",
       " (array([-2.903,  2.977]), 0),\n",
       " (array([-3.334,  3.44 ]), 0),\n",
       " (array([ 1.577, -1.451]), 2),\n",
       " (array([-4.645,  4.948]), 0),\n",
       " (array([-1.973,  2.34 ]), 0),\n",
       " (array([-2.247, -0.246]), 1),\n",
       " (array([-1.565,  1.148]), 1),\n",
       " (array([ 1.515, -1.4  ]), 2),\n",
       " (array([ 1.169, -0.715]), 2),\n",
       " (array([-2.074,  0.77 ]), 1),\n",
       " (array([-1.753,  1.728]), 1),\n",
       " (array([0.736, 0.398]), 2),\n",
       " (array([-3.97 ,  3.953]), 0),\n",
       " (array([-2.486, -0.046]), 1),\n",
       " (array([-4.116,  1.718]), 0),\n",
       " (array([-3.079,  3.554]), 0),\n",
       " (array([-3.316,  0.656]), 1),\n",
       " (array([-2.439,  2.484]), 0),\n",
       " (array([ 2.416, -2.728]), 2),\n",
       " (array([0.162, 0.316]), 2),\n",
       " (array([-4.099,  1.912]), 0),\n",
       " (array([-0.232,  0.523]), 2),\n",
       " (array([ 1.155, -1.261]), 2),\n",
       " (array([ 1.726, -1.515]), 2),\n",
       " (array([-2.312,  2.635]), 0),\n",
       " (array([-2.743,  2.46 ]), 0),\n",
       " (array([-2.266,  2.83 ]), 0),\n",
       " (array([-2.705,  2.567]), 0),\n",
       " (array([-4.049,  1.971]), 0),\n",
       " (array([-2.522, -0.582]), 1),\n",
       " (array([-1.999,  1.462]), 1),\n",
       " (array([ 0.83 , -0.616]), 2),\n",
       " (array([-2.867,  0.251]), 1),\n",
       " (array([-2.852,  2.619]), 0),\n",
       " (array([ 0.669, -0.721]), 2),\n",
       " (array([-4.458,  3.024]), 0),\n",
       " (array([ 0.678, -0.503]), 2),\n",
       " (array([0.392, 0.066]), 2),\n",
       " (array([-2.536,  3.003]), 0),\n",
       " (array([-2.718,  2.796]), 0),\n",
       " (array([-3.572,  1.168]), 1),\n",
       " (array([-4.082,  2.002]), 0),\n",
       " (array([-3.335,  1.242]), 1),\n",
       " (array([-3.819,  4.54 ]), 0),\n",
       " (array([0.207, 0.606]), 2),\n",
       " (array([-2.511,  2.518]), 0),\n",
       " (array([-3.017,  0.363]), 1),\n",
       " (array([ 0.476, -0.263]), 2),\n",
       " (array([-3.086,  3.423]), 0),\n",
       " (array([ 1.826, -1.776]), 2),\n",
       " (array([-2.627,  2.818]), 0),\n",
       " (array([-3.56 ,  2.428]), 0),\n",
       " (array([0.741, 0.148]), 2),\n",
       " (array([-1.842, -0.448]), 1),\n",
       " (array([ 0.904, -0.492]), 2),\n",
       " (array([-2.435, -0.226]), 1),\n",
       " (array([ 1.167, -0.694]), 2),\n",
       " (array([-2.177,  2.064]), 1),\n",
       " (array([ 2.423, -2.369]), 2),\n",
       " (array([-3.053,  0.791]), 1),\n",
       " (array([-2.812,  2.755]), 0),\n",
       " (array([-2.848,  3.187]), 0),\n",
       " (array([-4.415,  2.868]), 0),\n",
       " (array([-3.866,  2.057]), 0),\n",
       " (array([ 0.38 , -0.192]), 2),\n",
       " (array([ 0.921, -0.506]), 2),\n",
       " (array([-2.6  ,  2.918]), 0),\n",
       " (array([-3.104,  3.244]), 0),\n",
       " (array([-2.593,  2.769]), 0),\n",
       " (array([-3.375,  1.254]), 1),\n",
       " (array([-1.574,  1.439]), 1),\n",
       " (array([-3.215,  1.296]), 1),\n",
       " (array([ 0.966, -1.009]), 2),\n",
       " (array([ 1.437, -0.89 ]), 2),\n",
       " (array([-3.655,  3.553]), 0),\n",
       " (array([-3.728,  3.884]), 0),\n",
       " (array([ 1.623, -1.441]), 2),\n",
       " (array([ 2.034, -2.156]), 2),\n",
       " (array([ 1.448, -1.656]), 2),\n",
       " (array([ 0.903, -0.952]), 2),\n",
       " (array([-3.405,  1.205]), 1),\n",
       " (array([ 1.357, -1.687]), 2),\n",
       " (array([-1.313,  0.85 ]), 1),\n",
       " (array([ 0.624, -0.514]), 2),\n",
       " (array([-1.83 , -0.766]), 1),\n",
       " (array([-4.451,  2.969]), 0),\n",
       " (array([-3.497,  1.508]), 1),\n",
       " (array([-2.642,  0.405]), 1),\n",
       " (array([-2.655,  0.517]), 1),\n",
       " (array([ 1.278, -0.789]), 2),\n",
       " (array([0.343, 0.046]), 2),\n",
       " (array([-4.392,  2.985]), 0),\n",
       " (array([-2.89 ,  0.464]), 1),\n",
       " (array([ 0.366, -0.328]), 2),\n",
       " (array([-3.355,  2.597]), 0),\n",
       " (array([-3.256,  3.127]), 0),\n",
       " (array([0.915, 0.068]), 2),\n",
       " (array([-2.923,  3.505]), 0),\n",
       " (array([-3.53 ,  3.668]), 0),\n",
       " (array([-4.282,  4.77 ]), 0),\n",
       " (array([ 0.457, -0.498]), 2),\n",
       " (array([ 1.188, -0.917]), 2),\n",
       " (array([ 0.956, -0.286]), 2),\n",
       " (array([-2.559,  0.067]), 1),\n",
       " (array([-2.968,  2.791]), 0),\n",
       " (array([-3.247,  0.885]), 1),\n",
       " (array([ 0.924, -0.948]), 2),\n",
       " (array([-3.737,  1.751]), 0),\n",
       " (array([ 0.668, -0.171]), 2),\n",
       " (array([ 0.996, -1.154]), 2),\n",
       " (array([-2.529,  0.257]), 1),\n",
       " (array([-1.878,  1.661]), 1),\n",
       " (array([ 0.917, -0.555]), 2),\n",
       " (array([-3.148,  3.891]), 0),\n",
       " (array([-3.977,  2.746]), 0),\n",
       " (array([-2.516,  0.453]), 1),\n",
       " (array([ 0.318, -0.002]), 2),\n",
       " (array([-1.722,  1.165]), 1),\n",
       " (array([-2.807,  0.455]), 1),\n",
       " (array([ 2.416, -2.774]), 2),\n",
       " (array([-2.747,  0.476]), 1),\n",
       " (array([ 1.029, -0.783]), 2),\n",
       " (array([0.665, 0.019]), 2),\n",
       " (array([ 0.876, -0.58 ]), 2),\n",
       " (array([ 1.459, -1.95 ]), 2),\n",
       " (array([ 1.522, -1.849]), 2),\n",
       " (array([ 1.582, -1.143]), 2),\n",
       " (array([-2.171,  2.037]), 1),\n",
       " (array([-2.827,  3.225]), 0),\n",
       " (array([-3.521,  3.895]), 0),\n",
       " (array([ 1.653, -1.872]), 2),\n",
       " (array([-3.883,  4.12 ]), 0),\n",
       " (array([-2.411,  1.382]), 1),\n",
       " (array([0.132, 0.202]), 2),\n",
       " (array([ 1.207, -0.962]), 2),\n",
       " (array([-2.114,  1.93 ]), 1),\n",
       " (array([-2.596,  0.156]), 1),\n",
       " (array([-2.405,  0.275]), 1),\n",
       " (array([-2.401,  2.507]), 0),\n",
       " (array([-2.351,  2.288]), 0),\n",
       " (array([-3.354,  1.247]), 1),\n",
       " (array([ 0.781, -0.866]), 2),\n",
       " (array([ 0.683, -0.241]), 2),\n",
       " (array([-3.793,  2.413]), 0),\n",
       " (array([-2.051,  1.893]), 1),\n",
       " (array([0.02 , 0.666]), 2),\n",
       " (array([ 1.238, -0.576]), 2),\n",
       " (array([-2.696,  2.999]), 0),\n",
       " (array([-2.859,  3.015]), 0),\n",
       " (array([-3.701,  4.528]), 0),\n",
       " (array([ 0.383, -0.204]), 2),\n",
       " (array([-2.904,  0.515]), 1),\n",
       " (array([-2.513,  2.371]), 0),\n",
       " (array([ 0.53 , -0.467]), 2),\n",
       " (array([ 2.077, -1.706]), 2),\n",
       " (array([-2.552,  0.127]), 1),\n",
       " (array([ 1.508, -1.608]), 2),\n",
       " (array([-2.498,  2.525]), 0),\n",
       " (array([-2.496,  0.525]), 1),\n",
       " (array([-4.005,  4.633]), 0),\n",
       " (array([-1.619, -1.289]), 1),\n",
       " (array([0.139, 0.621]), 2),\n",
       " (array([ 1.095, -1.339]), 2),\n",
       " (array([-3.386,  1.534]), 1),\n",
       " (array([-3.477,  1.699]), 0),\n",
       " (array([-3.013,  1.41 ]), 1),\n",
       " (array([-3.043,  2.765]), 0),\n",
       " (array([-0.286,  0.848]), 2),\n",
       " (array([-2.569,  2.77 ]), 0),\n",
       " (array([ 1.963, -2.232]), 2),\n",
       " (array([ 1.173, -0.942]), 2),\n",
       " (array([-2.913,  3.171]), 0),\n",
       " (array([ 1.115, -0.623]), 2),\n",
       " (array([-2.591,  0.405]), 1),\n",
       " (array([-2.685,  2.476]), 0),\n",
       " (array([-2.247,  2.247]), 0),\n",
       " (array([-3.315,  1.436]), 1),\n",
       " (array([ 1.618, -1.837]), 2),\n",
       " (array([-2.697,  0.108]), 1),\n",
       " (array([ 1.376, -1.225]), 2),\n",
       " (array([-3.136,  3.012]), 0),\n",
       " (array([-0.024,  0.255]), 2),\n",
       " (array([-3.32 ,  1.063]), 1),\n",
       " (array([-3.983,  4.187]), 0),\n",
       " (array([-1.785, -0.286]), 1),\n",
       " (array([-3.321,  0.829]), 1),\n",
       " (array([-3.278,  3.108]), 0),\n",
       " (array([ 1.48 , -1.289]), 2),\n",
       " (array([-2.777,  2.424]), 0),\n",
       " (array([ 0.019, -0.036]), 2),\n",
       " (array([ 1.507, -1.361]), 2),\n",
       " (array([ 1.966, -2.331]), 2),\n",
       " (array([-2.058, -0.465]), 1),\n",
       " (array([0.452, 0.036]), 2),\n",
       " (array([-2.02 ,  1.735]), 1),\n",
       " (array([ 0.878, -0.508]), 2),\n",
       " (array([-2.048, -0.738]), 1),\n",
       " (array([-2.619,  2.596]), 0),\n",
       " (array([-3.284,  3.599]), 0),\n",
       " (array([-3.297,  1.415]), 1),\n",
       " (array([-1.958, -1.142]), 1),\n",
       " (array([ 2.229, -2.122]), 2),\n",
       " (array([-3.227,  0.727]), 1),\n",
       " (array([-1.314,  1.037]), 1),\n",
       " (array([ 1.125, -0.975]), 2),\n",
       " (array([-2.455,  0.386]), 1),\n",
       " (array([ 1.351, -1.547]), 2),\n",
       " (array([-3.577,  1.678]), 0),\n",
       " (array([ 0.833, -0.124]), 2),\n",
       " (array([-4.398,  2.348]), 0),\n",
       " (array([-3.065,  0.911]), 1),\n",
       " (array([ 1.573, -1.601]), 2),\n",
       " (array([-0.905,  0.512]), 1),\n",
       " (array([-3.432,  3.232]), 0),\n",
       " (array([ 1.793, -1.328]), 2),\n",
       " (array([ 0.895, -0.614]), 2),\n",
       " (array([0.581, 0.012]), 2),\n",
       " (array([-1.122,  0.473]), 1),\n",
       " (array([ 0.403, -0.415]), 2),\n",
       " (array([-3.432,  1.688]), 0),\n",
       " (array([-2.457,  0.148]), 1),\n",
       " (array([-3.701,  1.104]), 1),\n",
       " (array([-2.019, -0.607]), 1),\n",
       " (array([ 1.555, -1.241]), 2),\n",
       " (array([-3.376,  3.632]), 0),\n",
       " (array([ 1.036, -0.392]), 2),\n",
       " (array([ 1.261, -1.222]), 2),\n",
       " (array([-2.979,  3.108]), 0),\n",
       " (array([-0.409,  1.337]), 1),\n",
       " (array([-3.606,  3.296]), 0),\n",
       " (array([-3.032,  3.184]), 0),\n",
       " (array([-0.071,  0.647]), 2),\n",
       " (array([-2.693,  2.052]), 0),\n",
       " (array([-1.983,  1.52 ]), 1),\n",
       " (array([-2.343,  2.071]), 0),\n",
       " (array([-2.505, -0.039]), 1),\n",
       " (array([-1.98 ,  1.472]), 1),\n",
       " (array([-1.685,  1.077]), 1),\n",
       " (array([ 1.274, -1.421]), 2),\n",
       " (array([ 1.309, -0.899]), 2),\n",
       " (array([ 0.878, -0.824]), 2),\n",
       " (array([-2.683,  0.131]), 1),\n",
       " (array([ 0.945, -1.156]), 2),\n",
       " (array([-3.3 ,  0.93]), 1),\n",
       " (array([-2.79 ,  0.797]), 1),\n",
       " (array([-2.721,  2.502]), 0),\n",
       " (array([-2.067,  0.437]), 1),\n",
       " (array([-3.656,  1.961]), 0),\n",
       " (array([-2.285,  2.415]), 0),\n",
       " (array([-2.505,  2.259]), 0),\n",
       " (array([-4.811,  3.038]), 0),\n",
       " (array([ 2.016, -2.028]), 2),\n",
       " (array([-1.846, -0.016]), 1),\n",
       " (array([-0.091,  0.495]), 2),\n",
       " (array([-4.115,  2.32 ]), 0),\n",
       " (array([ 1.095, -1.523]), 2),\n",
       " (array([ 0.127, -0.068]), 2),\n",
       " (array([ 1.56 , -1.228]), 2),\n",
       " (array([ 1.496, -1.108]), 2),\n",
       " (array([ 1.261, -1.405]), 2),\n",
       " (array([-5.241,  3.576]), 0),\n",
       " (array([ 1.601, -1.498]), 2),\n",
       " (array([ 0.661, -0.225]), 2),\n",
       " (array([-2.684,  0.088]), 1),\n",
       " (array([-1.953, -0.823]), 1),\n",
       " (array([-2.24,  1.79]), 1),\n",
       " (array([-3.404,  1.569]), 1),\n",
       " (array([ 0.545, -0.124]), 2),\n",
       " (array([-3.255,  3.533]), 0),\n",
       " (array([ 0.695, -0.462]), 2),\n",
       " (array([-3.265,  3.362]), 0),\n",
       " (array([-2.723,  0.294]), 1),\n",
       " (array([-2.495,  0.486]), 1),\n",
       " (array([-3.486,  0.464]), 1),\n",
       " (array([ 1.503, -1.89 ]), 2),\n",
       " (array([-3.209,  1.288]), 1),\n",
       " (array([-1.997,  2.268]), 0),\n",
       " (array([ 0.362, -0.106]), 2),\n",
       " (array([-2.743,  0.303]), 1),\n",
       " (array([-2.48,  0.36]), 1),\n",
       " (array([-4.468,  2.449]), 0),\n",
       " (array([-3.765,  1.271]), 1),\n",
       " (array([-2.871,  0.621]), 1),\n",
       " (array([-1.856,  1.51 ]), 1),\n",
       " (array([-1.863,  1.577]), 1),\n",
       " (array([-4.424,  2.757]), 0),\n",
       " (array([-3.125,  1.207]), 1),\n",
       " (array([-2.82 ,  3.133]), 0),\n",
       " (array([-3.153,  1.432]), 1),\n",
       " (array([-2.345,  2.292]), 0),\n",
       " (array([ 1.404, -1.055]), 2),\n",
       " (array([-4.052,  2.369]), 0),\n",
       " (array([-2.016,  1.825]), 1),\n",
       " (array([-1.661,  0.969]), 1),\n",
       " (array([-0.102,  0.858]), 2),\n",
       " (array([-0.266,  1.277]), 1),\n",
       " (array([0.15 , 0.742]), 2),\n",
       " (array([-3.332,  1.691]), 0),\n",
       " (array([-3.22 ,  0.925]), 1),\n",
       " (array([ 0.497, -0.181]), 2),\n",
       " (array([-3.713,  3.865]), 0),\n",
       " (array([-3.548,  3.378]), 0),\n",
       " (array([ 1.46 , -0.795]), 2),\n",
       " (array([-2.939,  3.2  ]), 0),\n",
       " (array([ 0.82 , -0.558]), 2),\n",
       " (array([-2.816,  0.315]), 1),\n",
       " (array([-3.467,  3.955]), 0),\n",
       " (array([ 1.025, -1.276]), 2),\n",
       " (array([-3.357,  1.348]), 1),\n",
       " (array([-2.227,  2.25 ]), 0),\n",
       " (array([-2.793,  1.198]), 1),\n",
       " (array([-3.566,  1.402]), 1),\n",
       " (array([-2.237,  0.293]), 1),\n",
       " (array([ 1.583, -1.449]), 2),\n",
       " (array([ 0.561, -0.386]), 2),\n",
       " (array([-2.697,  3.138]), 0),\n",
       " (array([-1.54 ,  1.125]), 1),\n",
       " (array([-2.887,  0.667]), 1),\n",
       " (array([ 0.924, -0.853]), 2),\n",
       " (array([-2.626,  0.318]), 1),\n",
       " (array([-1.731,  1.296]), 1),\n",
       " (array([-3.574,  1.801]), 0),\n",
       " (array([-3.363,  1.08 ]), 1),\n",
       " (array([-3.592,  1.801]), 0),\n",
       " (array([-2.652,  2.406]), 0),\n",
       " (array([-2.719,  0.301]), 1),\n",
       " (array([-3.858,  1.684]), 0),\n",
       " (array([ 0.092, -0.019]), 2),\n",
       " (array([ 1.467, -1.505]), 2),\n",
       " (array([ 1.929, -2.222]), 2),\n",
       " (array([-3.178,  3.593]), 0),\n",
       " (array([ 1.414, -1.462]), 2),\n",
       " (array([ 0.308, -0.39 ]), 2),\n",
       " (array([-2.961,  3.385]), 0),\n",
       " (array([-2.571,  0.227]), 1),\n",
       " (array([-3.558,  3.493]), 0),\n",
       " (array([-2.337,  2.644]), 0),\n",
       " (array([-0.003,  0.332]), 2),\n",
       " (array([-3.149,  3.444]), 0),\n",
       " (array([ 1.726, -1.545]), 2),\n",
       " (array([-3.946,  1.242]), 1),\n",
       " (array([ 0.981, -1.278]), 2),\n",
       " (array([-0.11 ,  0.022]), 2),\n",
       " (array([-3.311,  0.528]), 1),\n",
       " (array([-1.857,  1.671]), 1),\n",
       " (array([-3.51,  0.9 ]), 1),\n",
       " (array([ 0.775, -0.862]), 2),\n",
       " (array([-3.172,  3.215]), 0),\n",
       " (array([-4.231,  1.553]), 0),\n",
       " (array([-3.681,  1.573]), 0),\n",
       " (array([ 1.136, -0.966]), 2),\n",
       " (array([-3.865,  3.966]), 0),\n",
       " (array([-3.09 ,  0.791]), 1),\n",
       " (array([-3.109,  1.138]), 1),\n",
       " (array([ 1.164, -0.803]), 2),\n",
       " (array([-4.065,  1.831]), 0),\n",
       " (array([ 0.362, -0.072]), 2),\n",
       " (array([ 0.984, -0.784]), 2),\n",
       " (array([-3.361,  3.607]), 0),\n",
       " (array([-1.503,  1.287]), 1),\n",
       " (array([ 1.898, -2.019]), 2),\n",
       " (array([-2.502,  0.586]), 1),\n",
       " (array([ 2.118, -1.995]), 2),\n",
       " (array([ 0.941, -0.65 ]), 2),\n",
       " (array([-2.225,  2.563]), 0),\n",
       " (array([-2.555,  0.634]), 1),\n",
       " (array([ 1.476, -0.572]), 2),\n",
       " (array([-3.02 ,  0.958]), 1),\n",
       " (array([ 0.746, -0.285]), 2),\n",
       " (array([-2.195,  2.199]), 0),\n",
       " (array([-3.554,  0.937]), 1),\n",
       " (array([-3.488,  4.276]), 0),\n",
       " (array([-2.416,  1.906]), 1),\n",
       " (array([ 2.011, -2.152]), 2),\n",
       " (array([ 2.578, -2.885]), 2),\n",
       " (array([-2.501,  1.792]), 1),\n",
       " (array([-2.995,  1.151]), 1),\n",
       " (array([-1.521,  1.002]), 1),\n",
       " (array([-3.651,  4.648]), 0),\n",
       " (array([-1.933,  1.563]), 1),\n",
       " (array([-2.811,  2.9  ]), 0),\n",
       " (array([ 0.924, -0.858]), 2),\n",
       " (array([-4.975,  3.341]), 0),\n",
       " (array([-2.018, -0.36 ]), 1),\n",
       " (array([ 2.017, -2.327]), 2),\n",
       " (array([ 0.943, -1.391]), 2),\n",
       " (array([-3.722,  3.887]), 0),\n",
       " (array([-3.035,  0.683]), 1),\n",
       " (array([ 2.375, -3.072]), 2),\n",
       " (array([-3.341,  0.942]), 1),\n",
       " (array([-1.925,  1.872]), 1),\n",
       " (array([-4.029,  2.321]), 0),\n",
       " (array([-2.536,  2.117]), 0),\n",
       " (array([-2.233,  2.187]), 0),\n",
       " (array([-2.864,  0.494]), 1),\n",
       " (array([-2.602, -0.164]), 1),\n",
       " (array([-3.204,  3.193]), 0),\n",
       " (array([-0.216,  0.634]), 2),\n",
       " (array([ 1.625, -1.792]), 2),\n",
       " (array([-2.25 , -0.378]), 1),\n",
       " (array([-2.817,  2.886]), 0),\n",
       " (array([-4.339,  2.944]), 0),\n",
       " (array([-3.355,  1.556]), 1),\n",
       " (array([-3.192,  3.136]), 0),\n",
       " (array([-3.174,  3.316]), 0),\n",
       " (array([ 1.219, -1.403]), 2),\n",
       " (array([-1.895,  1.769]), 1),\n",
       " (array([-2.926,  0.64 ]), 1),\n",
       " (array([-3.691,  1.852]), 0),\n",
       " (array([ 1.899, -1.957]), 2),\n",
       " (array([-3.225,  0.615]), 1),\n",
       " (array([-3.786,  1.652]), 0),\n",
       " (array([-2.032,  1.577]), 1),\n",
       " (array([-3.679,  1.744]), 0),\n",
       " (array([0.331, 0.274]), 2),\n",
       " (array([-1.547,  1.216]), 1),\n",
       " (array([0.411, 0.235]), 2),\n",
       " (array([-3.154,  1.17 ]), 1),\n",
       " (array([-3.452,  1.78 ]), 0),\n",
       " (array([-3.168,  3.367]), 0),\n",
       " (array([-3.573,  2.019]), 0),\n",
       " (array([-2.138,  2.233]), 0),\n",
       " (array([-2.737,  2.513]), 0),\n",
       " (array([ 1.337, -1.681]), 2),\n",
       " (array([-3.078,  0.381]), 1),\n",
       " (array([ 1.786, -1.457]), 2),\n",
       " (array([-3.273,  3.239]), 0),\n",
       " (array([-3.612,  2.107]), 0),\n",
       " (array([-2.649,  0.883]), 1),\n",
       " (array([ 1.684, -1.776]), 2),\n",
       " (array([-2.157,  2.313]), 0),\n",
       " (array([ 1.169, -1.128]), 2),\n",
       " (array([-3.031,  0.379]), 1),\n",
       " (array([ 0.921, -1.195]), 2),\n",
       " (array([-2.759,  2.478]), 0),\n",
       " (array([-3.333,  1.285]), 1),\n",
       " (array([-3.181,  0.98 ]), 1),\n",
       " (array([ 0.832, -1.073]), 2),\n",
       " (array([-2.926,  0.797]), 1),\n",
       " (array([-3.362,  2.149]), 0),\n",
       " (array([ 1.762, -1.379]), 2),\n",
       " (array([-4.31 ,  2.735]), 0),\n",
       " (array([-2.76 ,  2.524]), 0),\n",
       " (array([-2.751,  0.471]), 1),\n",
       " (array([-2.367,  2.007]), 1),\n",
       " (array([-4.472,  2.337]), 0),\n",
       " (array([-2.806,  2.517]), 0),\n",
       " (array([-3.391,  3.246]), 0),\n",
       " (array([-3.207,  1.162]), 1),\n",
       " (array([-1.814, -0.493]), 1),\n",
       " (array([ 1.369, -1.686]), 2),\n",
       " (array([-1.085,  1.762]), 1),\n",
       " (array([0.067, 0.642]), 2),\n",
       " (array([-3.928,  4.533]), 0),\n",
       " (array([0.354, 0.298]), 2),\n",
       " (array([-2.219,  2.188]), 0),\n",
       " (array([-2.314,  2.555]), 0),\n",
       " (array([-2.807,  0.708]), 1),\n",
       " (array([ 1.168, -0.773]), 2),\n",
       " (array([-3.072,  0.71 ]), 1),\n",
       " (array([ 1.038, -0.643]), 2),\n",
       " (array([ 0.657, -0.397]), 2),\n",
       " (array([-3.359,  3.053]), 0),\n",
       " (array([-2.295,  0.049]), 1),\n",
       " (array([-3.688,  1.36 ]), 1),\n",
       " (array([-3.132,  2.613]), 0),\n",
       " (array([-4.867,  3.181]), 0),\n",
       " (array([-1.853,  1.504]), 1),\n",
       " (array([-2.474,  2.046]), 0),\n",
       " (array([-2.839,  0.391]), 1),\n",
       " (array([-3.102,  3.174]), 0),\n",
       " (array([-2.969,  2.939]), 0),\n",
       " (array([ 1.644, -2.259]), 2),\n",
       " (array([-3.831,  4.345]), 0),\n",
       " (array([-3.449,  3.797]), 0),\n",
       " (array([-3.413,  0.98 ]), 1),\n",
       " (array([-3.666,  1.598]), 0),\n",
       " (array([-2.426, -0.265]), 1),\n",
       " (array([-1.919,  1.528]), 1),\n",
       " (array([-2.966,  0.549]), 1),\n",
       " (array([-4.702,  3.185]), 0),\n",
       " (array([ 0.936, -0.659]), 2),\n",
       " (array([ 1.522, -1.991]), 2),\n",
       " (array([-2.69 ,  0.678]), 1),\n",
       " (array([ 0.974, -0.874]), 2),\n",
       " (array([-3.574,  3.214]), 0),\n",
       " (array([-1.533, -0.969]), 1),\n",
       " (array([-3.052,  3.657]), 0),\n",
       " (array([-3.879,  2.122]), 0),\n",
       " (array([-2.618,  0.234]), 1),\n",
       " (array([-2.087, -0.714]), 1),\n",
       " (array([ 1.552, -1.687]), 2),\n",
       " (array([ 0.733, -0.616]), 2),\n",
       " (array([ 0.458, -0.47 ]), 2),\n",
       " (array([-2.807,  2.628]), 0),\n",
       " (array([ 0.433, -0.231]), 2),\n",
       " (array([-2.547,  0.237]), 1),\n",
       " (array([ 2.206, -2.888]), 2),\n",
       " (array([-4.125,  1.59 ]), 0),\n",
       " (array([-3.312,  3.088]), 0),\n",
       " (array([ 1.017, -0.806]), 2),\n",
       " (array([-1.938, -0.741]), 1),\n",
       " (array([-3.646,  3.453]), 0),\n",
       " (array([-3.474,  3.696]), 0),\n",
       " (array([-3.805,  4.619]), 0),\n",
       " (array([ 0.704, -0.329]), 2),\n",
       " (array([ 0.767, -0.623]), 2),\n",
       " (array([-3.048,  3.165]), 0),\n",
       " (array([-2.415,  0.278]), 1),\n",
       " (array([-4.334,  4.785]), 0),\n",
       " (array([-2.732,  0.256]), 1),\n",
       " (array([-2.557,  0.102]), 1),\n",
       " (array([-1.907,  2.057]), 1),\n",
       " (array([-4.206,  2.413]), 0),\n",
       " (array([-4.733,  2.831]), 0),\n",
       " (array([-2.543,  2.607]), 0),\n",
       " (array([ 1.096, -0.55 ]), 2),\n",
       " (array([-3.039,  0.394]), 1),\n",
       " (array([-2.584, -0.081]), 1),\n",
       " (array([ 0.673, -0.488]), 2),\n",
       " (array([0.34 , 0.019]), 2),\n",
       " (array([-0.049,  0.372]), 2),\n",
       " (array([-1.707, -0.76 ]), 1),\n",
       " (array([-3.251,  3.908]), 0),\n",
       " (array([ 1.495, -1.611]), 2),\n",
       " (array([-2.884,  2.225]), 0),\n",
       " (array([ 0.855, -0.704]), 2),\n",
       " (array([ 2.403, -2.599]), 2),\n",
       " (array([-3.189,  1.149]), 1),\n",
       " (array([-0.351,  0.913]), 1),\n",
       " (array([-4.672,  3.162]), 0),\n",
       " (array([-2.924,  2.673]), 0),\n",
       " (array([-2.883,  2.594]), 0),\n",
       " (array([-4.01 ,  4.599]), 0),\n",
       " (array([-5.701,  4.472]), 0),\n",
       " (array([-3.309,  3.848]), 0),\n",
       " (array([-3.847,  3.755]), 0),\n",
       " (array([-3.897,  1.971]), 0),\n",
       " (array([-3.19 ,  3.787]), 0),\n",
       " (array([-3.118,  0.551]), 1),\n",
       " (array([ 1.43 , -1.541]), 2),\n",
       " (array([-2.599,  0.021]), 1),\n",
       " (array([ 1.202, -1.197]), 2),\n",
       " (array([-1.62 ,  1.364]), 1),\n",
       " (array([ 0.747, -0.438]), 2),\n",
       " (array([ 1.503, -1.486]), 2),\n",
       " (array([-3.358,  0.836]), 1),\n",
       " (array([-4.296,  2.733]), 0),\n",
       " (array([-3.094,  1.179]), 1),\n",
       " (array([-2.806,  0.902]), 1),\n",
       " (array([-3.546,  1.289]), 1),\n",
       " (array([-3.867,  1.679]), 0),\n",
       " (array([-2.116,  1.785]), 1),\n",
       " (array([-3.078,  3.2  ]), 0),\n",
       " (array([-3.562,  0.92 ]), 1),\n",
       " (array([ 1.35 , -0.456]), 2),\n",
       " (array([0.111, 0.466]), 2),\n",
       " (array([-2.913,  3.066]), 0),\n",
       " (array([-3.564,  0.917]), 1),\n",
       " (array([-2.78 ,  2.327]), 0),\n",
       " (array([-2.706,  2.652]), 0),\n",
       " (array([-2.763,  2.755]), 0),\n",
       " (array([-0.508,  1.537]), 1),\n",
       " (array([-2.58 ,  0.661]), 1)]"
      ]
     },
     "execution_count": 37,
     "metadata": {
      "tags": []
     },
     "output_type": "execute_result"
    }
   ],
   "source": [
    "label"
   ]
  },
  {
   "cell_type": "code",
   "execution_count": 38,
   "metadata": {
    "colab": {
     "base_uri": "https://localhost:8080/"
    },
    "executionInfo": {
     "elapsed": 21177,
     "status": "ok",
     "timestamp": 1617130444770,
     "user": {
      "displayName": "Sughandhan S",
      "photoUrl": "https://lh3.googleusercontent.com/a-/AOh14GgCzJgz5tDGcNqn108PikDmo9i8xVBqBE7WCrGurg=s64",
      "userId": "16893705064560269479"
     },
     "user_tz": -330
    },
    "id": "YHJRIB1z78Ff",
    "outputId": "86816822-c3df-47f0-b877-72fdaa1f828d"
   },
   "outputs": [
    {
     "data": {
      "text/plain": [
       "[5834.674847828413,\n",
       " 1888.9535125973907,\n",
       " 1596.0395968614412,\n",
       " 1571.9136649389366,\n",
       " 1553.6156973435607,\n",
       " 1541.7611477156574,\n",
       " 1529.5002738123671,\n",
       " 1508.298990390073,\n",
       " 1473.8753119481478,\n",
       " 1421.2466438103663,\n",
       " 1345.3287747032502,\n",
       " 1250.4056201533754,\n",
       " 1188.5026444159994,\n",
       " 1141.5406173751257,\n",
       " 1123.423819433473,\n",
       " 1118.3043196349822,\n",
       " 1116.690839158535,\n",
       " 1116.370538107828,\n",
       " 1116.2491949940656,\n",
       " 1116.2193177711727]"
      ]
     },
     "execution_count": 38,
     "metadata": {
      "tags": []
     },
     "output_type": "execute_result"
    }
   ],
   "source": [
    "sse"
   ]
  },
  {
   "cell_type": "code",
   "execution_count": 39,
   "metadata": {
    "colab": {
     "base_uri": "https://localhost:8080/"
    },
    "executionInfo": {
     "elapsed": 21172,
     "status": "ok",
     "timestamp": 1617130444770,
     "user": {
      "displayName": "Sughandhan S",
      "photoUrl": "https://lh3.googleusercontent.com/a-/AOh14GgCzJgz5tDGcNqn108PikDmo9i8xVBqBE7WCrGurg=s64",
      "userId": "16893705064560269479"
     },
     "user_tz": -330
    },
    "id": "Ul-nTrYJJN6T",
    "outputId": "8270c017-1e6e-4089-d7f5-607742ad2bff"
   },
   "outputs": [
    {
     "data": {
      "text/plain": [
       "20"
      ]
     },
     "execution_count": 39,
     "metadata": {
      "tags": []
     },
     "output_type": "execute_result"
    }
   ],
   "source": [
    "len(sse)"
   ]
  },
  {
   "cell_type": "code",
   "execution_count": 40,
   "metadata": {
    "colab": {
     "base_uri": "https://localhost:8080/"
    },
    "executionInfo": {
     "elapsed": 21167,
     "status": "ok",
     "timestamp": 1617130444771,
     "user": {
      "displayName": "Sughandhan S",
      "photoUrl": "https://lh3.googleusercontent.com/a-/AOh14GgCzJgz5tDGcNqn108PikDmo9i8xVBqBE7WCrGurg=s64",
      "userId": "16893705064560269479"
     },
     "user_tz": -330
    },
    "id": "EKc70MInP5ph",
    "outputId": "7ff9ab29-4737-4bef-b2d0-6c7cd62ae081"
   },
   "outputs": [
    {
     "data": {
      "text/plain": [
       "3"
      ]
     },
     "execution_count": 40,
     "metadata": {
      "tags": []
     },
     "output_type": "execute_result"
    }
   ],
   "source": [
    "len(c_distance)"
   ]
  },
  {
   "cell_type": "code",
   "execution_count": 41,
   "metadata": {
    "colab": {
     "base_uri": "https://localhost:8080/"
    },
    "executionInfo": {
     "elapsed": 21161,
     "status": "ok",
     "timestamp": 1617130444771,
     "user": {
      "displayName": "Sughandhan S",
      "photoUrl": "https://lh3.googleusercontent.com/a-/AOh14GgCzJgz5tDGcNqn108PikDmo9i8xVBqBE7WCrGurg=s64",
      "userId": "16893705064560269479"
     },
     "user_tz": -330
    },
    "id": "380eNzXzQn_K",
    "outputId": "15594f65-d857-4332-cfcb-af1203dbf51a"
   },
   "outputs": [
    {
     "name": "stdout",
     "output_type": "stream",
     "text": [
      "[-3.195  0.463]\n",
      "[-3.171  0.789]\n",
      "[-2.409  1.907]\n",
      "[-3.04  0.94]\n",
      "[-2.077  2.14 ]\n",
      "[-2.777 -0.24 ]\n",
      "[-2.438  0.482]\n",
      "[-2.909  0.591]\n",
      "[-2.005  1.677]\n",
      "[-2.989  0.915]\n",
      "[-2.215 -0.33 ]\n",
      "[-3.459  1.627]\n",
      "[-1.688 -1.532]\n",
      "[-1.975  1.874]\n",
      "[-2.095 -0.324]\n",
      "[-2.289 -0.425]\n",
      "[-1.592 -1.379]\n",
      "[-2.247  1.834]\n",
      "[-1.907  1.825]\n",
      "[-3.245  1.697]\n",
      "[-3.302  1.029]\n",
      "[-3.427  0.925]\n",
      "[-1.626  1.02 ]\n",
      "[-1.363  0.741]\n",
      "[-2.109  1.676]\n",
      "[-0.718  1.789]\n",
      "[-2.844  0.053]\n",
      "[-2.039  1.83 ]\n",
      "[-1.855  1.597]\n",
      "[-1.771  1.308]\n",
      "[-1.15   1.072]\n",
      "[-3.332  1.429]\n",
      "[-2.273  1.885]\n",
      "[-3.353  0.807]\n",
      "[-2.631  0.267]\n",
      "[-1.547  1.587]\n",
      "[-0.942  0.961]\n",
      "[-3.31   1.175]\n",
      "[-2.666 -0.128]\n",
      "[-3.756  1.332]\n",
      "[-2.875  0.55 ]\n",
      "[-2.348 -0.116]\n",
      "[-2.554 -0.184]\n",
      "[-3.42   1.361]\n",
      "[-2.964  0.772]\n",
      "[-3.097  0.813]\n",
      "[-2.091 -0.972]\n",
      "[-3.132  0.84 ]\n",
      "[-2.172  1.606]\n",
      "[-3.436  1.278]\n",
      "[-1.502  1.249]\n",
      "[-1.761 -0.388]\n",
      "[-2.856  0.158]\n",
      "[-2.384  0.112]\n",
      "[-2.284  1.902]\n",
      "[-0.598  1.231]\n",
      "[-3.437  1.607]\n",
      "[-2.237  0.389]\n",
      "[-3.122  1.099]\n",
      "[-1.03   0.434]\n",
      "[-2.409 -0.218]\n",
      "[-2.197 -0.754]\n",
      "[-3.566  1.217]\n",
      "[-1.79  -1.548]\n",
      "[-2.087 -0.609]\n",
      "[-0.769  2.105]\n",
      "[-2.734 -0.139]\n",
      "[-2.811  0.493]\n",
      "[-0.98   0.837]\n",
      "[-3.317  0.886]\n",
      "[-2.342  0.043]\n",
      "[-2.16   1.924]\n",
      "[-2.988  1.173]\n",
      "[-3.301  1.57 ]\n",
      "[-3.484  0.84 ]\n",
      "[-1.469  0.916]\n",
      "[-1.786  1.398]\n",
      "[-2.263  2.059]\n",
      "[-2.491  0.492]\n",
      "[-2.967  1.1  ]\n",
      "[-3.264  0.973]\n",
      "[-3.345  1.159]\n",
      "[-3.504  1.403]\n",
      "[-2.172 -0.361]\n",
      "[-1.295  1.053]\n",
      "[-1.957  1.978]\n",
      "[-2.333 -0.417]\n",
      "[-2.519 -0.361]\n",
      "[-2.316 -0.191]\n",
      "[-2.433 -0.7  ]\n",
      "[-3.477  1.513]\n",
      "[-1.758 -0.921]\n",
      "[-2.128  1.87 ]\n",
      "[-0.826  2.137]\n",
      "[-2.01   1.472]\n",
      "[-1.922  1.839]\n",
      "[-3.387  1.341]\n",
      "[-2.818  0.601]\n",
      "[-2.134  2.047]\n",
      "[-2.957  1.151]\n",
      "[-1.795  1.491]\n",
      "[-2.883  0.505]\n",
      "[-3.099  1.028]\n",
      "[-2.902  0.375]\n",
      "[-2.473  0.524]\n",
      "[-1.626  1.431]\n",
      "[-3.047  0.813]\n",
      "[-2.61   0.384]\n",
      "[-2.744  1.098]\n",
      "[-3.342  0.892]\n",
      "[-3.62   1.261]\n",
      "[-2.26  -0.629]\n",
      "[-3.327  1.017]\n",
      "[-3.16   0.803]\n",
      "[-1.579 -1.233]\n",
      "[-2.319  2.017]\n",
      "[-3.423  1.378]\n",
      "[-2.684  0.607]\n",
      "[-3.732  1.249]\n",
      "[-2.637  0.876]\n",
      "[-3.079  1.2  ]\n",
      "[-2.03   1.739]\n",
      "[-3.529  1.5  ]\n",
      "[-2.42 -0.44]\n",
      "[-3.135  0.485]\n",
      "[-3.119  1.105]\n",
      "[-1.713  1.533]\n",
      "[-2.937  0.986]\n",
      "[-0.59   0.838]\n",
      "[-3.005  0.489]\n",
      "[-2.995  0.462]\n",
      "[-2.073  1.057]\n",
      "[-2.332  0.095]\n",
      "[-3.341  1.283]\n",
      "[-3.476  1.556]\n",
      "[-2.801  0.378]\n",
      "[-2.394  1.954]\n",
      "[-1.886 -0.52 ]\n",
      "[-3.553  1.132]\n",
      "[-1.951  2.126]\n",
      "[-2.239  1.349]\n",
      "[-3.338  1.276]\n",
      "[-2.744  0.545]\n",
      "[-2.87   0.836]\n",
      "[-3.36   1.358]\n",
      "[-3.327  1.392]\n",
      "[-2.176 -0.078]\n",
      "[-1.81   1.505]\n",
      "[-2.247 -0.246]\n",
      "[-1.565  1.148]\n",
      "[-2.074  0.77 ]\n",
      "[-1.753  1.728]\n",
      "[-2.486 -0.046]\n",
      "[-3.316  0.656]\n",
      "[-2.522 -0.582]\n",
      "[-1.999  1.462]\n",
      "[-2.867  0.251]\n",
      "[-3.572  1.168]\n",
      "[-3.335  1.242]\n",
      "[-3.017  0.363]\n",
      "[-1.842 -0.448]\n",
      "[-2.435 -0.226]\n",
      "[-2.177  2.064]\n",
      "[-3.053  0.791]\n",
      "[-3.375  1.254]\n",
      "[-1.574  1.439]\n",
      "[-3.215  1.296]\n",
      "[-3.405  1.205]\n",
      "[-1.313  0.85 ]\n",
      "[-1.83  -0.766]\n",
      "[-3.497  1.508]\n",
      "[-2.642  0.405]\n",
      "[-2.655  0.517]\n",
      "[-2.89   0.464]\n",
      "[-2.559  0.067]\n",
      "[-3.247  0.885]\n",
      "[-2.529  0.257]\n",
      "[-1.878  1.661]\n",
      "[-2.516  0.453]\n",
      "[-1.722  1.165]\n",
      "[-2.807  0.455]\n",
      "[-2.747  0.476]\n",
      "[-2.171  2.037]\n",
      "[-2.411  1.382]\n",
      "[-2.114  1.93 ]\n",
      "[-2.596  0.156]\n",
      "[-2.405  0.275]\n",
      "[-3.354  1.247]\n",
      "[-2.051  1.893]\n",
      "[-2.904  0.515]\n",
      "[-2.552  0.127]\n",
      "[-2.496  0.525]\n",
      "[-1.619 -1.289]\n",
      "[-3.386  1.534]\n",
      "[-3.013  1.41 ]\n",
      "[-2.591  0.405]\n",
      "[-3.315  1.436]\n",
      "[-2.697  0.108]\n",
      "[-3.32   1.063]\n",
      "[-1.785 -0.286]\n",
      "[-3.321  0.829]\n",
      "[-2.058 -0.465]\n",
      "[-2.02   1.735]\n",
      "[-2.048 -0.738]\n",
      "[-3.297  1.415]\n",
      "[-1.958 -1.142]\n",
      "[-3.227  0.727]\n",
      "[-1.314  1.037]\n",
      "[-2.455  0.386]\n",
      "[-3.065  0.911]\n",
      "[-0.905  0.512]\n",
      "[-1.122  0.473]\n",
      "[-2.457  0.148]\n",
      "[-3.701  1.104]\n",
      "[-2.019 -0.607]\n",
      "[-0.409  1.337]\n",
      "[-1.983  1.52 ]\n",
      "[-2.505 -0.039]\n",
      "[-1.98   1.472]\n",
      "[-1.685  1.077]\n",
      "[-2.683  0.131]\n",
      "[-3.3   0.93]\n",
      "[-2.79   0.797]\n",
      "[-2.067  0.437]\n",
      "[-1.846 -0.016]\n",
      "[-2.684  0.088]\n",
      "[-1.953 -0.823]\n",
      "[-2.24  1.79]\n",
      "[-3.404  1.569]\n",
      "[-2.723  0.294]\n",
      "[-2.495  0.486]\n",
      "[-3.486  0.464]\n",
      "[-3.209  1.288]\n",
      "[-2.743  0.303]\n",
      "[-2.48  0.36]\n",
      "[-3.765  1.271]\n",
      "[-2.871  0.621]\n",
      "[-1.856  1.51 ]\n",
      "[-1.863  1.577]\n",
      "[-3.125  1.207]\n",
      "[-3.153  1.432]\n",
      "[-2.016  1.825]\n",
      "[-1.661  0.969]\n",
      "[-0.266  1.277]\n",
      "[-3.22   0.925]\n",
      "[-2.816  0.315]\n",
      "[-3.357  1.348]\n",
      "[-2.793  1.198]\n",
      "[-3.566  1.402]\n",
      "[-2.237  0.293]\n",
      "[-1.54   1.125]\n",
      "[-2.887  0.667]\n",
      "[-2.626  0.318]\n",
      "[-1.731  1.296]\n",
      "[-3.363  1.08 ]\n",
      "[-2.719  0.301]\n",
      "[-2.571  0.227]\n",
      "[-3.946  1.242]\n",
      "[-3.311  0.528]\n",
      "[-1.857  1.671]\n",
      "[-3.51  0.9 ]\n",
      "[-3.09   0.791]\n",
      "[-3.109  1.138]\n",
      "[-1.503  1.287]\n",
      "[-2.502  0.586]\n",
      "[-2.555  0.634]\n",
      "[-3.02   0.958]\n",
      "[-3.554  0.937]\n",
      "[-2.416  1.906]\n",
      "[-2.501  1.792]\n",
      "[-2.995  1.151]\n",
      "[-1.521  1.002]\n",
      "[-1.933  1.563]\n",
      "[-2.018 -0.36 ]\n",
      "[-3.035  0.683]\n",
      "[-3.341  0.942]\n",
      "[-1.925  1.872]\n",
      "[-2.864  0.494]\n",
      "[-2.602 -0.164]\n",
      "[-2.25  -0.378]\n",
      "[-3.355  1.556]\n",
      "[-1.895  1.769]\n",
      "[-2.926  0.64 ]\n",
      "[-3.225  0.615]\n",
      "[-2.032  1.577]\n",
      "[-1.547  1.216]\n",
      "[-3.154  1.17 ]\n",
      "[-3.078  0.381]\n",
      "[-2.649  0.883]\n",
      "[-3.031  0.379]\n",
      "[-3.333  1.285]\n",
      "[-3.181  0.98 ]\n",
      "[-2.926  0.797]\n",
      "[-2.751  0.471]\n",
      "[-2.367  2.007]\n",
      "[-3.207  1.162]\n",
      "[-1.814 -0.493]\n",
      "[-1.085  1.762]\n",
      "[-2.807  0.708]\n",
      "[-3.072  0.71 ]\n",
      "[-2.295  0.049]\n",
      "[-3.688  1.36 ]\n",
      "[-1.853  1.504]\n",
      "[-2.839  0.391]\n",
      "[-3.413  0.98 ]\n",
      "[-2.426 -0.265]\n",
      "[-1.919  1.528]\n",
      "[-2.966  0.549]\n",
      "[-2.69   0.678]\n",
      "[-1.533 -0.969]\n",
      "[-2.618  0.234]\n",
      "[-2.087 -0.714]\n",
      "[-2.547  0.237]\n",
      "[-1.938 -0.741]\n",
      "[-2.415  0.278]\n",
      "[-2.732  0.256]\n",
      "[-2.557  0.102]\n",
      "[-1.907  2.057]\n",
      "[-3.039  0.394]\n",
      "[-2.584 -0.081]\n",
      "[-1.707 -0.76 ]\n",
      "[-3.189  1.149]\n",
      "[-0.351  0.913]\n",
      "[-3.118  0.551]\n",
      "[-2.599  0.021]\n",
      "[-1.62   1.364]\n",
      "[-3.358  0.836]\n",
      "[-3.094  1.179]\n",
      "[-2.806  0.902]\n",
      "[-3.546  1.289]\n",
      "[-2.116  1.785]\n",
      "[-3.562  0.92 ]\n",
      "[-3.564  0.917]\n",
      "[-0.508  1.537]\n",
      "[-2.58   0.661]\n"
     ]
    }
   ],
   "source": [
    "for x in c_distance[1]:\n",
    "  print(x)"
   ]
  },
  {
   "cell_type": "code",
   "execution_count": 42,
   "metadata": {
    "colab": {
     "base_uri": "https://localhost:8080/"
    },
    "executionInfo": {
     "elapsed": 21153,
     "status": "ok",
     "timestamp": 1617130444772,
     "user": {
      "displayName": "Sughandhan S",
      "photoUrl": "https://lh3.googleusercontent.com/a-/AOh14GgCzJgz5tDGcNqn108PikDmo9i8xVBqBE7WCrGurg=s64",
      "userId": "16893705064560269479"
     },
     "user_tz": -330
    },
    "id": "bJmjB7C-QVme",
    "outputId": "e2dee36c-1417-46ee-e3fc-80f4e81e0663"
   },
   "outputs": [
    {
     "data": {
      "text/plain": [
       "array([[ 1.437e+00, -1.386e+00],\n",
       "       [ 1.010e+00, -1.000e+00],\n",
       "       [ 4.640e-01,  1.870e-01],\n",
       "       [ 2.050e-01,  2.040e-01],\n",
       "       [ 2.840e-01,  7.000e-02],\n",
       "       [ 1.318e+00, -1.421e+00],\n",
       "       [-2.680e-01, -7.200e-02],\n",
       "       [ 1.167e+00, -8.890e-01],\n",
       "       [ 3.800e-02,  1.054e+00],\n",
       "       [ 1.197e+00, -1.288e+00],\n",
       "       [ 5.890e-01, -5.930e-01],\n",
       "       [ 9.140e-01, -3.830e-01],\n",
       "       [ 5.800e-01,  4.100e-02],\n",
       "       [ 1.388e+00, -1.779e+00],\n",
       "       [ 1.820e+00, -2.117e+00],\n",
       "       [ 2.273e+00, -2.879e+00],\n",
       "       [ 1.426e+00, -1.720e+00],\n",
       "       [ 4.110e-01, -1.420e-01],\n",
       "       [ 4.060e-01, -2.720e-01],\n",
       "       [ 1.265e+00, -1.470e+00],\n",
       "       [ 1.252e+00, -9.220e-01],\n",
       "       [ 2.208e+00, -2.350e+00],\n",
       "       [ 1.950e+00, -2.491e+00],\n",
       "       [ 6.840e-01, -2.190e-01],\n",
       "       [ 1.200e+00, -1.124e+00],\n",
       "       [ 5.330e-01,  4.190e-01],\n",
       "       [ 1.600e-01,  8.810e-01],\n",
       "       [ 1.965e+00, -2.639e+00],\n",
       "       [ 8.620e-01, -1.207e+00],\n",
       "       [ 3.720e-01, -4.400e-01],\n",
       "       [ 1.510e+00, -1.418e+00],\n",
       "       [ 1.526e+00, -9.780e-01],\n",
       "       [ 1.762e+00, -1.861e+00],\n",
       "       [ 8.080e-01, -2.410e-01],\n",
       "       [ 1.230e+00, -1.116e+00],\n",
       "       [ 1.324e+00, -1.500e+00],\n",
       "       [ 1.410e+00, -1.348e+00],\n",
       "       [ 2.081e+00, -2.947e+00],\n",
       "       [ 1.083e+00, -9.550e-01],\n",
       "       [ 4.050e-01,  2.610e-01],\n",
       "       [ 2.520e-01, -1.860e-01],\n",
       "       [ 2.459e+00, -2.694e+00],\n",
       "       [ 1.992e+00, -1.815e+00],\n",
       "       [ 1.770e+00, -1.671e+00],\n",
       "       [ 9.240e-01, -7.340e-01],\n",
       "       [ 1.062e+00, -9.000e-01],\n",
       "       [ 2.130e-01, -4.800e-02],\n",
       "       [ 1.870e-01,  6.610e-01],\n",
       "       [ 6.150e-01, -7.060e-01],\n",
       "       [ 1.702e+00, -1.496e+00],\n",
       "       [ 9.430e-01, -1.048e+00],\n",
       "       [ 1.763e+00, -1.131e+00],\n",
       "       [ 2.400e-01,  1.670e-01],\n",
       "       [ 1.726e+00, -1.435e+00],\n",
       "       [ 1.467e+00, -1.441e+00],\n",
       "       [ 1.226e+00, -9.660e-01],\n",
       "       [ 1.327e+00, -7.750e-01],\n",
       "       [ 6.830e-01, -3.000e-01],\n",
       "       [ 2.052e+00, -2.249e+00],\n",
       "       [ 1.687e+00, -1.239e+00],\n",
       "       [ 8.620e-01, -4.490e-01],\n",
       "       [ 2.190e-01,  3.270e-01],\n",
       "       [ 8.460e-01, -7.760e-01],\n",
       "       [ 1.696e+00, -1.987e+00],\n",
       "       [ 1.083e+00, -6.630e-01],\n",
       "       [-1.960e-01,  5.230e-01],\n",
       "       [ 2.860e-01, -1.420e-01],\n",
       "       [-4.600e-02,  7.440e-01],\n",
       "       [ 3.540e-01,  7.170e-01],\n",
       "       [ 1.238e+00, -1.457e+00],\n",
       "       [-1.000e-02,  3.610e-01],\n",
       "       [ 1.510e+00, -9.920e-01],\n",
       "       [ 2.795e+00, -3.196e+00],\n",
       "       [ 4.690e-01, -1.960e-01],\n",
       "       [ 9.330e-01, -7.850e-01],\n",
       "       [ 2.660e-01, -7.000e-03],\n",
       "       [ 8.140e-01, -2.970e-01],\n",
       "       [ 7.410e-01, -7.820e-01],\n",
       "       [ 1.890e-01,  3.100e-01],\n",
       "       [ 1.949e+00, -1.880e+00],\n",
       "       [ 1.622e+00, -1.815e+00],\n",
       "       [ 1.328e+00, -1.482e+00],\n",
       "       [ 8.850e-01, -3.050e-01],\n",
       "       [ 4.210e-01,  2.020e-01],\n",
       "       [ 1.970e-01, -1.130e-01],\n",
       "       [ 1.161e+00, -1.178e+00],\n",
       "       [ 1.342e+00, -1.711e+00],\n",
       "       [ 1.232e+00, -9.090e-01],\n",
       "       [ 1.047e+00, -9.630e-01],\n",
       "       [ 1.332e+00, -1.825e+00],\n",
       "       [ 1.905e+00, -1.913e+00],\n",
       "       [ 1.665e+00, -1.525e+00],\n",
       "       [ 1.428e+00, -9.840e-01],\n",
       "       [ 6.490e-01, -2.170e-01],\n",
       "       [ 9.330e-01, -3.860e-01],\n",
       "       [ 7.720e-01, -6.780e-01],\n",
       "       [ 1.716e+00, -2.319e+00],\n",
       "       [ 2.120e+00, -1.967e+00],\n",
       "       [ 1.195e+00, -4.570e-01],\n",
       "       [ 6.400e-01, -2.320e-01],\n",
       "       [ 1.218e+00, -1.403e+00],\n",
       "       [ 1.605e+00, -1.829e+00],\n",
       "       [ 1.008e+00, -7.840e-01],\n",
       "       [ 1.954e+00, -2.240e+00],\n",
       "       [ 1.980e+00, -1.726e+00],\n",
       "       [ 1.721e+00, -1.910e+00],\n",
       "       [ 4.470e-01, -8.180e-01],\n",
       "       [ 7.680e-01, -5.780e-01],\n",
       "       [ 1.110e+00, -7.460e-01],\n",
       "       [ 2.500e-01, -3.100e-02],\n",
       "       [ 1.883e+00, -1.076e+00],\n",
       "       [-6.200e-02,  6.230e-01],\n",
       "       [ 6.320e-01, -6.450e-01],\n",
       "       [ 6.560e-01, -2.600e-02],\n",
       "       [ 6.920e-01, -5.870e-01],\n",
       "       [ 2.720e-01,  1.900e-02],\n",
       "       [-1.450e-01,  7.980e-01],\n",
       "       [ 5.610e-01,  2.110e-01],\n",
       "       [ 1.645e+00, -1.762e+00],\n",
       "       [ 2.320e-01, -3.190e-01],\n",
       "       [ 4.600e-02,  7.210e-01],\n",
       "       [ 7.290e-01, -7.240e-01],\n",
       "       [ 1.870e+00, -2.036e+00],\n",
       "       [ 6.680e-01, -2.190e-01],\n",
       "       [ 3.300e-02,  8.840e-01],\n",
       "       [ 1.153e+00, -1.168e+00],\n",
       "       [ 7.080e-01, -4.490e-01],\n",
       "       [ 1.713e+00, -2.007e+00],\n",
       "       [ 1.080e-01,  3.150e-01],\n",
       "       [ 1.042e+00, -9.580e-01],\n",
       "       [ 2.108e+00, -2.470e+00],\n",
       "       [ 1.535e+00, -1.304e+00],\n",
       "       [ 8.090e-01, -3.330e-01],\n",
       "       [ 1.479e+00, -1.434e+00],\n",
       "       [ 6.950e-01, -6.900e-02],\n",
       "       [ 1.008e+00, -7.810e-01],\n",
       "       [ 9.050e-01,  2.800e-01],\n",
       "       [ 2.644e+00, -2.724e+00],\n",
       "       [ 1.577e+00, -1.451e+00],\n",
       "       [ 1.515e+00, -1.400e+00],\n",
       "       [ 1.169e+00, -7.150e-01],\n",
       "       [ 7.360e-01,  3.980e-01],\n",
       "       [ 2.416e+00, -2.728e+00],\n",
       "       [ 1.620e-01,  3.160e-01],\n",
       "       [-2.320e-01,  5.230e-01],\n",
       "       [ 1.155e+00, -1.261e+00],\n",
       "       [ 1.726e+00, -1.515e+00],\n",
       "       [ 8.300e-01, -6.160e-01],\n",
       "       [ 6.690e-01, -7.210e-01],\n",
       "       [ 6.780e-01, -5.030e-01],\n",
       "       [ 3.920e-01,  6.600e-02],\n",
       "       [ 2.070e-01,  6.060e-01],\n",
       "       [ 4.760e-01, -2.630e-01],\n",
       "       [ 1.826e+00, -1.776e+00],\n",
       "       [ 7.410e-01,  1.480e-01],\n",
       "       [ 9.040e-01, -4.920e-01],\n",
       "       [ 1.167e+00, -6.940e-01],\n",
       "       [ 2.423e+00, -2.369e+00],\n",
       "       [ 3.800e-01, -1.920e-01],\n",
       "       [ 9.210e-01, -5.060e-01],\n",
       "       [ 9.660e-01, -1.009e+00],\n",
       "       [ 1.437e+00, -8.900e-01],\n",
       "       [ 1.623e+00, -1.441e+00],\n",
       "       [ 2.034e+00, -2.156e+00],\n",
       "       [ 1.448e+00, -1.656e+00],\n",
       "       [ 9.030e-01, -9.520e-01],\n",
       "       [ 1.357e+00, -1.687e+00],\n",
       "       [ 6.240e-01, -5.140e-01],\n",
       "       [ 1.278e+00, -7.890e-01],\n",
       "       [ 3.430e-01,  4.600e-02],\n",
       "       [ 3.660e-01, -3.280e-01],\n",
       "       [ 9.150e-01,  6.800e-02],\n",
       "       [ 4.570e-01, -4.980e-01],\n",
       "       [ 1.188e+00, -9.170e-01],\n",
       "       [ 9.560e-01, -2.860e-01],\n",
       "       [ 9.240e-01, -9.480e-01],\n",
       "       [ 6.680e-01, -1.710e-01],\n",
       "       [ 9.960e-01, -1.154e+00],\n",
       "       [ 9.170e-01, -5.550e-01],\n",
       "       [ 3.180e-01, -2.000e-03],\n",
       "       [ 2.416e+00, -2.774e+00],\n",
       "       [ 1.029e+00, -7.830e-01],\n",
       "       [ 6.650e-01,  1.900e-02],\n",
       "       [ 8.760e-01, -5.800e-01],\n",
       "       [ 1.459e+00, -1.950e+00],\n",
       "       [ 1.522e+00, -1.849e+00],\n",
       "       [ 1.582e+00, -1.143e+00],\n",
       "       [ 1.653e+00, -1.872e+00],\n",
       "       [ 1.320e-01,  2.020e-01],\n",
       "       [ 1.207e+00, -9.620e-01],\n",
       "       [ 7.810e-01, -8.660e-01],\n",
       "       [ 6.830e-01, -2.410e-01],\n",
       "       [ 2.000e-02,  6.660e-01],\n",
       "       [ 1.238e+00, -5.760e-01],\n",
       "       [ 3.830e-01, -2.040e-01],\n",
       "       [ 5.300e-01, -4.670e-01],\n",
       "       [ 2.077e+00, -1.706e+00],\n",
       "       [ 1.508e+00, -1.608e+00],\n",
       "       [ 1.390e-01,  6.210e-01],\n",
       "       [ 1.095e+00, -1.339e+00],\n",
       "       [-2.860e-01,  8.480e-01],\n",
       "       [ 1.963e+00, -2.232e+00],\n",
       "       [ 1.173e+00, -9.420e-01],\n",
       "       [ 1.115e+00, -6.230e-01],\n",
       "       [ 1.618e+00, -1.837e+00],\n",
       "       [ 1.376e+00, -1.225e+00],\n",
       "       [-2.400e-02,  2.550e-01],\n",
       "       [ 1.480e+00, -1.289e+00],\n",
       "       [ 1.900e-02, -3.600e-02],\n",
       "       [ 1.507e+00, -1.361e+00],\n",
       "       [ 1.966e+00, -2.331e+00],\n",
       "       [ 4.520e-01,  3.600e-02],\n",
       "       [ 8.780e-01, -5.080e-01],\n",
       "       [ 2.229e+00, -2.122e+00],\n",
       "       [ 1.125e+00, -9.750e-01],\n",
       "       [ 1.351e+00, -1.547e+00],\n",
       "       [ 8.330e-01, -1.240e-01],\n",
       "       [ 1.573e+00, -1.601e+00],\n",
       "       [ 1.793e+00, -1.328e+00],\n",
       "       [ 8.950e-01, -6.140e-01],\n",
       "       [ 5.810e-01,  1.200e-02],\n",
       "       [ 4.030e-01, -4.150e-01],\n",
       "       [ 1.555e+00, -1.241e+00],\n",
       "       [ 1.036e+00, -3.920e-01],\n",
       "       [ 1.261e+00, -1.222e+00],\n",
       "       [-7.100e-02,  6.470e-01],\n",
       "       [ 1.274e+00, -1.421e+00],\n",
       "       [ 1.309e+00, -8.990e-01],\n",
       "       [ 8.780e-01, -8.240e-01],\n",
       "       [ 9.450e-01, -1.156e+00],\n",
       "       [ 2.016e+00, -2.028e+00],\n",
       "       [-9.100e-02,  4.950e-01],\n",
       "       [ 1.095e+00, -1.523e+00],\n",
       "       [ 1.270e-01, -6.800e-02],\n",
       "       [ 1.560e+00, -1.228e+00],\n",
       "       [ 1.496e+00, -1.108e+00],\n",
       "       [ 1.261e+00, -1.405e+00],\n",
       "       [ 1.601e+00, -1.498e+00],\n",
       "       [ 6.610e-01, -2.250e-01],\n",
       "       [ 5.450e-01, -1.240e-01],\n",
       "       [ 6.950e-01, -4.620e-01],\n",
       "       [ 1.503e+00, -1.890e+00],\n",
       "       [ 3.620e-01, -1.060e-01],\n",
       "       [ 1.404e+00, -1.055e+00],\n",
       "       [-1.020e-01,  8.580e-01],\n",
       "       [ 1.500e-01,  7.420e-01],\n",
       "       [ 4.970e-01, -1.810e-01],\n",
       "       [ 1.460e+00, -7.950e-01],\n",
       "       [ 8.200e-01, -5.580e-01],\n",
       "       [ 1.025e+00, -1.276e+00],\n",
       "       [ 1.583e+00, -1.449e+00],\n",
       "       [ 5.610e-01, -3.860e-01],\n",
       "       [ 9.240e-01, -8.530e-01],\n",
       "       [ 9.200e-02, -1.900e-02],\n",
       "       [ 1.467e+00, -1.505e+00],\n",
       "       [ 1.929e+00, -2.222e+00],\n",
       "       [ 1.414e+00, -1.462e+00],\n",
       "       [ 3.080e-01, -3.900e-01],\n",
       "       [-3.000e-03,  3.320e-01],\n",
       "       [ 1.726e+00, -1.545e+00],\n",
       "       [ 9.810e-01, -1.278e+00],\n",
       "       [-1.100e-01,  2.200e-02],\n",
       "       [ 7.750e-01, -8.620e-01],\n",
       "       [ 1.136e+00, -9.660e-01],\n",
       "       [ 1.164e+00, -8.030e-01],\n",
       "       [ 3.620e-01, -7.200e-02],\n",
       "       [ 9.840e-01, -7.840e-01],\n",
       "       [ 1.898e+00, -2.019e+00],\n",
       "       [ 2.118e+00, -1.995e+00],\n",
       "       [ 9.410e-01, -6.500e-01],\n",
       "       [ 1.476e+00, -5.720e-01],\n",
       "       [ 7.460e-01, -2.850e-01],\n",
       "       [ 2.011e+00, -2.152e+00],\n",
       "       [ 2.578e+00, -2.885e+00],\n",
       "       [ 9.240e-01, -8.580e-01],\n",
       "       [ 2.017e+00, -2.327e+00],\n",
       "       [ 9.430e-01, -1.391e+00],\n",
       "       [ 2.375e+00, -3.072e+00],\n",
       "       [-2.160e-01,  6.340e-01],\n",
       "       [ 1.625e+00, -1.792e+00],\n",
       "       [ 1.219e+00, -1.403e+00],\n",
       "       [ 1.899e+00, -1.957e+00],\n",
       "       [ 3.310e-01,  2.740e-01],\n",
       "       [ 4.110e-01,  2.350e-01],\n",
       "       [ 1.337e+00, -1.681e+00],\n",
       "       [ 1.786e+00, -1.457e+00],\n",
       "       [ 1.684e+00, -1.776e+00],\n",
       "       [ 1.169e+00, -1.128e+00],\n",
       "       [ 9.210e-01, -1.195e+00],\n",
       "       [ 8.320e-01, -1.073e+00],\n",
       "       [ 1.762e+00, -1.379e+00],\n",
       "       [ 1.369e+00, -1.686e+00],\n",
       "       [ 6.700e-02,  6.420e-01],\n",
       "       [ 3.540e-01,  2.980e-01],\n",
       "       [ 1.168e+00, -7.730e-01],\n",
       "       [ 1.038e+00, -6.430e-01],\n",
       "       [ 6.570e-01, -3.970e-01],\n",
       "       [ 1.644e+00, -2.259e+00],\n",
       "       [ 9.360e-01, -6.590e-01],\n",
       "       [ 1.522e+00, -1.991e+00],\n",
       "       [ 9.740e-01, -8.740e-01],\n",
       "       [ 1.552e+00, -1.687e+00],\n",
       "       [ 7.330e-01, -6.160e-01],\n",
       "       [ 4.580e-01, -4.700e-01],\n",
       "       [ 4.330e-01, -2.310e-01],\n",
       "       [ 2.206e+00, -2.888e+00],\n",
       "       [ 1.017e+00, -8.060e-01],\n",
       "       [ 7.040e-01, -3.290e-01],\n",
       "       [ 7.670e-01, -6.230e-01],\n",
       "       [ 1.096e+00, -5.500e-01],\n",
       "       [ 6.730e-01, -4.880e-01],\n",
       "       [ 3.400e-01,  1.900e-02],\n",
       "       [-4.900e-02,  3.720e-01],\n",
       "       [ 1.495e+00, -1.611e+00],\n",
       "       [ 8.550e-01, -7.040e-01],\n",
       "       [ 2.403e+00, -2.599e+00],\n",
       "       [ 1.430e+00, -1.541e+00],\n",
       "       [ 1.202e+00, -1.197e+00],\n",
       "       [ 7.470e-01, -4.380e-01],\n",
       "       [ 1.503e+00, -1.486e+00],\n",
       "       [ 1.350e+00, -4.560e-01],\n",
       "       [ 1.110e-01,  4.660e-01]])"
      ]
     },
     "execution_count": 42,
     "metadata": {
      "tags": []
     },
     "output_type": "execute_result"
    }
   ],
   "source": [
    "c_distance[2]"
   ]
  },
  {
   "cell_type": "code",
   "execution_count": 43,
   "metadata": {
    "colab": {
     "base_uri": "https://localhost:8080/"
    },
    "executionInfo": {
     "elapsed": 21148,
     "status": "ok",
     "timestamp": 1617130444772,
     "user": {
      "displayName": "Sughandhan S",
      "photoUrl": "https://lh3.googleusercontent.com/a-/AOh14GgCzJgz5tDGcNqn108PikDmo9i8xVBqBE7WCrGurg=s64",
      "userId": "16893705064560269479"
     },
     "user_tz": -330
    },
    "id": "ImkYw0hRPFmB",
    "outputId": "43094728-982b-4c68-cbfa-ba9e8547c97b"
   },
   "outputs": [
    {
     "data": {
      "text/plain": [
       "array([[-3.195,  0.463],\n",
       "       [-3.171,  0.789],\n",
       "       [-2.409,  1.907],\n",
       "       [-3.04 ,  0.94 ],\n",
       "       [-2.077,  2.14 ],\n",
       "       [-2.777, -0.24 ],\n",
       "       [-2.438,  0.482],\n",
       "       [-2.909,  0.591],\n",
       "       [-2.005,  1.677],\n",
       "       [-2.989,  0.915],\n",
       "       [-2.215, -0.33 ],\n",
       "       [-3.459,  1.627],\n",
       "       [-1.688, -1.532],\n",
       "       [-1.975,  1.874],\n",
       "       [-2.095, -0.324],\n",
       "       [-2.289, -0.425],\n",
       "       [-1.592, -1.379],\n",
       "       [-2.247,  1.834],\n",
       "       [-1.907,  1.825],\n",
       "       [-3.245,  1.697],\n",
       "       [-3.302,  1.029],\n",
       "       [-3.427,  0.925],\n",
       "       [-1.626,  1.02 ],\n",
       "       [-1.363,  0.741],\n",
       "       [-2.109,  1.676],\n",
       "       [-0.718,  1.789],\n",
       "       [-2.844,  0.053],\n",
       "       [-2.039,  1.83 ],\n",
       "       [-1.855,  1.597],\n",
       "       [-1.771,  1.308],\n",
       "       [-1.15 ,  1.072],\n",
       "       [-3.332,  1.429],\n",
       "       [-2.273,  1.885],\n",
       "       [-3.353,  0.807],\n",
       "       [-2.631,  0.267],\n",
       "       [-1.547,  1.587],\n",
       "       [-0.942,  0.961],\n",
       "       [-3.31 ,  1.175],\n",
       "       [-2.666, -0.128],\n",
       "       [-3.756,  1.332],\n",
       "       [-2.875,  0.55 ],\n",
       "       [-2.348, -0.116],\n",
       "       [-2.554, -0.184],\n",
       "       [-3.42 ,  1.361],\n",
       "       [-2.964,  0.772],\n",
       "       [-3.097,  0.813],\n",
       "       [-2.091, -0.972],\n",
       "       [-3.132,  0.84 ],\n",
       "       [-2.172,  1.606],\n",
       "       [-3.436,  1.278],\n",
       "       [-1.502,  1.249],\n",
       "       [-1.761, -0.388],\n",
       "       [-2.856,  0.158],\n",
       "       [-2.384,  0.112],\n",
       "       [-2.284,  1.902],\n",
       "       [-0.598,  1.231],\n",
       "       [-3.437,  1.607],\n",
       "       [-2.237,  0.389],\n",
       "       [-3.122,  1.099],\n",
       "       [-1.03 ,  0.434],\n",
       "       [-2.409, -0.218],\n",
       "       [-2.197, -0.754],\n",
       "       [-3.566,  1.217],\n",
       "       [-1.79 , -1.548],\n",
       "       [-2.087, -0.609],\n",
       "       [-0.769,  2.105],\n",
       "       [-2.734, -0.139],\n",
       "       [-2.811,  0.493],\n",
       "       [-0.98 ,  0.837],\n",
       "       [-3.317,  0.886],\n",
       "       [-2.342,  0.043],\n",
       "       [-2.16 ,  1.924],\n",
       "       [-2.988,  1.173],\n",
       "       [-3.301,  1.57 ],\n",
       "       [-3.484,  0.84 ],\n",
       "       [-1.469,  0.916],\n",
       "       [-1.786,  1.398],\n",
       "       [-2.263,  2.059],\n",
       "       [-2.491,  0.492],\n",
       "       [-2.967,  1.1  ],\n",
       "       [-3.264,  0.973],\n",
       "       [-3.345,  1.159],\n",
       "       [-3.504,  1.403],\n",
       "       [-2.172, -0.361],\n",
       "       [-1.295,  1.053],\n",
       "       [-1.957,  1.978],\n",
       "       [-2.333, -0.417],\n",
       "       [-2.519, -0.361],\n",
       "       [-2.316, -0.191],\n",
       "       [-2.433, -0.7  ],\n",
       "       [-3.477,  1.513],\n",
       "       [-1.758, -0.921],\n",
       "       [-2.128,  1.87 ],\n",
       "       [-0.826,  2.137],\n",
       "       [-2.01 ,  1.472],\n",
       "       [-1.922,  1.839],\n",
       "       [-3.387,  1.341],\n",
       "       [-2.818,  0.601],\n",
       "       [-2.134,  2.047],\n",
       "       [-2.957,  1.151],\n",
       "       [-1.795,  1.491],\n",
       "       [-2.883,  0.505],\n",
       "       [-3.099,  1.028],\n",
       "       [-2.902,  0.375],\n",
       "       [-2.473,  0.524],\n",
       "       [-1.626,  1.431],\n",
       "       [-3.047,  0.813],\n",
       "       [-2.61 ,  0.384],\n",
       "       [-2.744,  1.098],\n",
       "       [-3.342,  0.892],\n",
       "       [-3.62 ,  1.261],\n",
       "       [-2.26 , -0.629],\n",
       "       [-3.327,  1.017],\n",
       "       [-3.16 ,  0.803],\n",
       "       [-1.579, -1.233],\n",
       "       [-2.319,  2.017],\n",
       "       [-3.423,  1.378],\n",
       "       [-2.684,  0.607],\n",
       "       [-3.732,  1.249],\n",
       "       [-2.637,  0.876],\n",
       "       [-3.079,  1.2  ],\n",
       "       [-2.03 ,  1.739],\n",
       "       [-3.529,  1.5  ],\n",
       "       [-2.42 , -0.44 ],\n",
       "       [-3.135,  0.485],\n",
       "       [-3.119,  1.105],\n",
       "       [-1.713,  1.533],\n",
       "       [-2.937,  0.986],\n",
       "       [-0.59 ,  0.838],\n",
       "       [-3.005,  0.489],\n",
       "       [-2.995,  0.462],\n",
       "       [-2.073,  1.057],\n",
       "       [-2.332,  0.095],\n",
       "       [-3.341,  1.283],\n",
       "       [-3.476,  1.556],\n",
       "       [-2.801,  0.378],\n",
       "       [-2.394,  1.954],\n",
       "       [-1.886, -0.52 ],\n",
       "       [-3.553,  1.132],\n",
       "       [-1.951,  2.126],\n",
       "       [-2.239,  1.349],\n",
       "       [-3.338,  1.276],\n",
       "       [-2.744,  0.545],\n",
       "       [-2.87 ,  0.836],\n",
       "       [-3.36 ,  1.358],\n",
       "       [-3.327,  1.392],\n",
       "       [-2.176, -0.078],\n",
       "       [-1.81 ,  1.505],\n",
       "       [-2.247, -0.246],\n",
       "       [-1.565,  1.148],\n",
       "       [-2.074,  0.77 ],\n",
       "       [-1.753,  1.728],\n",
       "       [-2.486, -0.046],\n",
       "       [-3.316,  0.656],\n",
       "       [-2.522, -0.582],\n",
       "       [-1.999,  1.462],\n",
       "       [-2.867,  0.251],\n",
       "       [-3.572,  1.168],\n",
       "       [-3.335,  1.242],\n",
       "       [-3.017,  0.363],\n",
       "       [-1.842, -0.448],\n",
       "       [-2.435, -0.226],\n",
       "       [-2.177,  2.064],\n",
       "       [-3.053,  0.791],\n",
       "       [-3.375,  1.254],\n",
       "       [-1.574,  1.439],\n",
       "       [-3.215,  1.296],\n",
       "       [-3.405,  1.205],\n",
       "       [-1.313,  0.85 ],\n",
       "       [-1.83 , -0.766],\n",
       "       [-3.497,  1.508],\n",
       "       [-2.642,  0.405],\n",
       "       [-2.655,  0.517],\n",
       "       [-2.89 ,  0.464],\n",
       "       [-2.559,  0.067],\n",
       "       [-3.247,  0.885],\n",
       "       [-2.529,  0.257],\n",
       "       [-1.878,  1.661],\n",
       "       [-2.516,  0.453],\n",
       "       [-1.722,  1.165],\n",
       "       [-2.807,  0.455],\n",
       "       [-2.747,  0.476],\n",
       "       [-2.171,  2.037],\n",
       "       [-2.411,  1.382],\n",
       "       [-2.114,  1.93 ],\n",
       "       [-2.596,  0.156],\n",
       "       [-2.405,  0.275],\n",
       "       [-3.354,  1.247],\n",
       "       [-2.051,  1.893],\n",
       "       [-2.904,  0.515],\n",
       "       [-2.552,  0.127],\n",
       "       [-2.496,  0.525],\n",
       "       [-1.619, -1.289],\n",
       "       [-3.386,  1.534],\n",
       "       [-3.013,  1.41 ],\n",
       "       [-2.591,  0.405],\n",
       "       [-3.315,  1.436],\n",
       "       [-2.697,  0.108],\n",
       "       [-3.32 ,  1.063],\n",
       "       [-1.785, -0.286],\n",
       "       [-3.321,  0.829],\n",
       "       [-2.058, -0.465],\n",
       "       [-2.02 ,  1.735],\n",
       "       [-2.048, -0.738],\n",
       "       [-3.297,  1.415],\n",
       "       [-1.958, -1.142],\n",
       "       [-3.227,  0.727],\n",
       "       [-1.314,  1.037],\n",
       "       [-2.455,  0.386],\n",
       "       [-3.065,  0.911],\n",
       "       [-0.905,  0.512],\n",
       "       [-1.122,  0.473],\n",
       "       [-2.457,  0.148],\n",
       "       [-3.701,  1.104],\n",
       "       [-2.019, -0.607],\n",
       "       [-0.409,  1.337],\n",
       "       [-1.983,  1.52 ],\n",
       "       [-2.505, -0.039],\n",
       "       [-1.98 ,  1.472],\n",
       "       [-1.685,  1.077],\n",
       "       [-2.683,  0.131],\n",
       "       [-3.3  ,  0.93 ],\n",
       "       [-2.79 ,  0.797],\n",
       "       [-2.067,  0.437],\n",
       "       [-1.846, -0.016],\n",
       "       [-2.684,  0.088],\n",
       "       [-1.953, -0.823],\n",
       "       [-2.24 ,  1.79 ],\n",
       "       [-3.404,  1.569],\n",
       "       [-2.723,  0.294],\n",
       "       [-2.495,  0.486],\n",
       "       [-3.486,  0.464],\n",
       "       [-3.209,  1.288],\n",
       "       [-2.743,  0.303],\n",
       "       [-2.48 ,  0.36 ],\n",
       "       [-3.765,  1.271],\n",
       "       [-2.871,  0.621],\n",
       "       [-1.856,  1.51 ],\n",
       "       [-1.863,  1.577],\n",
       "       [-3.125,  1.207],\n",
       "       [-3.153,  1.432],\n",
       "       [-2.016,  1.825],\n",
       "       [-1.661,  0.969],\n",
       "       [-0.266,  1.277],\n",
       "       [-3.22 ,  0.925],\n",
       "       [-2.816,  0.315],\n",
       "       [-3.357,  1.348],\n",
       "       [-2.793,  1.198],\n",
       "       [-3.566,  1.402],\n",
       "       [-2.237,  0.293],\n",
       "       [-1.54 ,  1.125],\n",
       "       [-2.887,  0.667],\n",
       "       [-2.626,  0.318],\n",
       "       [-1.731,  1.296],\n",
       "       [-3.363,  1.08 ],\n",
       "       [-2.719,  0.301],\n",
       "       [-2.571,  0.227],\n",
       "       [-3.946,  1.242],\n",
       "       [-3.311,  0.528],\n",
       "       [-1.857,  1.671],\n",
       "       [-3.51 ,  0.9  ],\n",
       "       [-3.09 ,  0.791],\n",
       "       [-3.109,  1.138],\n",
       "       [-1.503,  1.287],\n",
       "       [-2.502,  0.586],\n",
       "       [-2.555,  0.634],\n",
       "       [-3.02 ,  0.958],\n",
       "       [-3.554,  0.937],\n",
       "       [-2.416,  1.906],\n",
       "       [-2.501,  1.792],\n",
       "       [-2.995,  1.151],\n",
       "       [-1.521,  1.002],\n",
       "       [-1.933,  1.563],\n",
       "       [-2.018, -0.36 ],\n",
       "       [-3.035,  0.683],\n",
       "       [-3.341,  0.942],\n",
       "       [-1.925,  1.872],\n",
       "       [-2.864,  0.494],\n",
       "       [-2.602, -0.164],\n",
       "       [-2.25 , -0.378],\n",
       "       [-3.355,  1.556],\n",
       "       [-1.895,  1.769],\n",
       "       [-2.926,  0.64 ],\n",
       "       [-3.225,  0.615],\n",
       "       [-2.032,  1.577],\n",
       "       [-1.547,  1.216],\n",
       "       [-3.154,  1.17 ],\n",
       "       [-3.078,  0.381],\n",
       "       [-2.649,  0.883],\n",
       "       [-3.031,  0.379],\n",
       "       [-3.333,  1.285],\n",
       "       [-3.181,  0.98 ],\n",
       "       [-2.926,  0.797],\n",
       "       [-2.751,  0.471],\n",
       "       [-2.367,  2.007],\n",
       "       [-3.207,  1.162],\n",
       "       [-1.814, -0.493],\n",
       "       [-1.085,  1.762],\n",
       "       [-2.807,  0.708],\n",
       "       [-3.072,  0.71 ],\n",
       "       [-2.295,  0.049],\n",
       "       [-3.688,  1.36 ],\n",
       "       [-1.853,  1.504],\n",
       "       [-2.839,  0.391],\n",
       "       [-3.413,  0.98 ],\n",
       "       [-2.426, -0.265],\n",
       "       [-1.919,  1.528],\n",
       "       [-2.966,  0.549],\n",
       "       [-2.69 ,  0.678],\n",
       "       [-1.533, -0.969],\n",
       "       [-2.618,  0.234],\n",
       "       [-2.087, -0.714],\n",
       "       [-2.547,  0.237],\n",
       "       [-1.938, -0.741],\n",
       "       [-2.415,  0.278],\n",
       "       [-2.732,  0.256],\n",
       "       [-2.557,  0.102],\n",
       "       [-1.907,  2.057],\n",
       "       [-3.039,  0.394],\n",
       "       [-2.584, -0.081],\n",
       "       [-1.707, -0.76 ],\n",
       "       [-3.189,  1.149],\n",
       "       [-0.351,  0.913],\n",
       "       [-3.118,  0.551],\n",
       "       [-2.599,  0.021],\n",
       "       [-1.62 ,  1.364],\n",
       "       [-3.358,  0.836],\n",
       "       [-3.094,  1.179],\n",
       "       [-2.806,  0.902],\n",
       "       [-3.546,  1.289],\n",
       "       [-2.116,  1.785],\n",
       "       [-3.562,  0.92 ],\n",
       "       [-3.564,  0.917],\n",
       "       [-0.508,  1.537],\n",
       "       [-2.58 ,  0.661]])"
      ]
     },
     "execution_count": 43,
     "metadata": {
      "tags": []
     },
     "output_type": "execute_result"
    }
   ],
   "source": [
    "c_distance[1]"
   ]
  },
  {
   "cell_type": "markdown",
   "metadata": {
    "id": "aoMWEiRQm4zk"
   },
   "source": [
    "for points dataset"
   ]
  },
  {
   "cell_type": "code",
   "execution_count": 44,
   "metadata": {
    "colab": {
     "base_uri": "https://localhost:8080/",
     "height": 282
    },
    "executionInfo": {
     "elapsed": 22303,
     "status": "ok",
     "timestamp": 1617130445932,
     "user": {
      "displayName": "Sughandhan S",
      "photoUrl": "https://lh3.googleusercontent.com/a-/AOh14GgCzJgz5tDGcNqn108PikDmo9i8xVBqBE7WCrGurg=s64",
      "userId": "16893705064560269479"
     },
     "user_tz": -330
    },
    "id": "s8Ge6S-z78C0",
    "outputId": "e13c0d08-9440-420b-ed5f-7d5a99b8e767"
   },
   "outputs": [
    {
     "data": {
      "text/plain": [
       "<matplotlib.collections.PathCollection at 0x7f6796cdd8d0>"
      ]
     },
     "execution_count": 44,
     "metadata": {
      "tags": []
     },
     "output_type": "execute_result"
    },
    {
     "data": {
      "image/png": "[encoded data removed]",
      "text/plain": [
       "<Figure size 432x288 with 1 Axes>"
      ]
     },
     "metadata": {
      "needs_background": "light",
      "tags": []
     },
     "output_type": "display_data"
    }
   ],
   "source": [
    "plt.scatter(points[:,0], points[:,1])\n",
    "plt.scatter(centroids[:,0], centroids[:,1], color='g')"
   ]
  },
  {
   "cell_type": "code",
   "execution_count": 45,
   "metadata": {
    "colab": {
     "base_uri": "https://localhost:8080/"
    },
    "executionInfo": {
     "elapsed": 22299,
     "status": "ok",
     "timestamp": 1617130445934,
     "user": {
      "displayName": "Sughandhan S",
      "photoUrl": "https://lh3.googleusercontent.com/a-/AOh14GgCzJgz5tDGcNqn108PikDmo9i8xVBqBE7WCrGurg=s64",
      "userId": "16893705064560269479"
     },
     "user_tz": -330
    },
    "id": "mIxGD7ry8RHa",
    "outputId": "4a120148-23e7-4502-91ee-b12a6e78c642"
   },
   "outputs": [
    {
     "data": {
      "text/plain": [
       "array([[-3.76 ,  3.829],\n",
       "       [-2.258,  2.448],\n",
       "       [-2.929,  3.212],\n",
       "       [-2.651,  2.846],\n",
       "       [-3.217,  3.551],\n",
       "       [-2.864,  3.241],\n",
       "       [-3.805,  4.036],\n",
       "       [-3.769,  2.102],\n",
       "       [-3.838,  2.26 ],\n",
       "       [-3.154,  3.539],\n",
       "       [-3.06 ,  3.251],\n",
       "       [-3.98 ,  1.997],\n",
       "       [-3.864,  4.628],\n",
       "       [-3.545,  1.949],\n",
       "       [-3.502,  1.86 ],\n",
       "       [-3.282,  3.268],\n",
       "       [-3.962,  1.905],\n",
       "       [-2.558,  2.514],\n",
       "       [-2.979,  2.744],\n",
       "       [-3.196,  3.008],\n",
       "       [-3.908,  1.873],\n",
       "       [-3.701,  1.71 ],\n",
       "       [-2.521,  2.067],\n",
       "       [-3.566,  4.03 ],\n",
       "       [-2.855,  3.428],\n",
       "       [-2.957,  2.831],\n",
       "       [-2.622,  2.42 ],\n",
       "       [-2.979,  2.747],\n",
       "       [-2.706,  2.361],\n",
       "       [-4.387,  2.369],\n",
       "       [-2.594,  2.451],\n",
       "       [-2.668,  2.273],\n",
       "       [-2.529,  2.573],\n",
       "       [-2.998,  3.251],\n",
       "       [-4.507,  2.571],\n",
       "       [-3.454,  3.29 ],\n",
       "       [-3.567,  4.365],\n",
       "       [-2.741,  2.519],\n",
       "       [-1.807,  2.372],\n",
       "       [-2.606,  2.825],\n",
       "       [-4.07 ,  1.866],\n",
       "       [-3.214,  3.846],\n",
       "       [-2.579,  2.85 ],\n",
       "       [-3.419,  1.79 ],\n",
       "       [-3.909,  1.572],\n",
       "       [-3.115,  3.443],\n",
       "       [-2.562,  2.664],\n",
       "       [-3.241,  3.1  ],\n",
       "       [-2.714,  2.157],\n",
       "       [-2.841,  3.065],\n",
       "       [-2.375,  2.574],\n",
       "       [-2.449,  2.519],\n",
       "       [-3.476,  4.051],\n",
       "       [-4.295,  4.376],\n",
       "       [-3.801,  1.834],\n",
       "       [-3.725,  3.655],\n",
       "       [-2.822,  3.262],\n",
       "       [-2.316,  2.825],\n",
       "       [-2.553,  2.38 ],\n",
       "       [-3.571,  4.083],\n",
       "       [-3.139,  3.236],\n",
       "       [-3.049,  3.095],\n",
       "       [-2.357,  2.436],\n",
       "       [-2.299,  2.213],\n",
       "       [-2.778,  3.355],\n",
       "       [-3.798,  1.984],\n",
       "       [-4.655,  2.884],\n",
       "       [-4.997,  3.264],\n",
       "       [-2.298,  2.548],\n",
       "       [-2.365,  2.289],\n",
       "       [-3.225,  3.04 ],\n",
       "       [-3.536,  1.711],\n",
       "       [-3.492,  3.553],\n",
       "       [-3.667,  4.267],\n",
       "       [-3.604,  4.134],\n",
       "       [-2.649,  2.855],\n",
       "       [-3.854,  1.761],\n",
       "       [-4.209,  2.712],\n",
       "       [-2.451,  2.645],\n",
       "       [-2.867,  2.64 ],\n",
       "       [-3.129,  3.207],\n",
       "       [-4.27 ,  2.647],\n",
       "       [-4.557,  2.681],\n",
       "       [-2.519,  2.244],\n",
       "       [-2.34 ,  2.095],\n",
       "       [-2.504,  2.69 ],\n",
       "       [-3.283,  3.299],\n",
       "       [-3.133,  2.906],\n",
       "       [-3.221,  3.059],\n",
       "       [-3.424,  3.737],\n",
       "       [-4.378,  2.32 ],\n",
       "       [-2.764,  2.735],\n",
       "       [-3.272,  3.245],\n",
       "       [-3.766,  1.885],\n",
       "       [-2.318,  2.627],\n",
       "       [-2.841,  2.419],\n",
       "       [-2.772,  2.801],\n",
       "       [-3.194,  2.93 ],\n",
       "       [-4.141,  2.066],\n",
       "       [-3.007,  2.861],\n",
       "       [-2.821,  3.06 ],\n",
       "       [-3.772,  1.812],\n",
       "       [-4.357,  2.236],\n",
       "       [-3.979,  1.912],\n",
       "       [-2.519,  2.179],\n",
       "       [-3.242,  3.414],\n",
       "       [-3.285,  2.827],\n",
       "       [-2.657,  2.41 ],\n",
       "       [-2.97 ,  3.086],\n",
       "       [-4.827,  3.272],\n",
       "       [-2.169,  2.511],\n",
       "       [-3.211,  3.063],\n",
       "       [-3.929,  2.355],\n",
       "       [-2.731,  2.651],\n",
       "       [-3.421,  1.793],\n",
       "       [-2.611,  2.176],\n",
       "       [-3.638,  3.971],\n",
       "       [-3.926,  4.218],\n",
       "       [-3.376,  3.515],\n",
       "       [-2.992,  3.302],\n",
       "       [-2.23 ,  2.11 ],\n",
       "       [-3.582,  3.639],\n",
       "       [-3.904,  3.818],\n",
       "       [-2.503,  2.163],\n",
       "       [-4.666,  5.319],\n",
       "       [-4.428,  4.173],\n",
       "       [-3.299,  3.093],\n",
       "       [-3.454,  4.008],\n",
       "       [-3.8  ,  1.948],\n",
       "       [-3.667,  1.921],\n",
       "       [-3.597,  4.228],\n",
       "       [-3.389,  3.345],\n",
       "       [-2.564,  2.809],\n",
       "       [-3.767,  4.522],\n",
       "       [-2.636,  2.788],\n",
       "       [-4.836,  3.211],\n",
       "       [-2.863,  2.837],\n",
       "       [-4.062,  4.555],\n",
       "       [-3.476,  1.694],\n",
       "       [-2.415,  2.565],\n",
       "       [-3.132,  3.375],\n",
       "       [-3.654,  3.87 ],\n",
       "       [-3.673,  2.011],\n",
       "       [-3.924,  2.27 ],\n",
       "       [-3.929,  4.181],\n",
       "       [-3.47 ,  3.531],\n",
       "       [-3.35 ,  1.716],\n",
       "       [-3.075,  3.057],\n",
       "       [-2.362,  2.39 ],\n",
       "       [-3.105,  3.058],\n",
       "       [-2.903,  2.977],\n",
       "       [-3.334,  3.44 ],\n",
       "       [-4.645,  4.948],\n",
       "       [-1.973,  2.34 ],\n",
       "       [-3.97 ,  3.953],\n",
       "       [-4.116,  1.718],\n",
       "       [-3.079,  3.554],\n",
       "       [-2.439,  2.484],\n",
       "       [-4.099,  1.912],\n",
       "       [-2.312,  2.635],\n",
       "       [-2.743,  2.46 ],\n",
       "       [-2.266,  2.83 ],\n",
       "       [-2.705,  2.567],\n",
       "       [-4.049,  1.971],\n",
       "       [-2.852,  2.619],\n",
       "       [-4.458,  3.024],\n",
       "       [-2.536,  3.003],\n",
       "       [-2.718,  2.796],\n",
       "       [-4.082,  2.002],\n",
       "       [-3.819,  4.54 ],\n",
       "       [-2.511,  2.518],\n",
       "       [-3.086,  3.423],\n",
       "       [-2.627,  2.818],\n",
       "       [-3.56 ,  2.428],\n",
       "       [-2.812,  2.755],\n",
       "       [-2.848,  3.187],\n",
       "       [-4.415,  2.868],\n",
       "       [-3.866,  2.057],\n",
       "       [-2.6  ,  2.918],\n",
       "       [-3.104,  3.244],\n",
       "       [-2.593,  2.769],\n",
       "       [-3.655,  3.553],\n",
       "       [-3.728,  3.884],\n",
       "       [-4.451,  2.969],\n",
       "       [-4.392,  2.985],\n",
       "       [-3.355,  2.597],\n",
       "       [-3.256,  3.127],\n",
       "       [-2.923,  3.505],\n",
       "       [-3.53 ,  3.668],\n",
       "       [-4.282,  4.77 ],\n",
       "       [-2.968,  2.791],\n",
       "       [-3.737,  1.751],\n",
       "       [-3.148,  3.891],\n",
       "       [-3.977,  2.746],\n",
       "       [-2.827,  3.225],\n",
       "       [-3.521,  3.895],\n",
       "       [-3.883,  4.12 ],\n",
       "       [-2.401,  2.507],\n",
       "       [-2.351,  2.288],\n",
       "       [-3.793,  2.413],\n",
       "       [-2.696,  2.999],\n",
       "       [-2.859,  3.015],\n",
       "       [-3.701,  4.528],\n",
       "       [-2.513,  2.371],\n",
       "       [-2.498,  2.525],\n",
       "       [-4.005,  4.633],\n",
       "       [-3.477,  1.699],\n",
       "       [-3.043,  2.765],\n",
       "       [-2.569,  2.77 ],\n",
       "       [-2.913,  3.171],\n",
       "       [-2.685,  2.476],\n",
       "       [-2.247,  2.247],\n",
       "       [-3.136,  3.012],\n",
       "       [-3.983,  4.187],\n",
       "       [-3.278,  3.108],\n",
       "       [-2.777,  2.424],\n",
       "       [-2.619,  2.596],\n",
       "       [-3.284,  3.599],\n",
       "       [-3.577,  1.678],\n",
       "       [-4.398,  2.348],\n",
       "       [-3.432,  3.232],\n",
       "       [-3.432,  1.688],\n",
       "       [-3.376,  3.632],\n",
       "       [-2.979,  3.108],\n",
       "       [-3.606,  3.296],\n",
       "       [-3.032,  3.184],\n",
       "       [-2.693,  2.052],\n",
       "       [-2.343,  2.071],\n",
       "       [-2.721,  2.502],\n",
       "       [-3.656,  1.961],\n",
       "       [-2.285,  2.415],\n",
       "       [-2.505,  2.259],\n",
       "       [-4.811,  3.038],\n",
       "       [-4.115,  2.32 ],\n",
       "       [-5.241,  3.576],\n",
       "       [-3.255,  3.533],\n",
       "       [-3.265,  3.362],\n",
       "       [-1.997,  2.268],\n",
       "       [-4.468,  2.449],\n",
       "       [-4.424,  2.757],\n",
       "       [-2.82 ,  3.133],\n",
       "       [-2.345,  2.292],\n",
       "       [-4.052,  2.369],\n",
       "       [-3.332,  1.691],\n",
       "       [-3.713,  3.865],\n",
       "       [-3.548,  3.378],\n",
       "       [-2.939,  3.2  ],\n",
       "       [-3.467,  3.955],\n",
       "       [-2.227,  2.25 ],\n",
       "       [-2.697,  3.138],\n",
       "       [-3.574,  1.801],\n",
       "       [-3.592,  1.801],\n",
       "       [-2.652,  2.406],\n",
       "       [-3.858,  1.684],\n",
       "       [-3.178,  3.593],\n",
       "       [-2.961,  3.385],\n",
       "       [-3.558,  3.493],\n",
       "       [-2.337,  2.644],\n",
       "       [-3.149,  3.444],\n",
       "       [-3.172,  3.215],\n",
       "       [-4.231,  1.553],\n",
       "       [-3.681,  1.573],\n",
       "       [-3.865,  3.966],\n",
       "       [-4.065,  1.831],\n",
       "       [-3.361,  3.607],\n",
       "       [-2.225,  2.563],\n",
       "       [-2.195,  2.199],\n",
       "       [-3.488,  4.276],\n",
       "       [-3.651,  4.648],\n",
       "       [-2.811,  2.9  ],\n",
       "       [-4.975,  3.341],\n",
       "       [-3.722,  3.887],\n",
       "       [-4.029,  2.321],\n",
       "       [-2.536,  2.117],\n",
       "       [-2.233,  2.187],\n",
       "       [-3.204,  3.193],\n",
       "       [-2.817,  2.886],\n",
       "       [-4.339,  2.944],\n",
       "       [-3.192,  3.136],\n",
       "       [-3.174,  3.316],\n",
       "       [-3.691,  1.852],\n",
       "       [-3.786,  1.652],\n",
       "       [-3.679,  1.744],\n",
       "       [-3.452,  1.78 ],\n",
       "       [-3.168,  3.367],\n",
       "       [-3.573,  2.019],\n",
       "       [-2.138,  2.233],\n",
       "       [-2.737,  2.513],\n",
       "       [-3.273,  3.239],\n",
       "       [-3.612,  2.107],\n",
       "       [-2.157,  2.313],\n",
       "       [-2.759,  2.478],\n",
       "       [-3.362,  2.149],\n",
       "       [-4.31 ,  2.735],\n",
       "       [-2.76 ,  2.524],\n",
       "       [-4.472,  2.337],\n",
       "       [-2.806,  2.517],\n",
       "       [-3.391,  3.246],\n",
       "       [-3.928,  4.533],\n",
       "       [-2.219,  2.188],\n",
       "       [-2.314,  2.555],\n",
       "       [-3.359,  3.053],\n",
       "       [-3.132,  2.613],\n",
       "       [-4.867,  3.181],\n",
       "       [-2.474,  2.046],\n",
       "       [-3.102,  3.174],\n",
       "       [-2.969,  2.939],\n",
       "       [-3.831,  4.345],\n",
       "       [-3.449,  3.797],\n",
       "       [-3.666,  1.598],\n",
       "       [-4.702,  3.185],\n",
       "       [-3.574,  3.214],\n",
       "       [-3.052,  3.657],\n",
       "       [-3.879,  2.122],\n",
       "       [-2.807,  2.628],\n",
       "       [-4.125,  1.59 ],\n",
       "       [-3.312,  3.088],\n",
       "       [-3.646,  3.453],\n",
       "       [-3.474,  3.696],\n",
       "       [-3.805,  4.619],\n",
       "       [-3.048,  3.165],\n",
       "       [-4.334,  4.785],\n",
       "       [-4.206,  2.413],\n",
       "       [-4.733,  2.831],\n",
       "       [-2.543,  2.607],\n",
       "       [-3.251,  3.908],\n",
       "       [-2.884,  2.225],\n",
       "       [-4.672,  3.162],\n",
       "       [-2.924,  2.673],\n",
       "       [-2.883,  2.594],\n",
       "       [-4.01 ,  4.599],\n",
       "       [-5.701,  4.472],\n",
       "       [-3.309,  3.848],\n",
       "       [-3.847,  3.755],\n",
       "       [-3.897,  1.971],\n",
       "       [-3.19 ,  3.787],\n",
       "       [-4.296,  2.733],\n",
       "       [-3.867,  1.679],\n",
       "       [-3.078,  3.2  ],\n",
       "       [-2.913,  3.066],\n",
       "       [-2.78 ,  2.327],\n",
       "       [-2.706,  2.652],\n",
       "       [-2.763,  2.755]])"
      ]
     },
     "execution_count": 45,
     "metadata": {
      "tags": []
     },
     "output_type": "execute_result"
    }
   ],
   "source": [
    "c_distance[0]"
   ]
  },
  {
   "cell_type": "code",
   "execution_count": 46,
   "metadata": {
    "colab": {
     "base_uri": "https://localhost:8080/"
    },
    "executionInfo": {
     "elapsed": 22294,
     "status": "ok",
     "timestamp": 1617130445935,
     "user": {
      "displayName": "Sughandhan S",
      "photoUrl": "https://lh3.googleusercontent.com/a-/AOh14GgCzJgz5tDGcNqn108PikDmo9i8xVBqBE7WCrGurg=s64",
      "userId": "16893705064560269479"
     },
     "user_tz": -330
    },
    "id": "hKdPiJ-m6vYM",
    "outputId": "db53a323-4b7a-489a-f297-77691c1def2a"
   },
   "outputs": [
    {
     "data": {
      "text/plain": [
       "array([3.829, 2.448, 3.212, 2.846, 3.551, 3.241, 4.036, 2.102, 2.26 ,\n",
       "       3.539, 3.251, 1.997, 4.628, 1.949, 1.86 , 3.268, 1.905, 2.514,\n",
       "       2.744, 3.008, 1.873, 1.71 , 2.067, 4.03 , 3.428, 2.831, 2.42 ,\n",
       "       2.747, 2.361, 2.369, 2.451, 2.273, 2.573, 3.251, 2.571, 3.29 ,\n",
       "       4.365, 2.519, 2.372, 2.825, 1.866, 3.846, 2.85 , 1.79 , 1.572,\n",
       "       3.443, 2.664, 3.1  , 2.157, 3.065, 2.574, 2.519, 4.051, 4.376,\n",
       "       1.834, 3.655, 3.262, 2.825, 2.38 , 4.083, 3.236, 3.095, 2.436,\n",
       "       2.213, 3.355, 1.984, 2.884, 3.264, 2.548, 2.289, 3.04 , 1.711,\n",
       "       3.553, 4.267, 4.134, 2.855, 1.761, 2.712, 2.645, 2.64 , 3.207,\n",
       "       2.647, 2.681, 2.244, 2.095, 2.69 , 3.299, 2.906, 3.059, 3.737,\n",
       "       2.32 , 2.735, 3.245, 1.885, 2.627, 2.419, 2.801, 2.93 , 2.066,\n",
       "       2.861, 3.06 , 1.812, 2.236, 1.912, 2.179, 3.414, 2.827, 2.41 ,\n",
       "       3.086, 3.272, 2.511, 3.063, 2.355, 2.651, 1.793, 2.176, 3.971,\n",
       "       4.218, 3.515, 3.302, 2.11 , 3.639, 3.818, 2.163, 5.319, 4.173,\n",
       "       3.093, 4.008, 1.948, 1.921, 4.228, 3.345, 2.809, 4.522, 2.788,\n",
       "       3.211, 2.837, 4.555, 1.694, 2.565, 3.375, 3.87 , 2.011, 2.27 ,\n",
       "       4.181, 3.531, 1.716, 3.057, 2.39 , 3.058, 2.977, 3.44 , 4.948,\n",
       "       2.34 , 3.953, 1.718, 3.554, 2.484, 1.912, 2.635, 2.46 , 2.83 ,\n",
       "       2.567, 1.971, 2.619, 3.024, 3.003, 2.796, 2.002, 4.54 , 2.518,\n",
       "       3.423, 2.818, 2.428, 2.755, 3.187, 2.868, 2.057, 2.918, 3.244,\n",
       "       2.769, 3.553, 3.884, 2.969, 2.985, 2.597, 3.127, 3.505, 3.668,\n",
       "       4.77 , 2.791, 1.751, 3.891, 2.746, 3.225, 3.895, 4.12 , 2.507,\n",
       "       2.288, 2.413, 2.999, 3.015, 4.528, 2.371, 2.525, 4.633, 1.699,\n",
       "       2.765, 2.77 , 3.171, 2.476, 2.247, 3.012, 4.187, 3.108, 2.424,\n",
       "       2.596, 3.599, 1.678, 2.348, 3.232, 1.688, 3.632, 3.108, 3.296,\n",
       "       3.184, 2.052, 2.071, 2.502, 1.961, 2.415, 2.259, 3.038, 2.32 ,\n",
       "       3.576, 3.533, 3.362, 2.268, 2.449, 2.757, 3.133, 2.292, 2.369,\n",
       "       1.691, 3.865, 3.378, 3.2  , 3.955, 2.25 , 3.138, 1.801, 1.801,\n",
       "       2.406, 1.684, 3.593, 3.385, 3.493, 2.644, 3.444, 3.215, 1.553,\n",
       "       1.573, 3.966, 1.831, 3.607, 2.563, 2.199, 4.276, 4.648, 2.9  ,\n",
       "       3.341, 3.887, 2.321, 2.117, 2.187, 3.193, 2.886, 2.944, 3.136,\n",
       "       3.316, 1.852, 1.652, 1.744, 1.78 , 3.367, 2.019, 2.233, 2.513,\n",
       "       3.239, 2.107, 2.313, 2.478, 2.149, 2.735, 2.524, 2.337, 2.517,\n",
       "       3.246, 4.533, 2.188, 2.555, 3.053, 2.613, 3.181, 2.046, 3.174,\n",
       "       2.939, 4.345, 3.797, 1.598, 3.185, 3.214, 3.657, 2.122, 2.628,\n",
       "       1.59 , 3.088, 3.453, 3.696, 4.619, 3.165, 4.785, 2.413, 2.831,\n",
       "       2.607, 3.908, 2.225, 3.162, 2.673, 2.594, 4.599, 4.472, 3.848,\n",
       "       3.755, 1.971, 3.787, 2.733, 1.679, 3.2  , 3.066, 2.327, 2.652,\n",
       "       2.755])"
      ]
     },
     "execution_count": 46,
     "metadata": {
      "tags": []
     },
     "output_type": "execute_result"
    }
   ],
   "source": [
    "c_distance[0][:,1]"
   ]
  },
  {
   "cell_type": "code",
   "execution_count": 47,
   "metadata": {
    "colab": {
     "base_uri": "https://localhost:8080/"
    },
    "executionInfo": {
     "elapsed": 22291,
     "status": "ok",
     "timestamp": 1617130445937,
     "user": {
      "displayName": "Sughandhan S",
      "photoUrl": "https://lh3.googleusercontent.com/a-/AOh14GgCzJgz5tDGcNqn108PikDmo9i8xVBqBE7WCrGurg=s64",
      "userId": "16893705064560269479"
     },
     "user_tz": -330
    },
    "id": "SJm8hRNp9Hci",
    "outputId": "10829096-9548-4c0c-948d-2275cd78870c"
   },
   "outputs": [
    {
     "data": {
      "text/plain": [
       "array([ 1.437,  1.01 ,  0.464,  0.205,  0.284,  1.318, -0.268,  1.167,\n",
       "        0.038,  1.197,  0.589,  0.914,  0.58 ,  1.388,  1.82 ,  2.273,\n",
       "        1.426,  0.411,  0.406,  1.265,  1.252,  2.208,  1.95 ,  0.684,\n",
       "        1.2  ,  0.533,  0.16 ,  1.965,  0.862,  0.372,  1.51 ,  1.526,\n",
       "        1.762,  0.808,  1.23 ,  1.324,  1.41 ,  2.081,  1.083,  0.405,\n",
       "        0.252,  2.459,  1.992,  1.77 ,  0.924,  1.062,  0.213,  0.187,\n",
       "        0.615,  1.702,  0.943,  1.763,  0.24 ,  1.726,  1.467,  1.226,\n",
       "        1.327,  0.683,  2.052,  1.687,  0.862,  0.219,  0.846,  1.696,\n",
       "        1.083, -0.196,  0.286, -0.046,  0.354,  1.238, -0.01 ,  1.51 ,\n",
       "        2.795,  0.469,  0.933,  0.266,  0.814,  0.741,  0.189,  1.949,\n",
       "        1.622,  1.328,  0.885,  0.421,  0.197,  1.161,  1.342,  1.232,\n",
       "        1.047,  1.332,  1.905,  1.665,  1.428,  0.649,  0.933,  0.772,\n",
       "        1.716,  2.12 ,  1.195,  0.64 ,  1.218,  1.605,  1.008,  1.954,\n",
       "        1.98 ,  1.721,  0.447,  0.768,  1.11 ,  0.25 ,  1.883, -0.062,\n",
       "        0.632,  0.656,  0.692,  0.272, -0.145,  0.561,  1.645,  0.232,\n",
       "        0.046,  0.729,  1.87 ,  0.668,  0.033,  1.153,  0.708,  1.713,\n",
       "        0.108,  1.042,  2.108,  1.535,  0.809,  1.479,  0.695,  1.008,\n",
       "        0.905,  2.644,  1.577,  1.515,  1.169,  0.736,  2.416,  0.162,\n",
       "       -0.232,  1.155,  1.726,  0.83 ,  0.669,  0.678,  0.392,  0.207,\n",
       "        0.476,  1.826,  0.741,  0.904,  1.167,  2.423,  0.38 ,  0.921,\n",
       "        0.966,  1.437,  1.623,  2.034,  1.448,  0.903,  1.357,  0.624,\n",
       "        1.278,  0.343,  0.366,  0.915,  0.457,  1.188,  0.956,  0.924,\n",
       "        0.668,  0.996,  0.917,  0.318,  2.416,  1.029,  0.665,  0.876,\n",
       "        1.459,  1.522,  1.582,  1.653,  0.132,  1.207,  0.781,  0.683,\n",
       "        0.02 ,  1.238,  0.383,  0.53 ,  2.077,  1.508,  0.139,  1.095,\n",
       "       -0.286,  1.963,  1.173,  1.115,  1.618,  1.376, -0.024,  1.48 ,\n",
       "        0.019,  1.507,  1.966,  0.452,  0.878,  2.229,  1.125,  1.351,\n",
       "        0.833,  1.573,  1.793,  0.895,  0.581,  0.403,  1.555,  1.036,\n",
       "        1.261, -0.071,  1.274,  1.309,  0.878,  0.945,  2.016, -0.091,\n",
       "        1.095,  0.127,  1.56 ,  1.496,  1.261,  1.601,  0.661,  0.545,\n",
       "        0.695,  1.503,  0.362,  1.404, -0.102,  0.15 ,  0.497,  1.46 ,\n",
       "        0.82 ,  1.025,  1.583,  0.561,  0.924,  0.092,  1.467,  1.929,\n",
       "        1.414,  0.308, -0.003,  1.726,  0.981, -0.11 ,  0.775,  1.136,\n",
       "        1.164,  0.362,  0.984,  1.898,  2.118,  0.941,  1.476,  0.746,\n",
       "        2.011,  2.578,  0.924,  2.017,  0.943,  2.375, -0.216,  1.625,\n",
       "        1.219,  1.899,  0.331,  0.411,  1.337,  1.786,  1.684,  1.169,\n",
       "        0.921,  0.832,  1.762,  1.369,  0.067,  0.354,  1.168,  1.038,\n",
       "        0.657,  1.644,  0.936,  1.522,  0.974,  1.552,  0.733,  0.458,\n",
       "        0.433,  2.206,  1.017,  0.704,  0.767,  1.096,  0.673,  0.34 ,\n",
       "       -0.049,  1.495,  0.855,  2.403,  1.43 ,  1.202,  0.747,  1.503,\n",
       "        1.35 ,  0.111])"
      ]
     },
     "execution_count": 47,
     "metadata": {
      "tags": []
     },
     "output_type": "execute_result"
    }
   ],
   "source": [
    "c_distance[2][:,0]"
   ]
  },
  {
   "cell_type": "code",
   "execution_count": 48,
   "metadata": {
    "colab": {
     "base_uri": "https://localhost:8080/"
    },
    "executionInfo": {
     "elapsed": 22288,
     "status": "ok",
     "timestamp": 1617130445939,
     "user": {
      "displayName": "Sughandhan S",
      "photoUrl": "https://lh3.googleusercontent.com/a-/AOh14GgCzJgz5tDGcNqn108PikDmo9i8xVBqBE7WCrGurg=s64",
      "userId": "16893705064560269479"
     },
     "user_tz": -330
    },
    "id": "pPOxRxKC9LN-",
    "outputId": "5f5b1c5e-5931-4aa8-eacf-c47b8fbb1cde"
   },
   "outputs": [
    {
     "data": {
      "text/plain": [
       "list"
      ]
     },
     "execution_count": 48,
     "metadata": {
      "tags": []
     },
     "output_type": "execute_result"
    }
   ],
   "source": [
    "type(c_distance)"
   ]
  },
  {
   "cell_type": "code",
   "execution_count": 49,
   "metadata": {
    "colab": {
     "base_uri": "https://localhost:8080/",
     "height": 282
    },
    "executionInfo": {
     "elapsed": 22286,
     "status": "ok",
     "timestamp": 1617130445941,
     "user": {
      "displayName": "Sughandhan S",
      "photoUrl": "https://lh3.googleusercontent.com/a-/AOh14GgCzJgz5tDGcNqn108PikDmo9i8xVBqBE7WCrGurg=s64",
      "userId": "16893705064560269479"
     },
     "user_tz": -330
    },
    "id": "kFFCKTZU_uiR",
    "outputId": "1c4109b2-6901-42a5-9351-928a614a86e0"
   },
   "outputs": [
    {
     "data": {
      "text/plain": [
       "<matplotlib.collections.PathCollection at 0x7f6796cdd9d0>"
      ]
     },
     "execution_count": 49,
     "metadata": {
      "tags": []
     },
     "output_type": "execute_result"
    },
    {
     "data": {
      "image/png": "[encoded data removed]",
      "text/plain": [
       "<Figure size 432x288 with 1 Axes>"
      ]
     },
     "metadata": {
      "needs_background": "light",
      "tags": []
     },
     "output_type": "display_data"
    }
   ],
   "source": [
    "plt.scatter(centroids[:,0], centroids[:,1], color='g')"
   ]
  },
  {
   "cell_type": "markdown",
   "metadata": {
    "id": "v3-bdWgsejzQ"
   },
   "source": [
    "# 1a) final clusters\n"
   ]
  },
  {
   "cell_type": "code",
   "execution_count": 50,
   "metadata": {
    "colab": {
     "base_uri": "https://localhost:8080/",
     "height": 265
    },
    "executionInfo": {
     "elapsed": 22282,
     "status": "ok",
     "timestamp": 1617130445942,
     "user": {
      "displayName": "Sughandhan S",
      "photoUrl": "https://lh3.googleusercontent.com/a-/AOh14GgCzJgz5tDGcNqn108PikDmo9i8xVBqBE7WCrGurg=s64",
      "userId": "16893705064560269479"
     },
     "user_tz": -330
    },
    "id": "3wE5MRA08Q4N",
    "outputId": "63973de4-8efa-4db8-8868-83731f6d8878"
   },
   "outputs": [
    {
     "data": {
      "image/png": "[encoded data removed]",
      "text/plain": [
       "<Figure size 432x288 with 1 Axes>"
      ]
     },
     "metadata": {
      "needs_background": "light",
      "tags": []
     },
     "output_type": "display_data"
    }
   ],
   "source": [
    "for i in range(k):\n",
    "  if len(c_distance[i])!=0:\n",
    "    plt.scatter(c_distance[i][:,0], c_distance[i][:,1])\n",
    "plt.show()"
   ]
  },
  {
   "cell_type": "markdown",
   "metadata": {
    "id": "tPNTuwLUeoij"
   },
   "source": [
    "#1b ) labels\n"
   ]
  },
  {
   "cell_type": "code",
   "execution_count": 51,
   "metadata": {
    "colab": {
     "base_uri": "https://localhost:8080/"
    },
    "executionInfo": {
     "elapsed": 22277,
     "status": "ok",
     "timestamp": 1617130445943,
     "user": {
      "displayName": "Sughandhan S",
      "photoUrl": "https://lh3.googleusercontent.com/a-/AOh14GgCzJgz5tDGcNqn108PikDmo9i8xVBqBE7WCrGurg=s64",
      "userId": "16893705064560269479"
     },
     "user_tz": -330
    },
    "id": "JyqKLTWkesxj",
    "outputId": "c5371bb4-ed74-4444-b789-3d08d19c817d"
   },
   "outputs": [
    {
     "data": {
      "text/plain": [
       "[(array([-3.195,  0.463]), 1),\n",
       " (array([ 1.437, -1.386]), 2),\n",
       " (array([ 1.01, -1.  ]), 2),\n",
       " (array([-3.171,  0.789]), 1),\n",
       " (array([0.464, 0.187]), 2),\n",
       " (array([0.205, 0.204]), 2),\n",
       " (array([-3.76 ,  3.829]), 0),\n",
       " (array([-2.409,  1.907]), 1),\n",
       " (array([0.284, 0.07 ]), 2),\n",
       " (array([-3.04,  0.94]), 1),\n",
       " (array([-2.258,  2.448]), 0),\n",
       " (array([-2.929,  3.212]), 0),\n",
       " (array([-2.077,  2.14 ]), 1),\n",
       " (array([-2.651,  2.846]), 0),\n",
       " (array([-3.217,  3.551]), 0),\n",
       " (array([-2.777, -0.24 ]), 1),\n",
       " (array([-2.438,  0.482]), 1),\n",
       " (array([-2.909,  0.591]), 1),\n",
       " (array([-2.864,  3.241]), 0),\n",
       " (array([-3.805,  4.036]), 0),\n",
       " (array([-2.005,  1.677]), 1),\n",
       " (array([-2.989,  0.915]), 1),\n",
       " (array([-2.215, -0.33 ]), 1),\n",
       " (array([-3.459,  1.627]), 1),\n",
       " (array([-1.688, -1.532]), 1),\n",
       " (array([-3.769,  2.102]), 0),\n",
       " (array([-1.975,  1.874]), 1),\n",
       " (array([ 1.318, -1.421]), 2),\n",
       " (array([-2.095, -0.324]), 1),\n",
       " (array([-0.268, -0.072]), 2),\n",
       " (array([-2.289, -0.425]), 1),\n",
       " (array([-1.592, -1.379]), 1),\n",
       " (array([-3.838,  2.26 ]), 0),\n",
       " (array([-2.247,  1.834]), 1),\n",
       " (array([-3.154,  3.539]), 0),\n",
       " (array([-3.06 ,  3.251]), 0),\n",
       " (array([-3.98 ,  1.997]), 0),\n",
       " (array([ 1.167, -0.889]), 2),\n",
       " (array([-3.864,  4.628]), 0),\n",
       " (array([0.038, 1.054]), 2),\n",
       " (array([ 1.197, -1.288]), 2),\n",
       " (array([-3.545,  1.949]), 0),\n",
       " (array([-3.502,  1.86 ]), 0),\n",
       " (array([-3.282,  3.268]), 0),\n",
       " (array([-1.907,  1.825]), 1),\n",
       " (array([-3.245,  1.697]), 1),\n",
       " (array([-3.962,  1.905]), 0),\n",
       " (array([-2.558,  2.514]), 0),\n",
       " (array([-2.979,  2.744]), 0),\n",
       " (array([ 0.589, -0.593]), 2),\n",
       " (array([-3.302,  1.029]), 1),\n",
       " (array([ 0.914, -0.383]), 2),\n",
       " (array([-3.196,  3.008]), 0),\n",
       " (array([-3.427,  0.925]), 1),\n",
       " (array([-1.626,  1.02 ]), 1),\n",
       " (array([-3.908,  1.873]), 0),\n",
       " (array([-3.701,  1.71 ]), 0),\n",
       " (array([-1.363,  0.741]), 1),\n",
       " (array([-2.521,  2.067]), 0),\n",
       " (array([-2.109,  1.676]), 1),\n",
       " (array([-3.566,  4.03 ]), 0),\n",
       " (array([-0.718,  1.789]), 1),\n",
       " (array([-2.855,  3.428]), 0),\n",
       " (array([-2.957,  2.831]), 0),\n",
       " (array([-2.622,  2.42 ]), 0),\n",
       " (array([-2.979,  2.747]), 0),\n",
       " (array([0.58 , 0.041]), 2),\n",
       " (array([-2.844,  0.053]), 1),\n",
       " (array([ 1.388, -1.779]), 2),\n",
       " (array([-2.706,  2.361]), 0),\n",
       " (array([ 1.82 , -2.117]), 2),\n",
       " (array([ 2.273, -2.879]), 2),\n",
       " (array([-4.387,  2.369]), 0),\n",
       " (array([-2.594,  2.451]), 0),\n",
       " (array([-2.668,  2.273]), 0),\n",
       " (array([-2.529,  2.573]), 0),\n",
       " (array([-2.039,  1.83 ]), 1),\n",
       " (array([ 1.426, -1.72 ]), 2),\n",
       " (array([-1.855,  1.597]), 1),\n",
       " (array([-1.771,  1.308]), 1),\n",
       " (array([ 0.411, -0.142]), 2),\n",
       " (array([-2.998,  3.251]), 0),\n",
       " (array([-1.15 ,  1.072]), 1),\n",
       " (array([ 0.406, -0.272]), 2),\n",
       " (array([ 1.265, -1.47 ]), 2),\n",
       " (array([-3.332,  1.429]), 1),\n",
       " (array([-4.507,  2.571]), 0),\n",
       " (array([-2.273,  1.885]), 1),\n",
       " (array([ 1.252, -0.922]), 2),\n",
       " (array([-3.454,  3.29 ]), 0),\n",
       " (array([ 2.208, -2.35 ]), 2),\n",
       " (array([-3.567,  4.365]), 0),\n",
       " (array([-3.353,  0.807]), 1),\n",
       " (array([ 1.95 , -2.491]), 2),\n",
       " (array([-2.631,  0.267]), 1),\n",
       " (array([-1.547,  1.587]), 1),\n",
       " (array([-0.942,  0.961]), 1),\n",
       " (array([-3.31 ,  1.175]), 1),\n",
       " (array([-2.741,  2.519]), 0),\n",
       " (array([-2.666, -0.128]), 1),\n",
       " (array([-1.807,  2.372]), 0),\n",
       " (array([ 0.684, -0.219]), 2),\n",
       " (array([-3.756,  1.332]), 1),\n",
       " (array([-2.606,  2.825]), 0),\n",
       " (array([-4.07 ,  1.866]), 0),\n",
       " (array([ 1.2  , -1.124]), 2),\n",
       " (array([-2.875,  0.55 ]), 1),\n",
       " (array([-3.214,  3.846]), 0),\n",
       " (array([-2.348, -0.116]), 1),\n",
       " (array([-2.579,  2.85 ]), 0),\n",
       " (array([-3.419,  1.79 ]), 0),\n",
       " (array([-2.554, -0.184]), 1),\n",
       " (array([-3.909,  1.572]), 0),\n",
       " (array([0.533, 0.419]), 2),\n",
       " (array([-3.115,  3.443]), 0),\n",
       " (array([0.16 , 0.881]), 2),\n",
       " (array([ 1.965, -2.639]), 2),\n",
       " (array([-2.562,  2.664]), 0),\n",
       " (array([-3.241,  3.1  ]), 0),\n",
       " (array([ 0.862, -1.207]), 2),\n",
       " (array([-2.714,  2.157]), 0),\n",
       " (array([-3.42 ,  1.361]), 1),\n",
       " (array([-2.964,  0.772]), 1),\n",
       " (array([ 0.372, -0.44 ]), 2),\n",
       " (array([-3.097,  0.813]), 1),\n",
       " (array([ 1.51 , -1.418]), 2),\n",
       " (array([ 1.526, -0.978]), 2),\n",
       " (array([-2.091, -0.972]), 1),\n",
       " (array([ 1.762, -1.861]), 2),\n",
       " (array([ 0.808, -0.241]), 2),\n",
       " (array([-2.841,  3.065]), 0),\n",
       " (array([-3.132,  0.84 ]), 1),\n",
       " (array([-2.375,  2.574]), 0),\n",
       " (array([-2.172,  1.606]), 1),\n",
       " (array([-2.449,  2.519]), 0),\n",
       " (array([ 1.23 , -1.116]), 2),\n",
       " (array([ 1.324, -1.5  ]), 2),\n",
       " (array([-3.436,  1.278]), 1),\n",
       " (array([ 1.41 , -1.348]), 2),\n",
       " (array([ 2.081, -2.947]), 2),\n",
       " (array([-1.502,  1.249]), 1),\n",
       " (array([-3.476,  4.051]), 0),\n",
       " (array([-4.295,  4.376]), 0),\n",
       " (array([ 1.083, -0.955]), 2),\n",
       " (array([-1.761, -0.388]), 1),\n",
       " (array([-2.856,  0.158]), 1),\n",
       " (array([-3.801,  1.834]), 0),\n",
       " (array([0.405, 0.261]), 2),\n",
       " (array([ 0.252, -0.186]), 2),\n",
       " (array([-2.384,  0.112]), 1),\n",
       " (array([-2.284,  1.902]), 1),\n",
       " (array([ 2.459, -2.694]), 2),\n",
       " (array([ 1.992, -1.815]), 2),\n",
       " (array([ 1.77 , -1.671]), 2),\n",
       " (array([-0.598,  1.231]), 1),\n",
       " (array([ 0.924, -0.734]), 2),\n",
       " (array([-3.437,  1.607]), 1),\n",
       " (array([ 1.062, -0.9  ]), 2),\n",
       " (array([ 0.213, -0.048]), 2),\n",
       " (array([0.187, 0.661]), 2),\n",
       " (array([ 0.615, -0.706]), 2),\n",
       " (array([-2.237,  0.389]), 1),\n",
       " (array([-3.725,  3.655]), 0),\n",
       " (array([ 1.702, -1.496]), 2),\n",
       " (array([ 0.943, -1.048]), 2),\n",
       " (array([ 1.763, -1.131]), 2),\n",
       " (array([0.24 , 0.167]), 2),\n",
       " (array([-2.822,  3.262]), 0),\n",
       " (array([ 1.726, -1.435]), 2),\n",
       " (array([-2.316,  2.825]), 0),\n",
       " (array([-2.553,  2.38 ]), 0),\n",
       " (array([-3.571,  4.083]), 0),\n",
       " (array([ 1.467, -1.441]), 2),\n",
       " (array([-3.139,  3.236]), 0),\n",
       " (array([ 1.226, -0.966]), 2),\n",
       " (array([-3.049,  3.095]), 0),\n",
       " (array([ 1.327, -0.775]), 2),\n",
       " (array([-3.122,  1.099]), 1),\n",
       " (array([-1.03 ,  0.434]), 1),\n",
       " (array([-2.357,  2.436]), 0),\n",
       " (array([-2.299,  2.213]), 0),\n",
       " (array([-2.409, -0.218]), 1),\n",
       " (array([ 0.683, -0.3  ]), 2),\n",
       " (array([ 2.052, -2.249]), 2),\n",
       " (array([-2.778,  3.355]), 0),\n",
       " (array([ 1.687, -1.239]), 2),\n",
       " (array([-3.798,  1.984]), 0),\n",
       " (array([-2.197, -0.754]), 1),\n",
       " (array([ 0.862, -0.449]), 2),\n",
       " (array([-3.566,  1.217]), 1),\n",
       " (array([-4.655,  2.884]), 0),\n",
       " (array([-1.79 , -1.548]), 1),\n",
       " (array([0.219, 0.327]), 2),\n",
       " (array([-2.087, -0.609]), 1),\n",
       " (array([-4.997,  3.264]), 0),\n",
       " (array([-2.298,  2.548]), 0),\n",
       " (array([ 0.846, -0.776]), 2),\n",
       " (array([-2.365,  2.289]), 0),\n",
       " (array([-0.769,  2.105]), 1),\n",
       " (array([-2.734, -0.139]), 1),\n",
       " (array([ 1.696, -1.987]), 2),\n",
       " (array([-3.225,  3.04 ]), 0),\n",
       " (array([ 1.083, -0.663]), 2),\n",
       " (array([-2.811,  0.493]), 1),\n",
       " (array([-3.536,  1.711]), 0),\n",
       " (array([-0.98 ,  0.837]), 1),\n",
       " (array([-3.492,  3.553]), 0),\n",
       " (array([-3.317,  0.886]), 1),\n",
       " (array([-3.667,  4.267]), 0),\n",
       " (array([-2.342,  0.043]), 1),\n",
       " (array([-2.16 ,  1.924]), 1),\n",
       " (array([-3.604,  4.134]), 0),\n",
       " (array([-2.649,  2.855]), 0),\n",
       " (array([-3.854,  1.761]), 0),\n",
       " (array([-4.209,  2.712]), 0),\n",
       " (array([-0.196,  0.523]), 2),\n",
       " (array([-2.451,  2.645]), 0),\n",
       " (array([-2.867,  2.64 ]), 0),\n",
       " (array([-2.988,  1.173]), 1),\n",
       " (array([-3.301,  1.57 ]), 1),\n",
       " (array([-3.484,  0.84 ]), 1),\n",
       " (array([-1.469,  0.916]), 1),\n",
       " (array([-1.786,  1.398]), 1),\n",
       " (array([ 0.286, -0.142]), 2),\n",
       " (array([-0.046,  0.744]), 2),\n",
       " (array([0.354, 0.717]), 2),\n",
       " (array([-2.263,  2.059]), 1),\n",
       " (array([ 1.238, -1.457]), 2),\n",
       " (array([-2.491,  0.492]), 1),\n",
       " (array([-2.967,  1.1  ]), 1),\n",
       " (array([-3.264,  0.973]), 1),\n",
       " (array([-0.01 ,  0.361]), 2),\n",
       " (array([ 1.51 , -0.992]), 2),\n",
       " (array([-3.129,  3.207]), 0),\n",
       " (array([-4.27 ,  2.647]), 0),\n",
       " (array([-4.557,  2.681]), 0),\n",
       " (array([-2.519,  2.244]), 0),\n",
       " (array([ 2.795, -3.196]), 2),\n",
       " (array([-3.345,  1.159]), 1),\n",
       " (array([ 0.469, -0.196]), 2),\n",
       " (array([ 0.933, -0.785]), 2),\n",
       " (array([ 0.266, -0.007]), 2),\n",
       " (array([-3.504,  1.403]), 1),\n",
       " (array([ 0.814, -0.297]), 2),\n",
       " (array([-2.34 ,  2.095]), 0),\n",
       " (array([-2.504,  2.69 ]), 0),\n",
       " (array([ 0.741, -0.782]), 2),\n",
       " (array([0.189, 0.31 ]), 2),\n",
       " (array([-3.283,  3.299]), 0),\n",
       " (array([ 1.949, -1.88 ]), 2),\n",
       " (array([-3.133,  2.906]), 0),\n",
       " (array([-3.221,  3.059]), 0),\n",
       " (array([ 1.622, -1.815]), 2),\n",
       " (array([-2.172, -0.361]), 1),\n",
       " (array([ 1.328, -1.482]), 2),\n",
       " (array([ 0.885, -0.305]), 2),\n",
       " (array([-3.424,  3.737]), 0),\n",
       " (array([-4.378,  2.32 ]), 0),\n",
       " (array([-2.764,  2.735]), 0),\n",
       " (array([-3.272,  3.245]), 0),\n",
       " (array([-3.766,  1.885]), 0),\n",
       " (array([-2.318,  2.627]), 0),\n",
       " (array([0.421, 0.202]), 2),\n",
       " (array([-1.295,  1.053]), 1),\n",
       " (array([-1.957,  1.978]), 1),\n",
       " (array([ 0.197, -0.113]), 2),\n",
       " (array([-2.333, -0.417]), 1),\n",
       " (array([-2.841,  2.419]), 0),\n",
       " (array([-2.772,  2.801]), 0),\n",
       " (array([-3.194,  2.93 ]), 0),\n",
       " (array([-4.141,  2.066]), 0),\n",
       " (array([-3.007,  2.861]), 0),\n",
       " (array([-2.821,  3.06 ]), 0),\n",
       " (array([ 1.161, -1.178]), 2),\n",
       " (array([-2.519, -0.361]), 1),\n",
       " (array([-3.772,  1.812]), 0),\n",
       " (array([-2.316, -0.191]), 1),\n",
       " (array([-4.357,  2.236]), 0),\n",
       " (array([ 1.342, -1.711]), 2),\n",
       " (array([ 1.232, -0.909]), 2),\n",
       " (array([-2.433, -0.7  ]), 1),\n",
       " (array([ 1.047, -0.963]), 2),\n",
       " (array([-3.979,  1.912]), 0),\n",
       " (array([-2.519,  2.179]), 0),\n",
       " (array([-3.242,  3.414]), 0),\n",
       " (array([-3.285,  2.827]), 0),\n",
       " (array([-2.657,  2.41 ]), 0),\n",
       " (array([-2.97 ,  3.086]), 0),\n",
       " (array([-3.477,  1.513]), 1),\n",
       " (array([ 1.332, -1.825]), 2),\n",
       " (array([-1.758, -0.921]), 1),\n",
       " (array([ 1.905, -1.913]), 2),\n",
       " (array([-4.827,  3.272]), 0),\n",
       " (array([-2.128,  1.87 ]), 1),\n",
       " (array([ 1.665, -1.525]), 2),\n",
       " (array([ 1.428, -0.984]), 2),\n",
       " (array([-2.169,  2.511]), 0),\n",
       " (array([-3.211,  3.063]), 0),\n",
       " (array([-0.826,  2.137]), 1),\n",
       " (array([ 0.649, -0.217]), 2),\n",
       " (array([-2.01 ,  1.472]), 1),\n",
       " (array([-1.922,  1.839]), 1),\n",
       " (array([ 0.933, -0.386]), 2),\n",
       " (array([-3.387,  1.341]), 1),\n",
       " (array([-3.929,  2.355]), 0),\n",
       " (array([-2.731,  2.651]), 0),\n",
       " (array([ 0.772, -0.678]), 2),\n",
       " (array([-2.818,  0.601]), 1),\n",
       " (array([-2.134,  2.047]), 1),\n",
       " (array([ 1.716, -2.319]), 2),\n",
       " (array([-3.421,  1.793]), 0),\n",
       " (array([ 2.12 , -1.967]), 2),\n",
       " (array([-2.611,  2.176]), 0),\n",
       " (array([-2.957,  1.151]), 1),\n",
       " (array([ 1.195, -0.457]), 2),\n",
       " (array([ 0.64 , -0.232]), 2),\n",
       " (array([-1.795,  1.491]), 1),\n",
       " (array([-2.883,  0.505]), 1),\n",
       " (array([ 1.218, -1.403]), 2),\n",
       " (array([-3.638,  3.971]), 0),\n",
       " (array([-3.926,  4.218]), 0),\n",
       " (array([ 1.605, -1.829]), 2),\n",
       " (array([ 1.008, -0.784]), 2),\n",
       " (array([-3.376,  3.515]), 0),\n",
       " (array([ 1.954, -2.24 ]), 2),\n",
       " (array([-2.992,  3.302]), 0),\n",
       " (array([-3.099,  1.028]), 1),\n",
       " (array([-2.902,  0.375]), 1),\n",
       " (array([ 1.98 , -1.726]), 2),\n",
       " (array([-2.473,  0.524]), 1),\n",
       " (array([ 1.721, -1.91 ]), 2),\n",
       " (array([-1.626,  1.431]), 1),\n",
       " (array([-3.047,  0.813]), 1),\n",
       " (array([ 0.447, -0.818]), 2),\n",
       " (array([-2.23,  2.11]), 0),\n",
       " (array([-3.582,  3.639]), 0),\n",
       " (array([-2.61 ,  0.384]), 1),\n",
       " (array([-2.744,  1.098]), 1),\n",
       " (array([-3.904,  3.818]), 0),\n",
       " (array([ 0.768, -0.578]), 2),\n",
       " (array([-3.342,  0.892]), 1),\n",
       " (array([-2.503,  2.163]), 0),\n",
       " (array([ 1.11 , -0.746]), 2),\n",
       " (array([-3.62 ,  1.261]), 1),\n",
       " (array([-2.26 , -0.629]), 1),\n",
       " (array([-4.666,  5.319]), 0),\n",
       " (array([-3.327,  1.017]), 1),\n",
       " (array([ 0.25 , -0.031]), 2),\n",
       " (array([ 1.883, -1.076]), 2),\n",
       " (array([-0.062,  0.623]), 2),\n",
       " (array([ 0.632, -0.645]), 2),\n",
       " (array([-3.16 ,  0.803]), 1),\n",
       " (array([-4.428,  4.173]), 0),\n",
       " (array([-1.579, -1.233]), 1),\n",
       " (array([ 0.656, -0.026]), 2),\n",
       " (array([-3.299,  3.093]), 0),\n",
       " (array([ 0.692, -0.587]), 2),\n",
       " (array([-3.454,  4.008]), 0),\n",
       " (array([0.272, 0.019]), 2),\n",
       " (array([-2.319,  2.017]), 1),\n",
       " (array([-3.423,  1.378]), 1),\n",
       " (array([-3.8  ,  1.948]), 0),\n",
       " (array([-2.684,  0.607]), 1),\n",
       " (array([-3.732,  1.249]), 1),\n",
       " (array([-2.637,  0.876]), 1),\n",
       " (array([-3.079,  1.2  ]), 1),\n",
       " (array([-0.145,  0.798]), 2),\n",
       " (array([-2.03 ,  1.739]), 1),\n",
       " (array([-3.667,  1.921]), 0),\n",
       " (array([0.561, 0.211]), 2),\n",
       " (array([-3.597,  4.228]), 0),\n",
       " (array([-3.529,  1.5  ]), 1),\n",
       " (array([-2.42, -0.44]), 1),\n",
       " (array([-3.135,  0.485]), 1),\n",
       " (array([ 1.645, -1.762]), 2),\n",
       " (array([-3.389,  3.345]), 0),\n",
       " (array([-3.119,  1.105]), 1),\n",
       " (array([ 0.232, -0.319]), 2),\n",
       " (array([0.046, 0.721]), 2),\n",
       " (array([-1.713,  1.533]), 1),\n",
       " (array([ 0.729, -0.724]), 2),\n",
       " (array([ 1.87 , -2.036]), 2),\n",
       " (array([ 0.668, -0.219]), 2),\n",
       " (array([-2.564,  2.809]), 0),\n",
       " (array([-3.767,  4.522]), 0),\n",
       " (array([-2.937,  0.986]), 1),\n",
       " (array([-0.59 ,  0.838]), 1),\n",
       " (array([0.033, 0.884]), 2),\n",
       " (array([ 1.153, -1.168]), 2),\n",
       " (array([-2.636,  2.788]), 0),\n",
       " (array([-4.836,  3.211]), 0),\n",
       " (array([-2.863,  2.837]), 0),\n",
       " (array([ 0.708, -0.449]), 2),\n",
       " (array([-4.062,  4.555]), 0),\n",
       " (array([ 1.713, -2.007]), 2),\n",
       " (array([0.108, 0.315]), 2),\n",
       " (array([-3.005,  0.489]), 1),\n",
       " (array([-2.995,  0.462]), 1),\n",
       " (array([ 1.042, -0.958]), 2),\n",
       " (array([ 2.108, -2.47 ]), 2),\n",
       " (array([-2.073,  1.057]), 1),\n",
       " (array([-2.332,  0.095]), 1),\n",
       " (array([-3.341,  1.283]), 1),\n",
       " (array([ 1.535, -1.304]), 2),\n",
       " (array([-3.476,  1.556]), 1),\n",
       " (array([-3.476,  1.694]), 0),\n",
       " (array([-2.801,  0.378]), 1),\n",
       " (array([-2.415,  2.565]), 0),\n",
       " (array([-2.394,  1.954]), 1),\n",
       " (array([-3.132,  3.375]), 0),\n",
       " (array([ 0.809, -0.333]), 2),\n",
       " (array([-1.886, -0.52 ]), 1),\n",
       " (array([ 1.479, -1.434]), 2),\n",
       " (array([-3.654,  3.87 ]), 0),\n",
       " (array([-3.553,  1.132]), 1),\n",
       " (array([-3.673,  2.011]), 0),\n",
       " (array([-1.951,  2.126]), 1),\n",
       " (array([-3.924,  2.27 ]), 0),\n",
       " (array([-2.239,  1.349]), 1),\n",
       " (array([ 0.695, -0.069]), 2),\n",
       " (array([-3.338,  1.276]), 1),\n",
       " (array([-2.744,  0.545]), 1),\n",
       " (array([ 1.008, -0.781]), 2),\n",
       " (array([-2.87 ,  0.836]), 1),\n",
       " (array([-3.36 ,  1.358]), 1),\n",
       " (array([-3.929,  4.181]), 0),\n",
       " (array([-3.327,  1.392]), 1),\n",
       " (array([-3.47 ,  3.531]), 0),\n",
       " (array([-3.35 ,  1.716]), 0),\n",
       " (array([-3.075,  3.057]), 0),\n",
       " (array([-2.176, -0.078]), 1),\n",
       " (array([-1.81 ,  1.505]), 1),\n",
       " (array([0.905, 0.28 ]), 2),\n",
       " (array([-2.362,  2.39 ]), 0),\n",
       " (array([-3.105,  3.058]), 0),\n",
       " (array([ 2.644, -2.724]), 2),\n",
       " (array([-2.903,  2.977]), 0),\n",
       " (array([-3.334,  3.44 ]), 0),\n",
       " (array([ 1.577, -1.451]), 2),\n",
       " (array([-4.645,  4.948]), 0),\n",
       " (array([-1.973,  2.34 ]), 0),\n",
       " (array([-2.247, -0.246]), 1),\n",
       " (array([-1.565,  1.148]), 1),\n",
       " (array([ 1.515, -1.4  ]), 2),\n",
       " (array([ 1.169, -0.715]), 2),\n",
       " (array([-2.074,  0.77 ]), 1),\n",
       " (array([-1.753,  1.728]), 1),\n",
       " (array([0.736, 0.398]), 2),\n",
       " (array([-3.97 ,  3.953]), 0),\n",
       " (array([-2.486, -0.046]), 1),\n",
       " (array([-4.116,  1.718]), 0),\n",
       " (array([-3.079,  3.554]), 0),\n",
       " (array([-3.316,  0.656]), 1),\n",
       " (array([-2.439,  2.484]), 0),\n",
       " (array([ 2.416, -2.728]), 2),\n",
       " (array([0.162, 0.316]), 2),\n",
       " (array([-4.099,  1.912]), 0),\n",
       " (array([-0.232,  0.523]), 2),\n",
       " (array([ 1.155, -1.261]), 2),\n",
       " (array([ 1.726, -1.515]), 2),\n",
       " (array([-2.312,  2.635]), 0),\n",
       " (array([-2.743,  2.46 ]), 0),\n",
       " (array([-2.266,  2.83 ]), 0),\n",
       " (array([-2.705,  2.567]), 0),\n",
       " (array([-4.049,  1.971]), 0),\n",
       " (array([-2.522, -0.582]), 1),\n",
       " (array([-1.999,  1.462]), 1),\n",
       " (array([ 0.83 , -0.616]), 2),\n",
       " (array([-2.867,  0.251]), 1),\n",
       " (array([-2.852,  2.619]), 0),\n",
       " (array([ 0.669, -0.721]), 2),\n",
       " (array([-4.458,  3.024]), 0),\n",
       " (array([ 0.678, -0.503]), 2),\n",
       " (array([0.392, 0.066]), 2),\n",
       " (array([-2.536,  3.003]), 0),\n",
       " (array([-2.718,  2.796]), 0),\n",
       " (array([-3.572,  1.168]), 1),\n",
       " (array([-4.082,  2.002]), 0),\n",
       " (array([-3.335,  1.242]), 1),\n",
       " (array([-3.819,  4.54 ]), 0),\n",
       " (array([0.207, 0.606]), 2),\n",
       " (array([-2.511,  2.518]), 0),\n",
       " (array([-3.017,  0.363]), 1),\n",
       " (array([ 0.476, -0.263]), 2),\n",
       " (array([-3.086,  3.423]), 0),\n",
       " (array([ 1.826, -1.776]), 2),\n",
       " (array([-2.627,  2.818]), 0),\n",
       " (array([-3.56 ,  2.428]), 0),\n",
       " (array([0.741, 0.148]), 2),\n",
       " (array([-1.842, -0.448]), 1),\n",
       " (array([ 0.904, -0.492]), 2),\n",
       " (array([-2.435, -0.226]), 1),\n",
       " (array([ 1.167, -0.694]), 2),\n",
       " (array([-2.177,  2.064]), 1),\n",
       " (array([ 2.423, -2.369]), 2),\n",
       " (array([-3.053,  0.791]), 1),\n",
       " (array([-2.812,  2.755]), 0),\n",
       " (array([-2.848,  3.187]), 0),\n",
       " (array([-4.415,  2.868]), 0),\n",
       " (array([-3.866,  2.057]), 0),\n",
       " (array([ 0.38 , -0.192]), 2),\n",
       " (array([ 0.921, -0.506]), 2),\n",
       " (array([-2.6  ,  2.918]), 0),\n",
       " (array([-3.104,  3.244]), 0),\n",
       " (array([-2.593,  2.769]), 0),\n",
       " (array([-3.375,  1.254]), 1),\n",
       " (array([-1.574,  1.439]), 1),\n",
       " (array([-3.215,  1.296]), 1),\n",
       " (array([ 0.966, -1.009]), 2),\n",
       " (array([ 1.437, -0.89 ]), 2),\n",
       " (array([-3.655,  3.553]), 0),\n",
       " (array([-3.728,  3.884]), 0),\n",
       " (array([ 1.623, -1.441]), 2),\n",
       " (array([ 2.034, -2.156]), 2),\n",
       " (array([ 1.448, -1.656]), 2),\n",
       " (array([ 0.903, -0.952]), 2),\n",
       " (array([-3.405,  1.205]), 1),\n",
       " (array([ 1.357, -1.687]), 2),\n",
       " (array([-1.313,  0.85 ]), 1),\n",
       " (array([ 0.624, -0.514]), 2),\n",
       " (array([-1.83 , -0.766]), 1),\n",
       " (array([-4.451,  2.969]), 0),\n",
       " (array([-3.497,  1.508]), 1),\n",
       " (array([-2.642,  0.405]), 1),\n",
       " (array([-2.655,  0.517]), 1),\n",
       " (array([ 1.278, -0.789]), 2),\n",
       " (array([0.343, 0.046]), 2),\n",
       " (array([-4.392,  2.985]), 0),\n",
       " (array([-2.89 ,  0.464]), 1),\n",
       " (array([ 0.366, -0.328]), 2),\n",
       " (array([-3.355,  2.597]), 0),\n",
       " (array([-3.256,  3.127]), 0),\n",
       " (array([0.915, 0.068]), 2),\n",
       " (array([-2.923,  3.505]), 0),\n",
       " (array([-3.53 ,  3.668]), 0),\n",
       " (array([-4.282,  4.77 ]), 0),\n",
       " (array([ 0.457, -0.498]), 2),\n",
       " (array([ 1.188, -0.917]), 2),\n",
       " (array([ 0.956, -0.286]), 2),\n",
       " (array([-2.559,  0.067]), 1),\n",
       " (array([-2.968,  2.791]), 0),\n",
       " (array([-3.247,  0.885]), 1),\n",
       " (array([ 0.924, -0.948]), 2),\n",
       " (array([-3.737,  1.751]), 0),\n",
       " (array([ 0.668, -0.171]), 2),\n",
       " (array([ 0.996, -1.154]), 2),\n",
       " (array([-2.529,  0.257]), 1),\n",
       " (array([-1.878,  1.661]), 1),\n",
       " (array([ 0.917, -0.555]), 2),\n",
       " (array([-3.148,  3.891]), 0),\n",
       " (array([-3.977,  2.746]), 0),\n",
       " (array([-2.516,  0.453]), 1),\n",
       " (array([ 0.318, -0.002]), 2),\n",
       " (array([-1.722,  1.165]), 1),\n",
       " (array([-2.807,  0.455]), 1),\n",
       " (array([ 2.416, -2.774]), 2),\n",
       " (array([-2.747,  0.476]), 1),\n",
       " (array([ 1.029, -0.783]), 2),\n",
       " (array([0.665, 0.019]), 2),\n",
       " (array([ 0.876, -0.58 ]), 2),\n",
       " (array([ 1.459, -1.95 ]), 2),\n",
       " (array([ 1.522, -1.849]), 2),\n",
       " (array([ 1.582, -1.143]), 2),\n",
       " (array([-2.171,  2.037]), 1),\n",
       " (array([-2.827,  3.225]), 0),\n",
       " (array([-3.521,  3.895]), 0),\n",
       " (array([ 1.653, -1.872]), 2),\n",
       " (array([-3.883,  4.12 ]), 0),\n",
       " (array([-2.411,  1.382]), 1),\n",
       " (array([0.132, 0.202]), 2),\n",
       " (array([ 1.207, -0.962]), 2),\n",
       " (array([-2.114,  1.93 ]), 1),\n",
       " (array([-2.596,  0.156]), 1),\n",
       " (array([-2.405,  0.275]), 1),\n",
       " (array([-2.401,  2.507]), 0),\n",
       " (array([-2.351,  2.288]), 0),\n",
       " (array([-3.354,  1.247]), 1),\n",
       " (array([ 0.781, -0.866]), 2),\n",
       " (array([ 0.683, -0.241]), 2),\n",
       " (array([-3.793,  2.413]), 0),\n",
       " (array([-2.051,  1.893]), 1),\n",
       " (array([0.02 , 0.666]), 2),\n",
       " (array([ 1.238, -0.576]), 2),\n",
       " (array([-2.696,  2.999]), 0),\n",
       " (array([-2.859,  3.015]), 0),\n",
       " (array([-3.701,  4.528]), 0),\n",
       " (array([ 0.383, -0.204]), 2),\n",
       " (array([-2.904,  0.515]), 1),\n",
       " (array([-2.513,  2.371]), 0),\n",
       " (array([ 0.53 , -0.467]), 2),\n",
       " (array([ 2.077, -1.706]), 2),\n",
       " (array([-2.552,  0.127]), 1),\n",
       " (array([ 1.508, -1.608]), 2),\n",
       " (array([-2.498,  2.525]), 0),\n",
       " (array([-2.496,  0.525]), 1),\n",
       " (array([-4.005,  4.633]), 0),\n",
       " (array([-1.619, -1.289]), 1),\n",
       " (array([0.139, 0.621]), 2),\n",
       " (array([ 1.095, -1.339]), 2),\n",
       " (array([-3.386,  1.534]), 1),\n",
       " (array([-3.477,  1.699]), 0),\n",
       " (array([-3.013,  1.41 ]), 1),\n",
       " (array([-3.043,  2.765]), 0),\n",
       " (array([-0.286,  0.848]), 2),\n",
       " (array([-2.569,  2.77 ]), 0),\n",
       " (array([ 1.963, -2.232]), 2),\n",
       " (array([ 1.173, -0.942]), 2),\n",
       " (array([-2.913,  3.171]), 0),\n",
       " (array([ 1.115, -0.623]), 2),\n",
       " (array([-2.591,  0.405]), 1),\n",
       " (array([-2.685,  2.476]), 0),\n",
       " (array([-2.247,  2.247]), 0),\n",
       " (array([-3.315,  1.436]), 1),\n",
       " (array([ 1.618, -1.837]), 2),\n",
       " (array([-2.697,  0.108]), 1),\n",
       " (array([ 1.376, -1.225]), 2),\n",
       " (array([-3.136,  3.012]), 0),\n",
       " (array([-0.024,  0.255]), 2),\n",
       " (array([-3.32 ,  1.063]), 1),\n",
       " (array([-3.983,  4.187]), 0),\n",
       " (array([-1.785, -0.286]), 1),\n",
       " (array([-3.321,  0.829]), 1),\n",
       " (array([-3.278,  3.108]), 0),\n",
       " (array([ 1.48 , -1.289]), 2),\n",
       " (array([-2.777,  2.424]), 0),\n",
       " (array([ 0.019, -0.036]), 2),\n",
       " (array([ 1.507, -1.361]), 2),\n",
       " (array([ 1.966, -2.331]), 2),\n",
       " (array([-2.058, -0.465]), 1),\n",
       " (array([0.452, 0.036]), 2),\n",
       " (array([-2.02 ,  1.735]), 1),\n",
       " (array([ 0.878, -0.508]), 2),\n",
       " (array([-2.048, -0.738]), 1),\n",
       " (array([-2.619,  2.596]), 0),\n",
       " (array([-3.284,  3.599]), 0),\n",
       " (array([-3.297,  1.415]), 1),\n",
       " (array([-1.958, -1.142]), 1),\n",
       " (array([ 2.229, -2.122]), 2),\n",
       " (array([-3.227,  0.727]), 1),\n",
       " (array([-1.314,  1.037]), 1),\n",
       " (array([ 1.125, -0.975]), 2),\n",
       " (array([-2.455,  0.386]), 1),\n",
       " (array([ 1.351, -1.547]), 2),\n",
       " (array([-3.577,  1.678]), 0),\n",
       " (array([ 0.833, -0.124]), 2),\n",
       " (array([-4.398,  2.348]), 0),\n",
       " (array([-3.065,  0.911]), 1),\n",
       " (array([ 1.573, -1.601]), 2),\n",
       " (array([-0.905,  0.512]), 1),\n",
       " (array([-3.432,  3.232]), 0),\n",
       " (array([ 1.793, -1.328]), 2),\n",
       " (array([ 0.895, -0.614]), 2),\n",
       " (array([0.581, 0.012]), 2),\n",
       " (array([-1.122,  0.473]), 1),\n",
       " (array([ 0.403, -0.415]), 2),\n",
       " (array([-3.432,  1.688]), 0),\n",
       " (array([-2.457,  0.148]), 1),\n",
       " (array([-3.701,  1.104]), 1),\n",
       " (array([-2.019, -0.607]), 1),\n",
       " (array([ 1.555, -1.241]), 2),\n",
       " (array([-3.376,  3.632]), 0),\n",
       " (array([ 1.036, -0.392]), 2),\n",
       " (array([ 1.261, -1.222]), 2),\n",
       " (array([-2.979,  3.108]), 0),\n",
       " (array([-0.409,  1.337]), 1),\n",
       " (array([-3.606,  3.296]), 0),\n",
       " (array([-3.032,  3.184]), 0),\n",
       " (array([-0.071,  0.647]), 2),\n",
       " (array([-2.693,  2.052]), 0),\n",
       " (array([-1.983,  1.52 ]), 1),\n",
       " (array([-2.343,  2.071]), 0),\n",
       " (array([-2.505, -0.039]), 1),\n",
       " (array([-1.98 ,  1.472]), 1),\n",
       " (array([-1.685,  1.077]), 1),\n",
       " (array([ 1.274, -1.421]), 2),\n",
       " (array([ 1.309, -0.899]), 2),\n",
       " (array([ 0.878, -0.824]), 2),\n",
       " (array([-2.683,  0.131]), 1),\n",
       " (array([ 0.945, -1.156]), 2),\n",
       " (array([-3.3 ,  0.93]), 1),\n",
       " (array([-2.79 ,  0.797]), 1),\n",
       " (array([-2.721,  2.502]), 0),\n",
       " (array([-2.067,  0.437]), 1),\n",
       " (array([-3.656,  1.961]), 0),\n",
       " (array([-2.285,  2.415]), 0),\n",
       " (array([-2.505,  2.259]), 0),\n",
       " (array([-4.811,  3.038]), 0),\n",
       " (array([ 2.016, -2.028]), 2),\n",
       " (array([-1.846, -0.016]), 1),\n",
       " (array([-0.091,  0.495]), 2),\n",
       " (array([-4.115,  2.32 ]), 0),\n",
       " (array([ 1.095, -1.523]), 2),\n",
       " (array([ 0.127, -0.068]), 2),\n",
       " (array([ 1.56 , -1.228]), 2),\n",
       " (array([ 1.496, -1.108]), 2),\n",
       " (array([ 1.261, -1.405]), 2),\n",
       " (array([-5.241,  3.576]), 0),\n",
       " (array([ 1.601, -1.498]), 2),\n",
       " (array([ 0.661, -0.225]), 2),\n",
       " (array([-2.684,  0.088]), 1),\n",
       " (array([-1.953, -0.823]), 1),\n",
       " (array([-2.24,  1.79]), 1),\n",
       " (array([-3.404,  1.569]), 1),\n",
       " (array([ 0.545, -0.124]), 2),\n",
       " (array([-3.255,  3.533]), 0),\n",
       " (array([ 0.695, -0.462]), 2),\n",
       " (array([-3.265,  3.362]), 0),\n",
       " (array([-2.723,  0.294]), 1),\n",
       " (array([-2.495,  0.486]), 1),\n",
       " (array([-3.486,  0.464]), 1),\n",
       " (array([ 1.503, -1.89 ]), 2),\n",
       " (array([-3.209,  1.288]), 1),\n",
       " (array([-1.997,  2.268]), 0),\n",
       " (array([ 0.362, -0.106]), 2),\n",
       " (array([-2.743,  0.303]), 1),\n",
       " (array([-2.48,  0.36]), 1),\n",
       " (array([-4.468,  2.449]), 0),\n",
       " (array([-3.765,  1.271]), 1),\n",
       " (array([-2.871,  0.621]), 1),\n",
       " (array([-1.856,  1.51 ]), 1),\n",
       " (array([-1.863,  1.577]), 1),\n",
       " (array([-4.424,  2.757]), 0),\n",
       " (array([-3.125,  1.207]), 1),\n",
       " (array([-2.82 ,  3.133]), 0),\n",
       " (array([-3.153,  1.432]), 1),\n",
       " (array([-2.345,  2.292]), 0),\n",
       " (array([ 1.404, -1.055]), 2),\n",
       " (array([-4.052,  2.369]), 0),\n",
       " (array([-2.016,  1.825]), 1),\n",
       " (array([-1.661,  0.969]), 1),\n",
       " (array([-0.102,  0.858]), 2),\n",
       " (array([-0.266,  1.277]), 1),\n",
       " (array([0.15 , 0.742]), 2),\n",
       " (array([-3.332,  1.691]), 0),\n",
       " (array([-3.22 ,  0.925]), 1),\n",
       " (array([ 0.497, -0.181]), 2),\n",
       " (array([-3.713,  3.865]), 0),\n",
       " (array([-3.548,  3.378]), 0),\n",
       " (array([ 1.46 , -0.795]), 2),\n",
       " (array([-2.939,  3.2  ]), 0),\n",
       " (array([ 0.82 , -0.558]), 2),\n",
       " (array([-2.816,  0.315]), 1),\n",
       " (array([-3.467,  3.955]), 0),\n",
       " (array([ 1.025, -1.276]), 2),\n",
       " (array([-3.357,  1.348]), 1),\n",
       " (array([-2.227,  2.25 ]), 0),\n",
       " (array([-2.793,  1.198]), 1),\n",
       " (array([-3.566,  1.402]), 1),\n",
       " (array([-2.237,  0.293]), 1),\n",
       " (array([ 1.583, -1.449]), 2),\n",
       " (array([ 0.561, -0.386]), 2),\n",
       " (array([-2.697,  3.138]), 0),\n",
       " (array([-1.54 ,  1.125]), 1),\n",
       " (array([-2.887,  0.667]), 1),\n",
       " (array([ 0.924, -0.853]), 2),\n",
       " (array([-2.626,  0.318]), 1),\n",
       " (array([-1.731,  1.296]), 1),\n",
       " (array([-3.574,  1.801]), 0),\n",
       " (array([-3.363,  1.08 ]), 1),\n",
       " (array([-3.592,  1.801]), 0),\n",
       " (array([-2.652,  2.406]), 0),\n",
       " (array([-2.719,  0.301]), 1),\n",
       " (array([-3.858,  1.684]), 0),\n",
       " (array([ 0.092, -0.019]), 2),\n",
       " (array([ 1.467, -1.505]), 2),\n",
       " (array([ 1.929, -2.222]), 2),\n",
       " (array([-3.178,  3.593]), 0),\n",
       " (array([ 1.414, -1.462]), 2),\n",
       " (array([ 0.308, -0.39 ]), 2),\n",
       " (array([-2.961,  3.385]), 0),\n",
       " (array([-2.571,  0.227]), 1),\n",
       " (array([-3.558,  3.493]), 0),\n",
       " (array([-2.337,  2.644]), 0),\n",
       " (array([-0.003,  0.332]), 2),\n",
       " (array([-3.149,  3.444]), 0),\n",
       " (array([ 1.726, -1.545]), 2),\n",
       " (array([-3.946,  1.242]), 1),\n",
       " (array([ 0.981, -1.278]), 2),\n",
       " (array([-0.11 ,  0.022]), 2),\n",
       " (array([-3.311,  0.528]), 1),\n",
       " (array([-1.857,  1.671]), 1),\n",
       " (array([-3.51,  0.9 ]), 1),\n",
       " (array([ 0.775, -0.862]), 2),\n",
       " (array([-3.172,  3.215]), 0),\n",
       " (array([-4.231,  1.553]), 0),\n",
       " (array([-3.681,  1.573]), 0),\n",
       " (array([ 1.136, -0.966]), 2),\n",
       " (array([-3.865,  3.966]), 0),\n",
       " (array([-3.09 ,  0.791]), 1),\n",
       " (array([-3.109,  1.138]), 1),\n",
       " (array([ 1.164, -0.803]), 2),\n",
       " (array([-4.065,  1.831]), 0),\n",
       " (array([ 0.362, -0.072]), 2),\n",
       " (array([ 0.984, -0.784]), 2),\n",
       " (array([-3.361,  3.607]), 0),\n",
       " (array([-1.503,  1.287]), 1),\n",
       " (array([ 1.898, -2.019]), 2),\n",
       " (array([-2.502,  0.586]), 1),\n",
       " (array([ 2.118, -1.995]), 2),\n",
       " (array([ 0.941, -0.65 ]), 2),\n",
       " (array([-2.225,  2.563]), 0),\n",
       " (array([-2.555,  0.634]), 1),\n",
       " (array([ 1.476, -0.572]), 2),\n",
       " (array([-3.02 ,  0.958]), 1),\n",
       " (array([ 0.746, -0.285]), 2),\n",
       " (array([-2.195,  2.199]), 0),\n",
       " (array([-3.554,  0.937]), 1),\n",
       " (array([-3.488,  4.276]), 0),\n",
       " (array([-2.416,  1.906]), 1),\n",
       " (array([ 2.011, -2.152]), 2),\n",
       " (array([ 2.578, -2.885]), 2),\n",
       " (array([-2.501,  1.792]), 1),\n",
       " (array([-2.995,  1.151]), 1),\n",
       " (array([-1.521,  1.002]), 1),\n",
       " (array([-3.651,  4.648]), 0),\n",
       " (array([-1.933,  1.563]), 1),\n",
       " (array([-2.811,  2.9  ]), 0),\n",
       " (array([ 0.924, -0.858]), 2),\n",
       " (array([-4.975,  3.341]), 0),\n",
       " (array([-2.018, -0.36 ]), 1),\n",
       " (array([ 2.017, -2.327]), 2),\n",
       " (array([ 0.943, -1.391]), 2),\n",
       " (array([-3.722,  3.887]), 0),\n",
       " (array([-3.035,  0.683]), 1),\n",
       " (array([ 2.375, -3.072]), 2),\n",
       " (array([-3.341,  0.942]), 1),\n",
       " (array([-1.925,  1.872]), 1),\n",
       " (array([-4.029,  2.321]), 0),\n",
       " (array([-2.536,  2.117]), 0),\n",
       " (array([-2.233,  2.187]), 0),\n",
       " (array([-2.864,  0.494]), 1),\n",
       " (array([-2.602, -0.164]), 1),\n",
       " (array([-3.204,  3.193]), 0),\n",
       " (array([-0.216,  0.634]), 2),\n",
       " (array([ 1.625, -1.792]), 2),\n",
       " (array([-2.25 , -0.378]), 1),\n",
       " (array([-2.817,  2.886]), 0),\n",
       " (array([-4.339,  2.944]), 0),\n",
       " (array([-3.355,  1.556]), 1),\n",
       " (array([-3.192,  3.136]), 0),\n",
       " (array([-3.174,  3.316]), 0),\n",
       " (array([ 1.219, -1.403]), 2),\n",
       " (array([-1.895,  1.769]), 1),\n",
       " (array([-2.926,  0.64 ]), 1),\n",
       " (array([-3.691,  1.852]), 0),\n",
       " (array([ 1.899, -1.957]), 2),\n",
       " (array([-3.225,  0.615]), 1),\n",
       " (array([-3.786,  1.652]), 0),\n",
       " (array([-2.032,  1.577]), 1),\n",
       " (array([-3.679,  1.744]), 0),\n",
       " (array([0.331, 0.274]), 2),\n",
       " (array([-1.547,  1.216]), 1),\n",
       " (array([0.411, 0.235]), 2),\n",
       " (array([-3.154,  1.17 ]), 1),\n",
       " (array([-3.452,  1.78 ]), 0),\n",
       " (array([-3.168,  3.367]), 0),\n",
       " (array([-3.573,  2.019]), 0),\n",
       " (array([-2.138,  2.233]), 0),\n",
       " (array([-2.737,  2.513]), 0),\n",
       " (array([ 1.337, -1.681]), 2),\n",
       " (array([-3.078,  0.381]), 1),\n",
       " (array([ 1.786, -1.457]), 2),\n",
       " (array([-3.273,  3.239]), 0),\n",
       " (array([-3.612,  2.107]), 0),\n",
       " (array([-2.649,  0.883]), 1),\n",
       " (array([ 1.684, -1.776]), 2),\n",
       " (array([-2.157,  2.313]), 0),\n",
       " (array([ 1.169, -1.128]), 2),\n",
       " (array([-3.031,  0.379]), 1),\n",
       " (array([ 0.921, -1.195]), 2),\n",
       " (array([-2.759,  2.478]), 0),\n",
       " (array([-3.333,  1.285]), 1),\n",
       " (array([-3.181,  0.98 ]), 1),\n",
       " (array([ 0.832, -1.073]), 2),\n",
       " (array([-2.926,  0.797]), 1),\n",
       " (array([-3.362,  2.149]), 0),\n",
       " (array([ 1.762, -1.379]), 2),\n",
       " (array([-4.31 ,  2.735]), 0),\n",
       " (array([-2.76 ,  2.524]), 0),\n",
       " (array([-2.751,  0.471]), 1),\n",
       " (array([-2.367,  2.007]), 1),\n",
       " (array([-4.472,  2.337]), 0),\n",
       " (array([-2.806,  2.517]), 0),\n",
       " (array([-3.391,  3.246]), 0),\n",
       " (array([-3.207,  1.162]), 1),\n",
       " (array([-1.814, -0.493]), 1),\n",
       " (array([ 1.369, -1.686]), 2),\n",
       " (array([-1.085,  1.762]), 1),\n",
       " (array([0.067, 0.642]), 2),\n",
       " (array([-3.928,  4.533]), 0),\n",
       " (array([0.354, 0.298]), 2),\n",
       " (array([-2.219,  2.188]), 0),\n",
       " (array([-2.314,  2.555]), 0),\n",
       " (array([-2.807,  0.708]), 1),\n",
       " (array([ 1.168, -0.773]), 2),\n",
       " (array([-3.072,  0.71 ]), 1),\n",
       " (array([ 1.038, -0.643]), 2),\n",
       " (array([ 0.657, -0.397]), 2),\n",
       " (array([-3.359,  3.053]), 0),\n",
       " (array([-2.295,  0.049]), 1),\n",
       " (array([-3.688,  1.36 ]), 1),\n",
       " (array([-3.132,  2.613]), 0),\n",
       " (array([-4.867,  3.181]), 0),\n",
       " (array([-1.853,  1.504]), 1),\n",
       " (array([-2.474,  2.046]), 0),\n",
       " (array([-2.839,  0.391]), 1),\n",
       " (array([-3.102,  3.174]), 0),\n",
       " (array([-2.969,  2.939]), 0),\n",
       " (array([ 1.644, -2.259]), 2),\n",
       " (array([-3.831,  4.345]), 0),\n",
       " (array([-3.449,  3.797]), 0),\n",
       " (array([-3.413,  0.98 ]), 1),\n",
       " (array([-3.666,  1.598]), 0),\n",
       " (array([-2.426, -0.265]), 1),\n",
       " (array([-1.919,  1.528]), 1),\n",
       " (array([-2.966,  0.549]), 1),\n",
       " (array([-4.702,  3.185]), 0),\n",
       " (array([ 0.936, -0.659]), 2),\n",
       " (array([ 1.522, -1.991]), 2),\n",
       " (array([-2.69 ,  0.678]), 1),\n",
       " (array([ 0.974, -0.874]), 2),\n",
       " (array([-3.574,  3.214]), 0),\n",
       " (array([-1.533, -0.969]), 1),\n",
       " (array([-3.052,  3.657]), 0),\n",
       " (array([-3.879,  2.122]), 0),\n",
       " (array([-2.618,  0.234]), 1),\n",
       " (array([-2.087, -0.714]), 1),\n",
       " (array([ 1.552, -1.687]), 2),\n",
       " (array([ 0.733, -0.616]), 2),\n",
       " (array([ 0.458, -0.47 ]), 2),\n",
       " (array([-2.807,  2.628]), 0),\n",
       " (array([ 0.433, -0.231]), 2),\n",
       " (array([-2.547,  0.237]), 1),\n",
       " (array([ 2.206, -2.888]), 2),\n",
       " (array([-4.125,  1.59 ]), 0),\n",
       " (array([-3.312,  3.088]), 0),\n",
       " (array([ 1.017, -0.806]), 2),\n",
       " (array([-1.938, -0.741]), 1),\n",
       " (array([-3.646,  3.453]), 0),\n",
       " (array([-3.474,  3.696]), 0),\n",
       " (array([-3.805,  4.619]), 0),\n",
       " (array([ 0.704, -0.329]), 2),\n",
       " (array([ 0.767, -0.623]), 2),\n",
       " (array([-3.048,  3.165]), 0),\n",
       " (array([-2.415,  0.278]), 1),\n",
       " (array([-4.334,  4.785]), 0),\n",
       " (array([-2.732,  0.256]), 1),\n",
       " (array([-2.557,  0.102]), 1),\n",
       " (array([-1.907,  2.057]), 1),\n",
       " (array([-4.206,  2.413]), 0),\n",
       " (array([-4.733,  2.831]), 0),\n",
       " (array([-2.543,  2.607]), 0),\n",
       " (array([ 1.096, -0.55 ]), 2),\n",
       " (array([-3.039,  0.394]), 1),\n",
       " (array([-2.584, -0.081]), 1),\n",
       " (array([ 0.673, -0.488]), 2),\n",
       " (array([0.34 , 0.019]), 2),\n",
       " (array([-0.049,  0.372]), 2),\n",
       " (array([-1.707, -0.76 ]), 1),\n",
       " (array([-3.251,  3.908]), 0),\n",
       " (array([ 1.495, -1.611]), 2),\n",
       " (array([-2.884,  2.225]), 0),\n",
       " (array([ 0.855, -0.704]), 2),\n",
       " (array([ 2.403, -2.599]), 2),\n",
       " (array([-3.189,  1.149]), 1),\n",
       " (array([-0.351,  0.913]), 1),\n",
       " (array([-4.672,  3.162]), 0),\n",
       " (array([-2.924,  2.673]), 0),\n",
       " (array([-2.883,  2.594]), 0),\n",
       " (array([-4.01 ,  4.599]), 0),\n",
       " (array([-5.701,  4.472]), 0),\n",
       " (array([-3.309,  3.848]), 0),\n",
       " (array([-3.847,  3.755]), 0),\n",
       " (array([-3.897,  1.971]), 0),\n",
       " (array([-3.19 ,  3.787]), 0),\n",
       " (array([-3.118,  0.551]), 1),\n",
       " (array([ 1.43 , -1.541]), 2),\n",
       " (array([-2.599,  0.021]), 1),\n",
       " (array([ 1.202, -1.197]), 2),\n",
       " (array([-1.62 ,  1.364]), 1),\n",
       " (array([ 0.747, -0.438]), 2),\n",
       " (array([ 1.503, -1.486]), 2),\n",
       " (array([-3.358,  0.836]), 1),\n",
       " (array([-4.296,  2.733]), 0),\n",
       " (array([-3.094,  1.179]), 1),\n",
       " (array([-2.806,  0.902]), 1),\n",
       " (array([-3.546,  1.289]), 1),\n",
       " (array([-3.867,  1.679]), 0),\n",
       " (array([-2.116,  1.785]), 1),\n",
       " (array([-3.078,  3.2  ]), 0),\n",
       " (array([-3.562,  0.92 ]), 1),\n",
       " (array([ 1.35 , -0.456]), 2),\n",
       " (array([0.111, 0.466]), 2),\n",
       " (array([-2.913,  3.066]), 0),\n",
       " (array([-3.564,  0.917]), 1),\n",
       " (array([-2.78 ,  2.327]), 0),\n",
       " (array([-2.706,  2.652]), 0),\n",
       " (array([-2.763,  2.755]), 0),\n",
       " (array([-0.508,  1.537]), 1),\n",
       " (array([-2.58 ,  0.661]), 1)]"
      ]
     },
     "execution_count": 51,
     "metadata": {
      "tags": []
     },
     "output_type": "execute_result"
    }
   ],
   "source": [
    "label"
   ]
  },
  {
   "cell_type": "markdown",
   "metadata": {
    "id": "yru7y9cye04R"
   },
   "source": [
    "#1 c) Sum of Squared errors\n"
   ]
  },
  {
   "cell_type": "code",
   "execution_count": 52,
   "metadata": {
    "colab": {
     "base_uri": "https://localhost:8080/"
    },
    "executionInfo": {
     "elapsed": 22270,
     "status": "ok",
     "timestamp": 1617130445944,
     "user": {
      "displayName": "Sughandhan S",
      "photoUrl": "https://lh3.googleusercontent.com/a-/AOh14GgCzJgz5tDGcNqn108PikDmo9i8xVBqBE7WCrGurg=s64",
      "userId": "16893705064560269479"
     },
     "user_tz": -330
    },
    "id": "4Y4Snj8me49d",
    "outputId": "12034551-79e4-497a-c95e-3d765dafcdcd"
   },
   "outputs": [
    {
     "data": {
      "text/plain": [
       "[5834.674847828413,\n",
       " 1888.9535125973907,\n",
       " 1596.0395968614412,\n",
       " 1571.9136649389366,\n",
       " 1553.6156973435607,\n",
       " 1541.7611477156574,\n",
       " 1529.5002738123671,\n",
       " 1508.298990390073,\n",
       " 1473.8753119481478,\n",
       " 1421.2466438103663,\n",
       " 1345.3287747032502,\n",
       " 1250.4056201533754,\n",
       " 1188.5026444159994,\n",
       " 1141.5406173751257,\n",
       " 1123.423819433473,\n",
       " 1118.3043196349822,\n",
       " 1116.690839158535,\n",
       " 1116.370538107828,\n",
       " 1116.2491949940656,\n",
       " 1116.2193177711727]"
      ]
     },
     "execution_count": 52,
     "metadata": {
      "tags": []
     },
     "output_type": "execute_result"
    }
   ],
   "source": [
    "sse"
   ]
  },
  {
   "cell_type": "markdown",
   "metadata": {
    "id": "O7JCKgHLwhFK"
   },
   "source": [
    "#Q2) "
   ]
  },
  {
   "cell_type": "code",
   "execution_count": 53,
   "metadata": {
    "executionInfo": {
     "elapsed": 22267,
     "status": "ok",
     "timestamp": 1617130445945,
     "user": {
      "displayName": "Sughandhan S",
      "photoUrl": "https://lh3.googleusercontent.com/a-/AOh14GgCzJgz5tDGcNqn108PikDmo9i8xVBqBE7WCrGurg=s64",
      "userId": "16893705064560269479"
     },
     "user_tz": -330
    },
    "id": "5e1CmGGU3aIB"
   },
   "outputs": [],
   "source": [
    "def k_means_clus(points, k, centroids):\n",
    "  new_centroids=[1]\n",
    "  flag=0\n",
    "  ite=0\n",
    "  c_dist= []\n",
    "  label=[]\n",
    "  SSE=[]\n",
    "  #sse_per_centroid=[]\n",
    "  #for i in centroids:\n",
    "    #lst=[]\n",
    "    #print(i)\n",
    "    #sse_per_centroid.append(lst)\n",
    "  converged= False\n",
    "  #while converged== False :\n",
    "  n=10\n",
    "  while np.array_equal(centroids, new_centroids)==False and n>0:\n",
    "    c_dist=[]\n",
    "    if flag==1:\n",
    "      centroids = new_centroids\n",
    "    #c_dist= []\n",
    "    new_centroids=[]\n",
    "    ##creating spaces for new centroids\n",
    "    \n",
    "    for i in centroids:\n",
    "      lst=[]\n",
    "      #print(i)\n",
    "      c_dist.append(lst)\n",
    "  \n",
    "    ##grouping points to their closest centroid\n",
    "    label=[]\n",
    "    for i in points:\n",
    "      index=0\n",
    "      lst = []\n",
    "      for j in centroids:\n",
    "        lst.append((np.linalg.norm(i-j), index))\n",
    "        index=index+1\n",
    "      num = min(lst)\n",
    "      label.append((i,num[1]))\n",
    "      c_dist[num[1]].append(i)\n",
    "\n",
    "    ##Calculating new centroids\n",
    "    for i in range(k):\n",
    "      c_dist[i] = np.array(c_dist[i])\n",
    "      x=len(c_dist[i])\n",
    "      x_cor=0\n",
    "      y_cor=0\n",
    "      for j in range(x):\n",
    "        x_cor+= c_dist[i][j][0]\n",
    "        y_cor+= c_dist[i][j][1]\n",
    "      if x!=0:\n",
    "        new_centroids.append([x_cor/x, y_cor/x])\n",
    "      else :\n",
    "        x= np.random.uniform(low=-5.7,high=2.79)\n",
    "        y= np.random.uniform(low=-3.19,high=5.3)\n",
    "        new_centroids.append([x,y])\n",
    "    flag=1\n",
    "    ite=ite+1\n",
    "\n",
    "    ##finding sse\n",
    "    sse=[]\n",
    "    for i in centroids:\n",
    "      lst=[]\n",
    "      #print(i)\n",
    "      sse.append(lst)\n",
    "    idx=0\n",
    "    sum = 0\n",
    "    for i in centroids:\n",
    "      for j in c_dist[idx]:\n",
    "        sum+= (np.linalg.norm(i-j)**2)\n",
    "      idx=idx+1\n",
    "    \n",
    "    SSE.append(sum)\n",
    "    print(centroids)\n",
    "    print(new_centroids)\n",
    "    for i in range(k):\n",
    "      if len(c_dist[i])!=0:\n",
    "        plt.scatter(c_dist[i][:,0], c_dist[i][:,1])\n",
    "    plt.show()\n",
    "    n=n-1\n",
    "  return c_dist, label, SSE"
   ]
  },
  {
   "cell_type": "markdown",
   "metadata": {
    "id": "-iDRX5503TAs"
   },
   "source": [
    "#Q2) A"
   ]
  },
  {
   "cell_type": "code",
   "execution_count": 54,
   "metadata": {
    "executionInfo": {
     "elapsed": 22264,
     "status": "ok",
     "timestamp": 1617130445946,
     "user": {
      "displayName": "Sughandhan S",
      "photoUrl": "https://lh3.googleusercontent.com/a-/AOh14GgCzJgz5tDGcNqn108PikDmo9i8xVBqBE7WCrGurg=s64",
      "userId": "16893705064560269479"
     },
     "user_tz": -330
    },
    "id": "M_d0TdmWwlB8"
   },
   "outputs": [],
   "source": [
    "data = []\n",
    "for i in range(20):\n",
    "  x = np.random.uniform(-1,1)\n",
    "  data.append((x,0))\n",
    "for i in range(20):\n",
    "  x = np.random.uniform(-0.5,1.5)\n",
    "  data.append((x,0))"
   ]
  },
  {
   "cell_type": "code",
   "execution_count": 55,
   "metadata": {
    "colab": {
     "base_uri": "https://localhost:8080/"
    },
    "executionInfo": {
     "elapsed": 22261,
     "status": "ok",
     "timestamp": 1617130445948,
     "user": {
      "displayName": "Sughandhan S",
      "photoUrl": "https://lh3.googleusercontent.com/a-/AOh14GgCzJgz5tDGcNqn108PikDmo9i8xVBqBE7WCrGurg=s64",
      "userId": "16893705064560269479"
     },
     "user_tz": -330
    },
    "id": "St4KB_2IwlAp",
    "outputId": "6a243470-f502-4f5e-ddbb-1d93f8fec38b"
   },
   "outputs": [
    {
     "data": {
      "text/plain": [
       "array([[-0.15080692,  0.        ],\n",
       "       [-0.98248186,  0.        ],\n",
       "       [ 0.50335243,  0.        ],\n",
       "       [-0.41766461,  0.        ],\n",
       "       [-0.69647041,  0.        ],\n",
       "       [ 0.57381936,  0.        ],\n",
       "       [-0.05063554,  0.        ],\n",
       "       [ 0.4677163 ,  0.        ],\n",
       "       [-0.49390754,  0.        ],\n",
       "       [ 0.57465983,  0.        ],\n",
       "       [ 0.78527878,  0.        ],\n",
       "       [-0.36064905,  0.        ],\n",
       "       [-0.37482497,  0.        ],\n",
       "       [-0.07443758,  0.        ],\n",
       "       [ 0.52754836,  0.        ],\n",
       "       [ 0.10090222,  0.        ],\n",
       "       [-0.27144522,  0.        ],\n",
       "       [ 0.98760565,  0.        ],\n",
       "       [ 0.34935478,  0.        ],\n",
       "       [ 0.11184141,  0.        ],\n",
       "       [ 0.80626024,  0.        ],\n",
       "       [ 0.94119016,  0.        ],\n",
       "       [ 1.3284179 ,  0.        ],\n",
       "       [ 0.93546648,  0.        ],\n",
       "       [ 0.47146228,  0.        ],\n",
       "       [ 0.96590123,  0.        ],\n",
       "       [-0.1868937 ,  0.        ],\n",
       "       [-0.08043872,  0.        ],\n",
       "       [-0.17427086,  0.        ],\n",
       "       [ 1.10378064,  0.        ],\n",
       "       [ 0.01007775,  0.        ],\n",
       "       [ 0.65901758,  0.        ],\n",
       "       [ 0.26032335,  0.        ],\n",
       "       [ 0.44969627,  0.        ],\n",
       "       [-0.45675518,  0.        ],\n",
       "       [ 1.34454077,  0.        ],\n",
       "       [ 0.07810487,  0.        ],\n",
       "       [ 0.78028316,  0.        ],\n",
       "       [-0.09771789,  0.        ],\n",
       "       [ 1.18620342,  0.        ]])"
      ]
     },
     "execution_count": 55,
     "metadata": {
      "tags": []
     },
     "output_type": "execute_result"
    }
   ],
   "source": [
    "data = np.array(data)\n",
    "data"
   ]
  },
  {
   "cell_type": "code",
   "execution_count": 56,
   "metadata": {
    "colab": {
     "base_uri": "https://localhost:8080/"
    },
    "executionInfo": {
     "elapsed": 22260,
     "status": "ok",
     "timestamp": 1617130445951,
     "user": {
      "displayName": "Sughandhan S",
      "photoUrl": "https://lh3.googleusercontent.com/a-/AOh14GgCzJgz5tDGcNqn108PikDmo9i8xVBqBE7WCrGurg=s64",
      "userId": "16893705064560269479"
     },
     "user_tz": -330
    },
    "id": "EBt2AQywwk9i",
    "outputId": "ea5f75a7-40ed-427f-a7cf-e583076a16f4"
   },
   "outputs": [
    {
     "data": {
      "text/plain": [
       "40"
      ]
     },
     "execution_count": 56,
     "metadata": {
      "tags": []
     },
     "output_type": "execute_result"
    }
   ],
   "source": [
    "len(data)"
   ]
  },
  {
   "cell_type": "code",
   "execution_count": 57,
   "metadata": {
    "executionInfo": {
     "elapsed": 22256,
     "status": "ok",
     "timestamp": 1617130445953,
     "user": {
      "displayName": "Sughandhan S",
      "photoUrl": "https://lh3.googleusercontent.com/a-/AOh14GgCzJgz5tDGcNqn108PikDmo9i8xVBqBE7WCrGurg=s64",
      "userId": "16893705064560269479"
     },
     "user_tz": -330
    },
    "id": "h6Ilpwtvwk7G"
   },
   "outputs": [],
   "source": [
    "k=2"
   ]
  },
  {
   "cell_type": "markdown",
   "metadata": {
    "id": "XC722SCFydW4"
   },
   "source": [
    "# i) u1 = -0.1 and u2 = 0.1"
   ]
  },
  {
   "cell_type": "code",
   "execution_count": 58,
   "metadata": {
    "executionInfo": {
     "elapsed": 22250,
     "status": "ok",
     "timestamp": 1617130445954,
     "user": {
      "displayName": "Sughandhan S",
      "photoUrl": "https://lh3.googleusercontent.com/a-/AOh14GgCzJgz5tDGcNqn108PikDmo9i8xVBqBE7WCrGurg=s64",
      "userId": "16893705064560269479"
     },
     "user_tz": -330
    },
    "id": "J1E2JMjSwk4Z"
   },
   "outputs": [],
   "source": [
    "centroids = [[-0.1, 0], [0.1, 0]]"
   ]
  },
  {
   "cell_type": "code",
   "execution_count": 59,
   "metadata": {
    "colab": {
     "base_uri": "https://localhost:8080/"
    },
    "executionInfo": {
     "elapsed": 22247,
     "status": "ok",
     "timestamp": 1617130445957,
     "user": {
      "displayName": "Sughandhan S",
      "photoUrl": "https://lh3.googleusercontent.com/a-/AOh14GgCzJgz5tDGcNqn108PikDmo9i8xVBqBE7WCrGurg=s64",
      "userId": "16893705064560269479"
     },
     "user_tz": -330
    },
    "id": "T9pYGeshwk16",
    "outputId": "2642a374-dc2a-45aa-b89a-7ed511bdd0e4"
   },
   "outputs": [
    {
     "data": {
      "text/plain": [
       "list"
      ]
     },
     "execution_count": 59,
     "metadata": {
      "tags": []
     },
     "output_type": "execute_result"
    }
   ],
   "source": [
    "type(centroids)"
   ]
  },
  {
   "cell_type": "code",
   "execution_count": 60,
   "metadata": {
    "colab": {
     "base_uri": "https://localhost:8080/"
    },
    "executionInfo": {
     "elapsed": 22242,
     "status": "ok",
     "timestamp": 1617130445957,
     "user": {
      "displayName": "Sughandhan S",
      "photoUrl": "https://lh3.googleusercontent.com/a-/AOh14GgCzJgz5tDGcNqn108PikDmo9i8xVBqBE7WCrGurg=s64",
      "userId": "16893705064560269479"
     },
     "user_tz": -330
    },
    "id": "Kmgcq6d8wkzN",
    "outputId": "7a5a9433-86e7-429b-d85e-ef13a593e7b4"
   },
   "outputs": [
    {
     "data": {
      "text/plain": [
       "array([[-0.1,  0. ],\n",
       "       [ 0.1,  0. ]])"
      ]
     },
     "execution_count": 60,
     "metadata": {
      "tags": []
     },
     "output_type": "execute_result"
    }
   ],
   "source": [
    "centroids = np.array(centroids)\n",
    "centroids"
   ]
  },
  {
   "cell_type": "code",
   "execution_count": 61,
   "metadata": {
    "colab": {
     "base_uri": "https://localhost:8080/",
     "height": 1000
    },
    "executionInfo": {
     "elapsed": 23111,
     "status": "ok",
     "timestamp": 1617130446830,
     "user": {
      "displayName": "Sughandhan S",
      "photoUrl": "https://lh3.googleusercontent.com/a-/AOh14GgCzJgz5tDGcNqn108PikDmo9i8xVBqBE7WCrGurg=s64",
      "userId": "16893705064560269479"
     },
     "user_tz": -330
    },
    "id": "ENecJwpLwkwI",
    "outputId": "3c7e3bb6-48d7-40fe-ae6e-9dc8c0b2073b"
   },
   "outputs": [
    {
     "name": "stdout",
     "output_type": "stream",
     "text": [
      "[[-0.1  0. ]\n",
      " [ 0.1  0. ]]\n",
      "[[-0.3246266718241605, 0.0], [0.6521122092814425, 0.0]]\n"
     ]
    },
    {
     "data": {
      "image/png": "[encoded data removed]",
      "text/plain": [
       "<Figure size 432x288 with 1 Axes>"
      ]
     },
     "metadata": {
      "needs_background": "light",
      "tags": []
     },
     "output_type": "display_data"
    },
    {
     "name": "stdout",
     "output_type": "stream",
     "text": [
      "[[-0.3246266718241605, 0.0], [0.6521122092814425, 0.0]]\n",
      "[[-0.24044599124234164, 0.0], [0.7619942375370548, 0.0]]\n"
     ]
    },
    {
     "data": {
      "image/png": "[encoded data removed]",
      "text/plain": [
       "<Figure size 432x288 with 1 Axes>"
      ]
     },
     "metadata": {
      "needs_background": "light",
      "tags": []
     },
     "output_type": "display_data"
    },
    {
     "name": "stdout",
     "output_type": "stream",
     "text": [
      "[[-0.24044599124234164, 0.0], [0.7619942375370548, 0.0]]\n",
      "[[-0.21540752402555308, 0.0], [0.7870777817592359, 0.0]]\n"
     ]
    },
    {
     "data": {
      "image/png": "[encoded data removed]",
      "text/plain": [
       "<Figure size 432x288 with 1 Axes>"
      ]
     },
     "metadata": {
      "needs_background": "light",
      "tags": []
     },
     "output_type": "display_data"
    },
    {
     "name": "stdout",
     "output_type": "stream",
     "text": [
      "[[-0.21540752402555308, 0.0], [0.7870777817592359, 0.0]]\n",
      "[[-0.21540752402555308, 0.0], [0.7870777817592359, 0.0]]\n"
     ]
    },
    {
     "data": {
      "image/png": "[encoded data removed]",
      "text/plain": [
       "<Figure size 432x288 with 1 Axes>"
      ]
     },
     "metadata": {
      "needs_background": "light",
      "tags": []
     },
     "output_type": "display_data"
    }
   ],
   "source": [
    "c_dist, label, sse = k_means_clus(data, k, centroids)"
   ]
  },
  {
   "cell_type": "code",
   "execution_count": 62,
   "metadata": {
    "colab": {
     "base_uri": "https://localhost:8080/"
    },
    "executionInfo": {
     "elapsed": 23100,
     "status": "ok",
     "timestamp": 1617130446831,
     "user": {
      "displayName": "Sughandhan S",
      "photoUrl": "https://lh3.googleusercontent.com/a-/AOh14GgCzJgz5tDGcNqn108PikDmo9i8xVBqBE7WCrGurg=s64",
      "userId": "16893705064560269479"
     },
     "user_tz": -330
    },
    "id": "YPq2ZStTwkse",
    "outputId": "9e58ffef-e06a-418c-c21c-0a795a4d0f02"
   },
   "outputs": [
    {
     "data": {
      "text/plain": [
       "[array([[-0.15080692,  0.        ],\n",
       "        [-0.98248186,  0.        ],\n",
       "        [-0.41766461,  0.        ],\n",
       "        [-0.69647041,  0.        ],\n",
       "        [-0.05063554,  0.        ],\n",
       "        [-0.49390754,  0.        ],\n",
       "        [-0.36064905,  0.        ],\n",
       "        [-0.37482497,  0.        ],\n",
       "        [-0.07443758,  0.        ],\n",
       "        [ 0.10090222,  0.        ],\n",
       "        [-0.27144522,  0.        ],\n",
       "        [ 0.11184141,  0.        ],\n",
       "        [-0.1868937 ,  0.        ],\n",
       "        [-0.08043872,  0.        ],\n",
       "        [-0.17427086,  0.        ],\n",
       "        [ 0.01007775,  0.        ],\n",
       "        [ 0.26032335,  0.        ],\n",
       "        [-0.45675518,  0.        ],\n",
       "        [ 0.07810487,  0.        ],\n",
       "        [-0.09771789,  0.        ]]), array([[0.50335243, 0.        ],\n",
       "        [0.57381936, 0.        ],\n",
       "        [0.4677163 , 0.        ],\n",
       "        [0.57465983, 0.        ],\n",
       "        [0.78527878, 0.        ],\n",
       "        [0.52754836, 0.        ],\n",
       "        [0.98760565, 0.        ],\n",
       "        [0.34935478, 0.        ],\n",
       "        [0.80626024, 0.        ],\n",
       "        [0.94119016, 0.        ],\n",
       "        [1.3284179 , 0.        ],\n",
       "        [0.93546648, 0.        ],\n",
       "        [0.47146228, 0.        ],\n",
       "        [0.96590123, 0.        ],\n",
       "        [1.10378064, 0.        ],\n",
       "        [0.65901758, 0.        ],\n",
       "        [0.44969627, 0.        ],\n",
       "        [1.34454077, 0.        ],\n",
       "        [0.78028316, 0.        ],\n",
       "        [1.18620342, 0.        ]])]"
      ]
     },
     "execution_count": 62,
     "metadata": {
      "tags": []
     },
     "output_type": "execute_result"
    }
   ],
   "source": [
    "c_dist"
   ]
  },
  {
   "cell_type": "code",
   "execution_count": 63,
   "metadata": {
    "colab": {
     "base_uri": "https://localhost:8080/"
    },
    "executionInfo": {
     "elapsed": 23092,
     "status": "ok",
     "timestamp": 1617130446832,
     "user": {
      "displayName": "Sughandhan S",
      "photoUrl": "https://lh3.googleusercontent.com/a-/AOh14GgCzJgz5tDGcNqn108PikDmo9i8xVBqBE7WCrGurg=s64",
      "userId": "16893705064560269479"
     },
     "user_tz": -330
    },
    "id": "HwkqckHawkoW",
    "outputId": "8e86f5e4-a713-4dca-be90-0cc1339e5324"
   },
   "outputs": [
    {
     "data": {
      "text/plain": [
       "[(array([-0.15080692,  0.        ]), 0),\n",
       " (array([-0.98248186,  0.        ]), 0),\n",
       " (array([0.50335243, 0.        ]), 1),\n",
       " (array([-0.41766461,  0.        ]), 0),\n",
       " (array([-0.69647041,  0.        ]), 0),\n",
       " (array([0.57381936, 0.        ]), 1),\n",
       " (array([-0.05063554,  0.        ]), 0),\n",
       " (array([0.4677163, 0.       ]), 1),\n",
       " (array([-0.49390754,  0.        ]), 0),\n",
       " (array([0.57465983, 0.        ]), 1),\n",
       " (array([0.78527878, 0.        ]), 1),\n",
       " (array([-0.36064905,  0.        ]), 0),\n",
       " (array([-0.37482497,  0.        ]), 0),\n",
       " (array([-0.07443758,  0.        ]), 0),\n",
       " (array([0.52754836, 0.        ]), 1),\n",
       " (array([0.10090222, 0.        ]), 0),\n",
       " (array([-0.27144522,  0.        ]), 0),\n",
       " (array([0.98760565, 0.        ]), 1),\n",
       " (array([0.34935478, 0.        ]), 1),\n",
       " (array([0.11184141, 0.        ]), 0),\n",
       " (array([0.80626024, 0.        ]), 1),\n",
       " (array([0.94119016, 0.        ]), 1),\n",
       " (array([1.3284179, 0.       ]), 1),\n",
       " (array([0.93546648, 0.        ]), 1),\n",
       " (array([0.47146228, 0.        ]), 1),\n",
       " (array([0.96590123, 0.        ]), 1),\n",
       " (array([-0.1868937,  0.       ]), 0),\n",
       " (array([-0.08043872,  0.        ]), 0),\n",
       " (array([-0.17427086,  0.        ]), 0),\n",
       " (array([1.10378064, 0.        ]), 1),\n",
       " (array([0.01007775, 0.        ]), 0),\n",
       " (array([0.65901758, 0.        ]), 1),\n",
       " (array([0.26032335, 0.        ]), 0),\n",
       " (array([0.44969627, 0.        ]), 1),\n",
       " (array([-0.45675518,  0.        ]), 0),\n",
       " (array([1.34454077, 0.        ]), 1),\n",
       " (array([0.07810487, 0.        ]), 0),\n",
       " (array([0.78028316, 0.        ]), 1),\n",
       " (array([-0.09771789,  0.        ]), 0),\n",
       " (array([1.18620342, 0.        ]), 1)]"
      ]
     },
     "execution_count": 63,
     "metadata": {
      "tags": []
     },
     "output_type": "execute_result"
    }
   ],
   "source": [
    "label"
   ]
  },
  {
   "cell_type": "code",
   "execution_count": 64,
   "metadata": {
    "colab": {
     "base_uri": "https://localhost:8080/"
    },
    "executionInfo": {
     "elapsed": 23084,
     "status": "ok",
     "timestamp": 1617130446833,
     "user": {
      "displayName": "Sughandhan S",
      "photoUrl": "https://lh3.googleusercontent.com/a-/AOh14GgCzJgz5tDGcNqn108PikDmo9i8xVBqBE7WCrGurg=s64",
      "userId": "16893705064560269479"
     },
     "user_tz": -330
    },
    "id": "5W9EUJkmwkk8",
    "outputId": "d24d95eb-a097-4739-85c9-d6ff3e97ef94"
   },
   "outputs": [
    {
     "data": {
      "text/plain": [
       "[12.929493999836165, 3.860320878982959, 3.471220523424933, 3.4460983427986864]"
      ]
     },
     "execution_count": 64,
     "metadata": {
      "tags": []
     },
     "output_type": "execute_result"
    }
   ],
   "source": [
    "sse"
   ]
  },
  {
   "cell_type": "code",
   "execution_count": 65,
   "metadata": {
    "colab": {
     "base_uri": "https://localhost:8080/"
    },
    "executionInfo": {
     "elapsed": 23077,
     "status": "ok",
     "timestamp": 1617130446834,
     "user": {
      "displayName": "Sughandhan S",
      "photoUrl": "https://lh3.googleusercontent.com/a-/AOh14GgCzJgz5tDGcNqn108PikDmo9i8xVBqBE7WCrGurg=s64",
      "userId": "16893705064560269479"
     },
     "user_tz": -330
    },
    "id": "cCj4t9AloH3Q",
    "outputId": "734e02bc-a892-4b38-da12-f3a827ca2cf0"
   },
   "outputs": [
    {
     "data": {
      "text/plain": [
       "array([-0.15080692, -0.98248186, -0.41766461, -0.69647041, -0.05063554,\n",
       "       -0.49390754, -0.36064905, -0.37482497, -0.07443758,  0.10090222,\n",
       "       -0.27144522,  0.11184141, -0.1868937 , -0.08043872, -0.17427086,\n",
       "        0.01007775,  0.26032335, -0.45675518,  0.07810487, -0.09771789])"
      ]
     },
     "execution_count": 65,
     "metadata": {
      "tags": []
     },
     "output_type": "execute_result"
    }
   ],
   "source": [
    "c_dist[0][:,0]"
   ]
  },
  {
   "cell_type": "code",
   "execution_count": 66,
   "metadata": {
    "colab": {
     "base_uri": "https://localhost:8080/",
     "height": 265
    },
    "executionInfo": {
     "elapsed": 23070,
     "status": "ok",
     "timestamp": 1617130446834,
     "user": {
      "displayName": "Sughandhan S",
      "photoUrl": "https://lh3.googleusercontent.com/a-/AOh14GgCzJgz5tDGcNqn108PikDmo9i8xVBqBE7WCrGurg=s64",
      "userId": "16893705064560269479"
     },
     "user_tz": -330
    },
    "id": "gaokTFwVwkhB",
    "outputId": "1b5f13ae-263d-4e1f-def8-4d1e720ea622"
   },
   "outputs": [
    {
     "data": {
      "image/png": "[encoded data removed]",
      "text/plain": [
       "<Figure size 432x288 with 1 Axes>"
      ]
     },
     "metadata": {
      "needs_background": "light",
      "tags": []
     },
     "output_type": "display_data"
    }
   ],
   "source": [
    "#x = np.zeros(len(c_dist[0]))\n",
    "#y = np.zeros(len(c_dist[1]))\n",
    "#plt.scatter(c_dist[0][:,0], x, color='r')\n",
    "#plt.scatter(c_dist[1][:,1], y, color ='b')\n",
    "for i in range(2):\n",
    "  plt.scatter(c_dist[i][:,0], c_dist[i][:,1])\n",
    "plt.scatter(centroids[0][0], centroids[0][1], marker = '*', color = 'g')\n",
    "plt.scatter(centroids[1][0], centroids[1][1], marker = '*', color ='g')\n",
    "plt.show()"
   ]
  },
  {
   "cell_type": "markdown",
   "metadata": {
    "id": "En3k7Znw3Ohd"
   },
   "source": [
    "# ii) u1 = 0, u2 = 3.5"
   ]
  },
  {
   "cell_type": "code",
   "execution_count": 67,
   "metadata": {
    "executionInfo": {
     "elapsed": 23931,
     "status": "ok",
     "timestamp": 1617130447706,
     "user": {
      "displayName": "Sughandhan S",
      "photoUrl": "https://lh3.googleusercontent.com/a-/AOh14GgCzJgz5tDGcNqn108PikDmo9i8xVBqBE7WCrGurg=s64",
      "userId": "16893705064560269479"
     },
     "user_tz": -330
    },
    "id": "qomEfTalr6n2"
   },
   "outputs": [],
   "source": [
    "def k_means_clus(points, k, centroids):\n",
    "  new_centroids=[1]\n",
    "  flag=0\n",
    "  ite=0\n",
    "  c_dist= []\n",
    "  label=[]\n",
    "  SSE=[]\n",
    "  #sse_per_centroid=[]\n",
    "  #for i in centroids:\n",
    "    #lst=[]\n",
    "    #print(i)\n",
    "    #sse_per_centroid.append(lst)\n",
    "  converged= False\n",
    "  #while converged== False :\n",
    "  n=10\n",
    "  while np.array_equal(centroids, new_centroids)==False and n>0:\n",
    "    c_dist=[]\n",
    "    if flag==1:\n",
    "      centroids = new_centroids\n",
    "    #c_dist= []\n",
    "    new_centroids=[]\n",
    "    ##creating spaces for new centroids\n",
    "    \n",
    "    for i in centroids:\n",
    "      lst=[]\n",
    "      #print(i)\n",
    "      c_dist.append(lst)\n",
    "  \n",
    "    ##grouping points to their closest centroid\n",
    "    label=[]\n",
    "    for i in points:\n",
    "      index=0\n",
    "      lst = []\n",
    "      for j in centroids:\n",
    "        lst.append((np.linalg.norm(i-j), index))\n",
    "        index=index+1\n",
    "      num = min(lst)\n",
    "      label.append((i,num[1]))\n",
    "      c_dist[num[1]].append(i)\n",
    "\n",
    "    ##Calculating new centroids\n",
    "    for i in range(k):\n",
    "      c_dist[i] = np.array(c_dist[i])\n",
    "      x=len(c_dist[i])\n",
    "      x_cor=0\n",
    "      y_cor=0\n",
    "      for j in range(x):\n",
    "        x_cor+= c_dist[i][j][0]\n",
    "        y_cor+= c_dist[i][j][1]\n",
    "      if x!=0:\n",
    "        new_centroids.append([x_cor/x, y_cor/x])\n",
    "      else :\n",
    "        x= np.random.uniform(low=-5.7,high=2.79)\n",
    "        y= np.random.uniform(low=-3.19,high=5.3)\n",
    "        new_centroids.append([x,y])\n",
    "    flag=1\n",
    "    ite=ite+1\n",
    "\n",
    "    ##finding sse\n",
    "    sse=[]\n",
    "    for i in centroids:\n",
    "      lst=[]\n",
    "      #print(i)\n",
    "      sse.append(lst)\n",
    "    idx=0\n",
    "    sum = 0\n",
    "    for i in centroids:\n",
    "      for j in c_dist[idx]:\n",
    "        sum+= (np.linalg.norm(i-j)**2)\n",
    "      idx=idx+1\n",
    "    \n",
    "    SSE.append(sum)\n",
    "    print(centroids)\n",
    "    print(new_centroids)\n",
    "    for i in range(k):\n",
    "      #print('c_dist', i)\n",
    "      #print(c_dist[i])\n",
    "      if len(c_dist[i])!=0:\n",
    "        plt.scatter(c_dist[i][:,0], c_dist[i][:,1])\n",
    "    plt.show()\n",
    "    n=n-1\n",
    "  return c_dist, label, SSE"
   ]
  },
  {
   "cell_type": "code",
   "execution_count": 68,
   "metadata": {
    "executionInfo": {
     "elapsed": 23927,
     "status": "ok",
     "timestamp": 1617130447710,
     "user": {
      "displayName": "Sughandhan S",
      "photoUrl": "https://lh3.googleusercontent.com/a-/AOh14GgCzJgz5tDGcNqn108PikDmo9i8xVBqBE7WCrGurg=s64",
      "userId": "16893705064560269479"
     },
     "user_tz": -330
    },
    "id": "HSD6sU8h3Ky7"
   },
   "outputs": [],
   "source": [
    "\n",
    "centroids = [[0,0], [3.5,0]]"
   ]
  },
  {
   "cell_type": "code",
   "execution_count": 69,
   "metadata": {
    "colab": {
     "base_uri": "https://localhost:8080/"
    },
    "executionInfo": {
     "elapsed": 23922,
     "status": "ok",
     "timestamp": 1617130447710,
     "user": {
      "displayName": "Sughandhan S",
      "photoUrl": "https://lh3.googleusercontent.com/a-/AOh14GgCzJgz5tDGcNqn108PikDmo9i8xVBqBE7WCrGurg=s64",
      "userId": "16893705064560269479"
     },
     "user_tz": -330
    },
    "id": "iKtzMjkt3cvo",
    "outputId": "71a7b90e-95a0-4bc8-802e-c1aa9fcf0779"
   },
   "outputs": [
    {
     "data": {
      "text/plain": [
       "array([[0. , 0. ],\n",
       "       [3.5, 0. ]])"
      ]
     },
     "execution_count": 69,
     "metadata": {
      "tags": []
     },
     "output_type": "execute_result"
    }
   ],
   "source": [
    "centroids = np.array(centroids)\n",
    "centroids"
   ]
  },
  {
   "cell_type": "code",
   "execution_count": 70,
   "metadata": {
    "colab": {
     "base_uri": "https://localhost:8080/"
    },
    "executionInfo": {
     "elapsed": 23918,
     "status": "ok",
     "timestamp": 1617130447711,
     "user": {
      "displayName": "Sughandhan S",
      "photoUrl": "https://lh3.googleusercontent.com/a-/AOh14GgCzJgz5tDGcNqn108PikDmo9i8xVBqBE7WCrGurg=s64",
      "userId": "16893705064560269479"
     },
     "user_tz": -330
    },
    "id": "ziRV3OYN5IYe",
    "outputId": "b00d8e97-6a1a-40d9-d35f-762b2473cfd9"
   },
   "outputs": [
    {
     "data": {
      "text/plain": [
       "numpy.ndarray"
      ]
     },
     "execution_count": 70,
     "metadata": {
      "tags": []
     },
     "output_type": "execute_result"
    }
   ],
   "source": [
    "type(centroids)"
   ]
  },
  {
   "cell_type": "code",
   "execution_count": 71,
   "metadata": {
    "colab": {
     "base_uri": "https://localhost:8080/"
    },
    "executionInfo": {
     "elapsed": 23914,
     "status": "ok",
     "timestamp": 1617130447712,
     "user": {
      "displayName": "Sughandhan S",
      "photoUrl": "https://lh3.googleusercontent.com/a-/AOh14GgCzJgz5tDGcNqn108PikDmo9i8xVBqBE7WCrGurg=s64",
      "userId": "16893705064560269479"
     },
     "user_tz": -330
    },
    "id": "lbGq9GXG4Otz",
    "outputId": "c7acca17-0a58-4637-bcce-57d0531a3e84"
   },
   "outputs": [
    {
     "data": {
      "text/plain": [
       "(2, 2)"
      ]
     },
     "execution_count": 71,
     "metadata": {
      "tags": []
     },
     "output_type": "execute_result"
    }
   ],
   "source": [
    "centroids.shape"
   ]
  },
  {
   "cell_type": "code",
   "execution_count": 72,
   "metadata": {
    "colab": {
     "base_uri": "https://localhost:8080/"
    },
    "executionInfo": {
     "elapsed": 23909,
     "status": "ok",
     "timestamp": 1617130447712,
     "user": {
      "displayName": "Sughandhan S",
      "photoUrl": "https://lh3.googleusercontent.com/a-/AOh14GgCzJgz5tDGcNqn108PikDmo9i8xVBqBE7WCrGurg=s64",
      "userId": "16893705064560269479"
     },
     "user_tz": -330
    },
    "id": "cy06_wHH4mkS",
    "outputId": "2d517aa5-efe6-44f2-bb88-e40408760b1a"
   },
   "outputs": [
    {
     "data": {
      "text/plain": [
       "array([[-0.15080692,  0.        ],\n",
       "       [-0.98248186,  0.        ],\n",
       "       [ 0.50335243,  0.        ],\n",
       "       [-0.41766461,  0.        ],\n",
       "       [-0.69647041,  0.        ],\n",
       "       [ 0.57381936,  0.        ],\n",
       "       [-0.05063554,  0.        ],\n",
       "       [ 0.4677163 ,  0.        ],\n",
       "       [-0.49390754,  0.        ],\n",
       "       [ 0.57465983,  0.        ],\n",
       "       [ 0.78527878,  0.        ],\n",
       "       [-0.36064905,  0.        ],\n",
       "       [-0.37482497,  0.        ],\n",
       "       [-0.07443758,  0.        ],\n",
       "       [ 0.52754836,  0.        ],\n",
       "       [ 0.10090222,  0.        ],\n",
       "       [-0.27144522,  0.        ],\n",
       "       [ 0.98760565,  0.        ],\n",
       "       [ 0.34935478,  0.        ],\n",
       "       [ 0.11184141,  0.        ],\n",
       "       [ 0.80626024,  0.        ],\n",
       "       [ 0.94119016,  0.        ],\n",
       "       [ 1.3284179 ,  0.        ],\n",
       "       [ 0.93546648,  0.        ],\n",
       "       [ 0.47146228,  0.        ],\n",
       "       [ 0.96590123,  0.        ],\n",
       "       [-0.1868937 ,  0.        ],\n",
       "       [-0.08043872,  0.        ],\n",
       "       [-0.17427086,  0.        ],\n",
       "       [ 1.10378064,  0.        ],\n",
       "       [ 0.01007775,  0.        ],\n",
       "       [ 0.65901758,  0.        ],\n",
       "       [ 0.26032335,  0.        ],\n",
       "       [ 0.44969627,  0.        ],\n",
       "       [-0.45675518,  0.        ],\n",
       "       [ 1.34454077,  0.        ],\n",
       "       [ 0.07810487,  0.        ],\n",
       "       [ 0.78028316,  0.        ],\n",
       "       [-0.09771789,  0.        ],\n",
       "       [ 1.18620342,  0.        ]])"
      ]
     },
     "execution_count": 72,
     "metadata": {
      "tags": []
     },
     "output_type": "execute_result"
    }
   ],
   "source": [
    "data"
   ]
  },
  {
   "cell_type": "code",
   "execution_count": 73,
   "metadata": {
    "colab": {
     "base_uri": "https://localhost:8080/",
     "height": 1000
    },
    "executionInfo": {
     "elapsed": 25492,
     "status": "ok",
     "timestamp": 1617130449300,
     "user": {
      "displayName": "Sughandhan S",
      "photoUrl": "https://lh3.googleusercontent.com/a-/AOh14GgCzJgz5tDGcNqn108PikDmo9i8xVBqBE7WCrGurg=s64",
      "userId": "16893705064560269479"
     },
     "user_tz": -330
    },
    "id": "_lk2L7qX3cro",
    "outputId": "84bdcd05-8afd-4a6b-ce97-44a5cd08ba97"
   },
   "outputs": [
    {
     "name": "stdout",
     "output_type": "stream",
     "text": [
      "[[0.  0. ]\n",
      " [3.5 0. ]]\n",
      "[[0.2858351288668414, 0.0], [0.5923443332535072, 1.5804153136972103]]\n"
     ]
    },
    {
     "data": {
      "image/png": "[encoded data removed]",
      "text/plain": [
       "<Figure size 432x288 with 1 Axes>"
      ]
     },
     "metadata": {
      "needs_background": "light",
      "tags": []
     },
     "output_type": "display_data"
    },
    {
     "name": "stdout",
     "output_type": "stream",
     "text": [
      "[[0.2858351288668414, 0.0], [0.5923443332535072, 1.5804153136972103]]\n",
      "[[0.2858351288668414, 0.0], [-3.3238862237966966, 0.3751703495877585]]\n"
     ]
    },
    {
     "data": {
      "image/png": "[encoded data removed]",
      "text/plain": [
       "<Figure size 432x288 with 1 Axes>"
      ]
     },
     "metadata": {
      "needs_background": "light",
      "tags": []
     },
     "output_type": "display_data"
    },
    {
     "name": "stdout",
     "output_type": "stream",
     "text": [
      "[[0.2858351288668414, 0.0], [-3.3238862237966966, 0.3751703495877585]]\n",
      "[[0.2858351288668414, 0.0], [2.109576163504479, -2.645337027472223]]\n"
     ]
    },
    {
     "data": {
      "image/png": "[encoded data removed]",
      "text/plain": [
       "<Figure size 432x288 with 1 Axes>"
      ]
     },
     "metadata": {
      "needs_background": "light",
      "tags": []
     },
     "output_type": "display_data"
    },
    {
     "name": "stdout",
     "output_type": "stream",
     "text": [
      "[[0.2858351288668414, 0.0], [2.109576163504479, -2.645337027472223]]\n",
      "[[0.2858351288668414, 0.0], [1.6901301108551259, 3.2214919097009065]]\n"
     ]
    },
    {
     "data": {
      "image/png": "[encoded data removed]",
      "text/plain": [
       "<Figure size 432x288 with 1 Axes>"
      ]
     },
     "metadata": {
      "needs_background": "light",
      "tags": []
     },
     "output_type": "display_data"
    },
    {
     "name": "stdout",
     "output_type": "stream",
     "text": [
      "[[0.2858351288668414, 0.0], [1.6901301108551259, 3.2214919097009065]]\n",
      "[[0.2858351288668414, 0.0], [-2.5571613689864416, -1.7510945295970886]]\n"
     ]
    },
    {
     "data": {
      "image/png": "[encoded data removed]",
      "text/plain": [
       "<Figure size 432x288 with 1 Axes>"
      ]
     },
     "metadata": {
      "needs_background": "light",
      "tags": []
     },
     "output_type": "display_data"
    },
    {
     "name": "stdout",
     "output_type": "stream",
     "text": [
      "[[0.2858351288668414, 0.0], [-2.5571613689864416, -1.7510945295970886]]\n",
      "[[0.2858351288668414, 0.0], [-3.304662020196093, -0.5968931862219113]]\n"
     ]
    },
    {
     "data": {
      "image/png": "[encoded data removed]",
      "text/plain": [
       "<Figure size 432x288 with 1 Axes>"
      ]
     },
     "metadata": {
      "needs_background": "light",
      "tags": []
     },
     "output_type": "display_data"
    },
    {
     "name": "stdout",
     "output_type": "stream",
     "text": [
      "[[0.2858351288668414, 0.0], [-3.304662020196093, -0.5968931862219113]]\n",
      "[[0.2858351288668414, 0.0], [2.4500303887425323, 4.031387797484886]]\n"
     ]
    },
    {
     "data": {
      "image/png": "[encoded data removed]",
      "text/plain": [
       "<Figure size 432x288 with 1 Axes>"
      ]
     },
     "metadata": {
      "needs_background": "light",
      "tags": []
     },
     "output_type": "display_data"
    },
    {
     "name": "stdout",
     "output_type": "stream",
     "text": [
      "[[0.2858351288668414, 0.0], [2.4500303887425323, 4.031387797484886]]\n",
      "[[0.2858351288668414, 0.0], [-2.371412643698617, 3.3992440398787145]]\n"
     ]
    },
    {
     "data": {
      "image/png": "[encoded data removed]",
      "text/plain": [
       "<Figure size 432x288 with 1 Axes>"
      ]
     },
     "metadata": {
      "needs_background": "light",
      "tags": []
     },
     "output_type": "display_data"
    },
    {
     "name": "stdout",
     "output_type": "stream",
     "text": [
      "[[0.2858351288668414, 0.0], [-2.371412643698617, 3.3992440398787145]]\n",
      "[[0.2858351288668414, 0.0], [-3.261938877747241, -1.8533356824286238]]\n"
     ]
    },
    {
     "data": {
      "image/png": "[encoded data removed]",
      "text/plain": [
       "<Figure size 432x288 with 1 Axes>"
      ]
     },
     "metadata": {
      "needs_background": "light",
      "tags": []
     },
     "output_type": "display_data"
    },
    {
     "name": "stdout",
     "output_type": "stream",
     "text": [
      "[[0.2858351288668414, 0.0], [-3.261938877747241, -1.8533356824286238]]\n",
      "[[0.2858351288668414, 0.0], [-5.411045742925024, 3.2701007906015156]]\n"
     ]
    },
    {
     "data": {
      "image/png": "[encoded data removed]",
      "text/plain": [
       "<Figure size 432x288 with 1 Axes>"
      ]
     },
     "metadata": {
      "needs_background": "light",
      "tags": []
     },
     "output_type": "display_data"
    }
   ],
   "source": [
    "c_dist, label, sse = k_means_clus(data, k, centroids)"
   ]
  },
  {
   "cell_type": "code",
   "execution_count": 74,
   "metadata": {
    "colab": {
     "base_uri": "https://localhost:8080/"
    },
    "executionInfo": {
     "elapsed": 25488,
     "status": "ok",
     "timestamp": 1617130449301,
     "user": {
      "displayName": "Sughandhan S",
      "photoUrl": "https://lh3.googleusercontent.com/a-/AOh14GgCzJgz5tDGcNqn108PikDmo9i8xVBqBE7WCrGurg=s64",
      "userId": "16893705064560269479"
     },
     "user_tz": -330
    },
    "id": "mZCA-H9YDzvS",
    "outputId": "4c6f7a8e-7f43-40b3-e1a3-1007e7894a31"
   },
   "outputs": [
    {
     "data": {
      "text/plain": [
       "[array([[-0.15080692,  0.        ],\n",
       "        [-0.98248186,  0.        ],\n",
       "        [ 0.50335243,  0.        ],\n",
       "        [-0.41766461,  0.        ],\n",
       "        [-0.69647041,  0.        ],\n",
       "        [ 0.57381936,  0.        ],\n",
       "        [-0.05063554,  0.        ],\n",
       "        [ 0.4677163 ,  0.        ],\n",
       "        [-0.49390754,  0.        ],\n",
       "        [ 0.57465983,  0.        ],\n",
       "        [ 0.78527878,  0.        ],\n",
       "        [-0.36064905,  0.        ],\n",
       "        [-0.37482497,  0.        ],\n",
       "        [-0.07443758,  0.        ],\n",
       "        [ 0.52754836,  0.        ],\n",
       "        [ 0.10090222,  0.        ],\n",
       "        [-0.27144522,  0.        ],\n",
       "        [ 0.98760565,  0.        ],\n",
       "        [ 0.34935478,  0.        ],\n",
       "        [ 0.11184141,  0.        ],\n",
       "        [ 0.80626024,  0.        ],\n",
       "        [ 0.94119016,  0.        ],\n",
       "        [ 1.3284179 ,  0.        ],\n",
       "        [ 0.93546648,  0.        ],\n",
       "        [ 0.47146228,  0.        ],\n",
       "        [ 0.96590123,  0.        ],\n",
       "        [-0.1868937 ,  0.        ],\n",
       "        [-0.08043872,  0.        ],\n",
       "        [-0.17427086,  0.        ],\n",
       "        [ 1.10378064,  0.        ],\n",
       "        [ 0.01007775,  0.        ],\n",
       "        [ 0.65901758,  0.        ],\n",
       "        [ 0.26032335,  0.        ],\n",
       "        [ 0.44969627,  0.        ],\n",
       "        [-0.45675518,  0.        ],\n",
       "        [ 1.34454077,  0.        ],\n",
       "        [ 0.07810487,  0.        ],\n",
       "        [ 0.78028316,  0.        ],\n",
       "        [-0.09771789,  0.        ],\n",
       "        [ 1.18620342,  0.        ]]), array([], dtype=float64)]"
      ]
     },
     "execution_count": 74,
     "metadata": {
      "tags": []
     },
     "output_type": "execute_result"
    }
   ],
   "source": [
    "c_dist"
   ]
  },
  {
   "cell_type": "code",
   "execution_count": 75,
   "metadata": {
    "colab": {
     "base_uri": "https://localhost:8080/"
    },
    "executionInfo": {
     "elapsed": 25482,
     "status": "ok",
     "timestamp": 1617130449301,
     "user": {
      "displayName": "Sughandhan S",
      "photoUrl": "https://lh3.googleusercontent.com/a-/AOh14GgCzJgz5tDGcNqn108PikDmo9i8xVBqBE7WCrGurg=s64",
      "userId": "16893705064560269479"
     },
     "user_tz": -330
    },
    "id": "eszIEDqZD1tt",
    "outputId": "29166ea9-b19a-4406-ebd5-094d68b9f076"
   },
   "outputs": [
    {
     "data": {
      "text/plain": [
       "[(array([-0.15080692,  0.        ]), 0),\n",
       " (array([-0.98248186,  0.        ]), 0),\n",
       " (array([0.50335243, 0.        ]), 0),\n",
       " (array([-0.41766461,  0.        ]), 0),\n",
       " (array([-0.69647041,  0.        ]), 0),\n",
       " (array([0.57381936, 0.        ]), 0),\n",
       " (array([-0.05063554,  0.        ]), 0),\n",
       " (array([0.4677163, 0.       ]), 0),\n",
       " (array([-0.49390754,  0.        ]), 0),\n",
       " (array([0.57465983, 0.        ]), 0),\n",
       " (array([0.78527878, 0.        ]), 0),\n",
       " (array([-0.36064905,  0.        ]), 0),\n",
       " (array([-0.37482497,  0.        ]), 0),\n",
       " (array([-0.07443758,  0.        ]), 0),\n",
       " (array([0.52754836, 0.        ]), 0),\n",
       " (array([0.10090222, 0.        ]), 0),\n",
       " (array([-0.27144522,  0.        ]), 0),\n",
       " (array([0.98760565, 0.        ]), 0),\n",
       " (array([0.34935478, 0.        ]), 0),\n",
       " (array([0.11184141, 0.        ]), 0),\n",
       " (array([0.80626024, 0.        ]), 0),\n",
       " (array([0.94119016, 0.        ]), 0),\n",
       " (array([1.3284179, 0.       ]), 0),\n",
       " (array([0.93546648, 0.        ]), 0),\n",
       " (array([0.47146228, 0.        ]), 0),\n",
       " (array([0.96590123, 0.        ]), 0),\n",
       " (array([-0.1868937,  0.       ]), 0),\n",
       " (array([-0.08043872,  0.        ]), 0),\n",
       " (array([-0.17427086,  0.        ]), 0),\n",
       " (array([1.10378064, 0.        ]), 0),\n",
       " (array([0.01007775, 0.        ]), 0),\n",
       " (array([0.65901758, 0.        ]), 0),\n",
       " (array([0.26032335, 0.        ]), 0),\n",
       " (array([0.44969627, 0.        ]), 0),\n",
       " (array([-0.45675518,  0.        ]), 0),\n",
       " (array([1.34454077, 0.        ]), 0),\n",
       " (array([0.07810487, 0.        ]), 0),\n",
       " (array([0.78028316, 0.        ]), 0),\n",
       " (array([-0.09771789,  0.        ]), 0),\n",
       " (array([1.18620342, 0.        ]), 0)]"
      ]
     },
     "execution_count": 75,
     "metadata": {
      "tags": []
     },
     "output_type": "execute_result"
    }
   ],
   "source": [
    "label"
   ]
  },
  {
   "cell_type": "code",
   "execution_count": 76,
   "metadata": {
    "colab": {
     "base_uri": "https://localhost:8080/"
    },
    "executionInfo": {
     "elapsed": 25479,
     "status": "ok",
     "timestamp": 1617130449302,
     "user": {
      "displayName": "Sughandhan S",
      "photoUrl": "https://lh3.googleusercontent.com/a-/AOh14GgCzJgz5tDGcNqn108PikDmo9i8xVBqBE7WCrGurg=s64",
      "userId": "16893705064560269479"
     },
     "user_tz": -330
    },
    "id": "GqHRI-Z-D1q9",
    "outputId": "f3383c2e-1982-44fd-82b3-d6c0cf9a3e65"
   },
   "outputs": [
    {
     "data": {
      "text/plain": [
       "[16.76393506171586,\n",
       " 13.495866225942905,\n",
       " 13.495866225942905,\n",
       " 13.495866225942905,\n",
       " 13.495866225942905,\n",
       " 13.495866225942905,\n",
       " 13.495866225942905,\n",
       " 13.495866225942905,\n",
       " 13.495866225942905,\n",
       " 13.495866225942905]"
      ]
     },
     "execution_count": 76,
     "metadata": {
      "tags": []
     },
     "output_type": "execute_result"
    }
   ],
   "source": [
    "sse"
   ]
  },
  {
   "cell_type": "code",
   "execution_count": 77,
   "metadata": {
    "colab": {
     "base_uri": "https://localhost:8080/"
    },
    "executionInfo": {
     "elapsed": 25474,
     "status": "ok",
     "timestamp": 1617130449302,
     "user": {
      "displayName": "Sughandhan S",
      "photoUrl": "https://lh3.googleusercontent.com/a-/AOh14GgCzJgz5tDGcNqn108PikDmo9i8xVBqBE7WCrGurg=s64",
      "userId": "16893705064560269479"
     },
     "user_tz": -330
    },
    "id": "Ac4Wq-QWES7x",
    "outputId": "dce93450-8215-436d-bce7-4363a874afe0"
   },
   "outputs": [
    {
     "data": {
      "text/plain": [
       "array([3.5, 0. ])"
      ]
     },
     "execution_count": 77,
     "metadata": {
      "tags": []
     },
     "output_type": "execute_result"
    }
   ],
   "source": [
    "centroids[1]"
   ]
  },
  {
   "cell_type": "code",
   "execution_count": 78,
   "metadata": {
    "colab": {
     "base_uri": "https://localhost:8080/",
     "height": 265
    },
    "executionInfo": {
     "elapsed": 25471,
     "status": "ok",
     "timestamp": 1617130449303,
     "user": {
      "displayName": "Sughandhan S",
      "photoUrl": "https://lh3.googleusercontent.com/a-/AOh14GgCzJgz5tDGcNqn108PikDmo9i8xVBqBE7WCrGurg=s64",
      "userId": "16893705064560269479"
     },
     "user_tz": -330
    },
    "id": "QFUvGztyD1oo",
    "outputId": "ef43baa2-3d38-4307-944f-c7433d380215"
   },
   "outputs": [
    {
     "data": {
      "image/png": "[encoded data removed]",
      "text/plain": [
       "<Figure size 432x288 with 1 Axes>"
      ]
     },
     "metadata": {
      "needs_background": "light",
      "tags": []
     },
     "output_type": "display_data"
    }
   ],
   "source": [
    "for i in range(2):\n",
    "  if len(c_dist[i])!=0:\n",
    "    plt.scatter(c_dist[i][:,0], c_dist[i][:,1])\n",
    "plt.scatter(centroids[0][0], centroids[0][1], marker = '*', color = 'g')\n",
    "plt.scatter(centroids[1][0], centroids[1][1], marker = '*', color ='g')\n",
    "plt.show()"
   ]
  },
  {
   "cell_type": "code",
   "execution_count": 78,
   "metadata": {
    "executionInfo": {
     "elapsed": 25466,
     "status": "ok",
     "timestamp": 1617130449303,
     "user": {
      "displayName": "Sughandhan S",
      "photoUrl": "https://lh3.googleusercontent.com/a-/AOh14GgCzJgz5tDGcNqn108PikDmo9i8xVBqBE7WCrGurg=s64",
      "userId": "16893705064560269479"
     },
     "user_tz": -330
    },
    "id": "z9Q1si6ID1b2"
   },
   "outputs": [],
   "source": []
  },
  {
   "cell_type": "markdown",
   "metadata": {
    "id": "yUlZEbPNV9eM"
   },
   "source": [
    "#Q2) B"
   ]
  },
  {
   "cell_type": "code",
   "execution_count": 79,
   "metadata": {
    "executionInfo": {
     "elapsed": 25460,
     "status": "ok",
     "timestamp": 1617130449304,
     "user": {
      "displayName": "Sughandhan S",
      "photoUrl": "https://lh3.googleusercontent.com/a-/AOh14GgCzJgz5tDGcNqn108PikDmo9i8xVBqBE7WCrGurg=s64",
      "userId": "16893705064560269479"
     },
     "user_tz": -330
    },
    "id": "gEgJaJYnroy_"
   },
   "outputs": [],
   "source": [
    "def k_means_clus(points, k, centroids):\n",
    "  new_centroids=[1]\n",
    "  flag=0\n",
    "  ite=0\n",
    "  c_dist= []\n",
    "  label=[]\n",
    "  SSE=[]\n",
    "  n=10\n",
    "  while np.array_equal(centroids, new_centroids)==False and n>0:\n",
    "    c_dist=[]\n",
    "    if flag==1:\n",
    "      centroids = new_centroids\n",
    "    #c_dist= []\n",
    "    new_centroids=[]\n",
    "    ##creating spaces for new centroids\n",
    "    \n",
    "    for i in centroids:\n",
    "      lst=[]\n",
    "      #print(i)\n",
    "      c_dist.append(lst)\n",
    "  \n",
    "    ##grouping points to their closest centroid\n",
    "    label=[]\n",
    "    for i in points:\n",
    "      index=0\n",
    "      lst = []\n",
    "      for j in centroids:\n",
    "        lst.append((np.linalg.norm(i-j), index))\n",
    "        index=index+1\n",
    "      num = min(lst)\n",
    "      label.append((i,num[1]))\n",
    "      c_dist[num[1]].append(i)\n",
    "\n",
    "    ##Calculating new centroids\n",
    "    for i in range(k):\n",
    "      c_dist[i] = np.array(c_dist[i])\n",
    "      x=len(c_dist[i])\n",
    "      x_cor=0\n",
    "      y_cor=0\n",
    "      for j in range(x):\n",
    "        x_cor+= c_dist[i][j][0]\n",
    "        y_cor+= c_dist[i][j][1]\n",
    "      if x!=0:\n",
    "        new_centroids.append([x_cor/x, y_cor/x])\n",
    "      else :\n",
    "        x= np.random.uniform(low=-5.7,high=2.79)\n",
    "        y= np.random.uniform(low=-3.19,high=5.3)\n",
    "        new_centroids.append([x,y])\n",
    "    flag=1\n",
    "    ite=ite+1\n",
    "\n",
    "    ##finding sse\n",
    "    sse=[]\n",
    "    for i in centroids:\n",
    "      lst=[]\n",
    "      #print(i)\n",
    "      sse.append(lst)\n",
    "    idx=0\n",
    "    sum = 0\n",
    "    for i in centroids:\n",
    "      for j in c_dist[idx]:\n",
    "        sum+= (np.linalg.norm(i-j)**2)\n",
    "      idx=idx+1\n",
    "    \n",
    "    SSE.append(sum)\n",
    "    print(centroids)\n",
    "    print(new_centroids)\n",
    "    for i in range(k):\n",
    "      #print('c_dist', i)\n",
    "      #print(c_dist[i])\n",
    "      if len(c_dist)!=0:\n",
    "        plt.scatter(c_dist[i][:,0], c_dist[i][:,1])\n",
    "    plt.show()\n",
    "    n=n-1\n",
    "  return c_dist, label, SSE"
   ]
  },
  {
   "cell_type": "code",
   "execution_count": 80,
   "metadata": {
    "executionInfo": {
     "elapsed": 25455,
     "status": "ok",
     "timestamp": 1617130449304,
     "user": {
      "displayName": "Sughandhan S",
      "photoUrl": "https://lh3.googleusercontent.com/a-/AOh14GgCzJgz5tDGcNqn108PikDmo9i8xVBqBE7WCrGurg=s64",
      "userId": "16893705064560269479"
     },
     "user_tz": -330
    },
    "id": "Dkyr-aSdtYrw"
   },
   "outputs": [],
   "source": [
    "data = []\n",
    "for i in range(20):\n",
    "  x = np.random.uniform(-1,1)\n",
    "  data.append((x,0))\n",
    "for i in range(20):\n",
    "  x = np.random.uniform(-0.5,1.5)\n",
    "  data.append((x,0))"
   ]
  },
  {
   "cell_type": "code",
   "execution_count": 81,
   "metadata": {
    "colab": {
     "base_uri": "https://localhost:8080/"
    },
    "executionInfo": {
     "elapsed": 25452,
     "status": "ok",
     "timestamp": 1617130449305,
     "user": {
      "displayName": "Sughandhan S",
      "photoUrl": "https://lh3.googleusercontent.com/a-/AOh14GgCzJgz5tDGcNqn108PikDmo9i8xVBqBE7WCrGurg=s64",
      "userId": "16893705064560269479"
     },
     "user_tz": -330
    },
    "id": "XVP3n8AbV84i",
    "outputId": "813f11f4-8fe9-446b-964e-3fef700dfdc6"
   },
   "outputs": [
    {
     "data": {
      "text/plain": [
       "[(-0.7684956202444866, 0),\n",
       " (0.11532320465159329, 0),\n",
       " (0.5850677359321592, 0),\n",
       " (0.061333789516858195, 0),\n",
       " (-0.3113913378004183, 0),\n",
       " (0.7859939981829427, 0),\n",
       " (0.22184961476539433, 0),\n",
       " (0.020709549592682786, 0),\n",
       " (-0.5763253321182336, 0),\n",
       " (0.9297262510326971, 0),\n",
       " (-0.8442514384739452, 0),\n",
       " (0.6903221574104077, 0),\n",
       " (-0.4360278367002475, 0),\n",
       " (-0.492257743248119, 0),\n",
       " (0.5053661759162495, 0),\n",
       " (0.1629747613789274, 0),\n",
       " (-0.05645514552831643, 0),\n",
       " (-0.5236999786710825, 0),\n",
       " (-0.7537934435376139, 0),\n",
       " (0.32187572785012253, 0),\n",
       " (1.4341481769018716, 0),\n",
       " (0.5316735946756896, 0),\n",
       " (0.9280278571243532, 0),\n",
       " (1.1173549146702775, 0),\n",
       " (-0.1877247180948225, 0),\n",
       " (1.3963486927329092, 0),\n",
       " (-0.42326488902033144, 0),\n",
       " (0.641619884270257, 0),\n",
       " (0.944348275185859, 0),\n",
       " (0.8714596490908626, 0),\n",
       " (-0.04997057456154441, 0),\n",
       " (-0.0445967961885414, 0),\n",
       " (1.3369506542614258, 0),\n",
       " (-0.019327772525669973, 0),\n",
       " (1.1848696862544257, 0),\n",
       " (0.4019470943338983, 0),\n",
       " (0.47965524693201944, 0),\n",
       " (-0.4003031674434012, 0),\n",
       " (0.8077479841960524, 0),\n",
       " (-0.31044413889952027, 0)]"
      ]
     },
     "execution_count": 81,
     "metadata": {
      "tags": []
     },
     "output_type": "execute_result"
    }
   ],
   "source": [
    "data"
   ]
  },
  {
   "cell_type": "code",
   "execution_count": 82,
   "metadata": {
    "colab": {
     "base_uri": "https://localhost:8080/"
    },
    "executionInfo": {
     "elapsed": 25447,
     "status": "ok",
     "timestamp": 1617130449305,
     "user": {
      "displayName": "Sughandhan S",
      "photoUrl": "https://lh3.googleusercontent.com/a-/AOh14GgCzJgz5tDGcNqn108PikDmo9i8xVBqBE7WCrGurg=s64",
      "userId": "16893705064560269479"
     },
     "user_tz": -330
    },
    "id": "jSkiAjlKYFzc",
    "outputId": "b9a41a02-ce8e-4ca5-8549-81b211684335"
   },
   "outputs": [
    {
     "data": {
      "text/plain": [
       "3.8290547978538854"
      ]
     },
     "execution_count": 82,
     "metadata": {
      "tags": []
     },
     "output_type": "execute_result"
    }
   ],
   "source": [
    "x = np.random.uniform(3,4)\n",
    "x"
   ]
  },
  {
   "cell_type": "code",
   "execution_count": 83,
   "metadata": {
    "executionInfo": {
     "elapsed": 25443,
     "status": "ok",
     "timestamp": 1617130449306,
     "user": {
      "displayName": "Sughandhan S",
      "photoUrl": "https://lh3.googleusercontent.com/a-/AOh14GgCzJgz5tDGcNqn108PikDmo9i8xVBqBE7WCrGurg=s64",
      "userId": "16893705064560269479"
     },
     "user_tz": -330
    },
    "id": "b0Iy4Vq1YFtb"
   },
   "outputs": [],
   "source": [
    "data.append((x,0))"
   ]
  },
  {
   "cell_type": "code",
   "execution_count": 84,
   "metadata": {
    "colab": {
     "base_uri": "https://localhost:8080/"
    },
    "executionInfo": {
     "elapsed": 25439,
     "status": "ok",
     "timestamp": 1617130449306,
     "user": {
      "displayName": "Sughandhan S",
      "photoUrl": "https://lh3.googleusercontent.com/a-/AOh14GgCzJgz5tDGcNqn108PikDmo9i8xVBqBE7WCrGurg=s64",
      "userId": "16893705064560269479"
     },
     "user_tz": -330
    },
    "id": "qdJFrVmeYFpQ",
    "outputId": "a9209ab6-93f5-4344-9859-b5c596ba3b0e"
   },
   "outputs": [
    {
     "data": {
      "text/plain": [
       "[(-0.7684956202444866, 0),\n",
       " (0.11532320465159329, 0),\n",
       " (0.5850677359321592, 0),\n",
       " (0.061333789516858195, 0),\n",
       " (-0.3113913378004183, 0),\n",
       " (0.7859939981829427, 0),\n",
       " (0.22184961476539433, 0),\n",
       " (0.020709549592682786, 0),\n",
       " (-0.5763253321182336, 0),\n",
       " (0.9297262510326971, 0),\n",
       " (-0.8442514384739452, 0),\n",
       " (0.6903221574104077, 0),\n",
       " (-0.4360278367002475, 0),\n",
       " (-0.492257743248119, 0),\n",
       " (0.5053661759162495, 0),\n",
       " (0.1629747613789274, 0),\n",
       " (-0.05645514552831643, 0),\n",
       " (-0.5236999786710825, 0),\n",
       " (-0.7537934435376139, 0),\n",
       " (0.32187572785012253, 0),\n",
       " (1.4341481769018716, 0),\n",
       " (0.5316735946756896, 0),\n",
       " (0.9280278571243532, 0),\n",
       " (1.1173549146702775, 0),\n",
       " (-0.1877247180948225, 0),\n",
       " (1.3963486927329092, 0),\n",
       " (-0.42326488902033144, 0),\n",
       " (0.641619884270257, 0),\n",
       " (0.944348275185859, 0),\n",
       " (0.8714596490908626, 0),\n",
       " (-0.04997057456154441, 0),\n",
       " (-0.0445967961885414, 0),\n",
       " (1.3369506542614258, 0),\n",
       " (-0.019327772525669973, 0),\n",
       " (1.1848696862544257, 0),\n",
       " (0.4019470943338983, 0),\n",
       " (0.47965524693201944, 0),\n",
       " (-0.4003031674434012, 0),\n",
       " (0.8077479841960524, 0),\n",
       " (-0.31044413889952027, 0),\n",
       " (3.8290547978538854, 0)]"
      ]
     },
     "execution_count": 84,
     "metadata": {
      "tags": []
     },
     "output_type": "execute_result"
    }
   ],
   "source": [
    "data"
   ]
  },
  {
   "cell_type": "code",
   "execution_count": 85,
   "metadata": {
    "colab": {
     "base_uri": "https://localhost:8080/"
    },
    "executionInfo": {
     "elapsed": 25434,
     "status": "ok",
     "timestamp": 1617130449307,
     "user": {
      "displayName": "Sughandhan S",
      "photoUrl": "https://lh3.googleusercontent.com/a-/AOh14GgCzJgz5tDGcNqn108PikDmo9i8xVBqBE7WCrGurg=s64",
      "userId": "16893705064560269479"
     },
     "user_tz": -330
    },
    "id": "YqDKEh-xtoKQ",
    "outputId": "6c329e56-4f73-4998-a034-e64ad0c9a7a5"
   },
   "outputs": [
    {
     "data": {
      "text/plain": [
       "array([[-0.76849562,  0.        ],\n",
       "       [ 0.1153232 ,  0.        ],\n",
       "       [ 0.58506774,  0.        ],\n",
       "       [ 0.06133379,  0.        ],\n",
       "       [-0.31139134,  0.        ],\n",
       "       [ 0.785994  ,  0.        ],\n",
       "       [ 0.22184961,  0.        ],\n",
       "       [ 0.02070955,  0.        ],\n",
       "       [-0.57632533,  0.        ],\n",
       "       [ 0.92972625,  0.        ],\n",
       "       [-0.84425144,  0.        ],\n",
       "       [ 0.69032216,  0.        ],\n",
       "       [-0.43602784,  0.        ],\n",
       "       [-0.49225774,  0.        ],\n",
       "       [ 0.50536618,  0.        ],\n",
       "       [ 0.16297476,  0.        ],\n",
       "       [-0.05645515,  0.        ],\n",
       "       [-0.52369998,  0.        ],\n",
       "       [-0.75379344,  0.        ],\n",
       "       [ 0.32187573,  0.        ],\n",
       "       [ 1.43414818,  0.        ],\n",
       "       [ 0.53167359,  0.        ],\n",
       "       [ 0.92802786,  0.        ],\n",
       "       [ 1.11735491,  0.        ],\n",
       "       [-0.18772472,  0.        ],\n",
       "       [ 1.39634869,  0.        ],\n",
       "       [-0.42326489,  0.        ],\n",
       "       [ 0.64161988,  0.        ],\n",
       "       [ 0.94434828,  0.        ],\n",
       "       [ 0.87145965,  0.        ],\n",
       "       [-0.04997057,  0.        ],\n",
       "       [-0.0445968 ,  0.        ],\n",
       "       [ 1.33695065,  0.        ],\n",
       "       [-0.01932777,  0.        ],\n",
       "       [ 1.18486969,  0.        ],\n",
       "       [ 0.40194709,  0.        ],\n",
       "       [ 0.47965525,  0.        ],\n",
       "       [-0.40030317,  0.        ],\n",
       "       [ 0.80774798,  0.        ],\n",
       "       [-0.31044414,  0.        ],\n",
       "       [ 3.8290548 ,  0.        ]])"
      ]
     },
     "execution_count": 85,
     "metadata": {
      "tags": []
     },
     "output_type": "execute_result"
    }
   ],
   "source": [
    "data = np.array(data)\n",
    "data"
   ]
  },
  {
   "cell_type": "code",
   "execution_count": 86,
   "metadata": {
    "colab": {
     "base_uri": "https://localhost:8080/"
    },
    "executionInfo": {
     "elapsed": 25429,
     "status": "ok",
     "timestamp": 1617130449307,
     "user": {
      "displayName": "Sughandhan S",
      "photoUrl": "https://lh3.googleusercontent.com/a-/AOh14GgCzJgz5tDGcNqn108PikDmo9i8xVBqBE7WCrGurg=s64",
      "userId": "16893705064560269479"
     },
     "user_tz": -330
    },
    "id": "6rSdqJb0YFl3",
    "outputId": "6f14c68d-a3ee-4abb-d5f2-17855bf7b9f8"
   },
   "outputs": [
    {
     "data": {
      "text/plain": [
       "41"
      ]
     },
     "execution_count": 86,
     "metadata": {
      "tags": []
     },
     "output_type": "execute_result"
    }
   ],
   "source": [
    "len(data)"
   ]
  },
  {
   "cell_type": "code",
   "execution_count": 87,
   "metadata": {
    "executionInfo": {
     "elapsed": 25425,
     "status": "ok",
     "timestamp": 1617130449308,
     "user": {
      "displayName": "Sughandhan S",
      "photoUrl": "https://lh3.googleusercontent.com/a-/AOh14GgCzJgz5tDGcNqn108PikDmo9i8xVBqBE7WCrGurg=s64",
      "userId": "16893705064560269479"
     },
     "user_tz": -330
    },
    "id": "z4IheSRIYFjm"
   },
   "outputs": [],
   "source": [
    "\n",
    "k=2"
   ]
  },
  {
   "cell_type": "markdown",
   "metadata": {
    "id": "aOToVREduux0"
   },
   "source": [
    "u1 = -5 and u2 = 5"
   ]
  },
  {
   "cell_type": "code",
   "execution_count": 88,
   "metadata": {
    "colab": {
     "base_uri": "https://localhost:8080/"
    },
    "executionInfo": {
     "elapsed": 25420,
     "status": "ok",
     "timestamp": 1617130449308,
     "user": {
      "displayName": "Sughandhan S",
      "photoUrl": "https://lh3.googleusercontent.com/a-/AOh14GgCzJgz5tDGcNqn108PikDmo9i8xVBqBE7WCrGurg=s64",
      "userId": "16893705064560269479"
     },
     "user_tz": -330
    },
    "id": "WupO_FMNYFdN",
    "outputId": "4bb8a298-078a-49f3-c30d-454b7a3d38da"
   },
   "outputs": [
    {
     "data": {
      "text/plain": [
       "array([[-5,  0],\n",
       "       [ 5,  0]])"
      ]
     },
     "execution_count": 88,
     "metadata": {
      "tags": []
     },
     "output_type": "execute_result"
    }
   ],
   "source": [
    "#centroids = [[0, 0], [3.5, 0]]\n",
    "centroids = [[-5, 0], [5, 0]]\n",
    "centroids = np.array(centroids)\n",
    "centroids"
   ]
  },
  {
   "cell_type": "code",
   "execution_count": 89,
   "metadata": {
    "colab": {
     "base_uri": "https://localhost:8080/"
    },
    "executionInfo": {
     "elapsed": 25416,
     "status": "ok",
     "timestamp": 1617130449308,
     "user": {
      "displayName": "Sughandhan S",
      "photoUrl": "https://lh3.googleusercontent.com/a-/AOh14GgCzJgz5tDGcNqn108PikDmo9i8xVBqBE7WCrGurg=s64",
      "userId": "16893705064560269479"
     },
     "user_tz": -330
    },
    "id": "FwQhmYRHY-uo",
    "outputId": "29d71cc1-f7c3-473f-cd07-46d2d6d9b735"
   },
   "outputs": [
    {
     "data": {
      "text/plain": [
       "array([[-5,  0],\n",
       "       [ 5,  0]])"
      ]
     },
     "execution_count": 89,
     "metadata": {
      "tags": []
     },
     "output_type": "execute_result"
    }
   ],
   "source": [
    "centroids = np.array(centroids)\n",
    "centroids"
   ]
  },
  {
   "cell_type": "code",
   "execution_count": 90,
   "metadata": {
    "colab": {
     "base_uri": "https://localhost:8080/"
    },
    "executionInfo": {
     "elapsed": 25412,
     "status": "ok",
     "timestamp": 1617130449309,
     "user": {
      "displayName": "Sughandhan S",
      "photoUrl": "https://lh3.googleusercontent.com/a-/AOh14GgCzJgz5tDGcNqn108PikDmo9i8xVBqBE7WCrGurg=s64",
      "userId": "16893705064560269479"
     },
     "user_tz": -330
    },
    "id": "PZgpBclbANDO",
    "outputId": "d4455484-b380-4f22-eeb3-7b76bf2f69d7"
   },
   "outputs": [
    {
     "data": {
      "text/plain": [
       "array([-5,  5])"
      ]
     },
     "execution_count": 90,
     "metadata": {
      "tags": []
     },
     "output_type": "execute_result"
    }
   ],
   "source": [
    "centroids[:,0]"
   ]
  },
  {
   "cell_type": "code",
   "execution_count": 91,
   "metadata": {
    "colab": {
     "base_uri": "https://localhost:8080/",
     "height": 282
    },
    "executionInfo": {
     "elapsed": 26389,
     "status": "ok",
     "timestamp": 1617130450291,
     "user": {
      "displayName": "Sughandhan S",
      "photoUrl": "https://lh3.googleusercontent.com/a-/AOh14GgCzJgz5tDGcNqn108PikDmo9i8xVBqBE7WCrGurg=s64",
      "userId": "16893705064560269479"
     },
     "user_tz": -330
    },
    "id": "_-EfQzeXZl_N",
    "outputId": "64a62f5c-890a-4d02-8261-58440cde096f"
   },
   "outputs": [
    {
     "data": {
      "text/plain": [
       "<matplotlib.collections.PathCollection at 0x7f679686bb50>"
      ]
     },
     "execution_count": 91,
     "metadata": {
      "tags": []
     },
     "output_type": "execute_result"
    },
    {
     "data": {
      "image/png": "[encoded data removed]",
      "text/plain": [
       "<Figure size 432x288 with 1 Axes>"
      ]
     },
     "metadata": {
      "needs_background": "light",
      "tags": []
     },
     "output_type": "display_data"
    }
   ],
   "source": [
    "plt.scatter(centroids[:,0],centroids[:,1] , marker = '*', color = 'g')"
   ]
  },
  {
   "cell_type": "code",
   "execution_count": 92,
   "metadata": {
    "colab": {
     "base_uri": "https://localhost:8080/"
    },
    "executionInfo": {
     "elapsed": 26386,
     "status": "ok",
     "timestamp": 1617130450293,
     "user": {
      "displayName": "Sughandhan S",
      "photoUrl": "https://lh3.googleusercontent.com/a-/AOh14GgCzJgz5tDGcNqn108PikDmo9i8xVBqBE7WCrGurg=s64",
      "userId": "16893705064560269479"
     },
     "user_tz": -330
    },
    "id": "hV9lNY0wY-mg",
    "outputId": "c23a176e-625c-49b3-b08e-e6f4b2421398"
   },
   "outputs": [
    {
     "data": {
      "text/plain": [
       "array([-5,  5])"
      ]
     },
     "execution_count": 92,
     "metadata": {
      "tags": []
     },
     "output_type": "execute_result"
    }
   ],
   "source": [
    "centroids[:, 0]"
   ]
  },
  {
   "cell_type": "code",
   "execution_count": 93,
   "metadata": {
    "colab": {
     "base_uri": "https://localhost:8080/",
     "height": 1000
    },
    "executionInfo": {
     "elapsed": 27414,
     "status": "ok",
     "timestamp": 1617130451326,
     "user": {
      "displayName": "Sughandhan S",
      "photoUrl": "https://lh3.googleusercontent.com/a-/AOh14GgCzJgz5tDGcNqn108PikDmo9i8xVBqBE7WCrGurg=s64",
      "userId": "16893705064560269479"
     },
     "user_tz": -330
    },
    "id": "b9BdlEb6YFYn",
    "outputId": "ec213fb1-da26-4444-85cb-764bc7d1cef6"
   },
   "outputs": [
    {
     "name": "stdout",
     "output_type": "stream",
     "text": [
      "[[-5  0]\n",
      " [ 5  0]]\n",
      "[[-0.3873956208160183, 0.0], [0.8122299789885529, 0.0]]\n"
     ]
    },
    {
     "data": {
      "image/png": "[encoded data removed]",
      "text/plain": [
       "<Figure size 432x288 with 1 Axes>"
      ]
     },
     "metadata": {
      "needs_background": "light",
      "tags": []
     },
     "output_type": "display_data"
    },
    {
     "name": "stdout",
     "output_type": "stream",
     "text": [
      "[[-0.3873956208160183, 0.0], [0.8122299789885529, 0.0]]\n",
      "[[-0.2918994313958116, 0.0], [0.9497813414082743, 0.0]]\n"
     ]
    },
    {
     "data": {
      "image/png": "[encoded data removed]",
      "text/plain": [
       "<Figure size 432x288 with 1 Axes>"
      ]
     },
     "metadata": {
      "needs_background": "light",
      "tags": []
     },
     "output_type": "display_data"
    },
    {
     "name": "stdout",
     "output_type": "stream",
     "text": [
      "[[-0.2918994313958116, 0.0], [0.9497813414082743, 0.0]]\n",
      "[[-0.24064833115003245, 0.0], [1.021141201418855, 0.0]]\n"
     ]
    },
    {
     "data": {
      "image/png": "[encoded data removed]",
      "text/plain": [
       "<Figure size 432x288 with 1 Axes>"
      ]
     },
     "metadata": {
      "needs_background": "light",
      "tags": []
     },
     "output_type": "display_data"
    },
    {
     "name": "stdout",
     "output_type": "stream",
     "text": [
      "[[-0.24064833115003245, 0.0], [1.021141201418855, 0.0]]\n",
      "[[-0.24064833115003245, 0.0], [1.021141201418855, 0.0]]\n"
     ]
    },
    {
     "data": {
      "image/png": "[encoded data removed]",
      "text/plain": [
       "<Figure size 432x288 with 1 Axes>"
      ]
     },
     "metadata": {
      "needs_background": "light",
      "tags": []
     },
     "output_type": "display_data"
    }
   ],
   "source": [
    "c_dist, label, sse = k_means_clus(data, k, centroids)"
   ]
  },
  {
   "cell_type": "code",
   "execution_count": 94,
   "metadata": {
    "colab": {
     "base_uri": "https://localhost:8080/"
    },
    "executionInfo": {
     "elapsed": 27411,
     "status": "ok",
     "timestamp": 1617130451328,
     "user": {
      "displayName": "Sughandhan S",
      "photoUrl": "https://lh3.googleusercontent.com/a-/AOh14GgCzJgz5tDGcNqn108PikDmo9i8xVBqBE7WCrGurg=s64",
      "userId": "16893705064560269479"
     },
     "user_tz": -330
    },
    "id": "e8LdYrBdYwdB",
    "outputId": "3e308617-d596-4815-bcb7-a9edb156ae45"
   },
   "outputs": [
    {
     "data": {
      "text/plain": [
       "[array([[-0.76849562,  0.        ],\n",
       "        [ 0.1153232 ,  0.        ],\n",
       "        [ 0.06133379,  0.        ],\n",
       "        [-0.31139134,  0.        ],\n",
       "        [ 0.22184961,  0.        ],\n",
       "        [ 0.02070955,  0.        ],\n",
       "        [-0.57632533,  0.        ],\n",
       "        [-0.84425144,  0.        ],\n",
       "        [-0.43602784,  0.        ],\n",
       "        [-0.49225774,  0.        ],\n",
       "        [ 0.16297476,  0.        ],\n",
       "        [-0.05645515,  0.        ],\n",
       "        [-0.52369998,  0.        ],\n",
       "        [-0.75379344,  0.        ],\n",
       "        [ 0.32187573,  0.        ],\n",
       "        [-0.18772472,  0.        ],\n",
       "        [-0.42326489,  0.        ],\n",
       "        [-0.04997057,  0.        ],\n",
       "        [-0.0445968 ,  0.        ],\n",
       "        [-0.01932777,  0.        ],\n",
       "        [-0.40030317,  0.        ],\n",
       "        [-0.31044414,  0.        ]]), array([[0.58506774, 0.        ],\n",
       "        [0.785994  , 0.        ],\n",
       "        [0.92972625, 0.        ],\n",
       "        [0.69032216, 0.        ],\n",
       "        [0.50536618, 0.        ],\n",
       "        [1.43414818, 0.        ],\n",
       "        [0.53167359, 0.        ],\n",
       "        [0.92802786, 0.        ],\n",
       "        [1.11735491, 0.        ],\n",
       "        [1.39634869, 0.        ],\n",
       "        [0.64161988, 0.        ],\n",
       "        [0.94434828, 0.        ],\n",
       "        [0.87145965, 0.        ],\n",
       "        [1.33695065, 0.        ],\n",
       "        [1.18486969, 0.        ],\n",
       "        [0.40194709, 0.        ],\n",
       "        [0.47965525, 0.        ],\n",
       "        [0.80774798, 0.        ],\n",
       "        [3.8290548 , 0.        ]])]"
      ]
     },
     "execution_count": 94,
     "metadata": {
      "tags": []
     },
     "output_type": "execute_result"
    }
   ],
   "source": [
    "c_dist"
   ]
  },
  {
   "cell_type": "code",
   "execution_count": 95,
   "metadata": {
    "colab": {
     "base_uri": "https://localhost:8080/"
    },
    "executionInfo": {
     "elapsed": 27409,
     "status": "ok",
     "timestamp": 1617130451331,
     "user": {
      "displayName": "Sughandhan S",
      "photoUrl": "https://lh3.googleusercontent.com/a-/AOh14GgCzJgz5tDGcNqn108PikDmo9i8xVBqBE7WCrGurg=s64",
      "userId": "16893705064560269479"
     },
     "user_tz": -330
    },
    "id": "hq76lPRssyRl",
    "outputId": "46f7d8e6-b74b-4462-b8ff-3f2a4532429c"
   },
   "outputs": [
    {
     "data": {
      "text/plain": [
       "array([[-5,  0],\n",
       "       [ 5,  0]])"
      ]
     },
     "execution_count": 95,
     "metadata": {
      "tags": []
     },
     "output_type": "execute_result"
    }
   ],
   "source": [
    "centroids"
   ]
  },
  {
   "cell_type": "code",
   "execution_count": 96,
   "metadata": {
    "colab": {
     "base_uri": "https://localhost:8080/",
     "height": 265
    },
    "executionInfo": {
     "elapsed": 27407,
     "status": "ok",
     "timestamp": 1617130451334,
     "user": {
      "displayName": "Sughandhan S",
      "photoUrl": "https://lh3.googleusercontent.com/a-/AOh14GgCzJgz5tDGcNqn108PikDmo9i8xVBqBE7WCrGurg=s64",
      "userId": "16893705064560269479"
     },
     "user_tz": -330
    },
    "id": "DUvxTpivYwaB",
    "outputId": "90b8da6b-d307-4f60-ace0-806924bca22b"
   },
   "outputs": [
    {
     "data": {
      "image/png": "[encoded data removed]",
      "text/plain": [
       "<Figure size 432x288 with 1 Axes>"
      ]
     },
     "metadata": {
      "needs_background": "light",
      "tags": []
     },
     "output_type": "display_data"
    }
   ],
   "source": [
    "for i in range(2):\n",
    "  if len(c_dist[i])!=0:\n",
    "    plt.scatter(c_dist[i][:,0], c_dist[i][:,1])\n",
    "plt.scatter(centroids[0][0], centroids[0][1], marker = '*', color = 'g')\n",
    "plt.scatter(centroids[1][0], centroids[1][1], marker = '*', color ='g')\n",
    "plt.show()"
   ]
  },
  {
   "cell_type": "markdown",
   "metadata": {
    "id": "A14GhJn54zU0"
   },
   "source": [
    "Changing the centroid"
   ]
  },
  {
   "cell_type": "code",
   "execution_count": 97,
   "metadata": {
    "colab": {
     "base_uri": "https://localhost:8080/"
    },
    "executionInfo": {
     "elapsed": 27404,
     "status": "ok",
     "timestamp": 1617130451336,
     "user": {
      "displayName": "Sughandhan S",
      "photoUrl": "https://lh3.googleusercontent.com/a-/AOh14GgCzJgz5tDGcNqn108PikDmo9i8xVBqBE7WCrGurg=s64",
      "userId": "16893705064560269479"
     },
     "user_tz": -330
    },
    "id": "dTSCF4L44kZb",
    "outputId": "f30be425-48da-4f61-d995-21c95d96ae1b"
   },
   "outputs": [
    {
     "data": {
      "text/plain": [
       "array([[0. , 0. ],\n",
       "       [3.5, 0. ]])"
      ]
     },
     "execution_count": 97,
     "metadata": {
      "tags": []
     },
     "output_type": "execute_result"
    }
   ],
   "source": [
    "centroids = [[0,0], [3.5,0]]\n",
    "centroids = np.array(centroids)\n",
    "centroids"
   ]
  },
  {
   "cell_type": "code",
   "execution_count": 98,
   "metadata": {
    "colab": {
     "base_uri": "https://localhost:8080/",
     "height": 599
    },
    "executionInfo": {
     "elapsed": 27402,
     "status": "ok",
     "timestamp": 1617130451338,
     "user": {
      "displayName": "Sughandhan S",
      "photoUrl": "https://lh3.googleusercontent.com/a-/AOh14GgCzJgz5tDGcNqn108PikDmo9i8xVBqBE7WCrGurg=s64",
      "userId": "16893705064560269479"
     },
     "user_tz": -330
    },
    "id": "hrZBtPGrYwXZ",
    "outputId": "54ec30f1-cc94-4ef4-c219-2ae2f36549cb"
   },
   "outputs": [
    {
     "name": "stdout",
     "output_type": "stream",
     "text": [
      "[[0.  0. ]\n",
      " [3.5 0. ]]\n",
      "[[0.2569591185950911, 0.0], [3.8290547978538854, 0.0]]\n"
     ]
    },
    {
     "data": {
      "image/png": "[encoded data removed]",
      "text/plain": [
       "<Figure size 432x288 with 1 Axes>"
      ]
     },
     "metadata": {
      "needs_background": "light",
      "tags": []
     },
     "output_type": "display_data"
    },
    {
     "name": "stdout",
     "output_type": "stream",
     "text": [
      "[[0.2569591185950911, 0.0], [3.8290547978538854, 0.0]]\n",
      "[[0.2569591185950911, 0.0], [3.8290547978538854, 0.0]]\n"
     ]
    },
    {
     "data": {
      "image/png": "[encoded data removed]",
      "text/plain": [
       "<Figure size 432x288 with 1 Axes>"
      ]
     },
     "metadata": {
      "needs_background": "light",
      "tags": []
     },
     "output_type": "display_data"
    }
   ],
   "source": [
    "c_dist, label, sse = k_means_clus(data, k, centroids)"
   ]
  },
  {
   "cell_type": "code",
   "execution_count": 99,
   "metadata": {
    "colab": {
     "base_uri": "https://localhost:8080/",
     "height": 265
    },
    "executionInfo": {
     "elapsed": 27398,
     "status": "ok",
     "timestamp": 1617130451340,
     "user": {
      "displayName": "Sughandhan S",
      "photoUrl": "https://lh3.googleusercontent.com/a-/AOh14GgCzJgz5tDGcNqn108PikDmo9i8xVBqBE7WCrGurg=s64",
      "userId": "16893705064560269479"
     },
     "user_tz": -330
    },
    "id": "IQF8lj4_YwVJ",
    "outputId": "f730c252-0585-41ba-b746-ceac7f0b8688"
   },
   "outputs": [
    {
     "data": {
      "image/png": "[encoded data removed]",
      "text/plain": [
       "<Figure size 432x288 with 1 Axes>"
      ]
     },
     "metadata": {
      "needs_background": "light",
      "tags": []
     },
     "output_type": "display_data"
    }
   ],
   "source": [
    "for i in range(2):\n",
    "  if len(c_dist[i])!=0:\n",
    "    plt.scatter(c_dist[i][:,0], c_dist[i][:,1])\n",
    "plt.scatter(centroids[0][0], centroids[0][1], marker = '*', color = 'g')\n",
    "plt.scatter(centroids[1][0], centroids[1][1], marker = '*', color ='g')\n",
    "plt.show()"
   ]
  },
  {
   "cell_type": "markdown",
   "metadata": {
    "id": "vFS6rGdMfSnC"
   },
   "source": [
    "#Answer:"
   ]
  },
  {
   "cell_type": "markdown",
   "metadata": {
    "id": "-RRmbqvL45r1"
   },
   "source": [
    "On changing the centroids we are getting different clusters and not always the correct clusters.\n",
    "This is because one of the points in [3,4]. So when we choose centroids in two opposite ends of the 1-D axis or choose two points at the centre of the points in [-1,1] U [-0.5,1.5], we are bound to get different clusters"
   ]
  },
  {
   "cell_type": "markdown",
   "metadata": {
    "id": "LKiCELH6QlIm"
   },
   "source": [
    "#Q3)"
   ]
  },
  {
   "cell_type": "markdown",
   "metadata": {
    "id": "nCuEwY2qTbcc"
   },
   "source": []
  },
  {
   "cell_type": "code",
   "execution_count": 100,
   "metadata": {
    "executionInfo": {
     "elapsed": 27395,
     "status": "ok",
     "timestamp": 1617130451342,
     "user": {
      "displayName": "Sughandhan S",
      "photoUrl": "https://lh3.googleusercontent.com/a-/AOh14GgCzJgz5tDGcNqn108PikDmo9i8xVBqBE7WCrGurg=s64",
      "userId": "16893705064560269479"
     },
     "user_tz": -330
    },
    "id": "-nLefXXYnwkn"
   },
   "outputs": [],
   "source": [
    "def k_means_clus(points, k, centroids):\n",
    "  new_centroids=[1]\n",
    "  flag=0\n",
    "  ite=0\n",
    "  c_dist= []\n",
    "  label=[]\n",
    "  SSE=[]\n",
    "  n=10\n",
    "  while np.array_equal(centroids, new_centroids)==False and n>0:\n",
    "    c_dist=[]\n",
    "    if flag==1:\n",
    "      centroids = new_centroids\n",
    "    #c_dist= []\n",
    "    new_centroids=[]\n",
    "    ##creating spaces for new centroids\n",
    "    \n",
    "    for i in centroids:\n",
    "      lst=[]\n",
    "      #print(i)\n",
    "      c_dist.append(lst)\n",
    "  \n",
    "    ##grouping points to their closest centroid\n",
    "    label=[]\n",
    "    for i in points:\n",
    "      index=0\n",
    "      lst = []\n",
    "      for j in centroids:\n",
    "        lst.append((np.linalg.norm(i-j), index))\n",
    "        index=index+1\n",
    "      num = min(lst)\n",
    "      label.append((i,num[1]))\n",
    "      c_dist[num[1]].append(i)\n",
    "\n",
    "    ##Calculating new centroids\n",
    "    for i in range(k):\n",
    "      c_dist[i] = np.array(c_dist[i])\n",
    "      x=len(c_dist[i])\n",
    "      x_cor=0\n",
    "      y_cor=0\n",
    "      for j in range(x):\n",
    "        x_cor+= c_dist[i][j][0]\n",
    "        y_cor+= c_dist[i][j][1]\n",
    "      if x!=0:\n",
    "        new_centroids.append([x_cor/x, y_cor/x])\n",
    "      else :\n",
    "        x= np.random.uniform(low=-5.7,high=2.79)\n",
    "        y= np.random.uniform(low=-3.19,high=5.3)\n",
    "        new_centroids.append([x,y])\n",
    "    flag=1\n",
    "    ite=ite+1\n",
    "\n",
    "    ##finding sse\n",
    "    sse=[]\n",
    "    for i in centroids:\n",
    "      lst=[]\n",
    "      #print(i)\n",
    "      sse.append(lst)\n",
    "    idx=0\n",
    "    sum = 0\n",
    "    for i in centroids:\n",
    "      for j in c_dist[idx]:\n",
    "        sum+= (np.linalg.norm(i-j)**2)\n",
    "      idx=idx+1\n",
    "    \n",
    "    SSE.append(sum)\n",
    "    print(centroids)\n",
    "    print(new_centroids)\n",
    "    #for i in range(k):\n",
    "      #if len(c_dist[i])!=0:\n",
    "        #plt.scatter(c_dist[i][:,0], c_dist[i][:,1])\n",
    "    #plt.show()\n",
    "    n=n-1\n",
    "  return c_dist, label, SSE"
   ]
  },
  {
   "cell_type": "code",
   "execution_count": 101,
   "metadata": {
    "colab": {
     "base_uri": "https://localhost:8080/"
    },
    "executionInfo": {
     "elapsed": 27391,
     "status": "ok",
     "timestamp": 1617130451343,
     "user": {
      "displayName": "Sughandhan S",
      "photoUrl": "https://lh3.googleusercontent.com/a-/AOh14GgCzJgz5tDGcNqn108PikDmo9i8xVBqBE7WCrGurg=s64",
      "userId": "16893705064560269479"
     },
     "user_tz": -330
    },
    "id": "m6PQZwmSYwOz",
    "outputId": "f32c191e-7569-49fe-ba13-f26b0b88443a"
   },
   "outputs": [
    {
     "name": "stdout",
     "output_type": "stream",
     "text": [
      "[5.4618887  4.58123195 5.72598883 4.38994932 3.80593462 5.74313962\n",
      " 5.02952897 4.52115772 3.78034755 4.85210507 5.36590889 7.14265157\n",
      " 5.84980003 6.91064269 3.65920261 4.14172252 3.48876451 2.76712432\n",
      " 6.30420706 5.21076823 6.6587744  6.05427131 4.238845   3.81019755\n",
      " 3.0438519  6.46444536 4.72076622 5.81068429 5.15166325 4.44732893\n",
      " 5.89688385 6.11934544 7.90895817 4.72991441 5.7270197  4.64140964\n",
      " 4.50472672 5.96371519 5.32958031 6.40031205 3.99968258 4.0939451\n",
      " 4.61414365 5.33410864 5.20326881 4.10368009 3.55424265 5.79674146\n",
      " 4.87359454 4.93127004 4.51574454 3.92207129 4.03587449 5.45244088\n",
      " 4.79385143 5.18675151 2.64529946 6.19188455 5.32161212 6.03031144\n",
      " 5.48575085 5.14539481 5.67578677 3.72609865 5.87031731 7.56152644\n",
      " 4.13859464 6.12360946 3.42042101 2.96978155 7.51043589 5.59273677\n",
      " 5.12003603 5.33389686 5.73339986 4.63858919 6.68833593 5.78425887\n",
      " 4.42018517 4.53333921 5.51242207 4.72240877 4.99783779 4.59222966\n",
      " 3.60379593 5.7357879  3.83902873 4.44987391 6.3837645  6.50971152\n",
      " 5.46226952 3.77110222 5.11654823 2.82022026 4.98671737 3.91318877\n",
      " 5.13492802 4.71916431 4.813927   4.51296449]\n",
      "[51.87331581 63.35729484 55.49621197 58.61702997 68.28946939 55.77989496\n",
      " 65.06050296 69.99921942 54.36522284 58.84890102 49.98735027 67.09003917\n",
      " 51.45942915 55.61718924 50.60178562 58.60613281 54.81388368 67.01471139\n",
      " 62.84527726 59.34920501 62.72950974 60.59098428 53.6408285  56.88307552\n",
      " 56.77026274 61.85199665 56.31751976 56.46092948 59.9946682  67.49645174\n",
      " 59.6300269  60.89607033 67.13705612 53.72784653 53.46035318 45.77127606\n",
      " 57.18381978 65.35634621 51.27833836 63.93570983 66.40567659 57.04350772\n",
      " 63.35652769 53.2788037  58.40859527 63.69231241 48.28133856 55.49422761\n",
      " 58.77621408 53.89320076 74.98719143 63.37544065 63.50460262 53.69867569\n",
      " 57.01159446 61.76578223 51.23239578 68.35438561 58.40122232 53.95823372\n",
      " 65.42067632 63.03123393 61.6215484  73.18738385 62.50451127 56.0657543\n",
      " 58.78074761 51.20374787 62.47165816 62.5772523  53.23413313 48.31744313\n",
      " 61.02662933 54.41736027 62.99973857 64.13559669 59.32881471 56.02523618\n",
      " 65.38727383 58.81567438 71.09089522 55.32639713 62.41227911 68.5949652\n",
      " 54.44613646 55.63481193 53.03664732 62.60767618 57.60833851 68.02189698\n",
      " 59.01970952 46.74903295 66.08727865 52.69127103 63.93211941 67.05777525\n",
      " 53.48036026 77.37338439 66.82537228 46.11787272]\n"
     ]
    }
   ],
   "source": [
    "a_h = np.random.normal(5,1.1, 100)\n",
    "a_w = np.random.normal(60,7, 100)\n",
    "print(a_h)\n",
    "print(a_w)"
   ]
  },
  {
   "cell_type": "code",
   "execution_count": 102,
   "metadata": {
    "colab": {
     "base_uri": "https://localhost:8080/",
     "height": 282
    },
    "executionInfo": {
     "elapsed": 27390,
     "status": "ok",
     "timestamp": 1617130451347,
     "user": {
      "displayName": "Sughandhan S",
      "photoUrl": "https://lh3.googleusercontent.com/a-/AOh14GgCzJgz5tDGcNqn108PikDmo9i8xVBqBE7WCrGurg=s64",
      "userId": "16893705064560269479"
     },
     "user_tz": -330
    },
    "id": "O6IJFuPckqV7",
    "outputId": "e14ee5be-0c06-47c8-e262-03df55023db2"
   },
   "outputs": [
    {
     "data": {
      "text/plain": [
       "<matplotlib.collections.PathCollection at 0x7f679699d610>"
      ]
     },
     "execution_count": 102,
     "metadata": {
      "tags": []
     },
     "output_type": "execute_result"
    },
    {
     "data": {
      "image/png": "[encoded data removed]",
      "text/plain": [
       "<Figure size 432x288 with 1 Axes>"
      ]
     },
     "metadata": {
      "needs_background": "light",
      "tags": []
     },
     "output_type": "display_data"
    }
   ],
   "source": [
    "plt.scatter(a_h, a_w)"
   ]
  },
  {
   "cell_type": "code",
   "execution_count": 103,
   "metadata": {
    "colab": {
     "base_uri": "https://localhost:8080/"
    },
    "executionInfo": {
     "elapsed": 27389,
     "status": "ok",
     "timestamp": 1617130451350,
     "user": {
      "displayName": "Sughandhan S",
      "photoUrl": "https://lh3.googleusercontent.com/a-/AOh14GgCzJgz5tDGcNqn108PikDmo9i8xVBqBE7WCrGurg=s64",
      "userId": "16893705064560269479"
     },
     "user_tz": -330
    },
    "id": "d9pbzy4IYwJK",
    "outputId": "c2e2eb7c-d5c7-465f-974f-09de2e4bcc4e"
   },
   "outputs": [
    {
     "name": "stdout",
     "output_type": "stream",
     "text": [
      "[3.97814818 2.11909115 3.92847548 3.00425852 2.78443989 2.46044752\n",
      " 3.00409632 3.40308863 2.98513337 2.56960068 2.15067334 2.4104716\n",
      " 3.1682863  4.71183677 2.71644977 2.30267951 4.10276561 1.58439464\n",
      " 2.7107417  4.3302459  1.2101187  4.05095551 3.65440078 5.97528879\n",
      " 3.71095357 3.6974959  2.60045648 4.04685573 1.32815588 2.96559572\n",
      " 3.97795626 2.86467469 3.2261902  2.84440113 3.09358088 1.53593882\n",
      " 2.38913668 3.16730902 3.40507253 3.00089565 1.41320845 2.4776863\n",
      " 2.66085926 5.07186824 2.83633119 2.6153787  3.68517481 5.08770409\n",
      " 2.35946175 3.06491772 2.87086638 3.84137301 3.5975759  2.07013492\n",
      " 3.00427979 4.76666467 2.63554665 4.88005384 4.76717916 4.91769801\n",
      " 3.88627369 3.15332622 2.1405174  1.8422666  3.29225302 3.27768212\n",
      " 2.39105175 3.21230932 2.76050102 5.39287818 4.67417686 3.25593428\n",
      " 2.41625949 3.21336822 4.37835172 3.39348029 1.77084874 3.2712056\n",
      " 2.2701619  4.35758067 2.9701924  0.89433124 3.54642858 4.59024063\n",
      " 3.35710247 2.59996472 3.50198058 2.80574489 4.4726348  3.25918691\n",
      " 2.31316103 4.47624906 2.0980844  0.83349804 2.11307851 2.93534034\n",
      " 2.37544912 2.37291433 2.2161149  1.38481321]\n",
      "[26.05076965 20.32432916 30.73145465 32.74006152 33.03765961 29.40202274\n",
      " 21.44604703 26.31497375 25.48095524 31.4634027  23.7944686  22.10989897\n",
      " 26.14921418 25.44182858 33.89304007 26.39770629 27.62239591 22.53578318\n",
      " 29.9543425  34.37531988 35.73373239 28.94369929 30.54242467 32.63683926\n",
      " 30.02955037 36.89766935 27.14523425 31.50921975 33.58012249 32.43655426\n",
      " 27.93063529 30.15717555 25.70205357 25.16459386 39.79874282 38.33474083\n",
      " 26.53834351 36.84500978 41.60754098 28.79512704 29.54958391 39.81488118\n",
      " 35.5828817  28.03378503 26.08588885 33.34059744 25.85522074 28.47331024\n",
      " 30.97731075 38.52312195 28.8599187  24.29759047 39.56221628 29.19147785\n",
      " 32.66457628 34.31268856 32.73022137 25.11459613 42.31899885 22.95177103\n",
      " 21.96860103 30.40694048 23.00990035 28.69142024 37.46187428 30.10420139\n",
      " 21.44453004 29.15722626 31.47676951 30.48697904 29.64017074 37.08868269\n",
      " 26.17277732 34.88617128 30.11604727 30.94110762 30.15664912 35.19256286\n",
      " 33.37629774 32.1805666  30.48375096 25.51057933 36.17935451 26.0841062\n",
      " 27.87150922 20.91026075 23.38762665 38.91543815 24.6016198  32.09870442\n",
      " 30.98437101 30.89351005 28.18002058 29.38821663 39.25751075 33.65900482\n",
      " 24.22464132 27.1203555  36.94832385 33.87268646]\n"
     ]
    }
   ],
   "source": [
    "k_h = np.random.normal(3,1, 100)\n",
    "k_w = np.random.normal(30,5, 100)\n",
    "print(k_h)\n",
    "print(k_w)"
   ]
  },
  {
   "cell_type": "code",
   "execution_count": 104,
   "metadata": {
    "colab": {
     "base_uri": "https://localhost:8080/"
    },
    "executionInfo": {
     "elapsed": 27386,
     "status": "ok",
     "timestamp": 1617130451352,
     "user": {
      "displayName": "Sughandhan S",
      "photoUrl": "https://lh3.googleusercontent.com/a-/AOh14GgCzJgz5tDGcNqn108PikDmo9i8xVBqBE7WCrGurg=s64",
      "userId": "16893705064560269479"
     },
     "user_tz": -330
    },
    "id": "I-8WudgBYv82",
    "outputId": "ad90783e-e89f-4a58-faa3-bbddf136b3f8"
   },
   "outputs": [
    {
     "name": "stdout",
     "output_type": "stream",
     "text": [
      "[7.06666645 7.5675921  7.99253282 6.65388893 7.30456632 5.49335002\n",
      " 6.45361655 5.3744321  7.58026846 8.10361425 7.39396716 7.67463233\n",
      " 6.86169738 7.12878753 7.22248126 6.21881179 7.02049589 6.83439044\n",
      " 9.0193059  7.14622996 6.34536642 7.42389164 6.09878692 5.68148695\n",
      " 7.17360756 6.64971739 7.4606905  5.9331679  9.02986847 6.77156809\n",
      " 7.67246948 7.46002094 6.3522588  7.15624592 6.22939266 8.02335641\n",
      " 7.73281919 8.93154908 5.1661244  6.46389528 6.9628352  7.60028449\n",
      " 7.59579653 8.77525759 7.40843114 7.08380274 7.28734594 6.66106073\n",
      " 7.43814735 5.28971079]\n",
      "[40.45996275 39.89211391 42.24345537 42.57844506 39.82167226 41.43015909\n",
      " 39.59440381 40.53334204 41.01155492 39.3204852  40.42408125 43.81069747\n",
      " 38.91101345 42.84591779 41.41512835 41.17306082 39.36293452 42.86550388\n",
      " 40.60521719 44.24208628 39.54246995 42.07952348 41.94308186 38.64683342\n",
      " 41.1272843  44.61179114 37.50396562 39.63937443 39.19885356 44.89692304\n",
      " 37.26330713 42.75859383 38.15176891 41.12227323 40.88518102 41.43316941\n",
      " 39.84126208 41.96560746 40.290135   41.88269361 41.24580245 36.94720721\n",
      " 36.81603019 40.44183613 41.59378086 38.46338626 39.25369714 43.20184569\n",
      " 41.90505113 40.04029119]\n"
     ]
    }
   ],
   "source": [
    "al_h =np.random.normal(7,1, 50)\n",
    "al_w =np.random.normal(40,2, 50)\n",
    "print(al_h)\n",
    "print(al_w)"
   ]
  },
  {
   "cell_type": "code",
   "execution_count": 105,
   "metadata": {
    "colab": {
     "base_uri": "https://localhost:8080/",
     "height": 283
    },
    "executionInfo": {
     "elapsed": 28371,
     "status": "ok",
     "timestamp": 1617130452342,
     "user": {
      "displayName": "Sughandhan S",
      "photoUrl": "https://lh3.googleusercontent.com/a-/AOh14GgCzJgz5tDGcNqn108PikDmo9i8xVBqBE7WCrGurg=s64",
      "userId": "16893705064560269479"
     },
     "user_tz": -330
    },
    "id": "c_jsaS_ZUkzX",
    "outputId": "c54ffc36-50f4-431d-98bf-505f13ef5035"
   },
   "outputs": [
    {
     "data": {
      "image/png": "[encoded data removed]",
      "text/plain": [
       "<Figure size 432x288 with 1 Axes>"
      ]
     },
     "metadata": {
      "needs_background": "light",
      "tags": []
     },
     "output_type": "display_data"
    }
   ],
   "source": [
    "plt.scatter(a_h, a_w,color = 'r')\n",
    "plt.scatter(k_h, k_w, color='b')\n",
    "plt.scatter(al_h, al_w, color='g')\n",
    "plt.xlabel(\"height\")\n",
    "plt.ylabel(\"weight\")\n",
    "plt.show()\n"
   ]
  },
  {
   "cell_type": "code",
   "execution_count": 106,
   "metadata": {
    "executionInfo": {
     "elapsed": 28367,
     "status": "ok",
     "timestamp": 1617130452343,
     "user": {
      "displayName": "Sughandhan S",
      "photoUrl": "https://lh3.googleusercontent.com/a-/AOh14GgCzJgz5tDGcNqn108PikDmo9i8xVBqBE7WCrGurg=s64",
      "userId": "16893705064560269479"
     },
     "user_tz": -330
    },
    "id": "QvONC8fLm1mD"
   },
   "outputs": [],
   "source": [
    "data = []"
   ]
  },
  {
   "cell_type": "code",
   "execution_count": 107,
   "metadata": {
    "colab": {
     "base_uri": "https://localhost:8080/"
    },
    "executionInfo": {
     "elapsed": 28363,
     "status": "ok",
     "timestamp": 1617130452344,
     "user": {
      "displayName": "Sughandhan S",
      "photoUrl": "https://lh3.googleusercontent.com/a-/AOh14GgCzJgz5tDGcNqn108PikDmo9i8xVBqBE7WCrGurg=s64",
      "userId": "16893705064560269479"
     },
     "user_tz": -330
    },
    "id": "79tKI-Mtm3fr",
    "outputId": "03dc9059-7ac2-43b1-8ddf-2e5ee6bdb277"
   },
   "outputs": [
    {
     "data": {
      "text/plain": [
       "[(3.978148181836041, 26.050769654795452),\n",
       " (2.1190911502485186, 20.324329156944522),\n",
       " (3.928475482489024, 30.731454648055838),\n",
       " (3.0042585153201258, 32.74006152033221),\n",
       " (2.7844398948069946, 33.037659614121274),\n",
       " (2.460447516298891, 29.402022743409294),\n",
       " (3.0040963221706622, 21.446047031778427),\n",
       " (3.4030886317097817, 26.314973751101537),\n",
       " (2.985133368717367, 25.48095524105411),\n",
       " (2.569600680151043, 31.463402700381824),\n",
       " (2.1506733354332477, 23.79446859798934),\n",
       " (2.410471600437036, 22.10989896631208),\n",
       " (3.1682863033834883, 26.149214180811995),\n",
       " (4.711836773667391, 25.441828577455194),\n",
       " (2.716449773037249, 33.89304007488156),\n",
       " (2.302679510577274, 26.39770628901012),\n",
       " (4.102765614676921, 27.622395910925295),\n",
       " (1.5843946401114368, 22.53578317755145),\n",
       " (2.7107416966457683, 29.954342499486643),\n",
       " (4.330245895736767, 34.37531987558419),\n",
       " (1.2101187038013599, 35.73373238964857),\n",
       " (4.050955505499165, 28.943699293257247),\n",
       " (3.654400777083478, 30.542424670935173),\n",
       " (5.9752887864253434, 32.63683926304999),\n",
       " (3.7109535674614316, 30.02955037049213),\n",
       " (3.697495901407809, 36.897669352390686),\n",
       " (2.6004564766149, 27.145234249121142),\n",
       " (4.046855734669638, 31.509219750741153),\n",
       " (1.3281558777640297, 33.58012249422793),\n",
       " (2.9655957207181682, 32.436554262467986),\n",
       " (3.9779562642403676, 27.930635285900568),\n",
       " (2.8646746913194314, 30.157175545314363),\n",
       " (3.2261902035749057, 25.70205356954429),\n",
       " (2.8444011253629062, 25.164593862991687),\n",
       " (3.093580877933961, 39.79874281544217),\n",
       " (1.5359388246567398, 38.334740827936855),\n",
       " (2.3891366782591614, 26.538343507268827),\n",
       " (3.1673090153544377, 36.845009784080446),\n",
       " (3.4050725324030586, 41.607540983507775),\n",
       " (3.000895646263334, 28.795127037148117),\n",
       " (1.4132084539412866, 29.549583914488494),\n",
       " (2.477686296025108, 39.81488117979216),\n",
       " (2.6608592589617044, 35.58288169930588),\n",
       " (5.0718682428958335, 28.033785026171483),\n",
       " (2.8363311852451454, 26.085888849765205),\n",
       " (2.6153786982254283, 33.340597440145054),\n",
       " (3.685174807783862, 25.855220735970168),\n",
       " (5.087704093549762, 28.47331023525537),\n",
       " (2.3594617523620123, 30.977310751652663),\n",
       " (3.0649177163915313, 38.52312194657433),\n",
       " (2.870866375221007, 28.859918702168937),\n",
       " (3.841373009513072, 24.297590465824825),\n",
       " (3.5975758970073004, 39.56221627889252),\n",
       " (2.0701349162277323, 29.191477850818966),\n",
       " (3.0042797882772487, 32.66457628293061),\n",
       " (4.766664674673708, 34.312688564015176),\n",
       " (2.6355466461842765, 32.73022136748706),\n",
       " (4.880053843914226, 25.114596130651996),\n",
       " (4.767179159375939, 42.318998851174065),\n",
       " (4.917698009396084, 22.95177103220872),\n",
       " (3.8862736923897354, 21.968601029927353),\n",
       " (3.153326215723726, 30.406940479225284),\n",
       " (2.1405173966926005, 23.0099003526488),\n",
       " (1.8422666044556557, 28.691420235890554),\n",
       " (3.292253018638105, 37.4618742816329),\n",
       " (3.277682117921245, 30.104201389826507),\n",
       " (2.3910517528004807, 21.444530039806185),\n",
       " (3.212309322764796, 29.15722625796942),\n",
       " (2.7605010229783855, 31.476769507761325),\n",
       " (5.392878181369752, 30.486979038538156),\n",
       " (4.674176862723499, 29.640170739983354),\n",
       " (3.2559342789237786, 37.08868268734675),\n",
       " (2.4162594920018057, 26.172777321383748),\n",
       " (3.2133682233079375, 34.88617128228687),\n",
       " (4.378351722174268, 30.116047271316173),\n",
       " (3.3934802857614965, 30.94110761786029),\n",
       " (1.7708487412310603, 30.156649121586863),\n",
       " (3.271205599993377, 35.19256286213403),\n",
       " (2.270161903914531, 33.376297740611875),\n",
       " (4.357580670701241, 32.18056659754621),\n",
       " (2.970192404962756, 30.483750958643196),\n",
       " (0.8943312397786225, 25.510579325457485),\n",
       " (3.5464285807274285, 36.17935451319741),\n",
       " (4.590240628852417, 26.084106202586405),\n",
       " (3.357102471705193, 27.87150922383446),\n",
       " (2.599964717428757, 20.910260747198336),\n",
       " (3.5019805757476696, 23.387626646985446),\n",
       " (2.805744888324869, 38.91543814571219),\n",
       " (4.472634795941597, 24.601619795326755),\n",
       " (3.25918691103791, 32.098704424399656),\n",
       " (2.313161032292431, 30.984371010281535),\n",
       " (4.476249062939789, 30.893510049309892),\n",
       " (2.0980843960349014, 28.180020577262106),\n",
       " (0.8334980387576438, 29.388216633061386),\n",
       " (2.113078511174101, 39.25751074990666),\n",
       " (2.935340344038685, 33.659004821576055),\n",
       " (2.3754491158916236, 24.224641321274106),\n",
       " (2.3729143312623675, 27.1203555031914),\n",
       " (2.2161148973283407, 36.94832385298664),\n",
       " (1.3848132080204203, 33.87268645853488),\n",
       " (5.461888701840698, 51.873315810329046),\n",
       " (4.58123194893197, 63.35729483803604),\n",
       " (5.725988833550859, 55.49621196502255),\n",
       " (4.38994932204829, 58.61702996561417),\n",
       " (3.80593462344474, 68.28946939051302),\n",
       " (5.743139617308338, 55.77989496105649),\n",
       " (5.029528966292706, 65.06050296387052),\n",
       " (4.5211577248332055, 69.99921941987984),\n",
       " (3.780347554267613, 54.36522284450182),\n",
       " (4.852105073854028, 58.84890102441703),\n",
       " (5.365908891226413, 49.98735027006266),\n",
       " (7.142651567713624, 67.09003916587763),\n",
       " (5.849800029281466, 51.45942914751284),\n",
       " (6.91064269136645, 55.61718924044267),\n",
       " (3.6592026100545816, 50.60178562274686),\n",
       " (4.141722524913101, 58.60613281259644),\n",
       " (3.4887645051547356, 54.813883680254044),\n",
       " (2.7671243163582013, 67.01471139354031),\n",
       " (6.304207061678843, 62.84527725787322),\n",
       " (5.210768229202163, 59.34920500510986),\n",
       " (6.65877440188264, 62.72950974149843),\n",
       " (6.054271311471242, 60.59098427657937),\n",
       " (4.238844998651196, 53.6408285015915),\n",
       " (3.810197549688621, 56.88307552134721),\n",
       " (3.043851895368299, 56.77026273999721),\n",
       " (6.4644453642160125, 61.85199665254285),\n",
       " (4.72076621911156, 56.31751975750632),\n",
       " (5.810684287482384, 56.46092947652344),\n",
       " (5.151663250948956, 59.99466819660125),\n",
       " (4.44732893151239, 67.49645173688718),\n",
       " (5.8968838485044, 59.63002689560941),\n",
       " (6.119345439674049, 60.8960703338522),\n",
       " (7.908958171222813, 67.13705611979576),\n",
       " (4.729914407150047, 53.72784652734843),\n",
       " (5.727019700157974, 53.4603531812668),\n",
       " (4.641409641666642, 45.77127605855004),\n",
       " (4.504726719662982, 57.18381978037785),\n",
       " (5.963715194577244, 65.35634621253256),\n",
       " (5.329580313183513, 51.278338357602564),\n",
       " (6.400312054989349, 63.93570982678883),\n",
       " (3.9996825752081344, 66.40567658738824),\n",
       " (4.0939450972104225, 57.043507721749286),\n",
       " (4.614143653602111, 63.35652768897574),\n",
       " (5.33410864206645, 53.27880369517496),\n",
       " (5.203268807755847, 58.40859526940113),\n",
       " (4.103680092603582, 63.692312414986255),\n",
       " (3.5542426547611665, 48.28133856164584),\n",
       " (5.796741463278893, 55.49422761237251),\n",
       " (4.873594544671884, 58.776214078364646),\n",
       " (4.9312700449227025, 53.89320075875976),\n",
       " (4.515744539450553, 74.98719142906478),\n",
       " (3.9220712905556345, 63.37544064849044),\n",
       " (4.035874492482287, 63.50460261779449),\n",
       " (5.452440883348961, 53.69867568840288),\n",
       " (4.7938514320410714, 57.01159446016123),\n",
       " (5.186751507396359, 61.765782232943494),\n",
       " (2.645299455765035, 51.23239578410085),\n",
       " (6.191884552689565, 68.35438561187716),\n",
       " (5.321612119787326, 58.4012223189266),\n",
       " (6.030311442255903, 53.958233724207105),\n",
       " (5.485750846823825, 65.42067632381014),\n",
       " (5.145394809507938, 63.03123393449091),\n",
       " (5.675786769386628, 61.62154839604517),\n",
       " (3.7260986459712, 73.18738385313424),\n",
       " (5.870317312714681, 62.50451127446614),\n",
       " (7.561526436012772, 56.06575429514177),\n",
       " (4.138594635277223, 58.78074761487987),\n",
       " (6.123609460364179, 51.20374786750243),\n",
       " (3.4204210067621923, 62.47165815977885),\n",
       " (2.9697815468788384, 62.57725230097015),\n",
       " (7.510435893934195, 53.23413313100845),\n",
       " (5.592736770883025, 48.31744313248424),\n",
       " (5.120036026038416, 61.02662932706502),\n",
       " (5.333896859192486, 54.417360273661004),\n",
       " (5.733399855216523, 62.9997385724156),\n",
       " (4.638589193524783, 64.13559669171089),\n",
       " (6.688335929630829, 59.32881471461813),\n",
       " (5.784258867771891, 56.02523617983601),\n",
       " (4.420185172968261, 65.3872738287155),\n",
       " (4.5333392138831865, 58.815674379350966),\n",
       " (5.512422070794657, 71.0908952204123),\n",
       " (4.722408774104699, 55.32639712977063),\n",
       " (4.9978377852393985, 62.41227911150178),\n",
       " (4.592229660908281, 68.59496520416333),\n",
       " (3.603795930053647, 54.44613646014755),\n",
       " (5.735787898541759, 55.63481192930128),\n",
       " (3.8390287269167818, 53.03664732023383),\n",
       " (4.449873912868083, 62.60767617546588),\n",
       " (6.383764503817205, 57.60833851007006),\n",
       " (6.509711515580389, 68.02189697971158),\n",
       " (5.4622695207704135, 59.019709524034035),\n",
       " (3.7711022220415327, 46.74903295462873),\n",
       " (5.116548225331433, 66.08727865130193),\n",
       " (2.8202202586417355, 52.691271026900566),\n",
       " (4.986717373343138, 63.93211940992914),\n",
       " (3.913188766542695, 67.05777524999937),\n",
       " (5.134928020045924, 53.48036025723546),\n",
       " (4.7191643105761045, 77.37338439366494),\n",
       " (4.813926996394336, 66.82537228377322),\n",
       " (4.512964487628771, 46.11787272421913),\n",
       " (7.066666454971812, 40.45996274822891),\n",
       " (7.567592103606044, 39.89211390643834),\n",
       " (7.992532821214476, 42.243455374609454),\n",
       " (6.65388892926485, 42.578445062724704),\n",
       " (7.304566319093657, 39.821672258955275),\n",
       " (5.493350020526348, 41.43015908862292),\n",
       " (6.453616554357296, 39.59440381407046),\n",
       " (5.3744320991726395, 40.53334204183939),\n",
       " (7.58026846065291, 41.011554918865365),\n",
       " (8.10361424600378, 39.32048519785486),\n",
       " (7.393967162704151, 40.42408125177668),\n",
       " (7.67463232716528, 43.810697471400196),\n",
       " (6.861697383587819, 38.91101345075916),\n",
       " (7.128787528283311, 42.845917792584395),\n",
       " (7.222481255883602, 41.41512835003957),\n",
       " (6.218811788920055, 41.173060820716),\n",
       " (7.020495894604652, 39.36293452485995),\n",
       " (6.8343904358504695, 42.86550388193554),\n",
       " (9.019305900340884, 40.605217194404986),\n",
       " (7.146229958864169, 44.242086283983596),\n",
       " (6.345366415096462, 39.54246994808321),\n",
       " (7.4238916419036425, 42.07952347906179),\n",
       " (6.098786923217482, 41.94308186004105),\n",
       " (5.681486947576118, 38.646833419708024),\n",
       " (7.173607558735665, 41.127284302079154),\n",
       " (6.649717387138573, 44.61179114255222),\n",
       " (7.4606905019174805, 37.50396561639701),\n",
       " (5.933167902050821, 39.63937442912103),\n",
       " (9.029868465638284, 39.198853557631196),\n",
       " (6.771568091204916, 44.8969230437012),\n",
       " (7.672469479282099, 37.26330712563686),\n",
       " (7.460020941323092, 42.75859383120256),\n",
       " (6.3522588009106595, 38.15176891038559),\n",
       " (7.156245918023289, 41.1222732344129),\n",
       " (6.229392656929203, 40.88518101594298),\n",
       " (8.023356412973705, 41.43316940812228),\n",
       " (7.732819189952235, 39.84126207596592),\n",
       " (8.931549078646135, 41.96560745629097),\n",
       " (5.166124397919678, 40.290135002292686),\n",
       " (6.463895282974335, 41.88269361078546),\n",
       " (6.962835197710393, 41.24580245364594),\n",
       " (7.60028449084748, 36.94720721426471),\n",
       " (7.595796534566118, 36.81603019134314),\n",
       " (8.775257589217286, 40.44183612695748),\n",
       " (7.40843113500652, 41.593780863931116),\n",
       " (7.083802742721985, 38.46338626283792),\n",
       " (7.287345937154522, 39.25369713854132),\n",
       " (6.661060726177883, 43.201845692964184),\n",
       " (7.438147347676229, 41.90505112864416),\n",
       " (5.289710792458776, 40.04029118911586)]"
      ]
     },
     "execution_count": 107,
     "metadata": {
      "tags": []
     },
     "output_type": "execute_result"
    }
   ],
   "source": [
    "for i in range(100):\n",
    "  data.append((k_h[i], k_w[i]))\n",
    "for i in range(100):\n",
    "  data.append((a_h[i], a_w[i]))\n",
    "for i in range(50):\n",
    "  data.append((al_h[i], al_w[i]))\n",
    "data"
   ]
  },
  {
   "cell_type": "code",
   "execution_count": 108,
   "metadata": {
    "colab": {
     "base_uri": "https://localhost:8080/"
    },
    "executionInfo": {
     "elapsed": 28359,
     "status": "ok",
     "timestamp": 1617130452345,
     "user": {
      "displayName": "Sughandhan S",
      "photoUrl": "https://lh3.googleusercontent.com/a-/AOh14GgCzJgz5tDGcNqn108PikDmo9i8xVBqBE7WCrGurg=s64",
      "userId": "16893705064560269479"
     },
     "user_tz": -330
    },
    "id": "-gY2NEJ8nUKZ",
    "outputId": "96a7eca1-478d-4458-95b1-5603e18dfe47"
   },
   "outputs": [
    {
     "data": {
      "text/plain": [
       "(250, 2)"
      ]
     },
     "execution_count": 108,
     "metadata": {
      "tags": []
     },
     "output_type": "execute_result"
    }
   ],
   "source": [
    "data = np.array(data)\n",
    "data.shape"
   ]
  },
  {
   "cell_type": "code",
   "execution_count": 109,
   "metadata": {
    "colab": {
     "base_uri": "https://localhost:8080/"
    },
    "executionInfo": {
     "elapsed": 28354,
     "status": "ok",
     "timestamp": 1617130452346,
     "user": {
      "displayName": "Sughandhan S",
      "photoUrl": "https://lh3.googleusercontent.com/a-/AOh14GgCzJgz5tDGcNqn108PikDmo9i8xVBqBE7WCrGurg=s64",
      "userId": "16893705064560269479"
     },
     "user_tz": -330
    },
    "id": "oEt4UZbBnLKp",
    "outputId": "d27b42cd-b7aa-4020-db1a-6cc9aae2a806"
   },
   "outputs": [
    {
     "data": {
      "text/plain": [
       "250"
      ]
     },
     "execution_count": 109,
     "metadata": {
      "tags": []
     },
     "output_type": "execute_result"
    }
   ],
   "source": [
    "len(data)"
   ]
  },
  {
   "cell_type": "markdown",
   "metadata": {
    "id": "8vNamlh5ftZN"
   },
   "source": [
    "k=3"
   ]
  },
  {
   "cell_type": "code",
   "execution_count": 141,
   "metadata": {
    "colab": {
     "base_uri": "https://localhost:8080/"
    },
    "executionInfo": {
     "elapsed": 5814,
     "status": "ok",
     "timestamp": 1617130617996,
     "user": {
      "displayName": "Sughandhan S",
      "photoUrl": "https://lh3.googleusercontent.com/a-/AOh14GgCzJgz5tDGcNqn108PikDmo9i8xVBqBE7WCrGurg=s64",
      "userId": "16893705064560269479"
     },
     "user_tz": -330
    },
    "id": "PqO1oNMdmdwN",
    "outputId": "0c7478f9-b1c1-449d-ef9d-11579e332fa5"
   },
   "outputs": [
    {
     "name": "stdout",
     "output_type": "stream",
     "text": [
      "3\n"
     ]
    }
   ],
   "source": [
    "k = int(input())"
   ]
  },
  {
   "cell_type": "code",
   "execution_count": 142,
   "metadata": {
    "colab": {
     "base_uri": "https://localhost:8080/"
    },
    "executionInfo": {
     "elapsed": 4544,
     "status": "ok",
     "timestamp": 1617130619776,
     "user": {
      "displayName": "Sughandhan S",
      "photoUrl": "https://lh3.googleusercontent.com/a-/AOh14GgCzJgz5tDGcNqn108PikDmo9i8xVBqBE7WCrGurg=s64",
      "userId": "16893705064560269479"
     },
     "user_tz": -330
    },
    "id": "8k0Cc4HCUkpw",
    "outputId": "e8343f86-165b-47f1-ca71-3175cf369904"
   },
   "outputs": [
    {
     "data": {
      "text/plain": [
       "array([[ 2.78156989, 48.62014503],\n",
       "       [ 2.7797637 , 25.99540369],\n",
       "       [ 7.79713271, 57.90382925]])"
      ]
     },
     "execution_count": 142,
     "metadata": {
      "tags": []
     },
     "output_type": "execute_result"
    }
   ],
   "source": [
    "centroids=[]\n",
    "for i in range(k):\n",
    "  x= np.random.uniform(low=2,high=8)\n",
    "  y= np.random.uniform(low=25,high=70)\n",
    "  centroids.append((x,y))\n",
    "centroids= np.array(centroids)\n",
    "centroids"
   ]
  },
  {
   "cell_type": "code",
   "execution_count": 143,
   "metadata": {
    "colab": {
     "base_uri": "https://localhost:8080/"
    },
    "executionInfo": {
     "elapsed": 3831,
     "status": "ok",
     "timestamp": 1617130619778,
     "user": {
      "displayName": "Sughandhan S",
      "photoUrl": "https://lh3.googleusercontent.com/a-/AOh14GgCzJgz5tDGcNqn108PikDmo9i8xVBqBE7WCrGurg=s64",
      "userId": "16893705064560269479"
     },
     "user_tz": -330
    },
    "id": "LFhbN6ceUklE",
    "outputId": "06580a98-2dee-4514-e4a4-dcf1a1073156"
   },
   "outputs": [
    {
     "name": "stdout",
     "output_type": "stream",
     "text": [
      "[[ 2.78156989 48.62014503]\n",
      " [ 2.7797637  25.99540369]\n",
      " [ 7.79713271 57.90382925]]\n",
      "[[5.953619452391127, 42.695067372719], [3.2685718351066755, 29.438686732466948], [5.113174409132655, 61.076819143603345]]\n",
      "[[5.953619452391127, 42.695067372719], [3.2685718351066755, 29.438686732466948], [5.113174409132655, 61.076819143603345]]\n",
      "[[5.960104094548175, 41.75634650256699], [3.1252532100838466, 28.825484138504383], [5.062703622278243, 60.805663341534206]]\n",
      "[[5.960104094548175, 41.75634650256699], [3.1252532100838466, 28.825484138504383], [5.062703622278243, 60.805663341534206]]\n",
      "[[5.989421524196139, 41.14819465217457], [3.120298205723334, 28.73896801644917], [5.05222268761474, 60.39936796907126]]\n",
      "[[5.989421524196139, 41.14819465217457], [3.120298205723334, 28.73896801644917], [5.05222268761474, 60.39936796907126]]\n",
      "[[5.878042429306985, 40.863933457164805], [3.148847825586991, 28.572236955532826], [5.063742975493766, 60.30049033357051]]\n",
      "[[5.878042429306985, 40.863933457164805], [3.148847825586991, 28.572236955532826], [5.063742975493766, 60.30049033357051]]\n",
      "[[5.87279922646832, 40.65570071715652], [3.1473556576064254, 28.491501273745005], [5.048801056712498, 60.19731262388089]]\n",
      "[[5.87279922646832, 40.65570071715652], [3.1473556576064254, 28.491501273745005], [5.048801056712498, 60.19731262388089]]\n",
      "[[5.8373401464261825, 40.578773658024936], [3.1465406876594932, 28.412554730429672], [5.048801056712498, 60.19731262388089]]\n",
      "[[5.8373401464261825, 40.578773658024936], [3.1465406876594932, 28.412554730429672], [5.048801056712498, 60.19731262388089]]\n",
      "[[5.8373401464261825, 40.578773658024936], [3.1465406876594932, 28.412554730429672], [5.048801056712498, 60.19731262388089]]\n"
     ]
    }
   ],
   "source": [
    "c_dist, label, sse = k_means_clus(data, k, centroids)"
   ]
  },
  {
   "cell_type": "code",
   "execution_count": 144,
   "metadata": {
    "colab": {
     "base_uri": "https://localhost:8080/"
    },
    "executionInfo": {
     "elapsed": 4417,
     "status": "ok",
     "timestamp": 1617130621215,
     "user": {
      "displayName": "Sughandhan S",
      "photoUrl": "https://lh3.googleusercontent.com/a-/AOh14GgCzJgz5tDGcNqn108PikDmo9i8xVBqBE7WCrGurg=s64",
      "userId": "16893705064560269479"
     },
     "user_tz": -330
    },
    "id": "aqDkk9TMoJRn",
    "outputId": "fda266f1-c942-475d-a84f-c26273da0504"
   },
   "outputs": [
    {
     "data": {
      "text/plain": [
       "array([3.97814818, 2.11909115, 3.92847548, 3.00425852, 2.78443989,\n",
       "       2.46044752, 3.00409632, 3.40308863, 2.98513337, 2.56960068,\n",
       "       2.15067334, 2.4104716 , 3.1682863 , 4.71183677, 2.71644977,\n",
       "       2.30267951, 4.10276561, 1.58439464, 2.7107417 , 4.3302459 ,\n",
       "       4.05095551, 3.65440078, 5.97528879, 3.71095357, 2.60045648,\n",
       "       4.04685573, 1.32815588, 2.96559572, 3.97795626, 2.86467469,\n",
       "       3.2261902 , 2.84440113, 2.38913668, 3.00089565, 1.41320845,\n",
       "       5.07186824, 2.83633119, 2.6153787 , 3.68517481, 5.08770409,\n",
       "       2.35946175, 2.87086638, 3.84137301, 2.07013492, 3.00427979,\n",
       "       4.76666467, 2.63554665, 4.88005384, 4.91769801, 3.88627369,\n",
       "       3.15332622, 2.1405174 , 1.8422666 , 3.27768212, 2.39105175,\n",
       "       3.21230932, 2.76050102, 5.39287818, 4.67417686, 2.41625949,\n",
       "       4.37835172, 3.39348029, 1.77084874, 2.2701619 , 4.35758067,\n",
       "       2.9701924 , 0.89433124, 4.59024063, 3.35710247, 2.59996472,\n",
       "       3.50198058, 4.4726348 , 3.25918691, 2.31316103, 4.47624906,\n",
       "       2.0980844 , 0.83349804, 2.93534034, 2.37544912, 2.37291433,\n",
       "       1.38481321])"
      ]
     },
     "execution_count": 144,
     "metadata": {
      "tags": []
     },
     "output_type": "execute_result"
    }
   ],
   "source": [
    "c_dist[1][:,0]"
   ]
  },
  {
   "cell_type": "code",
   "execution_count": 145,
   "metadata": {
    "colab": {
     "base_uri": "https://localhost:8080/"
    },
    "executionInfo": {
     "elapsed": 3525,
     "status": "ok",
     "timestamp": 1617130621215,
     "user": {
      "displayName": "Sughandhan S",
      "photoUrl": "https://lh3.googleusercontent.com/a-/AOh14GgCzJgz5tDGcNqn108PikDmo9i8xVBqBE7WCrGurg=s64",
      "userId": "16893705064560269479"
     },
     "user_tz": -330
    },
    "id": "OsX8O-BcUkiT",
    "outputId": "2cc66ef1-21e6-4fcc-e78f-da0f04edbad6"
   },
   "outputs": [
    {
     "data": {
      "text/plain": [
       "array([[ 5.4618887 , 51.87331581],\n",
       "       [ 4.58123195, 63.35729484],\n",
       "       [ 5.72598883, 55.49621197],\n",
       "       [ 4.38994932, 58.61702997],\n",
       "       [ 3.80593462, 68.28946939],\n",
       "       [ 5.74313962, 55.77989496],\n",
       "       [ 5.02952897, 65.06050296],\n",
       "       [ 4.52115772, 69.99921942],\n",
       "       [ 3.78034755, 54.36522284],\n",
       "       [ 4.85210507, 58.84890102],\n",
       "       [ 7.14265157, 67.09003917],\n",
       "       [ 5.84980003, 51.45942915],\n",
       "       [ 6.91064269, 55.61718924],\n",
       "       [ 3.65920261, 50.60178562],\n",
       "       [ 4.14172252, 58.60613281],\n",
       "       [ 3.48876451, 54.81388368],\n",
       "       [ 2.76712432, 67.01471139],\n",
       "       [ 6.30420706, 62.84527726],\n",
       "       [ 5.21076823, 59.34920501],\n",
       "       [ 6.6587744 , 62.72950974],\n",
       "       [ 6.05427131, 60.59098428],\n",
       "       [ 4.238845  , 53.6408285 ],\n",
       "       [ 3.81019755, 56.88307552],\n",
       "       [ 3.0438519 , 56.77026274],\n",
       "       [ 6.46444536, 61.85199665],\n",
       "       [ 4.72076622, 56.31751976],\n",
       "       [ 5.81068429, 56.46092948],\n",
       "       [ 5.15166325, 59.9946682 ],\n",
       "       [ 4.44732893, 67.49645174],\n",
       "       [ 5.89688385, 59.6300269 ],\n",
       "       [ 6.11934544, 60.89607033],\n",
       "       [ 7.90895817, 67.13705612],\n",
       "       [ 4.72991441, 53.72784653],\n",
       "       [ 5.7270197 , 53.46035318],\n",
       "       [ 4.50472672, 57.18381978],\n",
       "       [ 5.96371519, 65.35634621],\n",
       "       [ 5.32958031, 51.27833836],\n",
       "       [ 6.40031205, 63.93570983],\n",
       "       [ 3.99968258, 66.40567659],\n",
       "       [ 4.0939451 , 57.04350772],\n",
       "       [ 4.61414365, 63.35652769],\n",
       "       [ 5.33410864, 53.2788037 ],\n",
       "       [ 5.20326881, 58.40859527],\n",
       "       [ 4.10368009, 63.69231241],\n",
       "       [ 5.79674146, 55.49422761],\n",
       "       [ 4.87359454, 58.77621408],\n",
       "       [ 4.93127004, 53.89320076],\n",
       "       [ 4.51574454, 74.98719143],\n",
       "       [ 3.92207129, 63.37544065],\n",
       "       [ 4.03587449, 63.50460262],\n",
       "       [ 5.45244088, 53.69867569],\n",
       "       [ 4.79385143, 57.01159446],\n",
       "       [ 5.18675151, 61.76578223],\n",
       "       [ 2.64529946, 51.23239578],\n",
       "       [ 6.19188455, 68.35438561],\n",
       "       [ 5.32161212, 58.40122232],\n",
       "       [ 6.03031144, 53.95823372],\n",
       "       [ 5.48575085, 65.42067632],\n",
       "       [ 5.14539481, 63.03123393],\n",
       "       [ 5.67578677, 61.6215484 ],\n",
       "       [ 3.72609865, 73.18738385],\n",
       "       [ 5.87031731, 62.50451127],\n",
       "       [ 7.56152644, 56.0657543 ],\n",
       "       [ 4.13859464, 58.78074761],\n",
       "       [ 6.12360946, 51.20374787],\n",
       "       [ 3.42042101, 62.47165816],\n",
       "       [ 2.96978155, 62.5772523 ],\n",
       "       [ 7.51043589, 53.23413313],\n",
       "       [ 5.12003603, 61.02662933],\n",
       "       [ 5.33389686, 54.41736027],\n",
       "       [ 5.73339986, 62.99973857],\n",
       "       [ 4.63858919, 64.13559669],\n",
       "       [ 6.68833593, 59.32881471],\n",
       "       [ 5.78425887, 56.02523618],\n",
       "       [ 4.42018517, 65.38727383],\n",
       "       [ 4.53333921, 58.81567438],\n",
       "       [ 5.51242207, 71.09089522],\n",
       "       [ 4.72240877, 55.32639713],\n",
       "       [ 4.99783779, 62.41227911],\n",
       "       [ 4.59222966, 68.5949652 ],\n",
       "       [ 3.60379593, 54.44613646],\n",
       "       [ 5.7357879 , 55.63481193],\n",
       "       [ 3.83902873, 53.03664732],\n",
       "       [ 4.44987391, 62.60767618],\n",
       "       [ 6.3837645 , 57.60833851],\n",
       "       [ 6.50971152, 68.02189698],\n",
       "       [ 5.46226952, 59.01970952],\n",
       "       [ 5.11654823, 66.08727865],\n",
       "       [ 2.82022026, 52.69127103],\n",
       "       [ 4.98671737, 63.93211941],\n",
       "       [ 3.91318877, 67.05777525],\n",
       "       [ 5.13492802, 53.48036026],\n",
       "       [ 4.71916431, 77.37338439],\n",
       "       [ 4.813927  , 66.82537228]])"
      ]
     },
     "execution_count": 145,
     "metadata": {
      "tags": []
     },
     "output_type": "execute_result"
    }
   ],
   "source": [
    "c_dist[2]"
   ]
  },
  {
   "cell_type": "code",
   "execution_count": 146,
   "metadata": {
    "colab": {
     "base_uri": "https://localhost:8080/"
    },
    "executionInfo": {
     "elapsed": 3974,
     "status": "ok",
     "timestamp": 1617130622373,
     "user": {
      "displayName": "Sughandhan S",
      "photoUrl": "https://lh3.googleusercontent.com/a-/AOh14GgCzJgz5tDGcNqn108PikDmo9i8xVBqBE7WCrGurg=s64",
      "userId": "16893705064560269479"
     },
     "user_tz": -330
    },
    "id": "Ui_ZXnfzUkG0",
    "outputId": "5e795cd2-034c-4902-f821-84157a32cc0c"
   },
   "outputs": [
    {
     "data": {
      "text/plain": [
       "[11850.168853229648,\n",
       " 5675.343013520239,\n",
       " 5517.8800041938575,\n",
       " 5454.142460547922,\n",
       " 5435.353315418571,\n",
       " 5430.050101606963,\n",
       " 5429.007076807082]"
      ]
     },
     "execution_count": 146,
     "metadata": {
      "tags": []
     },
     "output_type": "execute_result"
    }
   ],
   "source": [
    "sse"
   ]
  },
  {
   "cell_type": "markdown",
   "metadata": {
    "id": "kt8Pcv67u7IX"
   },
   "source": [
    "# 3A) iteration vs sse"
   ]
  },
  {
   "cell_type": "code",
   "execution_count": 147,
   "metadata": {
    "colab": {
     "base_uri": "https://localhost:8080/",
     "height": 265
    },
    "executionInfo": {
     "elapsed": 2812,
     "status": "ok",
     "timestamp": 1617130622374,
     "user": {
      "displayName": "Sughandhan S",
      "photoUrl": "https://lh3.googleusercontent.com/a-/AOh14GgCzJgz5tDGcNqn108PikDmo9i8xVBqBE7WCrGurg=s64",
      "userId": "16893705064560269479"
     },
     "user_tz": -330
    },
    "id": "7aDpDaPfuNML",
    "outputId": "122f156a-a8ce-4810-83c3-4b7b32bb160a"
   },
   "outputs": [
    {
     "data": {
      "image/png": "[encoded data removed]",
      "text/plain": [
       "<Figure size 432x288 with 1 Axes>"
      ]
     },
     "metadata": {
      "needs_background": "light",
      "tags": []
     },
     "output_type": "display_data"
    }
   ],
   "source": [
    "plt.plot(range(len(sse)),sse)\n",
    "plt.show()"
   ]
  },
  {
   "cell_type": "code",
   "execution_count": 148,
   "metadata": {
    "colab": {
     "base_uri": "https://localhost:8080/",
     "height": 269
    },
    "executionInfo": {
     "elapsed": 3733,
     "status": "ok",
     "timestamp": 1617130623933,
     "user": {
      "displayName": "Sughandhan S",
      "photoUrl": "https://lh3.googleusercontent.com/a-/AOh14GgCzJgz5tDGcNqn108PikDmo9i8xVBqBE7WCrGurg=s64",
      "userId": "16893705064560269479"
     },
     "user_tz": -330
    },
    "id": "PsTIxHYyo9NK",
    "outputId": "4c58a735-a781-4de4-d686-94a6c2aec1a3"
   },
   "outputs": [
    {
     "data": {
      "image/png": "[encoded data removed]",
      "text/plain": [
       "<Figure size 432x288 with 1 Axes>"
      ]
     },
     "metadata": {
      "needs_background": "light",
      "tags": []
     },
     "output_type": "display_data"
    }
   ],
   "source": [
    "for i in range(k):\n",
    "  if len(c_dist[i])!=0:\n",
    "    plt.scatter(c_dist[i][:,0], c_dist[i][:,1])\n",
    "plt.scatter(centroids[:,0], centroids[:,1])\n",
    "plt.show()"
   ]
  },
  {
   "cell_type": "markdown",
   "metadata": {
    "id": "wgaVHI-OwiY0"
   },
   "source": [
    "# 3 B) Two different Clustering results "
   ]
  },
  {
   "cell_type": "code",
   "execution_count": 149,
   "metadata": {
    "colab": {
     "base_uri": "https://localhost:8080/"
    },
    "executionInfo": {
     "elapsed": 1915,
     "status": "ok",
     "timestamp": 1617130624755,
     "user": {
      "displayName": "Sughandhan S",
      "photoUrl": "https://lh3.googleusercontent.com/a-/AOh14GgCzJgz5tDGcNqn108PikDmo9i8xVBqBE7WCrGurg=s64",
      "userId": "16893705064560269479"
     },
     "user_tz": -330
    },
    "id": "4SN7vma3o9Lf",
    "outputId": "09afe8f6-db91-4eac-bbfc-2c26431c45be"
   },
   "outputs": [
    {
     "data": {
      "text/plain": [
       "[[2, 30], [3, 30], [6, 70]]"
      ]
     },
     "execution_count": 149,
     "metadata": {
      "tags": []
     },
     "output_type": "execute_result"
    }
   ],
   "source": [
    "c1 = [[2,30], [3, 30], [6, 70]]\n",
    "c1"
   ]
  },
  {
   "cell_type": "code",
   "execution_count": 150,
   "metadata": {
    "colab": {
     "base_uri": "https://localhost:8080/"
    },
    "executionInfo": {
     "elapsed": 1997,
     "status": "ok",
     "timestamp": 1617130625495,
     "user": {
      "displayName": "Sughandhan S",
      "photoUrl": "https://lh3.googleusercontent.com/a-/AOh14GgCzJgz5tDGcNqn108PikDmo9i8xVBqBE7WCrGurg=s64",
      "userId": "16893705064560269479"
     },
     "user_tz": -330
    },
    "id": "BiK-wSOUo9Iv",
    "outputId": "ddbca331-896d-4e1f-c02b-b378ef837e2a"
   },
   "outputs": [
    {
     "data": {
      "text/plain": [
       "array([[ 2, 30],\n",
       "       [ 3, 30],\n",
       "       [ 6, 70]])"
      ]
     },
     "execution_count": 150,
     "metadata": {
      "tags": []
     },
     "output_type": "execute_result"
    }
   ],
   "source": [
    "c1 = np.array(c1)\n",
    "c1\n"
   ]
  },
  {
   "cell_type": "code",
   "execution_count": 151,
   "metadata": {
    "colab": {
     "base_uri": "https://localhost:8080/"
    },
    "executionInfo": {
     "elapsed": 1333,
     "status": "ok",
     "timestamp": 1617130625496,
     "user": {
      "displayName": "Sughandhan S",
      "photoUrl": "https://lh3.googleusercontent.com/a-/AOh14GgCzJgz5tDGcNqn108PikDmo9i8xVBqBE7WCrGurg=s64",
      "userId": "16893705064560269479"
     },
     "user_tz": -330
    },
    "id": "SS_cK5LBo9Fm",
    "outputId": "ef16a9ec-f714-4e82-d34d-01063459d089"
   },
   "outputs": [
    {
     "data": {
      "text/plain": [
       "[[3, 30], [4, 30], [5, 30]]"
      ]
     },
     "execution_count": 151,
     "metadata": {
      "tags": []
     },
     "output_type": "execute_result"
    }
   ],
   "source": [
    "c2 = [[3,30], [4, 30], [5, 30]]\n",
    "c2"
   ]
  },
  {
   "cell_type": "code",
   "execution_count": 152,
   "metadata": {
    "colab": {
     "base_uri": "https://localhost:8080/"
    },
    "executionInfo": {
     "elapsed": 1342,
     "status": "ok",
     "timestamp": 1617130626264,
     "user": {
      "displayName": "Sughandhan S",
      "photoUrl": "https://lh3.googleusercontent.com/a-/AOh14GgCzJgz5tDGcNqn108PikDmo9i8xVBqBE7WCrGurg=s64",
      "userId": "16893705064560269479"
     },
     "user_tz": -330
    },
    "id": "k6RKx_ZBo9C1",
    "outputId": "32f4ec65-f4d0-4e3b-ea2e-5f186609aff9"
   },
   "outputs": [
    {
     "data": {
      "text/plain": [
       "array([[ 3, 30],\n",
       "       [ 4, 30],\n",
       "       [ 5, 30]])"
      ]
     },
     "execution_count": 152,
     "metadata": {
      "tags": []
     },
     "output_type": "execute_result"
    }
   ],
   "source": [
    "c2 = np.array(c2)\n",
    "c2"
   ]
  },
  {
   "cell_type": "code",
   "execution_count": 153,
   "metadata": {
    "colab": {
     "base_uri": "https://localhost:8080/"
    },
    "executionInfo": {
     "elapsed": 1392,
     "status": "ok",
     "timestamp": 1617130627227,
     "user": {
      "displayName": "Sughandhan S",
      "photoUrl": "https://lh3.googleusercontent.com/a-/AOh14GgCzJgz5tDGcNqn108PikDmo9i8xVBqBE7WCrGurg=s64",
      "userId": "16893705064560269479"
     },
     "user_tz": -330
    },
    "id": "tNGjqXvzo9AT",
    "outputId": "f4fa5e17-2ed9-43d0-dd70-7e27e2d743c6"
   },
   "outputs": [
    {
     "data": {
      "text/plain": [
       "array([[ 3.97814818, 26.05076965],\n",
       "       [ 2.11909115, 20.32432916],\n",
       "       [ 3.92847548, 30.73145465],\n",
       "       [ 3.00425852, 32.74006152],\n",
       "       [ 2.78443989, 33.03765961],\n",
       "       [ 2.46044752, 29.40202274],\n",
       "       [ 3.00409632, 21.44604703],\n",
       "       [ 3.40308863, 26.31497375],\n",
       "       [ 2.98513337, 25.48095524],\n",
       "       [ 2.56960068, 31.4634027 ],\n",
       "       [ 2.15067334, 23.7944686 ],\n",
       "       [ 2.4104716 , 22.10989897],\n",
       "       [ 3.1682863 , 26.14921418],\n",
       "       [ 4.71183677, 25.44182858],\n",
       "       [ 2.71644977, 33.89304007],\n",
       "       [ 2.30267951, 26.39770629],\n",
       "       [ 4.10276561, 27.62239591],\n",
       "       [ 1.58439464, 22.53578318],\n",
       "       [ 2.7107417 , 29.9543425 ],\n",
       "       [ 4.3302459 , 34.37531988],\n",
       "       [ 1.2101187 , 35.73373239],\n",
       "       [ 4.05095551, 28.94369929],\n",
       "       [ 3.65440078, 30.54242467],\n",
       "       [ 5.97528879, 32.63683926],\n",
       "       [ 3.71095357, 30.02955037],\n",
       "       [ 3.6974959 , 36.89766935],\n",
       "       [ 2.60045648, 27.14523425],\n",
       "       [ 4.04685573, 31.50921975],\n",
       "       [ 1.32815588, 33.58012249],\n",
       "       [ 2.96559572, 32.43655426],\n",
       "       [ 3.97795626, 27.93063529],\n",
       "       [ 2.86467469, 30.15717555],\n",
       "       [ 3.2261902 , 25.70205357],\n",
       "       [ 2.84440113, 25.16459386],\n",
       "       [ 3.09358088, 39.79874282],\n",
       "       [ 1.53593882, 38.33474083],\n",
       "       [ 2.38913668, 26.53834351],\n",
       "       [ 3.16730902, 36.84500978],\n",
       "       [ 3.40507253, 41.60754098],\n",
       "       [ 3.00089565, 28.79512704],\n",
       "       [ 1.41320845, 29.54958391],\n",
       "       [ 2.4776863 , 39.81488118],\n",
       "       [ 2.66085926, 35.5828817 ],\n",
       "       [ 5.07186824, 28.03378503],\n",
       "       [ 2.83633119, 26.08588885],\n",
       "       [ 2.6153787 , 33.34059744],\n",
       "       [ 3.68517481, 25.85522074],\n",
       "       [ 5.08770409, 28.47331024],\n",
       "       [ 2.35946175, 30.97731075],\n",
       "       [ 3.06491772, 38.52312195],\n",
       "       [ 2.87086638, 28.8599187 ],\n",
       "       [ 3.84137301, 24.29759047],\n",
       "       [ 3.5975759 , 39.56221628],\n",
       "       [ 2.07013492, 29.19147785],\n",
       "       [ 3.00427979, 32.66457628],\n",
       "       [ 4.76666467, 34.31268856],\n",
       "       [ 2.63554665, 32.73022137],\n",
       "       [ 4.88005384, 25.11459613],\n",
       "       [ 4.76717916, 42.31899885],\n",
       "       [ 4.91769801, 22.95177103],\n",
       "       [ 3.88627369, 21.96860103],\n",
       "       [ 3.15332622, 30.40694048],\n",
       "       [ 2.1405174 , 23.00990035],\n",
       "       [ 1.8422666 , 28.69142024],\n",
       "       [ 3.29225302, 37.46187428],\n",
       "       [ 3.27768212, 30.10420139],\n",
       "       [ 2.39105175, 21.44453004],\n",
       "       [ 3.21230932, 29.15722626],\n",
       "       [ 2.76050102, 31.47676951],\n",
       "       [ 5.39287818, 30.48697904],\n",
       "       [ 4.67417686, 29.64017074],\n",
       "       [ 3.25593428, 37.08868269],\n",
       "       [ 2.41625949, 26.17277732],\n",
       "       [ 3.21336822, 34.88617128],\n",
       "       [ 4.37835172, 30.11604727],\n",
       "       [ 3.39348029, 30.94110762],\n",
       "       [ 1.77084874, 30.15664912],\n",
       "       [ 3.2712056 , 35.19256286],\n",
       "       [ 2.2701619 , 33.37629774],\n",
       "       [ 4.35758067, 32.1805666 ],\n",
       "       [ 2.9701924 , 30.48375096],\n",
       "       [ 0.89433124, 25.51057933],\n",
       "       [ 3.54642858, 36.17935451],\n",
       "       [ 4.59024063, 26.0841062 ],\n",
       "       [ 3.35710247, 27.87150922],\n",
       "       [ 2.59996472, 20.91026075],\n",
       "       [ 3.50198058, 23.38762665],\n",
       "       [ 2.80574489, 38.91543815],\n",
       "       [ 4.4726348 , 24.6016198 ],\n",
       "       [ 3.25918691, 32.09870442],\n",
       "       [ 2.31316103, 30.98437101],\n",
       "       [ 4.47624906, 30.89351005],\n",
       "       [ 2.0980844 , 28.18002058],\n",
       "       [ 0.83349804, 29.38821663],\n",
       "       [ 2.11307851, 39.25751075],\n",
       "       [ 2.93534034, 33.65900482],\n",
       "       [ 2.37544912, 24.22464132],\n",
       "       [ 2.37291433, 27.1203555 ],\n",
       "       [ 2.2161149 , 36.94832385],\n",
       "       [ 1.38481321, 33.87268646],\n",
       "       [ 5.4618887 , 51.87331581],\n",
       "       [ 4.58123195, 63.35729484],\n",
       "       [ 5.72598883, 55.49621197],\n",
       "       [ 4.38994932, 58.61702997],\n",
       "       [ 3.80593462, 68.28946939],\n",
       "       [ 5.74313962, 55.77989496],\n",
       "       [ 5.02952897, 65.06050296],\n",
       "       [ 4.52115772, 69.99921942],\n",
       "       [ 3.78034755, 54.36522284],\n",
       "       [ 4.85210507, 58.84890102],\n",
       "       [ 5.36590889, 49.98735027],\n",
       "       [ 7.14265157, 67.09003917],\n",
       "       [ 5.84980003, 51.45942915],\n",
       "       [ 6.91064269, 55.61718924],\n",
       "       [ 3.65920261, 50.60178562],\n",
       "       [ 4.14172252, 58.60613281],\n",
       "       [ 3.48876451, 54.81388368],\n",
       "       [ 2.76712432, 67.01471139],\n",
       "       [ 6.30420706, 62.84527726],\n",
       "       [ 5.21076823, 59.34920501],\n",
       "       [ 6.6587744 , 62.72950974],\n",
       "       [ 6.05427131, 60.59098428],\n",
       "       [ 4.238845  , 53.6408285 ],\n",
       "       [ 3.81019755, 56.88307552],\n",
       "       [ 3.0438519 , 56.77026274],\n",
       "       [ 6.46444536, 61.85199665],\n",
       "       [ 4.72076622, 56.31751976],\n",
       "       [ 5.81068429, 56.46092948],\n",
       "       [ 5.15166325, 59.9946682 ],\n",
       "       [ 4.44732893, 67.49645174],\n",
       "       [ 5.89688385, 59.6300269 ],\n",
       "       [ 6.11934544, 60.89607033],\n",
       "       [ 7.90895817, 67.13705612],\n",
       "       [ 4.72991441, 53.72784653],\n",
       "       [ 5.7270197 , 53.46035318],\n",
       "       [ 4.64140964, 45.77127606],\n",
       "       [ 4.50472672, 57.18381978],\n",
       "       [ 5.96371519, 65.35634621],\n",
       "       [ 5.32958031, 51.27833836],\n",
       "       [ 6.40031205, 63.93570983],\n",
       "       [ 3.99968258, 66.40567659],\n",
       "       [ 4.0939451 , 57.04350772],\n",
       "       [ 4.61414365, 63.35652769],\n",
       "       [ 5.33410864, 53.2788037 ],\n",
       "       [ 5.20326881, 58.40859527],\n",
       "       [ 4.10368009, 63.69231241],\n",
       "       [ 3.55424265, 48.28133856],\n",
       "       [ 5.79674146, 55.49422761],\n",
       "       [ 4.87359454, 58.77621408],\n",
       "       [ 4.93127004, 53.89320076],\n",
       "       [ 4.51574454, 74.98719143],\n",
       "       [ 3.92207129, 63.37544065],\n",
       "       [ 4.03587449, 63.50460262],\n",
       "       [ 5.45244088, 53.69867569],\n",
       "       [ 4.79385143, 57.01159446],\n",
       "       [ 5.18675151, 61.76578223],\n",
       "       [ 2.64529946, 51.23239578],\n",
       "       [ 6.19188455, 68.35438561],\n",
       "       [ 5.32161212, 58.40122232],\n",
       "       [ 6.03031144, 53.95823372],\n",
       "       [ 5.48575085, 65.42067632],\n",
       "       [ 5.14539481, 63.03123393],\n",
       "       [ 5.67578677, 61.6215484 ],\n",
       "       [ 3.72609865, 73.18738385],\n",
       "       [ 5.87031731, 62.50451127],\n",
       "       [ 7.56152644, 56.0657543 ],\n",
       "       [ 4.13859464, 58.78074761],\n",
       "       [ 6.12360946, 51.20374787],\n",
       "       [ 3.42042101, 62.47165816],\n",
       "       [ 2.96978155, 62.5772523 ],\n",
       "       [ 7.51043589, 53.23413313],\n",
       "       [ 5.59273677, 48.31744313],\n",
       "       [ 5.12003603, 61.02662933],\n",
       "       [ 5.33389686, 54.41736027],\n",
       "       [ 5.73339986, 62.99973857],\n",
       "       [ 4.63858919, 64.13559669],\n",
       "       [ 6.68833593, 59.32881471],\n",
       "       [ 5.78425887, 56.02523618],\n",
       "       [ 4.42018517, 65.38727383],\n",
       "       [ 4.53333921, 58.81567438],\n",
       "       [ 5.51242207, 71.09089522],\n",
       "       [ 4.72240877, 55.32639713],\n",
       "       [ 4.99783779, 62.41227911],\n",
       "       [ 4.59222966, 68.5949652 ],\n",
       "       [ 3.60379593, 54.44613646],\n",
       "       [ 5.7357879 , 55.63481193],\n",
       "       [ 3.83902873, 53.03664732],\n",
       "       [ 4.44987391, 62.60767618],\n",
       "       [ 6.3837645 , 57.60833851],\n",
       "       [ 6.50971152, 68.02189698],\n",
       "       [ 5.46226952, 59.01970952],\n",
       "       [ 3.77110222, 46.74903295],\n",
       "       [ 5.11654823, 66.08727865],\n",
       "       [ 2.82022026, 52.69127103],\n",
       "       [ 4.98671737, 63.93211941],\n",
       "       [ 3.91318877, 67.05777525],\n",
       "       [ 5.13492802, 53.48036026],\n",
       "       [ 4.71916431, 77.37338439],\n",
       "       [ 4.813927  , 66.82537228],\n",
       "       [ 4.51296449, 46.11787272],\n",
       "       [ 7.06666645, 40.45996275],\n",
       "       [ 7.5675921 , 39.89211391],\n",
       "       [ 7.99253282, 42.24345537],\n",
       "       [ 6.65388893, 42.57844506],\n",
       "       [ 7.30456632, 39.82167226],\n",
       "       [ 5.49335002, 41.43015909],\n",
       "       [ 6.45361655, 39.59440381],\n",
       "       [ 5.3744321 , 40.53334204],\n",
       "       [ 7.58026846, 41.01155492],\n",
       "       [ 8.10361425, 39.3204852 ],\n",
       "       [ 7.39396716, 40.42408125],\n",
       "       [ 7.67463233, 43.81069747],\n",
       "       [ 6.86169738, 38.91101345],\n",
       "       [ 7.12878753, 42.84591779],\n",
       "       [ 7.22248126, 41.41512835],\n",
       "       [ 6.21881179, 41.17306082],\n",
       "       [ 7.02049589, 39.36293452],\n",
       "       [ 6.83439044, 42.86550388],\n",
       "       [ 9.0193059 , 40.60521719],\n",
       "       [ 7.14622996, 44.24208628],\n",
       "       [ 6.34536642, 39.54246995],\n",
       "       [ 7.42389164, 42.07952348],\n",
       "       [ 6.09878692, 41.94308186],\n",
       "       [ 5.68148695, 38.64683342],\n",
       "       [ 7.17360756, 41.1272843 ],\n",
       "       [ 6.64971739, 44.61179114],\n",
       "       [ 7.4606905 , 37.50396562],\n",
       "       [ 5.9331679 , 39.63937443],\n",
       "       [ 9.02986847, 39.19885356],\n",
       "       [ 6.77156809, 44.89692304],\n",
       "       [ 7.67246948, 37.26330713],\n",
       "       [ 7.46002094, 42.75859383],\n",
       "       [ 6.3522588 , 38.15176891],\n",
       "       [ 7.15624592, 41.12227323],\n",
       "       [ 6.22939266, 40.88518102],\n",
       "       [ 8.02335641, 41.43316941],\n",
       "       [ 7.73281919, 39.84126208],\n",
       "       [ 8.93154908, 41.96560746],\n",
       "       [ 5.1661244 , 40.290135  ],\n",
       "       [ 6.46389528, 41.88269361],\n",
       "       [ 6.9628352 , 41.24580245],\n",
       "       [ 7.60028449, 36.94720721],\n",
       "       [ 7.59579653, 36.81603019],\n",
       "       [ 8.77525759, 40.44183613],\n",
       "       [ 7.40843114, 41.59378086],\n",
       "       [ 7.08380274, 38.46338626],\n",
       "       [ 7.28734594, 39.25369714],\n",
       "       [ 6.66106073, 43.20184569],\n",
       "       [ 7.43814735, 41.90505113],\n",
       "       [ 5.28971079, 40.04029119]])"
      ]
     },
     "execution_count": 153,
     "metadata": {
      "tags": []
     },
     "output_type": "execute_result"
    }
   ],
   "source": [
    "data = []\n",
    "for i in range(100):\n",
    "  data.append((k_h[i], k_w[i]))\n",
    "for i in range(100):\n",
    "  data.append((a_h[i], a_w[i]))\n",
    "for i in range(50):\n",
    "  data.append((al_h[i], al_w[i]))\n",
    "data = np.array(data)\n",
    "data"
   ]
  },
  {
   "cell_type": "code",
   "execution_count": 154,
   "metadata": {
    "colab": {
     "base_uri": "https://localhost:8080/"
    },
    "executionInfo": {
     "elapsed": 1616,
     "status": "ok",
     "timestamp": 1617130628633,
     "user": {
      "displayName": "Sughandhan S",
      "photoUrl": "https://lh3.googleusercontent.com/a-/AOh14GgCzJgz5tDGcNqn108PikDmo9i8xVBqBE7WCrGurg=s64",
      "userId": "16893705064560269479"
     },
     "user_tz": -330
    },
    "id": "7InmVvY_xoIC",
    "outputId": "94b587bb-04aa-4228-915a-af21076730d1"
   },
   "outputs": [
    {
     "name": "stdout",
     "output_type": "stream",
     "text": [
      "[[ 2 30]\n",
      " [ 3 30]\n",
      " [ 6 70]]\n",
      "[[1.973936204061394, 29.193885589342607], [5.000478157725206, 35.30329305679106], [5.052139033917908, 60.08983933594597]]\n",
      "[[1.973936204061394, 29.193885589342607], [5.000478157725206, 35.30329305679106], [5.052139033917908, 60.08983933594597]]\n",
      "[[3.145689418258103, 27.38831717984715], [5.4348398528165, 39.107227610496764], [5.042269975750983, 59.84673730524739]]\n",
      "[[3.145689418258103, 27.38831717984715], [5.4348398528165, 39.107227610496764], [5.042269975750983, 59.84673730524739]]\n",
      "[[3.1412668658541074, 28.043476228555416], [5.678077417547394, 40.044726757929105], [5.052139033917908, 60.08983933594597]]\n",
      "[[3.1412668658541074, 28.043476228555416], [5.678077417547394, 40.044726757929105], [5.052139033917908, 60.08983933594597]]\n",
      "[[3.1110491788608674, 28.26239145221777], [5.803862617563301, 40.41683159469441], [5.048801056712498, 60.19731262388089]]\n",
      "[[3.1110491788608674, 28.26239145221777], [5.803862617563301, 40.41683159469441], [5.048801056712498, 60.19731262388089]]\n",
      "[[3.1110491788608674, 28.26239145221777], [5.803862617563301, 40.41683159469441], [5.048801056712498, 60.19731262388089]]\n"
     ]
    }
   ],
   "source": [
    "c_dist, label, sse = k_means_clus(data, k, c1)"
   ]
  },
  {
   "cell_type": "code",
   "execution_count": 155,
   "metadata": {
    "colab": {
     "base_uri": "https://localhost:8080/",
     "height": 269
    },
    "executionInfo": {
     "elapsed": 1412,
     "status": "ok",
     "timestamp": 1617130630652,
     "user": {
      "displayName": "Sughandhan S",
      "photoUrl": "https://lh3.googleusercontent.com/a-/AOh14GgCzJgz5tDGcNqn108PikDmo9i8xVBqBE7WCrGurg=s64",
      "userId": "16893705064560269479"
     },
     "user_tz": -330
    },
    "id": "GxLyVRg6zLfA",
    "outputId": "c3784c11-c8a8-4a46-cb8a-74a9f02f38dd"
   },
   "outputs": [
    {
     "data": {
      "image/png": "[encoded data removed]",
      "text/plain": [
       "<Figure size 432x288 with 1 Axes>"
      ]
     },
     "metadata": {
      "needs_background": "light",
      "tags": []
     },
     "output_type": "display_data"
    }
   ],
   "source": [
    "for i in range(k):\n",
    "  if len(c_dist)!=0:\n",
    "    plt.scatter(c_dist[i][:,0], c_dist[i][:,1])\n",
    "plt.scatter(c1[:,0],c1[:,1])\n",
    "plt.show()"
   ]
  },
  {
   "cell_type": "code",
   "execution_count": 156,
   "metadata": {
    "colab": {
     "base_uri": "https://localhost:8080/"
    },
    "executionInfo": {
     "elapsed": 1568,
     "status": "ok",
     "timestamp": 1617130631977,
     "user": {
      "displayName": "Sughandhan S",
      "photoUrl": "https://lh3.googleusercontent.com/a-/AOh14GgCzJgz5tDGcNqn108PikDmo9i8xVBqBE7WCrGurg=s64",
      "userId": "16893705064560269479"
     },
     "user_tz": -330
    },
    "id": "T4jMSLfrxoGH",
    "outputId": "1b45f689-f83e-427d-e665-46e348d94959"
   },
   "outputs": [
    {
     "name": "stdout",
     "output_type": "stream",
     "text": [
      "[[ 3 30]\n",
      " [ 4 30]\n",
      " [ 5 30]]\n",
      "[[2.609995471976505, 33.036411274681974], [3.9777801921444715, 45.374548585772196], [6.0744786520687555, 49.900560959721325]]\n",
      "[[2.609995471976505, 33.036411274681974], [3.9777801921444715, 45.374548585772196], [6.0744786520687555, 49.900560959721325]]\n",
      "[[3.366346594286591, 30.226044179220754], [6.506621315443094, 41.60507034295401], [5.057770260344628, 59.96721020882657]]\n",
      "[[3.366346594286591, 30.226044179220754], [6.506621315443094, 41.60507034295401], [5.057770260344628, 59.96721020882657]]\n",
      "[[3.1252532100838466, 28.825484138504383], [6.021939904580654, 41.076550806028784], [5.063742975493766, 60.30049033357051]]\n",
      "[[3.1252532100838466, 28.825484138504383], [6.021939904580654, 41.076550806028784], [5.063742975493766, 60.30049033357051]]\n",
      "[[3.125767716994306, 28.657492853558015], [5.97369192298418, 40.79993830302501], [5.048801056712498, 60.19731262388089]]\n",
      "[[3.125767716994306, 28.657492853558015], [5.97369192298418, 40.79993830302501], [5.048801056712498, 60.19731262388089]]\n",
      "[[3.1473556576064254, 28.491501273745005], [5.87279922646832, 40.65570071715652], [5.048801056712498, 60.19731262388089]]\n",
      "[[3.1473556576064254, 28.491501273745005], [5.87279922646832, 40.65570071715652], [5.048801056712498, 60.19731262388089]]\n",
      "[[3.1465406876594932, 28.412554730429672], [5.8373401464261825, 40.578773658024936], [5.048801056712498, 60.19731262388089]]\n",
      "[[3.1465406876594932, 28.412554730429672], [5.8373401464261825, 40.578773658024936], [5.048801056712498, 60.19731262388089]]\n",
      "[[3.1465406876594932, 28.412554730429672], [5.8373401464261825, 40.578773658024936], [5.048801056712498, 60.19731262388089]]\n"
     ]
    }
   ],
   "source": [
    "c_dist, label, sse = k_means_clus(data, k, c2)"
   ]
  },
  {
   "cell_type": "code",
   "execution_count": 157,
   "metadata": {
    "colab": {
     "base_uri": "https://localhost:8080/"
    },
    "executionInfo": {
     "elapsed": 892,
     "status": "ok",
     "timestamp": 1617130633737,
     "user": {
      "displayName": "Sughandhan S",
      "photoUrl": "https://lh3.googleusercontent.com/a-/AOh14GgCzJgz5tDGcNqn108PikDmo9i8xVBqBE7WCrGurg=s64",
      "userId": "16893705064560269479"
     },
     "user_tz": -330
    },
    "id": "eDjsOpAez37G",
    "outputId": "35a719b8-683e-429e-c78c-89cb02616193"
   },
   "outputs": [
    {
     "data": {
      "text/plain": [
       "array([[ 3, 30],\n",
       "       [ 4, 30],\n",
       "       [ 5, 30]])"
      ]
     },
     "execution_count": 157,
     "metadata": {
      "tags": []
     },
     "output_type": "execute_result"
    }
   ],
   "source": [
    "c2"
   ]
  },
  {
   "cell_type": "code",
   "execution_count": 158,
   "metadata": {
    "colab": {
     "base_uri": "https://localhost:8080/",
     "height": 269
    },
    "executionInfo": {
     "elapsed": 1910,
     "status": "ok",
     "timestamp": 1617130636329,
     "user": {
      "displayName": "Sughandhan S",
      "photoUrl": "https://lh3.googleusercontent.com/a-/AOh14GgCzJgz5tDGcNqn108PikDmo9i8xVBqBE7WCrGurg=s64",
      "userId": "16893705064560269479"
     },
     "user_tz": -330
    },
    "id": "5KI3cs2ZxoBv",
    "outputId": "57dee0b1-6392-42b4-c519-fe2c8c546fb5"
   },
   "outputs": [
    {
     "data": {
      "image/png": "[encoded data removed]",
      "text/plain": [
       "<Figure size 432x288 with 1 Axes>"
      ]
     },
     "metadata": {
      "needs_background": "light",
      "tags": []
     },
     "output_type": "display_data"
    }
   ],
   "source": [
    "for i in range(k):\n",
    "  plt.scatter(c_dist[i][:,0], c_dist[i][:,1])\n",
    "plt.scatter(c2[:,0],c2[:,1])\n",
    "plt.show()"
   ]
  },
  {
   "cell_type": "code",
   "execution_count": 159,
   "metadata": {
    "colab": {
     "base_uri": "https://localhost:8080/"
    },
    "executionInfo": {
     "elapsed": 1274,
     "status": "ok",
     "timestamp": 1617130639412,
     "user": {
      "displayName": "Sughandhan S",
      "photoUrl": "https://lh3.googleusercontent.com/a-/AOh14GgCzJgz5tDGcNqn108PikDmo9i8xVBqBE7WCrGurg=s64",
      "userId": "16893705064560269479"
     },
     "user_tz": -330
    },
    "id": "JdqARiTgxn6i",
    "outputId": "3bdb1f39-2276-4f50-f17e-ae4ab8859ed3"
   },
   "outputs": [
    {
     "data": {
      "text/plain": [
       "[99607.5540372536,\n",
       " 18226.721770256063,\n",
       " 5702.973225670292,\n",
       " 5453.612524317347,\n",
       " 5435.176601097601,\n",
       " 5430.050101606961,\n",
       " 5429.007076807084]"
      ]
     },
     "execution_count": 159,
     "metadata": {
      "tags": []
     },
     "output_type": "execute_result"
    }
   ],
   "source": [
    "sse"
   ]
  },
  {
   "cell_type": "markdown",
   "metadata": {
    "id": "JgFmRDf1XheX"
   },
   "source": [
    "2nd distinct set of cluster"
   ]
  },
  {
   "cell_type": "code",
   "execution_count": 160,
   "metadata": {
    "colab": {
     "base_uri": "https://localhost:8080/"
    },
    "executionInfo": {
     "elapsed": 1091,
     "status": "ok",
     "timestamp": 1617130641430,
     "user": {
      "displayName": "Sughandhan S",
      "photoUrl": "https://lh3.googleusercontent.com/a-/AOh14GgCzJgz5tDGcNqn108PikDmo9i8xVBqBE7WCrGurg=s64",
      "userId": "16893705064560269479"
     },
     "user_tz": -330
    },
    "id": "i2W0146iXpQX",
    "outputId": "e0a5c0b8-5c74-481d-bd3c-7e277b70d788"
   },
   "outputs": [
    {
     "data": {
      "text/plain": [
       "array([[ 3, 30],\n",
       "       [ 8, 50],\n",
       "       [13, 80]])"
      ]
     },
     "execution_count": 160,
     "metadata": {
      "tags": []
     },
     "output_type": "execute_result"
    }
   ],
   "source": [
    "c3 = [[3,30], [8, 50], [13, 80]]\n",
    "c3 = np.array(c3)\n",
    "c3"
   ]
  },
  {
   "cell_type": "code",
   "execution_count": 161,
   "metadata": {
    "colab": {
     "base_uri": "https://localhost:8080/"
    },
    "executionInfo": {
     "elapsed": 1034,
     "status": "ok",
     "timestamp": 1617130642188,
     "user": {
      "displayName": "Sughandhan S",
      "photoUrl": "https://lh3.googleusercontent.com/a-/AOh14GgCzJgz5tDGcNqn108PikDmo9i8xVBqBE7WCrGurg=s64",
      "userId": "16893705064560269479"
     },
     "user_tz": -330
    },
    "id": "3BIRI7oSxn37",
    "outputId": "62e10c32-920d-4957-b176-989b1b02784a"
   },
   "outputs": [
    {
     "name": "stdout",
     "output_type": "stream",
     "text": [
      "[[ 3 30]\n",
      " [ 8 50]\n",
      " [13 80]]\n",
      "[[3.591426644367369, 31.13183200218628], [5.643521983377605, 52.58718479352868], [4.953162187913665, 69.11842074652854]]\n",
      "[[3.591426644367369, 31.13183200218628], [5.643521983377605, 52.58718479352868], [4.953162187913665, 69.11842074652854]]\n",
      "[[4.103212272923969, 32.57035072922928], [5.473357343780836, 52.0898240208979], [5.034928611039252, 65.50857487505894]]\n",
      "[[4.103212272923969, 32.57035072922928], [5.473357343780836, 52.0898240208979], [5.034928611039252, 65.50857487505894]]\n",
      "[[4.244707949054916, 33.03960988741017], [5.319109169955846, 52.182750149402004], [5.08634925554289, 64.44668175497567]]\n",
      "[[4.244707949054916, 33.03960988741017], [5.319109169955846, 52.182750149402004], [5.08634925554289, 64.44668175497567]]\n",
      "[[4.271288267297183, 33.104885387319385], [5.318954840712464, 51.76051651626546], [5.060005414165031, 63.93046746848486]]\n",
      "[[4.271288267297183, 33.104885387319385], [5.318954840712464, 51.76051651626546], [5.060005414165031, 63.93046746848486]]\n",
      "[[4.271288267297183, 33.104885387319385], [5.318954840712464, 51.76051651626546], [5.060005414165031, 63.93046746848486]]\n"
     ]
    }
   ],
   "source": [
    "c_d, label, sse = k_means_clus(data, k, c3)"
   ]
  },
  {
   "cell_type": "code",
   "execution_count": 162,
   "metadata": {
    "colab": {
     "base_uri": "https://localhost:8080/"
    },
    "executionInfo": {
     "elapsed": 1049,
     "status": "ok",
     "timestamp": 1617130643356,
     "user": {
      "displayName": "Sughandhan S",
      "photoUrl": "https://lh3.googleusercontent.com/a-/AOh14GgCzJgz5tDGcNqn108PikDmo9i8xVBqBE7WCrGurg=s64",
      "userId": "16893705064560269479"
     },
     "user_tz": -330
    },
    "id": "MMt5E_5uo89S",
    "outputId": "14db3924-b2ac-4b80-e91f-70ee2f8cbe5b"
   },
   "outputs": [
    {
     "data": {
      "text/plain": [
       "array([[ 3, 30],\n",
       "       [ 8, 50],\n",
       "       [13, 80]])"
      ]
     },
     "execution_count": 162,
     "metadata": {
      "tags": []
     },
     "output_type": "execute_result"
    }
   ],
   "source": [
    "c3"
   ]
  },
  {
   "cell_type": "code",
   "execution_count": 163,
   "metadata": {
    "colab": {
     "base_uri": "https://localhost:8080/",
     "height": 265
    },
    "executionInfo": {
     "elapsed": 1665,
     "status": "ok",
     "timestamp": 1617130645147,
     "user": {
      "displayName": "Sughandhan S",
      "photoUrl": "https://lh3.googleusercontent.com/a-/AOh14GgCzJgz5tDGcNqn108PikDmo9i8xVBqBE7WCrGurg=s64",
      "userId": "16893705064560269479"
     },
     "user_tz": -330
    },
    "id": "R3H0DcTuo86T",
    "outputId": "f6762d70-c730-449f-e0c9-4a8fe2d90fb2"
   },
   "outputs": [
    {
     "data": {
      "image/png": "[encoded data removed]",
      "text/plain": [
       "<Figure size 432x288 with 1 Axes>"
      ]
     },
     "metadata": {
      "needs_background": "light",
      "tags": []
     },
     "output_type": "display_data"
    }
   ],
   "source": [
    "for i in range(k):\n",
    "  plt.scatter(c_d[i][:,0], c_d[i][:,1])\n",
    "plt.scatter(c3[:,0],c3[:,1], marker='+')\n",
    "plt.show()"
   ]
  },
  {
   "cell_type": "code",
   "execution_count": 164,
   "metadata": {
    "colab": {
     "base_uri": "https://localhost:8080/"
    },
    "executionInfo": {
     "elapsed": 1521,
     "status": "ok",
     "timestamp": 1617130645871,
     "user": {
      "displayName": "Sughandhan S",
      "photoUrl": "https://lh3.googleusercontent.com/a-/AOh14GgCzJgz5tDGcNqn108PikDmo9i8xVBqBE7WCrGurg=s64",
      "userId": "16893705064560269479"
     },
     "user_tz": -330
    },
    "id": "ONjMfzb45Whp",
    "outputId": "dc9584dd-7f7c-4cfd-f431-a0b63f953d12"
   },
   "outputs": [
    {
     "data": {
      "text/plain": [
       "[17186.908499706075,\n",
       " 9636.823846521138,\n",
       " 8546.459273105736,\n",
       " 8413.716651255578,\n",
       " 8388.516863803816]"
      ]
     },
     "execution_count": 164,
     "metadata": {
      "tags": []
     },
     "output_type": "execute_result"
    }
   ],
   "source": [
    "sse"
   ]
  },
  {
   "cell_type": "markdown",
   "metadata": {
    "id": "6v7DevITaI9s"
   },
   "source": [
    "#3C ) Which Clustering result will I select?\n"
   ]
  },
  {
   "cell_type": "markdown",
   "metadata": {
    "id": "tusIwBiiaaPI"
   },
   "source": [
    "I would select the clustering which has the least SSE value. The SSE value is an error measurement which tells us the sum of squared distances between the centres of the clusters and its respective datapoints "
   ]
  },
  {
   "cell_type": "markdown",
   "metadata": {
    "id": "BWZd4ovxbXZF"
   },
   "source": [
    "#3D ) "
   ]
  },
  {
   "cell_type": "markdown",
   "metadata": {
    "id": "83Tgg4M1bcIC"
   },
   "source": [
    "To avoid getting different results on successive runs we can,\n",
    "(i) reduce the randomness of the centroid points\n",
    "and also be biased to towards huge concentration of data\n",
    "(ii) By placing the centroids very close to each other.\n",
    "Example: in our Dataset csv file centroids in the range [0 to 1] (e\n",
    "(iIi) By placing Centroids Far away from each other and to the dataset."
   ]
  },
  {
   "cell_type": "code",
   "execution_count": 164,
   "metadata": {
    "executionInfo": {
     "elapsed": 1136,
     "status": "ok",
     "timestamp": 1617130654072,
     "user": {
      "displayName": "Sughandhan S",
      "photoUrl": "https://lh3.googleusercontent.com/a-/AOh14GgCzJgz5tDGcNqn108PikDmo9i8xVBqBE7WCrGurg=s64",
      "userId": "16893705064560269479"
     },
     "user_tz": -330
    },
    "id": "Hkdqj9NSaHUD"
   },
   "outputs": [],
   "source": []
  },
  {
   "cell_type": "markdown",
   "metadata": {
    "id": "EHUQqIIT5a9w"
   },
   "source": [
    "#Q4)\n"
   ]
  },
  {
   "cell_type": "code",
   "execution_count": 165,
   "metadata": {
    "executionInfo": {
     "elapsed": 1441,
     "status": "ok",
     "timestamp": 1617130656785,
     "user": {
      "displayName": "Sughandhan S",
      "photoUrl": "https://lh3.googleusercontent.com/a-/AOh14GgCzJgz5tDGcNqn108PikDmo9i8xVBqBE7WCrGurg=s64",
      "userId": "16893705064560269479"
     },
     "user_tz": -330
    },
    "id": "RYVmVgqd5d-W"
   },
   "outputs": [],
   "source": [
    "def k_means_clus(points, k, centroids):\n",
    "  new_centroids=[1]\n",
    "  flag=0\n",
    "  ite=0\n",
    "  c_dist= []\n",
    "  label=[]\n",
    "  SSE=[]\n",
    "  n=10000\n",
    "  while np.array_equal(centroids, new_centroids)==False : #and n>0:\n",
    "    c_dist=[]\n",
    "    if flag==1:\n",
    "      centroids = new_centroids\n",
    "    ##finding sse\n",
    "    sse=[]\n",
    "    for i in centroids:\n",
    "      lst=[]\n",
    "      #print(i)\n",
    "      sse.append(lst)\n",
    "    #c_dist= []\n",
    "    new_centroids=[]\n",
    "    ##creating spaces for new centroids\n",
    "    \n",
    "    for i in centroids:\n",
    "      lst=[]\n",
    "      #print(i)\n",
    "      c_dist.append(lst)\n",
    "  \n",
    "    ##grouping points to their closest centroid\n",
    "    label=[]\n",
    "    for i in points:\n",
    "      index=0\n",
    "      lst = []\n",
    "      for j in centroids:\n",
    "        lst.append((np.linalg.norm(i-j), index))\n",
    "        index=index+1\n",
    "      num = min(lst)\n",
    "      label.append((i,num[1]))\n",
    "      c_dist[num[1]].append(i)\n",
    "\n",
    "    ##Calculating new centroids\n",
    "    for i in range(k):\n",
    "      c_dist[i] = np.array(c_dist[i])\n",
    "      x=len(c_dist[i])\n",
    "      x_cor=0\n",
    "      y_cor=0\n",
    "      for j in range(x):\n",
    "        x_cor+= c_dist[i][j][0]\n",
    "        y_cor+= c_dist[i][j][1]\n",
    "      if x!=0:\n",
    "        new_centroids.append([x_cor/x, y_cor/x])\n",
    "      else :\n",
    "        x= np.random.uniform(low=-5.7,high=2.79)\n",
    "        y= np.random.uniform(low=-3.19,high=5.3)\n",
    "        new_centroids.append([x,y])\n",
    "    flag=1\n",
    "    ite=ite+1\n",
    "    idx=0\n",
    "    sum = 0\n",
    "    for i in centroids:\n",
    "      for j in c_dist[idx]:\n",
    "        sum+= (np.linalg.norm(i-j)**2)\n",
    "      idx=idx+1\n",
    "    \n",
    "    SSE.append(sum)\n",
    "    print(centroids)\n",
    "    print(new_centroids)\n",
    "    for i in range(k):\n",
    "      if len(c_dist[i])!=0:\n",
    "        plt.scatter(c_dist[i][:,0], c_dist[i][:,1])\n",
    "    plt.show()\n",
    "    n=n-1\n",
    "  return c_dist, label, SSE"
   ]
  },
  {
   "cell_type": "code",
   "execution_count": 166,
   "metadata": {
    "executionInfo": {
     "elapsed": 942,
     "status": "ok",
     "timestamp": 1617130657351,
     "user": {
      "displayName": "Sughandhan S",
      "photoUrl": "https://lh3.googleusercontent.com/a-/AOh14GgCzJgz5tDGcNqn108PikDmo9i8xVBqBE7WCrGurg=s64",
      "userId": "16893705064560269479"
     },
     "user_tz": -330
    },
    "id": "KlslcMCC5d7e"
   },
   "outputs": [],
   "source": [
    "dataset = pd.read_csv('Dataset.csv')"
   ]
  },
  {
   "cell_type": "code",
   "execution_count": 167,
   "metadata": {
    "colab": {
     "base_uri": "https://localhost:8080/"
    },
    "executionInfo": {
     "elapsed": 873,
     "status": "ok",
     "timestamp": 1617130657964,
     "user": {
      "displayName": "Sughandhan S",
      "photoUrl": "https://lh3.googleusercontent.com/a-/AOh14GgCzJgz5tDGcNqn108PikDmo9i8xVBqBE7WCrGurg=s64",
      "userId": "16893705064560269479"
     },
     "user_tz": -330
    },
    "id": "m48_ROH05gPB",
    "outputId": "8595cb9e-340a-4a16-e3e7-1aa5f26ccfeb"
   },
   "outputs": [
    {
     "data": {
      "text/plain": [
       "array([[-3.195,  0.463],\n",
       "       [ 1.437, -1.386],\n",
       "       [ 1.01 , -1.   ],\n",
       "       ...,\n",
       "       [-2.706,  2.652],\n",
       "       [-2.763,  2.755],\n",
       "       [-0.508,  1.537]])"
      ]
     },
     "execution_count": 167,
     "metadata": {
      "tags": []
     },
     "output_type": "execute_result"
    }
   ],
   "source": [
    "data = dataset.iloc[:, :].values\n",
    "data"
   ]
  },
  {
   "cell_type": "code",
   "execution_count": 168,
   "metadata": {
    "colab": {
     "base_uri": "https://localhost:8080/"
    },
    "executionInfo": {
     "elapsed": 1205,
     "status": "ok",
     "timestamp": 1617130659308,
     "user": {
      "displayName": "Sughandhan S",
      "photoUrl": "https://lh3.googleusercontent.com/a-/AOh14GgCzJgz5tDGcNqn108PikDmo9i8xVBqBE7WCrGurg=s64",
      "userId": "16893705064560269479"
     },
     "user_tz": -330
    },
    "id": "5lEjtZ8vZLf3",
    "outputId": "21b69edf-06d2-447d-ed6c-ecbce9e6d75a"
   },
   "outputs": [
    {
     "data": {
      "text/plain": [
       "(999, 2)"
      ]
     },
     "execution_count": 168,
     "metadata": {
      "tags": []
     },
     "output_type": "execute_result"
    }
   ],
   "source": [
    "data.shape"
   ]
  },
  {
   "cell_type": "code",
   "execution_count": 169,
   "metadata": {
    "executionInfo": {
     "elapsed": 1720,
     "status": "ok",
     "timestamp": 1617130661357,
     "user": {
      "displayName": "Sughandhan S",
      "photoUrl": "https://lh3.googleusercontent.com/a-/AOh14GgCzJgz5tDGcNqn108PikDmo9i8xVBqBE7WCrGurg=s64",
      "userId": "16893705064560269479"
     },
     "user_tz": -330
    },
    "id": "NJ-m-jRbY85z"
   },
   "outputs": [],
   "source": [
    "data = np.append(data, [[-2.58, 0.661]], axis=0)"
   ]
  },
  {
   "cell_type": "code",
   "execution_count": 170,
   "metadata": {
    "colab": {
     "base_uri": "https://localhost:8080/"
    },
    "executionInfo": {
     "elapsed": 1281,
     "status": "ok",
     "timestamp": 1617130662011,
     "user": {
      "displayName": "Sughandhan S",
      "photoUrl": "https://lh3.googleusercontent.com/a-/AOh14GgCzJgz5tDGcNqn108PikDmo9i8xVBqBE7WCrGurg=s64",
      "userId": "16893705064560269479"
     },
     "user_tz": -330
    },
    "id": "gtXoxSKr7jhr",
    "outputId": "da86faff-37a5-41e7-be69-4f8300aae3f2"
   },
   "outputs": [
    {
     "data": {
      "text/plain": [
       "(1000, 2)"
      ]
     },
     "execution_count": 170,
     "metadata": {
      "tags": []
     },
     "output_type": "execute_result"
    }
   ],
   "source": [
    "data.shape\n"
   ]
  },
  {
   "cell_type": "code",
   "execution_count": 171,
   "metadata": {
    "colab": {
     "base_uri": "https://localhost:8080/"
    },
    "executionInfo": {
     "elapsed": 1696,
     "status": "ok",
     "timestamp": 1617130663403,
     "user": {
      "displayName": "Sughandhan S",
      "photoUrl": "https://lh3.googleusercontent.com/a-/AOh14GgCzJgz5tDGcNqn108PikDmo9i8xVBqBE7WCrGurg=s64",
      "userId": "16893705064560269479"
     },
     "user_tz": -330
    },
    "id": "MqgHi8XdZtXy",
    "outputId": "a407db4a-4a42-4e10-d372-c17979109ad7"
   },
   "outputs": [
    {
     "data": {
      "text/plain": [
       "array([[-3.195,  0.463],\n",
       "       [ 1.437, -1.386],\n",
       "       [ 1.01 , -1.   ],\n",
       "       ...,\n",
       "       [-2.763,  2.755],\n",
       "       [-0.508,  1.537],\n",
       "       [-2.58 ,  0.661]])"
      ]
     },
     "execution_count": 171,
     "metadata": {
      "tags": []
     },
     "output_type": "execute_result"
    }
   ],
   "source": [
    "data"
   ]
  },
  {
   "cell_type": "code",
   "execution_count": 172,
   "metadata": {
    "colab": {
     "base_uri": "https://localhost:8080/",
     "height": 282
    },
    "executionInfo": {
     "elapsed": 1912,
     "status": "ok",
     "timestamp": 1617130664502,
     "user": {
      "displayName": "Sughandhan S",
      "photoUrl": "https://lh3.googleusercontent.com/a-/AOh14GgCzJgz5tDGcNqn108PikDmo9i8xVBqBE7WCrGurg=s64",
      "userId": "16893705064560269479"
     },
     "user_tz": -330
    },
    "id": "-6Bf-UTG5gMY",
    "outputId": "23261e2a-97ae-48aa-aeac-d3ed6b26751e"
   },
   "outputs": [
    {
     "data": {
      "text/plain": [
       "<matplotlib.collections.PathCollection at 0x7f6796a3db10>"
      ]
     },
     "execution_count": 172,
     "metadata": {
      "tags": []
     },
     "output_type": "execute_result"
    },
    {
     "data": {
      "image/png": "[encoded data removed]",
      "text/plain": [
       "<Figure size 432x288 with 1 Axes>"
      ]
     },
     "metadata": {
      "needs_background": "light",
      "tags": []
     },
     "output_type": "display_data"
    }
   ],
   "source": [
    "plt.scatter(data[:,0], data[:,1])"
   ]
  },
  {
   "cell_type": "markdown",
   "metadata": {
    "id": "AmBsmP5E7s8m"
   },
   "source": [
    "# 4 A) The number of clusters seem to be 3\n"
   ]
  },
  {
   "cell_type": "code",
   "execution_count": 175,
   "metadata": {
    "executionInfo": {
     "elapsed": 1332,
     "status": "ok",
     "timestamp": 1617130675032,
     "user": {
      "displayName": "Sughandhan S",
      "photoUrl": "https://lh3.googleusercontent.com/a-/AOh14GgCzJgz5tDGcNqn108PikDmo9i8xVBqBE7WCrGurg=s64",
      "userId": "16893705064560269479"
     },
     "user_tz": -330
    },
    "id": "HKSAi4QVysex"
   },
   "outputs": [],
   "source": [
    "k=3"
   ]
  },
  {
   "cell_type": "code",
   "execution_count": 176,
   "metadata": {
    "colab": {
     "base_uri": "https://localhost:8080/"
    },
    "executionInfo": {
     "elapsed": 1456,
     "status": "ok",
     "timestamp": 1617130675756,
     "user": {
      "displayName": "Sughandhan S",
      "photoUrl": "https://lh3.googleusercontent.com/a-/AOh14GgCzJgz5tDGcNqn108PikDmo9i8xVBqBE7WCrGurg=s64",
      "userId": "16893705064560269479"
     },
     "user_tz": -330
    },
    "id": "5-6Wxgtn1QWU",
    "outputId": "2d7dd878-def1-4273-c32c-4fb8bb1b6d29"
   },
   "outputs": [
    {
     "data": {
      "text/plain": [
       "array([[-3.195,  0.463],\n",
       "       [ 1.437, -1.386],\n",
       "       [ 1.01 , -1.   ],\n",
       "       ...,\n",
       "       [-2.763,  2.755],\n",
       "       [-0.508,  1.537],\n",
       "       [-2.58 ,  0.661]])"
      ]
     },
     "execution_count": 176,
     "metadata": {
      "tags": []
     },
     "output_type": "execute_result"
    }
   ],
   "source": [
    "data"
   ]
  },
  {
   "cell_type": "code",
   "execution_count": 177,
   "metadata": {
    "colab": {
     "base_uri": "https://localhost:8080/"
    },
    "executionInfo": {
     "elapsed": 1107,
     "status": "ok",
     "timestamp": 1617130676269,
     "user": {
      "displayName": "Sughandhan S",
      "photoUrl": "https://lh3.googleusercontent.com/a-/AOh14GgCzJgz5tDGcNqn108PikDmo9i8xVBqBE7WCrGurg=s64",
      "userId": "16893705064560269479"
     },
     "user_tz": -330
    },
    "id": "ttaNTIcw74E0",
    "outputId": "61c500a8-b7bd-48f3-bd10-a479f67bc19f"
   },
   "outputs": [
    {
     "data": {
      "text/plain": [
       "array([[-2.01412785, -2.72405853],\n",
       "       [ 0.9326006 , -1.3332863 ],\n",
       "       [-3.47630331, -1.8089144 ]])"
      ]
     },
     "execution_count": 177,
     "metadata": {
      "tags": []
     },
     "output_type": "execute_result"
    }
   ],
   "source": [
    "centroids=[]\n",
    "for i in range(k):\n",
    "  #x= np.random.uniform(low=-5,high=5)\n",
    "  #y= np.random.uniform(low=-5,high=5)\n",
    "  x= np.random.uniform(low=-5.7,high=2.79)\n",
    "  y= np.random.uniform(low=-3.19,high=5.3)\n",
    "  centroids.append((x,y))\n",
    "centroids= np.array(centroids)\n",
    "centroids"
   ]
  },
  {
   "cell_type": "code",
   "execution_count": 178,
   "metadata": {
    "colab": {
     "base_uri": "https://localhost:8080/",
     "height": 1000
    },
    "executionInfo": {
     "elapsed": 5316,
     "status": "ok",
     "timestamp": 1617130681896,
     "user": {
      "displayName": "Sughandhan S",
      "photoUrl": "https://lh3.googleusercontent.com/a-/AOh14GgCzJgz5tDGcNqn108PikDmo9i8xVBqBE7WCrGurg=s64",
      "userId": "16893705064560269479"
     },
     "user_tz": -330
    },
    "id": "VNcgi_zi5gJr",
    "outputId": "ba01d397-0d70-409a-bab2-bae7665c0ea4"
   },
   "outputs": [
    {
     "name": "stdout",
     "output_type": "stream",
     "text": [
      "[[-2.01412785 -2.72405853]\n",
      " [ 0.9326006  -1.3332863 ]\n",
      " [-3.47630331 -1.8089144 ]]\n",
      "[[-1.6915555555555555, -1.1969999999999998], [0.8666182336182339, -0.6995698005698001], [-3.020557812499999, 1.9283390625000005]]\n"
     ]
    },
    {
     "data": {
      "image/png": "[encoded data removed]",
      "text/plain": [
       "<Figure size 432x288 with 1 Axes>"
      ]
     },
     "metadata": {
      "needs_background": "light",
      "tags": []
     },
     "output_type": "display_data"
    },
    {
     "name": "stdout",
     "output_type": "stream",
     "text": [
      "[[-1.6915555555555555, -1.1969999999999998], [0.8666182336182339, -0.6995698005698001], [-3.020557812499999, 1.9283390625000005]]\n",
      "[[-2.158098765432097, -0.24562962962962964], [1.0191773700305808, -0.8373639143730883], [-3.045038851351349, 2.1478530405405407]]\n"
     ]
    },
    {
     "data": {
      "image/png": "[encoded data removed]",
      "text/plain": [
       "<Figure size 432x288 with 1 Axes>"
      ]
     },
     "metadata": {
      "needs_background": "light",
      "tags": []
     },
     "output_type": "display_data"
    },
    {
     "name": "stdout",
     "output_type": "stream",
     "text": [
      "[[-2.158098765432097, -0.24562962962962964], [1.0191773700305808, -0.8373639143730883], [-3.045038851351349, 2.1478530405405407]]\n",
      "[[-2.298538011695906, 0.23023976608187127], [1.0418788819875773, -0.8677453416149065], [-3.1294536489151876, 2.4020867850098604]]\n"
     ]
    },
    {
     "data": {
      "image/png": "[encoded data removed]",
      "text/plain": [
       "<Figure size 432x288 with 1 Axes>"
      ]
     },
     "metadata": {
      "needs_background": "light",
      "tags": []
     },
     "output_type": "display_data"
    },
    {
     "name": "stdout",
     "output_type": "stream",
     "text": [
      "[[-2.298538011695906, 0.23023976608187127], [1.0418788819875773, -0.8677453416149065], [-3.1294536489151876, 2.4020867850098604]]\n",
      "[[-2.4028057851239675, 0.49697520661157035], [1.0460155763239873, -0.8730903426791273], [-3.200205949656749, 2.6036819221967953]]\n"
     ]
    },
    {
     "data": {
      "image/png": "[encoded data removed]",
      "text/plain": [
       "<Figure size 432x288 with 1 Axes>"
      ]
     },
     "metadata": {
      "needs_background": "light",
      "tags": []
     },
     "output_type": "display_data"
    },
    {
     "name": "stdout",
     "output_type": "stream",
     "text": [
      "[[-2.4028057851239675, 0.49697520661157035], [1.0460155763239873, -0.8730903426791273], [-3.200205949656749, 2.6036819221967953]]\n",
      "[[-2.446395759717315, 0.6357385159010601], [1.0460155763239873, -0.8730903426791273], [-3.251613636363635, 2.7226338383838384]]\n"
     ]
    },
    {
     "data": {
      "image/png": "[encoded data removed]",
      "text/plain": [
       "<Figure size 432x288 with 1 Axes>"
      ]
     },
     "metadata": {
      "needs_background": "light",
      "tags": []
     },
     "output_type": "display_data"
    },
    {
     "name": "stdout",
     "output_type": "stream",
     "text": [
      "[[-2.446395759717315, 0.6357385159010601], [1.0460155763239873, -0.8730903426791273], [-3.251613636363635, 2.7226338383838384]]\n",
      "[[-2.4936322580645163, 0.7151322580645165], [1.0460155763239873, -0.8730903426791273], [-3.2708482384823823, 2.8086341463414626]]\n"
     ]
    },
    {
     "data": {
      "image/png": "[encoded data removed]",
      "text/plain": [
       "<Figure size 432x288 with 1 Axes>"
      ]
     },
     "metadata": {
      "needs_background": "light",
      "tags": []
     },
     "output_type": "display_data"
    },
    {
     "name": "stdout",
     "output_type": "stream",
     "text": [
      "[[-2.4936322580645163, 0.7151322580645165], [1.0460155763239873, -0.8730903426791273], [-3.2708482384823823, 2.8086341463414626]]\n",
      "[[-2.5225700934579445, 0.7491838006230535], [1.0418788819875773, -0.8677453416149065], [-3.277137254901957, 2.84801400560224]]\n"
     ]
    },
    {
     "data": {
      "image/png": "[encoded data removed]",
      "text/plain": [
       "<Figure size 432x288 with 1 Axes>"
      ]
     },
     "metadata": {
      "needs_background": "light",
      "tags": []
     },
     "output_type": "display_data"
    },
    {
     "name": "stdout",
     "output_type": "stream",
     "text": [
      "[[-2.5225700934579445, 0.7491838006230535], [1.0418788819875773, -0.8677453416149065], [-3.277137254901957, 2.84801400560224]]\n",
      "[[-2.523776758409786, 0.7699602446483185], [1.0418788819875773, -0.8677453416149065], [-3.288911680911677, 2.864535612535612]]\n"
     ]
    },
    {
     "data": {
      "image/png": "[encoded data removed]",
      "text/plain": [
       "<Figure size 432x288 with 1 Axes>"
      ]
     },
     "metadata": {
      "needs_background": "light",
      "tags": []
     },
     "output_type": "display_data"
    },
    {
     "name": "stdout",
     "output_type": "stream",
     "text": [
      "[[-2.523776758409786, 0.7699602446483185], [1.0418788819875773, -0.8677453416149065], [-3.288911680911677, 2.864535612535612]]\n",
      "[[-2.5243957703927493, 0.7839033232628402], [1.0418788819875773, -0.8677453416149065], [-3.2971412103746363, 2.8753804034582124]]\n"
     ]
    },
    {
     "data": {
      "image/png": "[encoded data removed]",
      "text/plain": [
       "<Figure size 432x288 with 1 Axes>"
      ]
     },
     "metadata": {
      "needs_background": "light",
      "tags": []
     },
     "output_type": "display_data"
    },
    {
     "name": "stdout",
     "output_type": "stream",
     "text": [
      "[[-2.5243957703927493, 0.7839033232628402], [1.0418788819875773, -0.8677453416149065], [-3.2971412103746363, 2.8753804034582124]]\n",
      "[[-2.5285688622754487, 0.7929790419161677], [1.0418788819875773, -0.8677453416149065], [-3.29982848837209, 2.884808139534883]]\n"
     ]
    },
    {
     "data": {
      "image/png": "[encoded data removed]",
      "text/plain": [
       "<Figure size 432x288 with 1 Axes>"
      ]
     },
     "metadata": {
      "needs_background": "light",
      "tags": []
     },
     "output_type": "display_data"
    },
    {
     "name": "stdout",
     "output_type": "stream",
     "text": [
      "[[-2.5285688622754487, 0.7929790419161677], [1.0418788819875773, -0.8677453416149065], [-3.29982848837209, 2.884808139534883]]\n",
      "[[-2.5272208955223876, 0.7970000000000002], [1.0418788819875773, -0.8677453416149065], [-3.3033935860058277, 2.886979591836734]]\n"
     ]
    },
    {
     "data": {
      "image/png": "[encoded data removed]",
      "text/plain": [
       "<Figure size 432x288 with 1 Axes>"
      ]
     },
     "metadata": {
      "needs_background": "light",
      "tags": []
     },
     "output_type": "display_data"
    },
    {
     "name": "stdout",
     "output_type": "stream",
     "text": [
      "[[-2.5272208955223876, 0.7970000000000002], [1.0418788819875773, -0.8677453416149065], [-3.3033935860058277, 2.886979591836734]]\n",
      "[[-2.5272208955223876, 0.7970000000000002], [1.0418788819875773, -0.8677453416149065], [-3.3033935860058277, 2.886979591836734]]\n"
     ]
    },
    {
     "data": {
      "image/png": "[encoded data removed]",
      "text/plain": [
       "<Figure size 432x288 with 1 Axes>"
      ]
     },
     "metadata": {
      "needs_background": "light",
      "tags": []
     },
     "output_type": "display_data"
    }
   ],
   "source": [
    "c_dis, labels, SSE= k_means_clus(data, k, centroids)"
   ]
  },
  {
   "cell_type": "code",
   "execution_count": 179,
   "metadata": {
    "colab": {
     "base_uri": "https://localhost:8080/"
    },
    "executionInfo": {
     "elapsed": 3643,
     "status": "ok",
     "timestamp": 1617130681897,
     "user": {
      "displayName": "Sughandhan S",
      "photoUrl": "https://lh3.googleusercontent.com/a-/AOh14GgCzJgz5tDGcNqn108PikDmo9i8xVBqBE7WCrGurg=s64",
      "userId": "16893705064560269479"
     },
     "user_tz": -330
    },
    "id": "049ePuN0EMIm",
    "outputId": "531bbfeb-173b-47d8-870c-74e6722b51c1"
   },
   "outputs": [
    {
     "data": {
      "text/plain": [
       "[11205.523755223165,\n",
       " 1624.6695319511518,\n",
       " 1346.0908001222301,\n",
       " 1211.3393024016082,\n",
       " 1148.6261333874531,\n",
       " 1127.2024069655636,\n",
       " 1119.0244736224681,\n",
       " 1117.0681991097335,\n",
       " 1116.538526800455,\n",
       " 1116.3293756884584,\n",
       " 1116.231319604097,\n",
       " 1116.2193177711742]"
      ]
     },
     "execution_count": 179,
     "metadata": {
      "tags": []
     },
     "output_type": "execute_result"
    }
   ],
   "source": [
    "SSE"
   ]
  },
  {
   "cell_type": "code",
   "execution_count": 180,
   "metadata": {
    "colab": {
     "base_uri": "https://localhost:8080/",
     "height": 265
    },
    "executionInfo": {
     "elapsed": 1993,
     "status": "ok",
     "timestamp": 1617130681898,
     "user": {
      "displayName": "Sughandhan S",
      "photoUrl": "https://lh3.googleusercontent.com/a-/AOh14GgCzJgz5tDGcNqn108PikDmo9i8xVBqBE7WCrGurg=s64",
      "userId": "16893705064560269479"
     },
     "user_tz": -330
    },
    "id": "X-V78tKczHgt",
    "outputId": "be98514c-3e52-417c-dc70-c24b478e4eb7"
   },
   "outputs": [
    {
     "data": {
      "image/png": "[encoded data removed]",
      "text/plain": [
       "<Figure size 432x288 with 1 Axes>"
      ]
     },
     "metadata": {
      "needs_background": "light",
      "tags": []
     },
     "output_type": "display_data"
    }
   ],
   "source": [
    "for i in range(k):\n",
    "  if len(c_dis[i])!=0:\n",
    "    plt.scatter(c_dis[i][:,0], c_dis[i][:,1])\n",
    "plt.show()"
   ]
  },
  {
   "cell_type": "markdown",
   "metadata": {
    "id": "iUHljJssft7X"
   },
   "source": [
    "Answer:"
   ]
  },
  {
   "cell_type": "markdown",
   "metadata": {
    "id": "ejIiqhnFEd9Z"
   },
   "source": [
    "As you can see we are not getting the exact 3 clusters which we had identified earlier. This is because the SSE in the case of our expected 3 clusters is very high (found through an experiment) while the optimal SSE is around 1116 which is why we get a different set of 3 clusters"
   ]
  },
  {
   "cell_type": "markdown",
   "metadata": {
    "id": "rkph1xTwFAu7"
   },
   "source": [
    "#4) B"
   ]
  },
  {
   "cell_type": "code",
   "execution_count": 181,
   "metadata": {
    "executionInfo": {
     "elapsed": 1489,
     "status": "ok",
     "timestamp": 1617130691566,
     "user": {
      "displayName": "Sughandhan S",
      "photoUrl": "https://lh3.googleusercontent.com/a-/AOh14GgCzJgz5tDGcNqn108PikDmo9i8xVBqBE7WCrGurg=s64",
      "userId": "16893705064560269479"
     },
     "user_tz": -330
    },
    "id": "iIuO_VTFHyUu"
   },
   "outputs": [],
   "source": [
    "def k_means_clus(points, k, centroids):\n",
    "  new_centroids=[1]\n",
    "  flag=0\n",
    "  ite=0\n",
    "  c_dist= []\n",
    "  label=[]\n",
    "  SSE=[]\n",
    "  n=100\n",
    "  if k>2:\n",
    "    for i in range((k-2)*3):\n",
    "      n*=10\n",
    "  # if k>8:\n",
    "  #   n=10000000000\n",
    "  # elif k>4:\n",
    "  #   n=1000000\n",
    "  while np.array_equal(centroids, new_centroids)==False : #and n>0:   \n",
    "    c_dist=[]\n",
    "    if flag==1:\n",
    "      centroids = new_centroids\n",
    "    ##finding sse\n",
    "    sse=[]\n",
    "    for i in centroids:\n",
    "      lst=[]\n",
    "      #print(i)\n",
    "      sse.append(lst)\n",
    "    #c_dist= []\n",
    "    new_centroids=[]\n",
    "    ##creating spaces for new centroids\n",
    "    \n",
    "    for i in centroids:\n",
    "      lst=[]\n",
    "      #print(i)\n",
    "      c_dist.append(lst)        \n",
    "  \n",
    "    ##grouping points to their closest centroid\n",
    "    label=[]\n",
    "    for i in points:\n",
    "      index=0\n",
    "      lst = []\n",
    "      for j in centroids:\n",
    "        lst.append((np.linalg.norm(i-j), index))\n",
    "        index=index+1\n",
    "      num = min(lst)\n",
    "      label.append((i,num[1]))\n",
    "      c_dist[num[1]].append(i)\n",
    "\n",
    "    ##Calculating new centroids\n",
    "    for i in range(k):\n",
    "      c_dist[i] = np.array(c_dist[i])\n",
    "      x=len(c_dist[i])\n",
    "      x_cor=0\n",
    "      y_cor=0\n",
    "      for j in range(x):\n",
    "        x_cor+= c_dist[i][j][0]\n",
    "        y_cor+= c_dist[i][j][1]\n",
    "      if x!=0:\n",
    "        new_centroids.append([x_cor/x, y_cor/x])\n",
    "      else :\n",
    "        x= np.random.uniform(low=-5.7,high=2.79)\n",
    "        y= np.random.uniform(low=-3.19,high=5.3)\n",
    "        new_centroids.append([x,y])\n",
    "    flag=1\n",
    "    ite=ite+1\n",
    "    idx=0\n",
    "    sum = 0\n",
    "    for i in new_centroids:\n",
    "      for j in c_dist[idx]:\n",
    "        sum+= (np.linalg.norm(i-j)**2)\n",
    "      idx=idx+1\n",
    "    \n",
    "    SSE.append(sum)\n",
    "    print(centroids)\n",
    "    print(new_centroids)\n",
    "    for i in range(k):\n",
    "      if len(c_dist[i])!=0:\n",
    "        plt.scatter(c_dist[i][:,0], c_dist[i][:,1])\n",
    "    plt.show()\n",
    "    n=n-1\n",
    "  ite\n",
    "  return c_dist, label, SSE"
   ]
  },
  {
   "cell_type": "code",
   "execution_count": 182,
   "metadata": {
    "colab": {
     "base_uri": "https://localhost:8080/"
    },
    "executionInfo": {
     "elapsed": 858,
     "status": "ok",
     "timestamp": 1617130692257,
     "user": {
      "displayName": "Sughandhan S",
      "photoUrl": "https://lh3.googleusercontent.com/a-/AOh14GgCzJgz5tDGcNqn108PikDmo9i8xVBqBE7WCrGurg=s64",
      "userId": "16893705064560269479"
     },
     "user_tz": -330
    },
    "id": "9rO8BZXFg4Nh",
    "outputId": "b5f271d7-0be7-4747-9c95-ad9f35565eb8"
   },
   "outputs": [
    {
     "data": {
      "text/plain": [
       "array([[-3.195,  0.463],\n",
       "       [ 1.437, -1.386],\n",
       "       [ 1.01 , -1.   ],\n",
       "       ...,\n",
       "       [-2.763,  2.755],\n",
       "       [-0.508,  1.537],\n",
       "       [-2.58 ,  0.661]])"
      ]
     },
     "execution_count": 182,
     "metadata": {
      "tags": []
     },
     "output_type": "execute_result"
    }
   ],
   "source": [
    "data"
   ]
  },
  {
   "cell_type": "markdown",
   "metadata": {
    "id": "VYjD1RUaqwqK"
   },
   "source": [
    "ignore"
   ]
  },
  {
   "cell_type": "code",
   "execution_count": null,
   "metadata": {
    "executionInfo": {
     "elapsed": 49445,
     "status": "aborted",
     "timestamp": 1617130473664,
     "user": {
      "displayName": "Sughandhan S",
      "photoUrl": "https://lh3.googleusercontent.com/a-/AOh14GgCzJgz5tDGcNqn108PikDmo9i8xVBqBE7WCrGurg=s64",
      "userId": "16893705064560269479"
     },
     "user_tz": -330
    },
    "id": "WmDTUYOQgYwo"
   },
   "outputs": [],
   "source": [
    "maxi = np.amax(data, axis=0)\n",
    "mini = np.amin(data, axis=0)"
   ]
  },
  {
   "cell_type": "code",
   "execution_count": null,
   "metadata": {
    "executionInfo": {
     "elapsed": 49445,
     "status": "aborted",
     "timestamp": 1617130473669,
     "user": {
      "displayName": "Sughandhan S",
      "photoUrl": "https://lh3.googleusercontent.com/a-/AOh14GgCzJgz5tDGcNqn108PikDmo9i8xVBqBE7WCrGurg=s64",
      "userId": "16893705064560269479"
     },
     "user_tz": -330
    },
    "id": "92PgoQDRhyFB"
   },
   "outputs": [],
   "source": [
    "print(maxi[0])\n",
    "print(maxi[1])\n",
    "print(mini[0])\n",
    "print(mini[1])"
   ]
  },
  {
   "cell_type": "markdown",
   "metadata": {
    "id": "SCP5Ee9IqynB"
   },
   "source": [
    "start here again"
   ]
  },
  {
   "cell_type": "code",
   "execution_count": 184,
   "metadata": {
    "executionInfo": {
     "elapsed": 1503,
     "status": "ok",
     "timestamp": 1617130746709,
     "user": {
      "displayName": "Sughandhan S",
      "photoUrl": "https://lh3.googleusercontent.com/a-/AOh14GgCzJgz5tDGcNqn108PikDmo9i8xVBqBE7WCrGurg=s64",
      "userId": "16893705064560269479"
     },
     "user_tz": -330
    },
    "id": "MlFKhqDaTR5D"
   },
   "outputs": [],
   "source": [
    "centroid=[]\n",
    "for i in range(k):\n",
    "  x= np.random.uniform(low=-5.7,high=2.79)\n",
    "  y= np.random.uniform(low=-3.19,high=5.3)\n",
    "  centroid.append((x,y))"
   ]
  },
  {
   "cell_type": "code",
   "execution_count": 185,
   "metadata": {
    "colab": {
     "base_uri": "https://localhost:8080/"
    },
    "executionInfo": {
     "elapsed": 989,
     "status": "ok",
     "timestamp": 1617130746710,
     "user": {
      "displayName": "Sughandhan S",
      "photoUrl": "https://lh3.googleusercontent.com/a-/AOh14GgCzJgz5tDGcNqn108PikDmo9i8xVBqBE7WCrGurg=s64",
      "userId": "16893705064560269479"
     },
     "user_tz": -330
    },
    "id": "EFqxXKSDTS9H",
    "outputId": "c6ac50b1-3ae8-4388-ce2a-31ee3fe06c0b"
   },
   "outputs": [
    {
     "data": {
      "text/plain": [
       "[(0.12307321055677267, -2.7356491987064495),\n",
       " (-4.538078218055205, 0.22987256887186858),\n",
       " (-5.438591222362879, 4.68562002939756)]"
      ]
     },
     "execution_count": 185,
     "metadata": {
      "tags": []
     },
     "output_type": "execute_result"
    }
   ],
   "source": [
    "centroid"
   ]
  },
  {
   "cell_type": "code",
   "execution_count": 186,
   "metadata": {
    "colab": {
     "base_uri": "https://localhost:8080/",
     "height": 1000,
     "output_embedded_package_id": "1KnT12ec9iSW9LGNEK6jGs8v2eONYwGK8"
    },
    "executionInfo": {
     "elapsed": 75666,
     "status": "ok",
     "timestamp": 1617130822170,
     "user": {
      "displayName": "Sughandhan S",
      "photoUrl": "https://lh3.googleusercontent.com/a-/AOh14GgCzJgz5tDGcNqn108PikDmo9i8xVBqBE7WCrGurg=s64",
      "userId": "16893705064560269479"
     },
     "user_tz": -330
    },
    "id": "xkwamH-sEdWE",
    "outputId": "1dcd2132-9e51-49f3-acc9-1fffd72d5b8d"
   },
   "outputs": [
    {
     "data": {
      "text/plain": [
       "Output hidden; open in https://colab.research.google.com to view."
      ]
     },
     "metadata": {},
     "output_type": "display_data"
    }
   ],
   "source": [
    "Best_sse = []\n",
    "for k in range(2, 11):\n",
    "  centroid=[]\n",
    "  for i in range(k):\n",
    "    x= np.random.uniform(low=-5.7,high=2.79)\n",
    "    y= np.random.uniform(low=-3.19,high=5.3)\n",
    "    centroid.append((x,y))\n",
    "  centroid= np.array(centroid)\n",
    "  #centroid\n",
    "  c_diss, labelss, Sse = k_means_clus(data, k, centroid)\n",
    "  Best_sse.append(Sse[-1])"
   ]
  },
  {
   "cell_type": "code",
   "execution_count": 187,
   "metadata": {
    "colab": {
     "base_uri": "https://localhost:8080/"
    },
    "executionInfo": {
     "elapsed": 74354,
     "status": "ok",
     "timestamp": 1617130822171,
     "user": {
      "displayName": "Sughandhan S",
      "photoUrl": "https://lh3.googleusercontent.com/a-/AOh14GgCzJgz5tDGcNqn108PikDmo9i8xVBqBE7WCrGurg=s64",
      "userId": "16893705064560269479"
     },
     "user_tz": -330
    },
    "id": "k4Q85-_EH5AU",
    "outputId": "778ada9f-b6b1-413e-90ed-132cbd1dc05c"
   },
   "outputs": [
    {
     "data": {
      "text/plain": [
       "[1918.4903814707247,\n",
       " 1116.2265466481174,\n",
       " 855.5386718092028,\n",
       " 740.2090441820287,\n",
       " 483.8385311688602,\n",
       " 430.028923464464,\n",
       " 338.9565807984675,\n",
       " 285.1936213427483,\n",
       " 250.69489670648088]"
      ]
     },
     "execution_count": 187,
     "metadata": {
      "tags": []
     },
     "output_type": "execute_result"
    }
   ],
   "source": [
    "Best_sse"
   ]
  },
  {
   "cell_type": "code",
   "execution_count": 193,
   "metadata": {
    "colab": {
     "base_uri": "https://localhost:8080/",
     "height": 269
    },
    "executionInfo": {
     "elapsed": 1224,
     "status": "ok",
     "timestamp": 1617131880393,
     "user": {
      "displayName": "Sughandhan S",
      "photoUrl": "https://lh3.googleusercontent.com/a-/AOh14GgCzJgz5tDGcNqn108PikDmo9i8xVBqBE7WCrGurg=s64",
      "userId": "16893705064560269479"
     },
     "user_tz": -330
    },
    "id": "o3sW375rEdTa",
    "outputId": "8baeb450-6f21-42ad-88e9-5885eda941c6"
   },
   "outputs": [
    {
     "data": {
      "image/png": "[encoded data removed]",
      "text/plain": [
       "<Figure size 432x288 with 1 Axes>"
      ]
     },
     "metadata": {
      "needs_background": "light",
      "tags": []
     },
     "output_type": "display_data"
    }
   ],
   "source": [
    "plt.plot(range(2,11),Best_sse)\n",
    "plt.scatter(range(2, 11), Best_sse, marker='+', color='g')\n",
    "plt.show()"
   ]
  },
  {
   "cell_type": "markdown",
   "metadata": {
    "id": "Ofm3VrKWfo8E"
   },
   "source": [
    "Answer:"
   ]
  },
  {
   "cell_type": "markdown",
   "metadata": {
    "id": "kuwkC_vzZFUs"
   },
   "source": [
    "We can as you can that as we increase the number of clusters, the SSE tends to decrease(most of the times). The optimal K clusters to choose would the K value for which there was a significant amount of decrease in the SSE and less reduction in SSE for the next K value.\n",
    "That we have to identify the elbow at in the graph and we see that elbow present at K=3.\n",
    "Hence K=3 would be the suitable value for this dataset "
   ]
  },
  {
   "cell_type": "markdown",
   "metadata": {
    "id": "AlFxIPAg5cij"
   },
   "source": [
    "#ROUGHHHH\n",
    "\n"
   ]
  },
  {
   "cell_type": "code",
   "execution_count": null,
   "metadata": {
    "executionInfo": {
     "elapsed": 49430,
     "status": "aborted",
     "timestamp": 1617130473684,
     "user": {
      "displayName": "Sughandhan S",
      "photoUrl": "https://lh3.googleusercontent.com/a-/AOh14GgCzJgz5tDGcNqn108PikDmo9i8xVBqBE7WCrGurg=s64",
      "userId": "16893705064560269479"
     },
     "user_tz": -330
    },
    "id": "nAMQD_j14g9t"
   },
   "outputs": [],
   "source": [
    "c_dist= []\n",
    "for i in centroids:\n",
    "  lst=[]\n",
    "  for j in points:\n",
    "    lst.append((np.linalg.norm(i-j), j))\n",
    "  #print((np.linalg.norm(new_point-i), i))\n",
    "  c_dist.append(lst)\n"
   ]
  },
  {
   "cell_type": "code",
   "execution_count": null,
   "metadata": {
    "executionInfo": {
     "elapsed": 49426,
     "status": "aborted",
     "timestamp": 1617130473685,
     "user": {
      "displayName": "Sughandhan S",
      "photoUrl": "https://lh3.googleusercontent.com/a-/AOh14GgCzJgz5tDGcNqn108PikDmo9i8xVBqBE7WCrGurg=s64",
      "userId": "16893705064560269479"
     },
     "user_tz": -330
    },
    "id": "942Fk7dp5213"
   },
   "outputs": [],
   "source": [
    "xyz = [[2],[]]"
   ]
  },
  {
   "cell_type": "code",
   "execution_count": null,
   "metadata": {
    "executionInfo": {
     "elapsed": 49422,
     "status": "aborted",
     "timestamp": 1617130473687,
     "user": {
      "displayName": "Sughandhan S",
      "photoUrl": "https://lh3.googleusercontent.com/a-/AOh14GgCzJgz5tDGcNqn108PikDmo9i8xVBqBE7WCrGurg=s64",
      "userId": "16893705064560269479"
     },
     "user_tz": -330
    },
    "id": "TsdbVPj38Ob2"
   },
   "outputs": [],
   "source": [
    "xyz = np.array(xyz)"
   ]
  },
  {
   "cell_type": "code",
   "execution_count": null,
   "metadata": {
    "executionInfo": {
     "elapsed": 49418,
     "status": "aborted",
     "timestamp": 1617130473688,
     "user": {
      "displayName": "Sughandhan S",
      "photoUrl": "https://lh3.googleusercontent.com/a-/AOh14GgCzJgz5tDGcNqn108PikDmo9i8xVBqBE7WCrGurg=s64",
      "userId": "16893705064560269479"
     },
     "user_tz": -330
    },
    "id": "aZMhYfHO8Qwo"
   },
   "outputs": [],
   "source": [
    "xyz"
   ]
  },
  {
   "cell_type": "code",
   "execution_count": null,
   "metadata": {
    "executionInfo": {
     "elapsed": 49414,
     "status": "aborted",
     "timestamp": 1617130473689,
     "user": {
      "displayName": "Sughandhan S",
      "photoUrl": "https://lh3.googleusercontent.com/a-/AOh14GgCzJgz5tDGcNqn108PikDmo9i8xVBqBE7WCrGurg=s64",
      "userId": "16893705064560269479"
     },
     "user_tz": -330
    },
    "id": "Kcfnqi1C8Vea"
   },
   "outputs": [],
   "source": [
    "xyz.shape"
   ]
  },
  {
   "cell_type": "code",
   "execution_count": null,
   "metadata": {
    "executionInfo": {
     "elapsed": 49409,
     "status": "aborted",
     "timestamp": 1617130473689,
     "user": {
      "displayName": "Sughandhan S",
      "photoUrl": "https://lh3.googleusercontent.com/a-/AOh14GgCzJgz5tDGcNqn108PikDmo9i8xVBqBE7WCrGurg=s64",
      "userId": "16893705064560269479"
     },
     "user_tz": -330
    },
    "id": "E1K196JQ8hO_"
   },
   "outputs": [],
   "source": [
    "xyz[1]"
   ]
  },
  {
   "cell_type": "code",
   "execution_count": null,
   "metadata": {
    "executionInfo": {
     "elapsed": 49405,
     "status": "aborted",
     "timestamp": 1617130473690,
     "user": {
      "displayName": "Sughandhan S",
      "photoUrl": "https://lh3.googleusercontent.com/a-/AOh14GgCzJgz5tDGcNqn108PikDmo9i8xVBqBE7WCrGurg=s64",
      "userId": "16893705064560269479"
     },
     "user_tz": -330
    },
    "id": "e7Hpr6C68ZVw"
   },
   "outputs": [],
   "source": [
    "if xyz[1]==[]:\n",
    "  print('lol')"
   ]
  },
  {
   "cell_type": "code",
   "execution_count": null,
   "metadata": {
    "executionInfo": {
     "elapsed": 49400,
     "status": "aborted",
     "timestamp": 1617130473690,
     "user": {
      "displayName": "Sughandhan S",
      "photoUrl": "https://lh3.googleusercontent.com/a-/AOh14GgCzJgz5tDGcNqn108PikDmo9i8xVBqBE7WCrGurg=s64",
      "userId": "16893705064560269479"
     },
     "user_tz": -330
    },
    "id": "JkHdnRJf8on2"
   },
   "outputs": [],
   "source": []
  }
 ],
 "metadata": {
  "accelerator": "GPU",
  "colab": {
   "authorship_tag": "ABX9TyO6vsxEHGMFfYXWXYKiQPIB",
   "collapsed_sections": [
    "B1jy-ITiLY-d",
    "AlFxIPAg5cij"
   ],
   "name": "Lab 4.ipynb",
   "provenance": []
  },
  "kernelspec": {
   "display_name": "Python 3",
   "language": "python",
   "name": "python3"
  },
  "language_info": {
   "codemirror_mode": {
    "name": "ipython",
    "version": 3
   },
   "file_extension": ".py",
   "mimetype": "text/x-python",
   "name": "python",
   "nbconvert_exporter": "python",
   "pygments_lexer": "ipython3",
   "version": "3.7.3"
  }
 },
 "nbformat": 4,
 "nbformat_minor": 1
}
