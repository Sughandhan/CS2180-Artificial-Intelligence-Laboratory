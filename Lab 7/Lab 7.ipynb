{
 "cells": [
  {
   "cell_type": "markdown",
   "metadata": {
    "id": "9jx96ernXGJV"
   },
   "source": [
    "# New Section"
   ]
  },
  {
   "cell_type": "markdown",
   "metadata": {
    "id": "8e4XXW2vN6jf"
   },
   "source": [
    "#LAB 7 by Sughandhan S"
   ]
  },
  {
   "cell_type": "code",
   "execution_count": null,
   "metadata": {
    "id": "rKvWDpKUNzRL"
   },
   "outputs": [],
   "source": [
    "import numpy as np\n",
    "import matplotlib.pyplot as plt\n",
    "import matplotlib\n",
    "import pandas as pd\n",
    "import math"
   ]
  },
  {
   "cell_type": "markdown",
   "metadata": {
    "id": "OmxHYcQTQVby"
   },
   "source": [
    "#Q1) Linear Regression"
   ]
  },
  {
   "cell_type": "markdown",
   "metadata": {
    "id": "rxQZ454IQdVr"
   },
   "source": [
    "#Preparing the data"
   ]
  },
  {
   "cell_type": "code",
   "execution_count": null,
   "metadata": {
    "id": "rNlYxwm8OWqw"
   },
   "outputs": [],
   "source": [
    "train_data = np.genfromtxt(\"linear.txt\")"
   ]
  },
  {
   "cell_type": "code",
   "execution_count": null,
   "metadata": {
    "colab": {
     "base_uri": "https://localhost:8080/"
    },
    "executionInfo": {
     "elapsed": 1818,
     "status": "ok",
     "timestamp": 1618567870492,
     "user": {
      "displayName": "Sughandhan S",
      "photoUrl": "https://lh3.googleusercontent.com/a-/AOh14GgCzJgz5tDGcNqn108PikDmo9i8xVBqBE7WCrGurg=s64",
      "userId": "16893705064560269479"
     },
     "user_tz": -330
    },
    "id": "DvHo1UKtWSNx",
    "outputId": "21395a26-e292-466f-fea5-6cd7e5b008d6"
   },
   "outputs": [
    {
     "data": {
      "text/plain": [
       "array([[     nan,      nan],\n",
       "       [-1.     , -0.01701],\n",
       "       [-0.9    ,  0.19027],\n",
       "       [-0.8    , -0.0667 ],\n",
       "       [-0.7    ,  0.34759],\n",
       "       [-0.6    , -0.00457],\n",
       "       [-0.5    ,  0.0169 ],\n",
       "       [-0.4    ,  0.5054 ],\n",
       "       [-0.3    ,  1.25068],\n",
       "       [-0.2    ,  1.51939],\n",
       "       [-0.1    ,  1.17812],\n",
       "       [ 0.     ,  1.67118],\n",
       "       [ 0.1    ,  2.1463 ],\n",
       "       [ 0.2    ,  1.60588],\n",
       "       [ 0.3    ,  2.54108],\n",
       "       [ 0.4    ,  1.97292],\n",
       "       [ 0.5    ,  2.38741],\n",
       "       [ 0.6    ,  2.91471],\n",
       "       [ 0.7    ,  3.12256],\n",
       "       [ 0.8    ,  3.16602],\n",
       "       [ 0.9    ,  2.86379],\n",
       "       [ 1.     ,  3.29251]])"
      ]
     },
     "execution_count": 3,
     "metadata": {
      "tags": []
     },
     "output_type": "execute_result"
    }
   ],
   "source": [
    "train_data"
   ]
  },
  {
   "cell_type": "code",
   "execution_count": null,
   "metadata": {
    "colab": {
     "base_uri": "https://localhost:8080/"
    },
    "executionInfo": {
     "elapsed": 2142,
     "status": "ok",
     "timestamp": 1618567871114,
     "user": {
      "displayName": "Sughandhan S",
      "photoUrl": "https://lh3.googleusercontent.com/a-/AOh14GgCzJgz5tDGcNqn108PikDmo9i8xVBqBE7WCrGurg=s64",
      "userId": "16893705064560269479"
     },
     "user_tz": -330
    },
    "id": "aTHgZ52QWTMv",
    "outputId": "f4fc7d7e-fcca-45e4-eb7d-9edb9d9264d9"
   },
   "outputs": [
    {
     "data": {
      "text/plain": [
       "array([[-1.     , -0.01701],\n",
       "       [-0.9    ,  0.19027],\n",
       "       [-0.8    , -0.0667 ],\n",
       "       [-0.7    ,  0.34759],\n",
       "       [-0.6    , -0.00457],\n",
       "       [-0.5    ,  0.0169 ],\n",
       "       [-0.4    ,  0.5054 ],\n",
       "       [-0.3    ,  1.25068],\n",
       "       [-0.2    ,  1.51939],\n",
       "       [-0.1    ,  1.17812],\n",
       "       [ 0.     ,  1.67118],\n",
       "       [ 0.1    ,  2.1463 ],\n",
       "       [ 0.2    ,  1.60588],\n",
       "       [ 0.3    ,  2.54108],\n",
       "       [ 0.4    ,  1.97292],\n",
       "       [ 0.5    ,  2.38741],\n",
       "       [ 0.6    ,  2.91471],\n",
       "       [ 0.7    ,  3.12256],\n",
       "       [ 0.8    ,  3.16602],\n",
       "       [ 0.9    ,  2.86379],\n",
       "       [ 1.     ,  3.29251]])"
      ]
     },
     "execution_count": 4,
     "metadata": {
      "tags": []
     },
     "output_type": "execute_result"
    }
   ],
   "source": [
    "train_data = train_data[1:, ]\n",
    "train_data"
   ]
  },
  {
   "cell_type": "code",
   "execution_count": null,
   "metadata": {
    "colab": {
     "base_uri": "https://localhost:8080/"
    },
    "executionInfo": {
     "elapsed": 1949,
     "status": "ok",
     "timestamp": 1618567871114,
     "user": {
      "displayName": "Sughandhan S",
      "photoUrl": "https://lh3.googleusercontent.com/a-/AOh14GgCzJgz5tDGcNqn108PikDmo9i8xVBqBE7WCrGurg=s64",
      "userId": "16893705064560269479"
     },
     "user_tz": -330
    },
    "id": "oXTg4GJugj0o",
    "outputId": "79ee2884-1333-4416-e6ad-2588e289b1d1"
   },
   "outputs": [
    {
     "data": {
      "text/plain": [
       "21"
      ]
     },
     "execution_count": 5,
     "metadata": {
      "tags": []
     },
     "output_type": "execute_result"
    }
   ],
   "source": [
    "len(train_data)"
   ]
  },
  {
   "cell_type": "code",
   "execution_count": null,
   "metadata": {
    "id": "BRe_ZzZcgzwK"
   },
   "outputs": [],
   "source": [
    "def deri(w, x , y):\n",
    "  dW = np.array([0.0,0.0])\n",
    "  dW[0] += 2*(w[0]*x + w[1] -y)* x\n",
    "  dW[1] += 2*(w[0]*x + w[1] -y)\n",
    "  return dW"
   ]
  },
  {
   "cell_type": "markdown",
   "metadata": {
    "id": "iJRnsPfRnB-b"
   },
   "source": []
  },
  {
   "cell_type": "code",
   "execution_count": null,
   "metadata": {
    "colab": {
     "base_uri": "https://localhost:8080/"
    },
    "executionInfo": {
     "elapsed": 3882,
     "status": "ok",
     "timestamp": 1618567873570,
     "user": {
      "displayName": "Sughandhan S",
      "photoUrl": "https://lh3.googleusercontent.com/a-/AOh14GgCzJgz5tDGcNqn108PikDmo9i8xVBqBE7WCrGurg=s64",
      "userId": "16893705064560269479"
     },
     "user_tz": -330
    },
    "id": "tl7Djp-uye3d",
    "outputId": "2eddfeea-ef15-4b3e-89a2-efb3457651fc"
   },
   "outputs": [
    {
     "data": {
      "text/plain": [
       "array([ 0.16777118, -0.98353253])"
      ]
     },
     "execution_count": 7,
     "metadata": {
      "tags": []
     },
     "output_type": "execute_result"
    }
   ],
   "source": [
    "w =np.random.uniform(-1,1,2)\n",
    "w"
   ]
  },
  {
   "cell_type": "code",
   "execution_count": null,
   "metadata": {
    "id": "med9vsgbgmcj"
   },
   "outputs": [],
   "source": [
    "def linear_regression(train, alpha, epoch):\n",
    "    w = np.random.uniform(-1,1,2)\n",
    "    while epoch>0:\n",
    "      DW = np.array([0.0,0.0])\n",
    "      for i in train:\n",
    "        DW += deri(w, i[0], i[1])\n",
    "      DW/= len(train)\n",
    "      w = w - alpha*DW\n",
    "      epoch-=1\n",
    "    plt.plot([0, w[0]],[0, w[1]] )\n",
    "    # w = np.random.uniform(-1,1,2)\n",
    "    # while epoch>0:\n",
    "    #   dw1 = 0\n",
    "    #   dw2 = 0\n",
    "    #   for i in range(len(train)):\n",
    "    #     dw1+= 2*train[i][0]*(w[0]*train[i][0] +w[1] - train[i][1])\n",
    "    #     dw2+= 2*(w[0]*train[i][0] +w[1] - train[i][1])\n",
    "    #   dw1 /=len(train)\n",
    "    #   dw2 /=len(train)\n",
    "    #   w[0] -= alpha*dw1\n",
    "    #   w[1] -= alpha*dw2\n",
    "    #   epoch-=1 \n",
    "    return w"
   ]
  },
  {
   "cell_type": "code",
   "execution_count": null,
   "metadata": {
    "colab": {
     "base_uri": "https://localhost:8080/",
     "height": 265
    },
    "executionInfo": {
     "elapsed": 3527,
     "status": "ok",
     "timestamp": 1618567873572,
     "user": {
      "displayName": "Sughandhan S",
      "photoUrl": "https://lh3.googleusercontent.com/a-/AOh14GgCzJgz5tDGcNqn108PikDmo9i8xVBqBE7WCrGurg=s64",
      "userId": "16893705064560269479"
     },
     "user_tz": -330
    },
    "id": "W5tJ3KDqnO5b",
    "outputId": "d8199e5a-6157-4404-89e9-c2a547c19277"
   },
   "outputs": [
    {
     "data": {
      "image/png": "[encoded data removed]",
      "text/plain": [
       "<Figure size 432x288 with 1 Axes>"
      ]
     },
     "metadata": {
      "needs_background": "light",
      "tags": []
     },
     "output_type": "display_data"
    }
   ],
   "source": [
    "slope = linear_regression(train_data, 0.01, 1000)"
   ]
  },
  {
   "cell_type": "code",
   "execution_count": null,
   "metadata": {
    "colab": {
     "base_uri": "https://localhost:8080/"
    },
    "executionInfo": {
     "elapsed": 3178,
     "status": "ok",
     "timestamp": 1618567873572,
     "user": {
      "displayName": "Sughandhan S",
      "photoUrl": "https://lh3.googleusercontent.com/a-/AOh14GgCzJgz5tDGcNqn108PikDmo9i8xVBqBE7WCrGurg=s64",
      "userId": "16893705064560269479"
     },
     "user_tz": -330
    },
    "id": "5e7GY1vvnTu1",
    "outputId": "40517c8e-5463-492c-ce83-c1a4ded11ed1"
   },
   "outputs": [
    {
     "data": {
      "text/plain": [
       "array([1.85176347, 1.5525919 ])"
      ]
     },
     "execution_count": 10,
     "metadata": {
      "tags": []
     },
     "output_type": "execute_result"
    }
   ],
   "source": [
    "slope"
   ]
  },
  {
   "cell_type": "code",
   "execution_count": null,
   "metadata": {
    "colab": {
     "base_uri": "https://localhost:8080/",
     "height": 265
    },
    "executionInfo": {
     "elapsed": 2952,
     "status": "ok",
     "timestamp": 1618567873573,
     "user": {
      "displayName": "Sughandhan S",
      "photoUrl": "https://lh3.googleusercontent.com/a-/AOh14GgCzJgz5tDGcNqn108PikDmo9i8xVBqBE7WCrGurg=s64",
      "userId": "16893705064560269479"
     },
     "user_tz": -330
    },
    "id": "rBOPKM34n4Ph",
    "outputId": "7cf5f55e-0791-41f5-9dea-03ef9cb83084"
   },
   "outputs": [
    {
     "data": {
      "image/png": "[encoded data removed]",
      "text/plain": [
       "<Figure size 432x288 with 1 Axes>"
      ]
     },
     "metadata": {
      "needs_background": "light",
      "tags": []
     },
     "output_type": "display_data"
    }
   ],
   "source": [
    "x = np.linspace(-1.2,1.5, 100)\n",
    "plt.plot(x, slope[0]*x+ slope[1])\n",
    "plt.scatter(train_data[:,0], train_data[:,1])\n",
    "plt.show()"
   ]
  },
  {
   "cell_type": "markdown",
   "metadata": {
    "id": "W29TlFv73t0u"
   },
   "source": [
    "#Q2) Logistic Regression"
   ]
  },
  {
   "cell_type": "code",
   "execution_count": null,
   "metadata": {
    "id": "JQig-vT83zFP"
   },
   "outputs": [],
   "source": [
    "logistic = np.genfromtxt(\"logistic.txt\")"
   ]
  },
  {
   "cell_type": "code",
   "execution_count": null,
   "metadata": {
    "colab": {
     "base_uri": "https://localhost:8080/"
    },
    "executionInfo": {
     "elapsed": 20,
     "status": "ok",
     "timestamp": 1624624683152,
     "user": {
      "displayName": "Sughandhan S",
      "photoUrl": "https://lh3.googleusercontent.com/a-/AOh14GgCzJgz5tDGcNqn108PikDmo9i8xVBqBE7WCrGurg=s64",
      "userId": "16893705064560269479"
     },
     "user_tz": -330
    },
    "id": "tOUboalZ6GRQ",
    "outputId": "b49758e2-a794-46d2-ba9a-ab404e68738d"
   },
   "outputs": [
    {
     "data": {
      "text/plain": [
       "21"
      ]
     },
     "execution_count": 13,
     "metadata": {
      "tags": []
     },
     "output_type": "execute_result"
    }
   ],
   "source": [
    "len(logistic)"
   ]
  },
  {
   "cell_type": "code",
   "execution_count": null,
   "metadata": {
    "colab": {
     "base_uri": "https://localhost:8080/"
    },
    "executionInfo": {
     "elapsed": 17,
     "status": "ok",
     "timestamp": 1624624683152,
     "user": {
      "displayName": "Sughandhan S",
      "photoUrl": "https://lh3.googleusercontent.com/a-/AOh14GgCzJgz5tDGcNqn108PikDmo9i8xVBqBE7WCrGurg=s64",
      "userId": "16893705064560269479"
     },
     "user_tz": -330
    },
    "id": "xcGrRCjB9G1G",
    "outputId": "ba28d895-c8d9-49e3-c9ff-07b66eca6ea8"
   },
   "outputs": [
    {
     "data": {
      "text/plain": [
       "array([[      nan,       nan,       nan],\n",
       "       [ 1.1779  ,  1.8344  ,  1.      ],\n",
       "       [ 1.9891  ,  1.8008  ,  1.      ],\n",
       "       [ 1.3985  ,  1.2755  ,  1.      ],\n",
       "       [ 1.9886  ,  1.5408  ,  1.      ],\n",
       "       [ 1.1554  ,  1.6021  ,  1.      ],\n",
       "       [ 1.0083  ,  1.9515  ,  1.      ],\n",
       "       [ 1.7439  ,  1.9182  ,  1.      ],\n",
       "       [ 1.4448  ,  1.9913  ,  1.      ],\n",
       "       [ 1.2973  ,  1.1694  ,  1.      ],\n",
       "       [ 1.5215  ,  1.1482  ,  1.      ],\n",
       "       [-0.423148, -0.280258, -1.      ],\n",
       "       [-0.907174, -0.984379, -1.      ],\n",
       "       [-0.50361 , -0.474623, -1.      ],\n",
       "       [-0.242701, -0.704522, -1.      ],\n",
       "       [-0.168896, -0.836723, -1.      ],\n",
       "       [-0.048811, -0.582844, -1.      ],\n",
       "       [-0.461277, -0.409432, -1.      ],\n",
       "       [-0.967822, -0.475415, -1.      ],\n",
       "       [-0.819955, -0.063028, -1.      ],\n",
       "       [-0.187438, -0.089617, -1.      ]])"
      ]
     },
     "execution_count": 14,
     "metadata": {
      "tags": []
     },
     "output_type": "execute_result"
    }
   ],
   "source": [
    "logistic"
   ]
  },
  {
   "cell_type": "code",
   "execution_count": null,
   "metadata": {
    "colab": {
     "base_uri": "https://localhost:8080/"
    },
    "executionInfo": {
     "elapsed": 16,
     "status": "ok",
     "timestamp": 1624624683153,
     "user": {
      "displayName": "Sughandhan S",
      "photoUrl": "https://lh3.googleusercontent.com/a-/AOh14GgCzJgz5tDGcNqn108PikDmo9i8xVBqBE7WCrGurg=s64",
      "userId": "16893705064560269479"
     },
     "user_tz": -330
    },
    "id": "iyFu_05g9JoT",
    "outputId": "7c6da437-1183-449b-d88d-ee659071b57c"
   },
   "outputs": [
    {
     "data": {
      "text/plain": [
       "array([[ 1.1779  ,  1.8344  ,  1.      ],\n",
       "       [ 1.9891  ,  1.8008  ,  1.      ],\n",
       "       [ 1.3985  ,  1.2755  ,  1.      ],\n",
       "       [ 1.9886  ,  1.5408  ,  1.      ],\n",
       "       [ 1.1554  ,  1.6021  ,  1.      ],\n",
       "       [ 1.0083  ,  1.9515  ,  1.      ],\n",
       "       [ 1.7439  ,  1.9182  ,  1.      ],\n",
       "       [ 1.4448  ,  1.9913  ,  1.      ],\n",
       "       [ 1.2973  ,  1.1694  ,  1.      ],\n",
       "       [ 1.5215  ,  1.1482  ,  1.      ],\n",
       "       [-0.423148, -0.280258, -1.      ],\n",
       "       [-0.907174, -0.984379, -1.      ],\n",
       "       [-0.50361 , -0.474623, -1.      ],\n",
       "       [-0.242701, -0.704522, -1.      ],\n",
       "       [-0.168896, -0.836723, -1.      ],\n",
       "       [-0.048811, -0.582844, -1.      ],\n",
       "       [-0.461277, -0.409432, -1.      ],\n",
       "       [-0.967822, -0.475415, -1.      ],\n",
       "       [-0.819955, -0.063028, -1.      ],\n",
       "       [-0.187438, -0.089617, -1.      ]])"
      ]
     },
     "execution_count": 15,
     "metadata": {
      "tags": []
     },
     "output_type": "execute_result"
    }
   ],
   "source": [
    "logistic = logistic[1:,]\n",
    "logistic"
   ]
  },
  {
   "cell_type": "code",
   "execution_count": null,
   "metadata": {
    "id": "sfj_p0CFqZ83"
   },
   "outputs": [],
   "source": [
    "def sigmoid(z):\n",
    "  return (1/(1+np.exp(-z)))"
   ]
  },
  {
   "cell_type": "markdown",
   "metadata": {
    "id": "5sdOSyXj-PwZ"
   },
   "source": [
    "modifying data, SKIP"
   ]
  },
  {
   "cell_type": "code",
   "execution_count": null,
   "metadata": {
    "colab": {
     "base_uri": "https://localhost:8080/"
    },
    "executionInfo": {
     "elapsed": 12,
     "status": "ok",
     "timestamp": 1624624683155,
     "user": {
      "displayName": "Sughandhan S",
      "photoUrl": "https://lh3.googleusercontent.com/a-/AOh14GgCzJgz5tDGcNqn108PikDmo9i8xVBqBE7WCrGurg=s64",
      "userId": "16893705064560269479"
     },
     "user_tz": -330
    },
    "id": "8HkujsbS-Dt2",
    "outputId": "8a44be0b-a140-40ba-a19d-c8541633557b"
   },
   "outputs": [
    {
     "data": {
      "text/plain": [
       "array([1.1779, 1.8344, 1.    ])"
      ]
     },
     "execution_count": 17,
     "metadata": {
      "tags": []
     },
     "output_type": "execute_result"
    }
   ],
   "source": [
    "logistic[0]"
   ]
  },
  {
   "cell_type": "code",
   "execution_count": null,
   "metadata": {
    "colab": {
     "base_uri": "https://localhost:8080/"
    },
    "executionInfo": {
     "elapsed": 2121,
     "status": "ok",
     "timestamp": 1618567874368,
     "user": {
      "displayName": "Sughandhan S",
      "photoUrl": "https://lh3.googleusercontent.com/a-/AOh14GgCzJgz5tDGcNqn108PikDmo9i8xVBqBE7WCrGurg=s64",
      "userId": "16893705064560269479"
     },
     "user_tz": -330
    },
    "id": "B_pBe5Uh-PYf",
    "outputId": "1a523295-2d7a-41d3-d157-789eef76a49f"
   },
   "outputs": [
    {
     "name": "stdout",
     "output_type": "stream",
     "text": [
      "1.0\n",
      "1.0\n",
      "-1.0\n",
      "-1.0\n"
     ]
    }
   ],
   "source": [
    "print(logistic[0][2]) \n",
    "print(logistic[1][2]) \n",
    "print(logistic[14][2]) \n",
    "print(logistic[13][2]) "
   ]
  },
  {
   "cell_type": "code",
   "execution_count": null,
   "metadata": {
    "id": "dTQrbcAh-u32"
   },
   "outputs": [],
   "source": [
    "logistic[0][2] = -1.0\n",
    "logistic[1][2] = -1.0\n",
    "logistic[13][2] = 1.0\n",
    "logistic[14][2] = 1.0"
   ]
  },
  {
   "cell_type": "markdown",
   "metadata": {
    "id": "erM1tG-x_1Zi"
   },
   "source": [
    "continue"
   ]
  },
  {
   "cell_type": "code",
   "execution_count": null,
   "metadata": {
    "colab": {
     "base_uri": "https://localhost:8080/"
    },
    "executionInfo": {
     "elapsed": 6,
     "status": "ok",
     "timestamp": 1624624686283,
     "user": {
      "displayName": "Sughandhan S",
      "photoUrl": "https://lh3.googleusercontent.com/a-/AOh14GgCzJgz5tDGcNqn108PikDmo9i8xVBqBE7WCrGurg=s64",
      "userId": "16893705064560269479"
     },
     "user_tz": -330
    },
    "id": "AC8PMTRp5_Km",
    "outputId": "a78fe47a-c2df-4fd4-ed4c-ae4f7827f7d8"
   },
   "outputs": [
    {
     "data": {
      "text/plain": [
       "(20, 3)"
      ]
     },
     "execution_count": 18,
     "metadata": {
      "tags": []
     },
     "output_type": "execute_result"
    }
   ],
   "source": [
    "logistic.shape"
   ]
  },
  {
   "cell_type": "code",
   "execution_count": null,
   "metadata": {
    "colab": {
     "base_uri": "https://localhost:8080/"
    },
    "executionInfo": {
     "elapsed": 6,
     "status": "ok",
     "timestamp": 1624624686284,
     "user": {
      "displayName": "Sughandhan S",
      "photoUrl": "https://lh3.googleusercontent.com/a-/AOh14GgCzJgz5tDGcNqn108PikDmo9i8xVBqBE7WCrGurg=s64",
      "userId": "16893705064560269479"
     },
     "user_tz": -330
    },
    "id": "_ZL4qQOy0A0n",
    "outputId": "96b6135e-fbf5-4e13-98f2-0bdb47287ef4"
   },
   "outputs": [
    {
     "name": "stdout",
     "output_type": "stream",
     "text": [
      "[1.1779 1.8344 1.    ]\n",
      "[1.9891 1.8008 1.    ]\n",
      "[1.3985 1.2755 1.    ]\n",
      "[1.9886 1.5408 1.    ]\n",
      "[1.1554 1.6021 1.    ]\n",
      "[1.0083 1.9515 1.    ]\n",
      "[1.7439 1.9182 1.    ]\n",
      "[1.4448 1.9913 1.    ]\n",
      "[1.2973 1.1694 1.    ]\n",
      "[1.5215 1.1482 1.    ]\n",
      "[-0.423148 -0.280258 -1.      ]\n",
      "[-0.907174 -0.984379 -1.      ]\n",
      "[-0.50361  -0.474623 -1.      ]\n",
      "[-0.242701 -0.704522 -1.      ]\n",
      "[-0.168896 -0.836723 -1.      ]\n",
      "[-0.048811 -0.582844 -1.      ]\n",
      "[-0.461277 -0.409432 -1.      ]\n",
      "[-0.967822 -0.475415 -1.      ]\n",
      "[-0.819955 -0.063028 -1.      ]\n",
      "[-0.187438 -0.089617 -1.      ]\n"
     ]
    }
   ],
   "source": [
    "for i in range(len(logistic)):\n",
    "  print(logistic[i])"
   ]
  },
  {
   "cell_type": "code",
   "execution_count": null,
   "metadata": {
    "colab": {
     "base_uri": "https://localhost:8080/"
    },
    "executionInfo": {
     "elapsed": 14,
     "status": "ok",
     "timestamp": 1624624692902,
     "user": {
      "displayName": "Sughandhan S",
      "photoUrl": "https://lh3.googleusercontent.com/a-/AOh14GgCzJgz5tDGcNqn108PikDmo9i8xVBqBE7WCrGurg=s64",
      "userId": "16893705064560269479"
     },
     "user_tz": -330
    },
    "id": "4wifZi_ZGNPL",
    "outputId": "7a3de9c4-7252-4def-a274-96f485b65a29"
   },
   "outputs": [
    {
     "data": {
      "text/plain": [
       "1.0"
      ]
     },
     "execution_count": 20,
     "metadata": {
      "tags": []
     },
     "output_type": "execute_result"
    }
   ],
   "source": [
    "logistic[0][2]"
   ]
  },
  {
   "cell_type": "code",
   "execution_count": null,
   "metadata": {
    "colab": {
     "base_uri": "https://localhost:8080/"
    },
    "executionInfo": {
     "elapsed": 13,
     "status": "ok",
     "timestamp": 1624624692902,
     "user": {
      "displayName": "Sughandhan S",
      "photoUrl": "https://lh3.googleusercontent.com/a-/AOh14GgCzJgz5tDGcNqn108PikDmo9i8xVBqBE7WCrGurg=s64",
      "userId": "16893705064560269479"
     },
     "user_tz": -330
    },
    "id": "88ucfolu5mG0",
    "outputId": "e4d595eb-9f4b-435a-b57c-062658ea3df2"
   },
   "outputs": [
    {
     "data": {
      "text/plain": [
       "array([ 1.1779  ,  1.9891  ,  1.3985  ,  1.9886  ,  1.1554  ,  1.0083  ,\n",
       "        1.7439  ,  1.4448  ,  1.2973  ,  1.5215  , -0.423148, -0.907174,\n",
       "       -0.50361 , -0.242701, -0.168896, -0.048811, -0.461277, -0.967822,\n",
       "       -0.819955, -0.187438])"
      ]
     },
     "execution_count": 21,
     "metadata": {
      "tags": []
     },
     "output_type": "execute_result"
    }
   ],
   "source": [
    "  features = logistic[:,:2]\n",
    "  features[:,0]"
   ]
  },
  {
   "cell_type": "code",
   "execution_count": null,
   "metadata": {
    "id": "w7zlDvtm9Ojl"
   },
   "outputs": [],
   "source": [
    "def logistic_regression(alpha, logistic, epochs):\n",
    "  w = np.random.uniform(-1,2, 3)\n",
    "  x1 = logistic[:,0]\n",
    "  x2 = logistic[:,1]\n",
    "  labels = logistic[:, 2]\n",
    "  while epochs>0:\n",
    "    dw1 = 0.0\n",
    "    dw2 = 0.0\n",
    "    dw3 = 0.0\n",
    "    z = sigmoid( np.multiply( -1*labels, (w[0]*x1 + w[1]*x2 + w[2]) ) )\n",
    "    dw1 += -1*np.sum( z* np.multiply(labels, x1))\n",
    "    dw2 += -1*np.sum( z* np.multiply(labels, x2))\n",
    "    dw3 += -1*np.sum( z* labels)\n",
    "    w[0] -= alpha* dw1\n",
    "    w[1] -= alpha* dw2\n",
    "    w[2] -= alpha* dw3\n",
    "    epochs -= 1\n",
    "\n",
    "  sig = sigmoid( (w[0]*x1 + w[1]*x2 + w[2]) )\n",
    "  sig.sort()\n",
    "  x = np.linspace(-20, 20, 100)\n",
    "  y = sigmoid(x)\n",
    "  x1 = np.linspace(-5, 5,100)\n",
    "  x2 = np.linspace(-5, 5,100)\n",
    "  X1, X2 = np.meshgrid(x1, x2)\n",
    "\n",
    "  # logistic[0][2] = -1.0\n",
    "  # logistic[1][2] = -1.0\n",
    "  # logistic[13][2] = 1.0\n",
    "  # logistic[14][2] = 1.0\n",
    " \n",
    "  plt.contourf(X1, X2, w[0]*X1+ w[1]*X2 +w[2], cmap='inferno')\n",
    "  plt.colorbar()\n",
    "  plt.plot(x1, -1/w[0] * (w[1]*x2 +w[2]), c = 'g')\n",
    "  for i in range(len(logistic)):\n",
    "    if logistic[i][2]==1.0:\n",
    "      plt.scatter(logistic[i][0], logistic[i][1], c ='b')\n",
    "    else :\n",
    "      plt.scatter(logistic[i][0], logistic[i][1], c ='r')\n",
    "  # plt.scatter(logistic[:10, 0], logistic[:10, 1], c = 'b')\n",
    "  # plt.scatter(logistic[10:, 0], logistic[10:, 1], c = 'r')\n",
    "  # plt.plot(x, y)\n",
    "  # plt.plot(x, [0.5]*len(x))\n",
    "  # plt.scatter(range(-10,10),sig)\n",
    "  return w"
   ]
  },
  {
   "cell_type": "code",
   "execution_count": null,
   "metadata": {
    "colab": {
     "base_uri": "https://localhost:8080/",
     "height": 269
    },
    "executionInfo": {
     "elapsed": 7,
     "status": "ok",
     "timestamp": 1624625375707,
     "user": {
      "displayName": "Sughandhan S",
      "photoUrl": "https://lh3.googleusercontent.com/a-/AOh14GgCzJgz5tDGcNqn108PikDmo9i8xVBqBE7WCrGurg=s64",
      "userId": "16893705064560269479"
     },
     "user_tz": -330
    },
    "id": "3dWhsEETw2dt",
    "outputId": "8c977acd-d1d2-48cf-b972-38628ad8bd95"
   },
   "outputs": [
    {
     "data": {
      "image/png": "[encoded data removed]",
      "text/plain": [
       "<Figure size 432x288 with 2 Axes>"
      ]
     },
     "metadata": {
      "needs_background": "light",
      "tags": []
     },
     "output_type": "display_data"
    }
   ],
   "source": [
    "weights = logistic_regression(0.001, logistic, 100)"
   ]
  },
  {
   "cell_type": "code",
   "execution_count": null,
   "metadata": {
    "colab": {
     "base_uri": "https://localhost:8080/"
    },
    "executionInfo": {
     "elapsed": 1714,
     "status": "ok",
     "timestamp": 1618567879837,
     "user": {
      "displayName": "Sughandhan S",
      "photoUrl": "https://lh3.googleusercontent.com/a-/AOh14GgCzJgz5tDGcNqn108PikDmo9i8xVBqBE7WCrGurg=s64",
      "userId": "16893705064560269479"
     },
     "user_tz": -330
    },
    "id": "mZ_Vhtck7C0N",
    "outputId": "2e5ffb9c-117c-455c-a75f-5df10ad725f5"
   },
   "outputs": [
    {
     "data": {
      "text/plain": [
       "array([0.99360271, 1.20370786, 0.02000972])"
      ]
     },
     "execution_count": 26,
     "metadata": {
      "tags": []
     },
     "output_type": "execute_result"
    }
   ],
   "source": [
    "weights"
   ]
  },
  {
   "cell_type": "markdown",
   "metadata": {
    "id": "GR_QnVqB6j1X"
   },
   "source": [
    "#Q3"
   ]
  },
  {
   "cell_type": "markdown",
   "metadata": {
    "id": "x2GyxQmdWKiI"
   },
   "source": [
    "#Training Data"
   ]
  },
  {
   "cell_type": "code",
   "execution_count": null,
   "metadata": {
    "id": "9cZnExhC6kv5"
   },
   "outputs": [],
   "source": [
    "mnist_train = pd.read_csv(\"mnist_train.csv\")"
   ]
  },
  {
   "cell_type": "code",
   "execution_count": null,
   "metadata": {
    "colab": {
     "base_uri": "https://localhost:8080/",
     "height": 437
    },
    "executionInfo": {
     "elapsed": 8570,
     "status": "ok",
     "timestamp": 1618574231746,
     "user": {
      "displayName": "Sughandhan S",
      "photoUrl": "https://lh3.googleusercontent.com/a-/AOh14GgCzJgz5tDGcNqn108PikDmo9i8xVBqBE7WCrGurg=s64",
      "userId": "16893705064560269479"
     },
     "user_tz": -330
    },
    "id": "q7cNshY4AfII",
    "outputId": "637dd199-a410-4936-ee4d-0f8b39ce555a"
   },
   "outputs": [
    {
     "data": {
      "text/html": [
       "<div>\n",
       "<style scoped>\n",
       "    .dataframe tbody tr th:only-of-type {\n",
       "        vertical-align: middle;\n",
       "    }\n",
       "\n",
       "    .dataframe tbody tr th {\n",
       "        vertical-align: top;\n",
       "    }\n",
       "\n",
       "    .dataframe thead th {\n",
       "        text-align: right;\n",
       "    }\n",
       "</style>\n",
       "<table border=\"1\" class=\"dataframe\">\n",
       "  <thead>\n",
       "    <tr style=\"text-align: right;\">\n",
       "      <th></th>\n",
       "      <th>label</th>\n",
       "      <th>1x1</th>\n",
       "      <th>1x2</th>\n",
       "      <th>1x3</th>\n",
       "      <th>1x4</th>\n",
       "      <th>1x5</th>\n",
       "      <th>1x6</th>\n",
       "      <th>1x7</th>\n",
       "      <th>1x8</th>\n",
       "      <th>1x9</th>\n",
       "      <th>1x10</th>\n",
       "      <th>1x11</th>\n",
       "      <th>1x12</th>\n",
       "      <th>1x13</th>\n",
       "      <th>1x14</th>\n",
       "      <th>1x15</th>\n",
       "      <th>1x16</th>\n",
       "      <th>1x17</th>\n",
       "      <th>1x18</th>\n",
       "      <th>1x19</th>\n",
       "      <th>1x20</th>\n",
       "      <th>1x21</th>\n",
       "      <th>1x22</th>\n",
       "      <th>1x23</th>\n",
       "      <th>1x24</th>\n",
       "      <th>1x25</th>\n",
       "      <th>1x26</th>\n",
       "      <th>1x27</th>\n",
       "      <th>1x28</th>\n",
       "      <th>2x1</th>\n",
       "      <th>2x2</th>\n",
       "      <th>2x3</th>\n",
       "      <th>2x4</th>\n",
       "      <th>2x5</th>\n",
       "      <th>2x6</th>\n",
       "      <th>2x7</th>\n",
       "      <th>2x8</th>\n",
       "      <th>2x9</th>\n",
       "      <th>2x10</th>\n",
       "      <th>2x11</th>\n",
       "      <th>...</th>\n",
       "      <th>27x17</th>\n",
       "      <th>27x18</th>\n",
       "      <th>27x19</th>\n",
       "      <th>27x20</th>\n",
       "      <th>27x21</th>\n",
       "      <th>27x22</th>\n",
       "      <th>27x23</th>\n",
       "      <th>27x24</th>\n",
       "      <th>27x25</th>\n",
       "      <th>27x26</th>\n",
       "      <th>27x27</th>\n",
       "      <th>27x28</th>\n",
       "      <th>28x1</th>\n",
       "      <th>28x2</th>\n",
       "      <th>28x3</th>\n",
       "      <th>28x4</th>\n",
       "      <th>28x5</th>\n",
       "      <th>28x6</th>\n",
       "      <th>28x7</th>\n",
       "      <th>28x8</th>\n",
       "      <th>28x9</th>\n",
       "      <th>28x10</th>\n",
       "      <th>28x11</th>\n",
       "      <th>28x12</th>\n",
       "      <th>28x13</th>\n",
       "      <th>28x14</th>\n",
       "      <th>28x15</th>\n",
       "      <th>28x16</th>\n",
       "      <th>28x17</th>\n",
       "      <th>28x18</th>\n",
       "      <th>28x19</th>\n",
       "      <th>28x20</th>\n",
       "      <th>28x21</th>\n",
       "      <th>28x22</th>\n",
       "      <th>28x23</th>\n",
       "      <th>28x24</th>\n",
       "      <th>28x25</th>\n",
       "      <th>28x26</th>\n",
       "      <th>28x27</th>\n",
       "      <th>28x28</th>\n",
       "    </tr>\n",
       "  </thead>\n",
       "  <tbody>\n",
       "    <tr>\n",
       "      <th>0</th>\n",
       "      <td>5</td>\n",
       "      <td>0</td>\n",
       "      <td>0</td>\n",
       "      <td>0</td>\n",
       "      <td>0</td>\n",
       "      <td>0</td>\n",
       "      <td>0</td>\n",
       "      <td>0</td>\n",
       "      <td>0</td>\n",
       "      <td>0</td>\n",
       "      <td>0</td>\n",
       "      <td>0</td>\n",
       "      <td>0</td>\n",
       "      <td>0</td>\n",
       "      <td>0</td>\n",
       "      <td>0</td>\n",
       "      <td>0</td>\n",
       "      <td>0</td>\n",
       "      <td>0</td>\n",
       "      <td>0</td>\n",
       "      <td>0</td>\n",
       "      <td>0</td>\n",
       "      <td>0</td>\n",
       "      <td>0</td>\n",
       "      <td>0</td>\n",
       "      <td>0</td>\n",
       "      <td>0</td>\n",
       "      <td>0</td>\n",
       "      <td>0</td>\n",
       "      <td>0</td>\n",
       "      <td>0</td>\n",
       "      <td>0</td>\n",
       "      <td>0</td>\n",
       "      <td>0</td>\n",
       "      <td>0</td>\n",
       "      <td>0</td>\n",
       "      <td>0</td>\n",
       "      <td>0</td>\n",
       "      <td>0</td>\n",
       "      <td>0</td>\n",
       "      <td>...</td>\n",
       "      <td>0</td>\n",
       "      <td>0</td>\n",
       "      <td>0</td>\n",
       "      <td>0</td>\n",
       "      <td>0</td>\n",
       "      <td>0</td>\n",
       "      <td>0</td>\n",
       "      <td>0</td>\n",
       "      <td>0</td>\n",
       "      <td>0</td>\n",
       "      <td>0</td>\n",
       "      <td>0</td>\n",
       "      <td>0</td>\n",
       "      <td>0</td>\n",
       "      <td>0</td>\n",
       "      <td>0</td>\n",
       "      <td>0</td>\n",
       "      <td>0</td>\n",
       "      <td>0</td>\n",
       "      <td>0</td>\n",
       "      <td>0</td>\n",
       "      <td>0</td>\n",
       "      <td>0</td>\n",
       "      <td>0</td>\n",
       "      <td>0</td>\n",
       "      <td>0</td>\n",
       "      <td>0</td>\n",
       "      <td>0</td>\n",
       "      <td>0</td>\n",
       "      <td>0</td>\n",
       "      <td>0</td>\n",
       "      <td>0</td>\n",
       "      <td>0</td>\n",
       "      <td>0</td>\n",
       "      <td>0</td>\n",
       "      <td>0</td>\n",
       "      <td>0</td>\n",
       "      <td>0</td>\n",
       "      <td>0</td>\n",
       "      <td>0</td>\n",
       "    </tr>\n",
       "    <tr>\n",
       "      <th>1</th>\n",
       "      <td>0</td>\n",
       "      <td>0</td>\n",
       "      <td>0</td>\n",
       "      <td>0</td>\n",
       "      <td>0</td>\n",
       "      <td>0</td>\n",
       "      <td>0</td>\n",
       "      <td>0</td>\n",
       "      <td>0</td>\n",
       "      <td>0</td>\n",
       "      <td>0</td>\n",
       "      <td>0</td>\n",
       "      <td>0</td>\n",
       "      <td>0</td>\n",
       "      <td>0</td>\n",
       "      <td>0</td>\n",
       "      <td>0</td>\n",
       "      <td>0</td>\n",
       "      <td>0</td>\n",
       "      <td>0</td>\n",
       "      <td>0</td>\n",
       "      <td>0</td>\n",
       "      <td>0</td>\n",
       "      <td>0</td>\n",
       "      <td>0</td>\n",
       "      <td>0</td>\n",
       "      <td>0</td>\n",
       "      <td>0</td>\n",
       "      <td>0</td>\n",
       "      <td>0</td>\n",
       "      <td>0</td>\n",
       "      <td>0</td>\n",
       "      <td>0</td>\n",
       "      <td>0</td>\n",
       "      <td>0</td>\n",
       "      <td>0</td>\n",
       "      <td>0</td>\n",
       "      <td>0</td>\n",
       "      <td>0</td>\n",
       "      <td>0</td>\n",
       "      <td>...</td>\n",
       "      <td>0</td>\n",
       "      <td>0</td>\n",
       "      <td>0</td>\n",
       "      <td>0</td>\n",
       "      <td>0</td>\n",
       "      <td>0</td>\n",
       "      <td>0</td>\n",
       "      <td>0</td>\n",
       "      <td>0</td>\n",
       "      <td>0</td>\n",
       "      <td>0</td>\n",
       "      <td>0</td>\n",
       "      <td>0</td>\n",
       "      <td>0</td>\n",
       "      <td>0</td>\n",
       "      <td>0</td>\n",
       "      <td>0</td>\n",
       "      <td>0</td>\n",
       "      <td>0</td>\n",
       "      <td>0</td>\n",
       "      <td>0</td>\n",
       "      <td>0</td>\n",
       "      <td>0</td>\n",
       "      <td>0</td>\n",
       "      <td>0</td>\n",
       "      <td>0</td>\n",
       "      <td>0</td>\n",
       "      <td>0</td>\n",
       "      <td>0</td>\n",
       "      <td>0</td>\n",
       "      <td>0</td>\n",
       "      <td>0</td>\n",
       "      <td>0</td>\n",
       "      <td>0</td>\n",
       "      <td>0</td>\n",
       "      <td>0</td>\n",
       "      <td>0</td>\n",
       "      <td>0</td>\n",
       "      <td>0</td>\n",
       "      <td>0</td>\n",
       "    </tr>\n",
       "    <tr>\n",
       "      <th>2</th>\n",
       "      <td>4</td>\n",
       "      <td>0</td>\n",
       "      <td>0</td>\n",
       "      <td>0</td>\n",
       "      <td>0</td>\n",
       "      <td>0</td>\n",
       "      <td>0</td>\n",
       "      <td>0</td>\n",
       "      <td>0</td>\n",
       "      <td>0</td>\n",
       "      <td>0</td>\n",
       "      <td>0</td>\n",
       "      <td>0</td>\n",
       "      <td>0</td>\n",
       "      <td>0</td>\n",
       "      <td>0</td>\n",
       "      <td>0</td>\n",
       "      <td>0</td>\n",
       "      <td>0</td>\n",
       "      <td>0</td>\n",
       "      <td>0</td>\n",
       "      <td>0</td>\n",
       "      <td>0</td>\n",
       "      <td>0</td>\n",
       "      <td>0</td>\n",
       "      <td>0</td>\n",
       "      <td>0</td>\n",
       "      <td>0</td>\n",
       "      <td>0</td>\n",
       "      <td>0</td>\n",
       "      <td>0</td>\n",
       "      <td>0</td>\n",
       "      <td>0</td>\n",
       "      <td>0</td>\n",
       "      <td>0</td>\n",
       "      <td>0</td>\n",
       "      <td>0</td>\n",
       "      <td>0</td>\n",
       "      <td>0</td>\n",
       "      <td>0</td>\n",
       "      <td>...</td>\n",
       "      <td>0</td>\n",
       "      <td>0</td>\n",
       "      <td>0</td>\n",
       "      <td>0</td>\n",
       "      <td>0</td>\n",
       "      <td>0</td>\n",
       "      <td>0</td>\n",
       "      <td>0</td>\n",
       "      <td>0</td>\n",
       "      <td>0</td>\n",
       "      <td>0</td>\n",
       "      <td>0</td>\n",
       "      <td>0</td>\n",
       "      <td>0</td>\n",
       "      <td>0</td>\n",
       "      <td>0</td>\n",
       "      <td>0</td>\n",
       "      <td>0</td>\n",
       "      <td>0</td>\n",
       "      <td>0</td>\n",
       "      <td>0</td>\n",
       "      <td>0</td>\n",
       "      <td>0</td>\n",
       "      <td>0</td>\n",
       "      <td>0</td>\n",
       "      <td>0</td>\n",
       "      <td>0</td>\n",
       "      <td>0</td>\n",
       "      <td>0</td>\n",
       "      <td>0</td>\n",
       "      <td>0</td>\n",
       "      <td>0</td>\n",
       "      <td>0</td>\n",
       "      <td>0</td>\n",
       "      <td>0</td>\n",
       "      <td>0</td>\n",
       "      <td>0</td>\n",
       "      <td>0</td>\n",
       "      <td>0</td>\n",
       "      <td>0</td>\n",
       "    </tr>\n",
       "    <tr>\n",
       "      <th>3</th>\n",
       "      <td>1</td>\n",
       "      <td>0</td>\n",
       "      <td>0</td>\n",
       "      <td>0</td>\n",
       "      <td>0</td>\n",
       "      <td>0</td>\n",
       "      <td>0</td>\n",
       "      <td>0</td>\n",
       "      <td>0</td>\n",
       "      <td>0</td>\n",
       "      <td>0</td>\n",
       "      <td>0</td>\n",
       "      <td>0</td>\n",
       "      <td>0</td>\n",
       "      <td>0</td>\n",
       "      <td>0</td>\n",
       "      <td>0</td>\n",
       "      <td>0</td>\n",
       "      <td>0</td>\n",
       "      <td>0</td>\n",
       "      <td>0</td>\n",
       "      <td>0</td>\n",
       "      <td>0</td>\n",
       "      <td>0</td>\n",
       "      <td>0</td>\n",
       "      <td>0</td>\n",
       "      <td>0</td>\n",
       "      <td>0</td>\n",
       "      <td>0</td>\n",
       "      <td>0</td>\n",
       "      <td>0</td>\n",
       "      <td>0</td>\n",
       "      <td>0</td>\n",
       "      <td>0</td>\n",
       "      <td>0</td>\n",
       "      <td>0</td>\n",
       "      <td>0</td>\n",
       "      <td>0</td>\n",
       "      <td>0</td>\n",
       "      <td>0</td>\n",
       "      <td>...</td>\n",
       "      <td>0</td>\n",
       "      <td>0</td>\n",
       "      <td>0</td>\n",
       "      <td>0</td>\n",
       "      <td>0</td>\n",
       "      <td>0</td>\n",
       "      <td>0</td>\n",
       "      <td>0</td>\n",
       "      <td>0</td>\n",
       "      <td>0</td>\n",
       "      <td>0</td>\n",
       "      <td>0</td>\n",
       "      <td>0</td>\n",
       "      <td>0</td>\n",
       "      <td>0</td>\n",
       "      <td>0</td>\n",
       "      <td>0</td>\n",
       "      <td>0</td>\n",
       "      <td>0</td>\n",
       "      <td>0</td>\n",
       "      <td>0</td>\n",
       "      <td>0</td>\n",
       "      <td>0</td>\n",
       "      <td>0</td>\n",
       "      <td>0</td>\n",
       "      <td>0</td>\n",
       "      <td>0</td>\n",
       "      <td>0</td>\n",
       "      <td>0</td>\n",
       "      <td>0</td>\n",
       "      <td>0</td>\n",
       "      <td>0</td>\n",
       "      <td>0</td>\n",
       "      <td>0</td>\n",
       "      <td>0</td>\n",
       "      <td>0</td>\n",
       "      <td>0</td>\n",
       "      <td>0</td>\n",
       "      <td>0</td>\n",
       "      <td>0</td>\n",
       "    </tr>\n",
       "    <tr>\n",
       "      <th>4</th>\n",
       "      <td>9</td>\n",
       "      <td>0</td>\n",
       "      <td>0</td>\n",
       "      <td>0</td>\n",
       "      <td>0</td>\n",
       "      <td>0</td>\n",
       "      <td>0</td>\n",
       "      <td>0</td>\n",
       "      <td>0</td>\n",
       "      <td>0</td>\n",
       "      <td>0</td>\n",
       "      <td>0</td>\n",
       "      <td>0</td>\n",
       "      <td>0</td>\n",
       "      <td>0</td>\n",
       "      <td>0</td>\n",
       "      <td>0</td>\n",
       "      <td>0</td>\n",
       "      <td>0</td>\n",
       "      <td>0</td>\n",
       "      <td>0</td>\n",
       "      <td>0</td>\n",
       "      <td>0</td>\n",
       "      <td>0</td>\n",
       "      <td>0</td>\n",
       "      <td>0</td>\n",
       "      <td>0</td>\n",
       "      <td>0</td>\n",
       "      <td>0</td>\n",
       "      <td>0</td>\n",
       "      <td>0</td>\n",
       "      <td>0</td>\n",
       "      <td>0</td>\n",
       "      <td>0</td>\n",
       "      <td>0</td>\n",
       "      <td>0</td>\n",
       "      <td>0</td>\n",
       "      <td>0</td>\n",
       "      <td>0</td>\n",
       "      <td>0</td>\n",
       "      <td>...</td>\n",
       "      <td>147</td>\n",
       "      <td>252</td>\n",
       "      <td>42</td>\n",
       "      <td>0</td>\n",
       "      <td>0</td>\n",
       "      <td>0</td>\n",
       "      <td>0</td>\n",
       "      <td>0</td>\n",
       "      <td>0</td>\n",
       "      <td>0</td>\n",
       "      <td>0</td>\n",
       "      <td>0</td>\n",
       "      <td>0</td>\n",
       "      <td>0</td>\n",
       "      <td>0</td>\n",
       "      <td>0</td>\n",
       "      <td>0</td>\n",
       "      <td>0</td>\n",
       "      <td>0</td>\n",
       "      <td>0</td>\n",
       "      <td>0</td>\n",
       "      <td>0</td>\n",
       "      <td>0</td>\n",
       "      <td>0</td>\n",
       "      <td>0</td>\n",
       "      <td>0</td>\n",
       "      <td>0</td>\n",
       "      <td>0</td>\n",
       "      <td>0</td>\n",
       "      <td>0</td>\n",
       "      <td>0</td>\n",
       "      <td>0</td>\n",
       "      <td>0</td>\n",
       "      <td>0</td>\n",
       "      <td>0</td>\n",
       "      <td>0</td>\n",
       "      <td>0</td>\n",
       "      <td>0</td>\n",
       "      <td>0</td>\n",
       "      <td>0</td>\n",
       "    </tr>\n",
       "    <tr>\n",
       "      <th>...</th>\n",
       "      <td>...</td>\n",
       "      <td>...</td>\n",
       "      <td>...</td>\n",
       "      <td>...</td>\n",
       "      <td>...</td>\n",
       "      <td>...</td>\n",
       "      <td>...</td>\n",
       "      <td>...</td>\n",
       "      <td>...</td>\n",
       "      <td>...</td>\n",
       "      <td>...</td>\n",
       "      <td>...</td>\n",
       "      <td>...</td>\n",
       "      <td>...</td>\n",
       "      <td>...</td>\n",
       "      <td>...</td>\n",
       "      <td>...</td>\n",
       "      <td>...</td>\n",
       "      <td>...</td>\n",
       "      <td>...</td>\n",
       "      <td>...</td>\n",
       "      <td>...</td>\n",
       "      <td>...</td>\n",
       "      <td>...</td>\n",
       "      <td>...</td>\n",
       "      <td>...</td>\n",
       "      <td>...</td>\n",
       "      <td>...</td>\n",
       "      <td>...</td>\n",
       "      <td>...</td>\n",
       "      <td>...</td>\n",
       "      <td>...</td>\n",
       "      <td>...</td>\n",
       "      <td>...</td>\n",
       "      <td>...</td>\n",
       "      <td>...</td>\n",
       "      <td>...</td>\n",
       "      <td>...</td>\n",
       "      <td>...</td>\n",
       "      <td>...</td>\n",
       "      <td>...</td>\n",
       "      <td>...</td>\n",
       "      <td>...</td>\n",
       "      <td>...</td>\n",
       "      <td>...</td>\n",
       "      <td>...</td>\n",
       "      <td>...</td>\n",
       "      <td>...</td>\n",
       "      <td>...</td>\n",
       "      <td>...</td>\n",
       "      <td>...</td>\n",
       "      <td>...</td>\n",
       "      <td>...</td>\n",
       "      <td>...</td>\n",
       "      <td>...</td>\n",
       "      <td>...</td>\n",
       "      <td>...</td>\n",
       "      <td>...</td>\n",
       "      <td>...</td>\n",
       "      <td>...</td>\n",
       "      <td>...</td>\n",
       "      <td>...</td>\n",
       "      <td>...</td>\n",
       "      <td>...</td>\n",
       "      <td>...</td>\n",
       "      <td>...</td>\n",
       "      <td>...</td>\n",
       "      <td>...</td>\n",
       "      <td>...</td>\n",
       "      <td>...</td>\n",
       "      <td>...</td>\n",
       "      <td>...</td>\n",
       "      <td>...</td>\n",
       "      <td>...</td>\n",
       "      <td>...</td>\n",
       "      <td>...</td>\n",
       "      <td>...</td>\n",
       "      <td>...</td>\n",
       "      <td>...</td>\n",
       "      <td>...</td>\n",
       "      <td>...</td>\n",
       "    </tr>\n",
       "    <tr>\n",
       "      <th>59995</th>\n",
       "      <td>8</td>\n",
       "      <td>0</td>\n",
       "      <td>0</td>\n",
       "      <td>0</td>\n",
       "      <td>0</td>\n",
       "      <td>0</td>\n",
       "      <td>0</td>\n",
       "      <td>0</td>\n",
       "      <td>0</td>\n",
       "      <td>0</td>\n",
       "      <td>0</td>\n",
       "      <td>0</td>\n",
       "      <td>0</td>\n",
       "      <td>0</td>\n",
       "      <td>0</td>\n",
       "      <td>0</td>\n",
       "      <td>0</td>\n",
       "      <td>0</td>\n",
       "      <td>0</td>\n",
       "      <td>0</td>\n",
       "      <td>0</td>\n",
       "      <td>0</td>\n",
       "      <td>0</td>\n",
       "      <td>0</td>\n",
       "      <td>0</td>\n",
       "      <td>0</td>\n",
       "      <td>0</td>\n",
       "      <td>0</td>\n",
       "      <td>0</td>\n",
       "      <td>0</td>\n",
       "      <td>0</td>\n",
       "      <td>0</td>\n",
       "      <td>0</td>\n",
       "      <td>0</td>\n",
       "      <td>0</td>\n",
       "      <td>0</td>\n",
       "      <td>0</td>\n",
       "      <td>0</td>\n",
       "      <td>0</td>\n",
       "      <td>0</td>\n",
       "      <td>...</td>\n",
       "      <td>0</td>\n",
       "      <td>0</td>\n",
       "      <td>0</td>\n",
       "      <td>0</td>\n",
       "      <td>0</td>\n",
       "      <td>0</td>\n",
       "      <td>0</td>\n",
       "      <td>0</td>\n",
       "      <td>0</td>\n",
       "      <td>0</td>\n",
       "      <td>0</td>\n",
       "      <td>0</td>\n",
       "      <td>0</td>\n",
       "      <td>0</td>\n",
       "      <td>0</td>\n",
       "      <td>0</td>\n",
       "      <td>0</td>\n",
       "      <td>0</td>\n",
       "      <td>0</td>\n",
       "      <td>0</td>\n",
       "      <td>0</td>\n",
       "      <td>0</td>\n",
       "      <td>0</td>\n",
       "      <td>0</td>\n",
       "      <td>0</td>\n",
       "      <td>0</td>\n",
       "      <td>0</td>\n",
       "      <td>0</td>\n",
       "      <td>0</td>\n",
       "      <td>0</td>\n",
       "      <td>0</td>\n",
       "      <td>0</td>\n",
       "      <td>0</td>\n",
       "      <td>0</td>\n",
       "      <td>0</td>\n",
       "      <td>0</td>\n",
       "      <td>0</td>\n",
       "      <td>0</td>\n",
       "      <td>0</td>\n",
       "      <td>0</td>\n",
       "    </tr>\n",
       "    <tr>\n",
       "      <th>59996</th>\n",
       "      <td>3</td>\n",
       "      <td>0</td>\n",
       "      <td>0</td>\n",
       "      <td>0</td>\n",
       "      <td>0</td>\n",
       "      <td>0</td>\n",
       "      <td>0</td>\n",
       "      <td>0</td>\n",
       "      <td>0</td>\n",
       "      <td>0</td>\n",
       "      <td>0</td>\n",
       "      <td>0</td>\n",
       "      <td>0</td>\n",
       "      <td>0</td>\n",
       "      <td>0</td>\n",
       "      <td>0</td>\n",
       "      <td>0</td>\n",
       "      <td>0</td>\n",
       "      <td>0</td>\n",
       "      <td>0</td>\n",
       "      <td>0</td>\n",
       "      <td>0</td>\n",
       "      <td>0</td>\n",
       "      <td>0</td>\n",
       "      <td>0</td>\n",
       "      <td>0</td>\n",
       "      <td>0</td>\n",
       "      <td>0</td>\n",
       "      <td>0</td>\n",
       "      <td>0</td>\n",
       "      <td>0</td>\n",
       "      <td>0</td>\n",
       "      <td>0</td>\n",
       "      <td>0</td>\n",
       "      <td>0</td>\n",
       "      <td>0</td>\n",
       "      <td>0</td>\n",
       "      <td>0</td>\n",
       "      <td>0</td>\n",
       "      <td>0</td>\n",
       "      <td>...</td>\n",
       "      <td>0</td>\n",
       "      <td>0</td>\n",
       "      <td>0</td>\n",
       "      <td>0</td>\n",
       "      <td>0</td>\n",
       "      <td>0</td>\n",
       "      <td>0</td>\n",
       "      <td>0</td>\n",
       "      <td>0</td>\n",
       "      <td>0</td>\n",
       "      <td>0</td>\n",
       "      <td>0</td>\n",
       "      <td>0</td>\n",
       "      <td>0</td>\n",
       "      <td>0</td>\n",
       "      <td>0</td>\n",
       "      <td>0</td>\n",
       "      <td>0</td>\n",
       "      <td>0</td>\n",
       "      <td>0</td>\n",
       "      <td>0</td>\n",
       "      <td>0</td>\n",
       "      <td>0</td>\n",
       "      <td>0</td>\n",
       "      <td>0</td>\n",
       "      <td>0</td>\n",
       "      <td>0</td>\n",
       "      <td>0</td>\n",
       "      <td>0</td>\n",
       "      <td>0</td>\n",
       "      <td>0</td>\n",
       "      <td>0</td>\n",
       "      <td>0</td>\n",
       "      <td>0</td>\n",
       "      <td>0</td>\n",
       "      <td>0</td>\n",
       "      <td>0</td>\n",
       "      <td>0</td>\n",
       "      <td>0</td>\n",
       "      <td>0</td>\n",
       "    </tr>\n",
       "    <tr>\n",
       "      <th>59997</th>\n",
       "      <td>5</td>\n",
       "      <td>0</td>\n",
       "      <td>0</td>\n",
       "      <td>0</td>\n",
       "      <td>0</td>\n",
       "      <td>0</td>\n",
       "      <td>0</td>\n",
       "      <td>0</td>\n",
       "      <td>0</td>\n",
       "      <td>0</td>\n",
       "      <td>0</td>\n",
       "      <td>0</td>\n",
       "      <td>0</td>\n",
       "      <td>0</td>\n",
       "      <td>0</td>\n",
       "      <td>0</td>\n",
       "      <td>0</td>\n",
       "      <td>0</td>\n",
       "      <td>0</td>\n",
       "      <td>0</td>\n",
       "      <td>0</td>\n",
       "      <td>0</td>\n",
       "      <td>0</td>\n",
       "      <td>0</td>\n",
       "      <td>0</td>\n",
       "      <td>0</td>\n",
       "      <td>0</td>\n",
       "      <td>0</td>\n",
       "      <td>0</td>\n",
       "      <td>0</td>\n",
       "      <td>0</td>\n",
       "      <td>0</td>\n",
       "      <td>0</td>\n",
       "      <td>0</td>\n",
       "      <td>0</td>\n",
       "      <td>0</td>\n",
       "      <td>0</td>\n",
       "      <td>0</td>\n",
       "      <td>0</td>\n",
       "      <td>0</td>\n",
       "      <td>...</td>\n",
       "      <td>0</td>\n",
       "      <td>0</td>\n",
       "      <td>0</td>\n",
       "      <td>0</td>\n",
       "      <td>0</td>\n",
       "      <td>0</td>\n",
       "      <td>0</td>\n",
       "      <td>0</td>\n",
       "      <td>0</td>\n",
       "      <td>0</td>\n",
       "      <td>0</td>\n",
       "      <td>0</td>\n",
       "      <td>0</td>\n",
       "      <td>0</td>\n",
       "      <td>0</td>\n",
       "      <td>0</td>\n",
       "      <td>0</td>\n",
       "      <td>0</td>\n",
       "      <td>0</td>\n",
       "      <td>0</td>\n",
       "      <td>0</td>\n",
       "      <td>0</td>\n",
       "      <td>0</td>\n",
       "      <td>0</td>\n",
       "      <td>0</td>\n",
       "      <td>0</td>\n",
       "      <td>0</td>\n",
       "      <td>0</td>\n",
       "      <td>0</td>\n",
       "      <td>0</td>\n",
       "      <td>0</td>\n",
       "      <td>0</td>\n",
       "      <td>0</td>\n",
       "      <td>0</td>\n",
       "      <td>0</td>\n",
       "      <td>0</td>\n",
       "      <td>0</td>\n",
       "      <td>0</td>\n",
       "      <td>0</td>\n",
       "      <td>0</td>\n",
       "    </tr>\n",
       "    <tr>\n",
       "      <th>59998</th>\n",
       "      <td>6</td>\n",
       "      <td>0</td>\n",
       "      <td>0</td>\n",
       "      <td>0</td>\n",
       "      <td>0</td>\n",
       "      <td>0</td>\n",
       "      <td>0</td>\n",
       "      <td>0</td>\n",
       "      <td>0</td>\n",
       "      <td>0</td>\n",
       "      <td>0</td>\n",
       "      <td>0</td>\n",
       "      <td>0</td>\n",
       "      <td>0</td>\n",
       "      <td>0</td>\n",
       "      <td>0</td>\n",
       "      <td>0</td>\n",
       "      <td>0</td>\n",
       "      <td>0</td>\n",
       "      <td>0</td>\n",
       "      <td>0</td>\n",
       "      <td>0</td>\n",
       "      <td>0</td>\n",
       "      <td>0</td>\n",
       "      <td>0</td>\n",
       "      <td>0</td>\n",
       "      <td>0</td>\n",
       "      <td>0</td>\n",
       "      <td>0</td>\n",
       "      <td>0</td>\n",
       "      <td>0</td>\n",
       "      <td>0</td>\n",
       "      <td>0</td>\n",
       "      <td>0</td>\n",
       "      <td>0</td>\n",
       "      <td>0</td>\n",
       "      <td>0</td>\n",
       "      <td>0</td>\n",
       "      <td>0</td>\n",
       "      <td>0</td>\n",
       "      <td>...</td>\n",
       "      <td>0</td>\n",
       "      <td>0</td>\n",
       "      <td>0</td>\n",
       "      <td>0</td>\n",
       "      <td>0</td>\n",
       "      <td>0</td>\n",
       "      <td>0</td>\n",
       "      <td>0</td>\n",
       "      <td>0</td>\n",
       "      <td>0</td>\n",
       "      <td>0</td>\n",
       "      <td>0</td>\n",
       "      <td>0</td>\n",
       "      <td>0</td>\n",
       "      <td>0</td>\n",
       "      <td>0</td>\n",
       "      <td>0</td>\n",
       "      <td>0</td>\n",
       "      <td>0</td>\n",
       "      <td>0</td>\n",
       "      <td>0</td>\n",
       "      <td>0</td>\n",
       "      <td>0</td>\n",
       "      <td>0</td>\n",
       "      <td>0</td>\n",
       "      <td>0</td>\n",
       "      <td>0</td>\n",
       "      <td>0</td>\n",
       "      <td>0</td>\n",
       "      <td>0</td>\n",
       "      <td>0</td>\n",
       "      <td>0</td>\n",
       "      <td>0</td>\n",
       "      <td>0</td>\n",
       "      <td>0</td>\n",
       "      <td>0</td>\n",
       "      <td>0</td>\n",
       "      <td>0</td>\n",
       "      <td>0</td>\n",
       "      <td>0</td>\n",
       "    </tr>\n",
       "    <tr>\n",
       "      <th>59999</th>\n",
       "      <td>8</td>\n",
       "      <td>0</td>\n",
       "      <td>0</td>\n",
       "      <td>0</td>\n",
       "      <td>0</td>\n",
       "      <td>0</td>\n",
       "      <td>0</td>\n",
       "      <td>0</td>\n",
       "      <td>0</td>\n",
       "      <td>0</td>\n",
       "      <td>0</td>\n",
       "      <td>0</td>\n",
       "      <td>0</td>\n",
       "      <td>0</td>\n",
       "      <td>0</td>\n",
       "      <td>0</td>\n",
       "      <td>0</td>\n",
       "      <td>0</td>\n",
       "      <td>0</td>\n",
       "      <td>0</td>\n",
       "      <td>0</td>\n",
       "      <td>0</td>\n",
       "      <td>0</td>\n",
       "      <td>0</td>\n",
       "      <td>0</td>\n",
       "      <td>0</td>\n",
       "      <td>0</td>\n",
       "      <td>0</td>\n",
       "      <td>0</td>\n",
       "      <td>0</td>\n",
       "      <td>0</td>\n",
       "      <td>0</td>\n",
       "      <td>0</td>\n",
       "      <td>0</td>\n",
       "      <td>0</td>\n",
       "      <td>0</td>\n",
       "      <td>0</td>\n",
       "      <td>0</td>\n",
       "      <td>0</td>\n",
       "      <td>0</td>\n",
       "      <td>...</td>\n",
       "      <td>0</td>\n",
       "      <td>0</td>\n",
       "      <td>0</td>\n",
       "      <td>0</td>\n",
       "      <td>0</td>\n",
       "      <td>0</td>\n",
       "      <td>0</td>\n",
       "      <td>0</td>\n",
       "      <td>0</td>\n",
       "      <td>0</td>\n",
       "      <td>0</td>\n",
       "      <td>0</td>\n",
       "      <td>0</td>\n",
       "      <td>0</td>\n",
       "      <td>0</td>\n",
       "      <td>0</td>\n",
       "      <td>0</td>\n",
       "      <td>0</td>\n",
       "      <td>0</td>\n",
       "      <td>0</td>\n",
       "      <td>0</td>\n",
       "      <td>0</td>\n",
       "      <td>0</td>\n",
       "      <td>0</td>\n",
       "      <td>0</td>\n",
       "      <td>0</td>\n",
       "      <td>0</td>\n",
       "      <td>0</td>\n",
       "      <td>0</td>\n",
       "      <td>0</td>\n",
       "      <td>0</td>\n",
       "      <td>0</td>\n",
       "      <td>0</td>\n",
       "      <td>0</td>\n",
       "      <td>0</td>\n",
       "      <td>0</td>\n",
       "      <td>0</td>\n",
       "      <td>0</td>\n",
       "      <td>0</td>\n",
       "      <td>0</td>\n",
       "    </tr>\n",
       "  </tbody>\n",
       "</table>\n",
       "<p>60000 rows × 785 columns</p>\n",
       "</div>"
      ],
      "text/plain": [
       "       label  1x1  1x2  1x3  1x4  1x5  ...  28x23  28x24  28x25  28x26  28x27  28x28\n",
       "0          5    0    0    0    0    0  ...      0      0      0      0      0      0\n",
       "1          0    0    0    0    0    0  ...      0      0      0      0      0      0\n",
       "2          4    0    0    0    0    0  ...      0      0      0      0      0      0\n",
       "3          1    0    0    0    0    0  ...      0      0      0      0      0      0\n",
       "4          9    0    0    0    0    0  ...      0      0      0      0      0      0\n",
       "...      ...  ...  ...  ...  ...  ...  ...    ...    ...    ...    ...    ...    ...\n",
       "59995      8    0    0    0    0    0  ...      0      0      0      0      0      0\n",
       "59996      3    0    0    0    0    0  ...      0      0      0      0      0      0\n",
       "59997      5    0    0    0    0    0  ...      0      0      0      0      0      0\n",
       "59998      6    0    0    0    0    0  ...      0      0      0      0      0      0\n",
       "59999      8    0    0    0    0    0  ...      0      0      0      0      0      0\n",
       "\n",
       "[60000 rows x 785 columns]"
      ]
     },
     "execution_count": 274,
     "metadata": {
      "tags": []
     },
     "output_type": "execute_result"
    }
   ],
   "source": [
    "mnist_train"
   ]
  },
  {
   "cell_type": "code",
   "execution_count": null,
   "metadata": {
    "id": "r7cOppoyAjtr"
   },
   "outputs": [],
   "source": [
    "X_train = mnist_train.iloc[:,1:].values\n",
    "Y_train = mnist_train.iloc[:,0].values"
   ]
  },
  {
   "cell_type": "code",
   "execution_count": null,
   "metadata": {
    "colab": {
     "base_uri": "https://localhost:8080/"
    },
    "executionInfo": {
     "elapsed": 8555,
     "status": "ok",
     "timestamp": 1618574231747,
     "user": {
      "displayName": "Sughandhan S",
      "photoUrl": "https://lh3.googleusercontent.com/a-/AOh14GgCzJgz5tDGcNqn108PikDmo9i8xVBqBE7WCrGurg=s64",
      "userId": "16893705064560269479"
     },
     "user_tz": -330
    },
    "id": "DEYmL6tlQofi",
    "outputId": "683f4e43-8d12-4a51-8986-a42a737e997e"
   },
   "outputs": [
    {
     "data": {
      "text/plain": [
       "array([5, 0, 4, ..., 5, 6, 8])"
      ]
     },
     "execution_count": 276,
     "metadata": {
      "tags": []
     },
     "output_type": "execute_result"
    }
   ],
   "source": [
    "Y_train"
   ]
  },
  {
   "cell_type": "code",
   "execution_count": null,
   "metadata": {
    "colab": {
     "base_uri": "https://localhost:8080/"
    },
    "executionInfo": {
     "elapsed": 8541,
     "status": "ok",
     "timestamp": 1618574231748,
     "user": {
      "displayName": "Sughandhan S",
      "photoUrl": "https://lh3.googleusercontent.com/a-/AOh14GgCzJgz5tDGcNqn108PikDmo9i8xVBqBE7WCrGurg=s64",
      "userId": "16893705064560269479"
     },
     "user_tz": -330
    },
    "id": "sn84znhGEOXp",
    "outputId": "153d9adc-f46d-4da2-a347-435754a17a17"
   },
   "outputs": [
    {
     "name": "stdout",
     "output_type": "stream",
     "text": [
      "(60000, 784)\n",
      "[[0 0 0 ... 0 0 0]\n",
      " [0 0 0 ... 0 0 0]\n",
      " [0 0 0 ... 0 0 0]\n",
      " ...\n",
      " [0 0 0 ... 0 0 0]\n",
      " [0 0 0 ... 0 0 0]\n",
      " [0 0 0 ... 0 0 0]]\n"
     ]
    }
   ],
   "source": [
    "print(X_train.shape)\n",
    "print(X_train)"
   ]
  },
  {
   "cell_type": "code",
   "execution_count": null,
   "metadata": {
    "colab": {
     "base_uri": "https://localhost:8080/"
    },
    "executionInfo": {
     "elapsed": 8530,
     "status": "ok",
     "timestamp": 1618574231748,
     "user": {
      "displayName": "Sughandhan S",
      "photoUrl": "https://lh3.googleusercontent.com/a-/AOh14GgCzJgz5tDGcNqn108PikDmo9i8xVBqBE7WCrGurg=s64",
      "userId": "16893705064560269479"
     },
     "user_tz": -330
    },
    "id": "kA1H01CvEQGu",
    "outputId": "619e16b2-d7e3-4d6d-ac8b-71ddccd39f00"
   },
   "outputs": [
    {
     "name": "stdout",
     "output_type": "stream",
     "text": [
      "(60000,)\n",
      "[5 0 4 ... 5 6 8]\n"
     ]
    }
   ],
   "source": [
    "print(Y_train.shape)\n",
    "print(Y_train)"
   ]
  },
  {
   "cell_type": "code",
   "execution_count": null,
   "metadata": {
    "id": "fu3Txu0AIYEG"
   },
   "outputs": [],
   "source": [
    "x_train =[]\n",
    "y_train = []\n",
    "\n",
    "for i in range(len(Y_train)):\n",
    "  #while u>0:\n",
    "    if Y_train[i] == 4:\n",
    "      x_train.append(X_train[i])\n",
    "      y_train.append(1)\n",
    "    elif Y_train[i] == 7:\n",
    "      x_train.append(X_train[i])\n",
    "      y_train.append(-1)\n",
    "    #u-=1"
   ]
  },
  {
   "cell_type": "code",
   "execution_count": null,
   "metadata": {
    "colab": {
     "base_uri": "https://localhost:8080/"
    },
    "executionInfo": {
     "elapsed": 8517,
     "status": "ok",
     "timestamp": 1618574231749,
     "user": {
      "displayName": "Sughandhan S",
      "photoUrl": "https://lh3.googleusercontent.com/a-/AOh14GgCzJgz5tDGcNqn108PikDmo9i8xVBqBE7WCrGurg=s64",
      "userId": "16893705064560269479"
     },
     "user_tz": -330
    },
    "id": "FteAui4AKCyF",
    "outputId": "fc11ab63-8001-49b3-9325-3858f881331e"
   },
   "outputs": [
    {
     "data": {
      "text/plain": [
       "array([[0, 0, 0, ..., 0, 0, 0],\n",
       "       [0, 0, 0, ..., 0, 0, 0],\n",
       "       [0, 0, 0, ..., 0, 0, 0],\n",
       "       ...,\n",
       "       [0, 0, 0, ..., 0, 0, 0],\n",
       "       [0, 0, 0, ..., 0, 0, 0],\n",
       "       [0, 0, 0, ..., 0, 0, 0]])"
      ]
     },
     "execution_count": 280,
     "metadata": {
      "tags": []
     },
     "output_type": "execute_result"
    }
   ],
   "source": [
    "x_train = np.array(x_train)\n",
    "x_train"
   ]
  },
  {
   "cell_type": "code",
   "execution_count": null,
   "metadata": {
    "colab": {
     "base_uri": "https://localhost:8080/"
    },
    "executionInfo": {
     "elapsed": 8509,
     "status": "ok",
     "timestamp": 1618574231750,
     "user": {
      "displayName": "Sughandhan S",
      "photoUrl": "https://lh3.googleusercontent.com/a-/AOh14GgCzJgz5tDGcNqn108PikDmo9i8xVBqBE7WCrGurg=s64",
      "userId": "16893705064560269479"
     },
     "user_tz": -330
    },
    "id": "Ts2lxFtwOFc_",
    "outputId": "0635d9ac-d658-46ff-ada4-6ecd351f5966"
   },
   "outputs": [
    {
     "data": {
      "text/plain": [
       "array([ 1,  1, -1, ...,  1, -1, -1])"
      ]
     },
     "execution_count": 281,
     "metadata": {
      "tags": []
     },
     "output_type": "execute_result"
    }
   ],
   "source": [
    "y_train = np.array(y_train)\n",
    "y_train"
   ]
  },
  {
   "cell_type": "code",
   "execution_count": null,
   "metadata": {
    "colab": {
     "base_uri": "https://localhost:8080/"
    },
    "executionInfo": {
     "elapsed": 8501,
     "status": "ok",
     "timestamp": 1618574231751,
     "user": {
      "displayName": "Sughandhan S",
      "photoUrl": "https://lh3.googleusercontent.com/a-/AOh14GgCzJgz5tDGcNqn108PikDmo9i8xVBqBE7WCrGurg=s64",
      "userId": "16893705064560269479"
     },
     "user_tz": -330
    },
    "id": "wu9v9HxEMBhC",
    "outputId": "796ad999-df0d-4ac0-d238-a51d86a8d298"
   },
   "outputs": [
    {
     "data": {
      "text/plain": [
       "(784,)"
      ]
     },
     "execution_count": 282,
     "metadata": {
      "tags": []
     },
     "output_type": "execute_result"
    }
   ],
   "source": [
    "x_train[0].shape"
   ]
  },
  {
   "cell_type": "code",
   "execution_count": null,
   "metadata": {
    "colab": {
     "base_uri": "https://localhost:8080/"
    },
    "executionInfo": {
     "elapsed": 8491,
     "status": "ok",
     "timestamp": 1618574231752,
     "user": {
      "displayName": "Sughandhan S",
      "photoUrl": "https://lh3.googleusercontent.com/a-/AOh14GgCzJgz5tDGcNqn108PikDmo9i8xVBqBE7WCrGurg=s64",
      "userId": "16893705064560269479"
     },
     "user_tz": -330
    },
    "id": "w81ko3JiL_sA",
    "outputId": "96ac0471-92d1-43d4-ae30-54cde1c720bc"
   },
   "outputs": [
    {
     "data": {
      "text/plain": [
       "array([-0.99584485, -0.75653521,  0.00825239])"
      ]
     },
     "execution_count": 283,
     "metadata": {
      "tags": []
     },
     "output_type": "execute_result"
    }
   ],
   "source": [
    "np.random.uniform(-1,1, 3)"
   ]
  },
  {
   "cell_type": "code",
   "execution_count": null,
   "metadata": {
    "colab": {
     "base_uri": "https://localhost:8080/"
    },
    "executionInfo": {
     "elapsed": 8484,
     "status": "ok",
     "timestamp": 1618574231753,
     "user": {
      "displayName": "Sughandhan S",
      "photoUrl": "https://lh3.googleusercontent.com/a-/AOh14GgCzJgz5tDGcNqn108PikDmo9i8xVBqBE7WCrGurg=s64",
      "userId": "16893705064560269479"
     },
     "user_tz": -330
    },
    "id": "NYaQQ34iSebb",
    "outputId": "c054abe2-1a96-41bd-af3d-e61e79ac53db"
   },
   "outputs": [
    {
     "data": {
      "text/plain": [
       "(12107,)"
      ]
     },
     "execution_count": 284,
     "metadata": {
      "tags": []
     },
     "output_type": "execute_result"
    }
   ],
   "source": [
    "x_train[:, 0].shape"
   ]
  },
  {
   "cell_type": "code",
   "execution_count": null,
   "metadata": {
    "colab": {
     "base_uri": "https://localhost:8080/"
    },
    "executionInfo": {
     "elapsed": 8476,
     "status": "ok",
     "timestamp": 1618574231753,
     "user": {
      "displayName": "Sughandhan S",
      "photoUrl": "https://lh3.googleusercontent.com/a-/AOh14GgCzJgz5tDGcNqn108PikDmo9i8xVBqBE7WCrGurg=s64",
      "userId": "16893705064560269479"
     },
     "user_tz": -330
    },
    "id": "S7LabbjGMnXk",
    "outputId": "5eeb140a-99b8-4a64-c948-00ba94427d7a"
   },
   "outputs": [
    {
     "data": {
      "text/plain": [
       "(12107, 784)"
      ]
     },
     "execution_count": 285,
     "metadata": {
      "tags": []
     },
     "output_type": "execute_result"
    }
   ],
   "source": [
    "x_train.shape"
   ]
  },
  {
   "cell_type": "code",
   "execution_count": null,
   "metadata": {
    "id": "R_1Eygnm5L_-"
   },
   "outputs": [],
   "source": [
    "def number_plot(num):\n",
    "    image = num.reshape(28,28)\n",
    "    plt.imshow(image, cmap = matplotlib.cm.binary, interpolation = \"nearest\")\n",
    "    plt.show()"
   ]
  },
  {
   "cell_type": "code",
   "execution_count": null,
   "metadata": {
    "colab": {
     "base_uri": "https://localhost:8080/",
     "height": 513
    },
    "executionInfo": {
     "elapsed": 10797,
     "status": "ok",
     "timestamp": 1618574234188,
     "user": {
      "displayName": "Sughandhan S",
      "photoUrl": "https://lh3.googleusercontent.com/a-/AOh14GgCzJgz5tDGcNqn108PikDmo9i8xVBqBE7WCrGurg=s64",
      "userId": "16893705064560269479"
     },
     "user_tz": -330
    },
    "id": "3VX2r1WS6CWp",
    "outputId": "b85d3cd3-b497-4d0d-c9b7-bba70e4aec34"
   },
   "outputs": [
    {
     "data": {
      "image/png": "[encoded data removed]",
      "text/plain": [
       "<Figure size 432x288 with 1 Axes>"
      ]
     },
     "metadata": {
      "needs_background": "light",
      "tags": []
     },
     "output_type": "display_data"
    },
    {
     "data": {
      "image/png": "[encoded data removed]",
      "text/plain": [
       "<Figure size 432x288 with 1 Axes>"
      ]
     },
     "metadata": {
      "needs_background": "light",
      "tags": []
     },
     "output_type": "display_data"
    }
   ],
   "source": [
    "number_plot(X_train[28])\n",
    "number_plot(x_train[29])"
   ]
  },
  {
   "cell_type": "markdown",
   "metadata": {
    "id": "PAx29Ik_WSw4"
   },
   "source": [
    "#Test Data"
   ]
  },
  {
   "cell_type": "code",
   "execution_count": null,
   "metadata": {
    "colab": {
     "base_uri": "https://localhost:8080/",
     "height": 437
    },
    "executionInfo": {
     "elapsed": 10456,
     "status": "ok",
     "timestamp": 1618574234190,
     "user": {
      "displayName": "Sughandhan S",
      "photoUrl": "https://lh3.googleusercontent.com/a-/AOh14GgCzJgz5tDGcNqn108PikDmo9i8xVBqBE7WCrGurg=s64",
      "userId": "16893705064560269479"
     },
     "user_tz": -330
    },
    "id": "6PlifsJjWeVm",
    "outputId": "d1d1f117-d311-488f-c56f-563c92f6f4de"
   },
   "outputs": [
    {
     "data": {
      "text/html": [
       "<div>\n",
       "<style scoped>\n",
       "    .dataframe tbody tr th:only-of-type {\n",
       "        vertical-align: middle;\n",
       "    }\n",
       "\n",
       "    .dataframe tbody tr th {\n",
       "        vertical-align: top;\n",
       "    }\n",
       "\n",
       "    .dataframe thead th {\n",
       "        text-align: right;\n",
       "    }\n",
       "</style>\n",
       "<table border=\"1\" class=\"dataframe\">\n",
       "  <thead>\n",
       "    <tr style=\"text-align: right;\">\n",
       "      <th></th>\n",
       "      <th>label</th>\n",
       "      <th>1x1</th>\n",
       "      <th>1x2</th>\n",
       "      <th>1x3</th>\n",
       "      <th>1x4</th>\n",
       "      <th>1x5</th>\n",
       "      <th>1x6</th>\n",
       "      <th>1x7</th>\n",
       "      <th>1x8</th>\n",
       "      <th>1x9</th>\n",
       "      <th>1x10</th>\n",
       "      <th>1x11</th>\n",
       "      <th>1x12</th>\n",
       "      <th>1x13</th>\n",
       "      <th>1x14</th>\n",
       "      <th>1x15</th>\n",
       "      <th>1x16</th>\n",
       "      <th>1x17</th>\n",
       "      <th>1x18</th>\n",
       "      <th>1x19</th>\n",
       "      <th>1x20</th>\n",
       "      <th>1x21</th>\n",
       "      <th>1x22</th>\n",
       "      <th>1x23</th>\n",
       "      <th>1x24</th>\n",
       "      <th>1x25</th>\n",
       "      <th>1x26</th>\n",
       "      <th>1x27</th>\n",
       "      <th>1x28</th>\n",
       "      <th>2x1</th>\n",
       "      <th>2x2</th>\n",
       "      <th>2x3</th>\n",
       "      <th>2x4</th>\n",
       "      <th>2x5</th>\n",
       "      <th>2x6</th>\n",
       "      <th>2x7</th>\n",
       "      <th>2x8</th>\n",
       "      <th>2x9</th>\n",
       "      <th>2x10</th>\n",
       "      <th>2x11</th>\n",
       "      <th>...</th>\n",
       "      <th>27x17</th>\n",
       "      <th>27x18</th>\n",
       "      <th>27x19</th>\n",
       "      <th>27x20</th>\n",
       "      <th>27x21</th>\n",
       "      <th>27x22</th>\n",
       "      <th>27x23</th>\n",
       "      <th>27x24</th>\n",
       "      <th>27x25</th>\n",
       "      <th>27x26</th>\n",
       "      <th>27x27</th>\n",
       "      <th>27x28</th>\n",
       "      <th>28x1</th>\n",
       "      <th>28x2</th>\n",
       "      <th>28x3</th>\n",
       "      <th>28x4</th>\n",
       "      <th>28x5</th>\n",
       "      <th>28x6</th>\n",
       "      <th>28x7</th>\n",
       "      <th>28x8</th>\n",
       "      <th>28x9</th>\n",
       "      <th>28x10</th>\n",
       "      <th>28x11</th>\n",
       "      <th>28x12</th>\n",
       "      <th>28x13</th>\n",
       "      <th>28x14</th>\n",
       "      <th>28x15</th>\n",
       "      <th>28x16</th>\n",
       "      <th>28x17</th>\n",
       "      <th>28x18</th>\n",
       "      <th>28x19</th>\n",
       "      <th>28x20</th>\n",
       "      <th>28x21</th>\n",
       "      <th>28x22</th>\n",
       "      <th>28x23</th>\n",
       "      <th>28x24</th>\n",
       "      <th>28x25</th>\n",
       "      <th>28x26</th>\n",
       "      <th>28x27</th>\n",
       "      <th>28x28</th>\n",
       "    </tr>\n",
       "  </thead>\n",
       "  <tbody>\n",
       "    <tr>\n",
       "      <th>0</th>\n",
       "      <td>7</td>\n",
       "      <td>0</td>\n",
       "      <td>0</td>\n",
       "      <td>0</td>\n",
       "      <td>0</td>\n",
       "      <td>0</td>\n",
       "      <td>0</td>\n",
       "      <td>0</td>\n",
       "      <td>0</td>\n",
       "      <td>0</td>\n",
       "      <td>0</td>\n",
       "      <td>0</td>\n",
       "      <td>0</td>\n",
       "      <td>0</td>\n",
       "      <td>0</td>\n",
       "      <td>0</td>\n",
       "      <td>0</td>\n",
       "      <td>0</td>\n",
       "      <td>0</td>\n",
       "      <td>0</td>\n",
       "      <td>0</td>\n",
       "      <td>0</td>\n",
       "      <td>0</td>\n",
       "      <td>0</td>\n",
       "      <td>0</td>\n",
       "      <td>0</td>\n",
       "      <td>0</td>\n",
       "      <td>0</td>\n",
       "      <td>0</td>\n",
       "      <td>0</td>\n",
       "      <td>0</td>\n",
       "      <td>0</td>\n",
       "      <td>0</td>\n",
       "      <td>0</td>\n",
       "      <td>0</td>\n",
       "      <td>0</td>\n",
       "      <td>0</td>\n",
       "      <td>0</td>\n",
       "      <td>0</td>\n",
       "      <td>0</td>\n",
       "      <td>...</td>\n",
       "      <td>0</td>\n",
       "      <td>0</td>\n",
       "      <td>0</td>\n",
       "      <td>0</td>\n",
       "      <td>0</td>\n",
       "      <td>0</td>\n",
       "      <td>0</td>\n",
       "      <td>0</td>\n",
       "      <td>0</td>\n",
       "      <td>0</td>\n",
       "      <td>0</td>\n",
       "      <td>0</td>\n",
       "      <td>0</td>\n",
       "      <td>0</td>\n",
       "      <td>0</td>\n",
       "      <td>0</td>\n",
       "      <td>0</td>\n",
       "      <td>0</td>\n",
       "      <td>0</td>\n",
       "      <td>0</td>\n",
       "      <td>0</td>\n",
       "      <td>0</td>\n",
       "      <td>0</td>\n",
       "      <td>0</td>\n",
       "      <td>0</td>\n",
       "      <td>0</td>\n",
       "      <td>0</td>\n",
       "      <td>0</td>\n",
       "      <td>0</td>\n",
       "      <td>0</td>\n",
       "      <td>0</td>\n",
       "      <td>0</td>\n",
       "      <td>0</td>\n",
       "      <td>0</td>\n",
       "      <td>0</td>\n",
       "      <td>0</td>\n",
       "      <td>0</td>\n",
       "      <td>0</td>\n",
       "      <td>0</td>\n",
       "      <td>0</td>\n",
       "    </tr>\n",
       "    <tr>\n",
       "      <th>1</th>\n",
       "      <td>2</td>\n",
       "      <td>0</td>\n",
       "      <td>0</td>\n",
       "      <td>0</td>\n",
       "      <td>0</td>\n",
       "      <td>0</td>\n",
       "      <td>0</td>\n",
       "      <td>0</td>\n",
       "      <td>0</td>\n",
       "      <td>0</td>\n",
       "      <td>0</td>\n",
       "      <td>0</td>\n",
       "      <td>0</td>\n",
       "      <td>0</td>\n",
       "      <td>0</td>\n",
       "      <td>0</td>\n",
       "      <td>0</td>\n",
       "      <td>0</td>\n",
       "      <td>0</td>\n",
       "      <td>0</td>\n",
       "      <td>0</td>\n",
       "      <td>0</td>\n",
       "      <td>0</td>\n",
       "      <td>0</td>\n",
       "      <td>0</td>\n",
       "      <td>0</td>\n",
       "      <td>0</td>\n",
       "      <td>0</td>\n",
       "      <td>0</td>\n",
       "      <td>0</td>\n",
       "      <td>0</td>\n",
       "      <td>0</td>\n",
       "      <td>0</td>\n",
       "      <td>0</td>\n",
       "      <td>0</td>\n",
       "      <td>0</td>\n",
       "      <td>0</td>\n",
       "      <td>0</td>\n",
       "      <td>0</td>\n",
       "      <td>0</td>\n",
       "      <td>...</td>\n",
       "      <td>0</td>\n",
       "      <td>0</td>\n",
       "      <td>0</td>\n",
       "      <td>0</td>\n",
       "      <td>0</td>\n",
       "      <td>0</td>\n",
       "      <td>0</td>\n",
       "      <td>0</td>\n",
       "      <td>0</td>\n",
       "      <td>0</td>\n",
       "      <td>0</td>\n",
       "      <td>0</td>\n",
       "      <td>0</td>\n",
       "      <td>0</td>\n",
       "      <td>0</td>\n",
       "      <td>0</td>\n",
       "      <td>0</td>\n",
       "      <td>0</td>\n",
       "      <td>0</td>\n",
       "      <td>0</td>\n",
       "      <td>0</td>\n",
       "      <td>0</td>\n",
       "      <td>0</td>\n",
       "      <td>0</td>\n",
       "      <td>0</td>\n",
       "      <td>0</td>\n",
       "      <td>0</td>\n",
       "      <td>0</td>\n",
       "      <td>0</td>\n",
       "      <td>0</td>\n",
       "      <td>0</td>\n",
       "      <td>0</td>\n",
       "      <td>0</td>\n",
       "      <td>0</td>\n",
       "      <td>0</td>\n",
       "      <td>0</td>\n",
       "      <td>0</td>\n",
       "      <td>0</td>\n",
       "      <td>0</td>\n",
       "      <td>0</td>\n",
       "    </tr>\n",
       "    <tr>\n",
       "      <th>2</th>\n",
       "      <td>1</td>\n",
       "      <td>0</td>\n",
       "      <td>0</td>\n",
       "      <td>0</td>\n",
       "      <td>0</td>\n",
       "      <td>0</td>\n",
       "      <td>0</td>\n",
       "      <td>0</td>\n",
       "      <td>0</td>\n",
       "      <td>0</td>\n",
       "      <td>0</td>\n",
       "      <td>0</td>\n",
       "      <td>0</td>\n",
       "      <td>0</td>\n",
       "      <td>0</td>\n",
       "      <td>0</td>\n",
       "      <td>0</td>\n",
       "      <td>0</td>\n",
       "      <td>0</td>\n",
       "      <td>0</td>\n",
       "      <td>0</td>\n",
       "      <td>0</td>\n",
       "      <td>0</td>\n",
       "      <td>0</td>\n",
       "      <td>0</td>\n",
       "      <td>0</td>\n",
       "      <td>0</td>\n",
       "      <td>0</td>\n",
       "      <td>0</td>\n",
       "      <td>0</td>\n",
       "      <td>0</td>\n",
       "      <td>0</td>\n",
       "      <td>0</td>\n",
       "      <td>0</td>\n",
       "      <td>0</td>\n",
       "      <td>0</td>\n",
       "      <td>0</td>\n",
       "      <td>0</td>\n",
       "      <td>0</td>\n",
       "      <td>0</td>\n",
       "      <td>...</td>\n",
       "      <td>0</td>\n",
       "      <td>0</td>\n",
       "      <td>0</td>\n",
       "      <td>0</td>\n",
       "      <td>0</td>\n",
       "      <td>0</td>\n",
       "      <td>0</td>\n",
       "      <td>0</td>\n",
       "      <td>0</td>\n",
       "      <td>0</td>\n",
       "      <td>0</td>\n",
       "      <td>0</td>\n",
       "      <td>0</td>\n",
       "      <td>0</td>\n",
       "      <td>0</td>\n",
       "      <td>0</td>\n",
       "      <td>0</td>\n",
       "      <td>0</td>\n",
       "      <td>0</td>\n",
       "      <td>0</td>\n",
       "      <td>0</td>\n",
       "      <td>0</td>\n",
       "      <td>0</td>\n",
       "      <td>0</td>\n",
       "      <td>0</td>\n",
       "      <td>0</td>\n",
       "      <td>0</td>\n",
       "      <td>0</td>\n",
       "      <td>0</td>\n",
       "      <td>0</td>\n",
       "      <td>0</td>\n",
       "      <td>0</td>\n",
       "      <td>0</td>\n",
       "      <td>0</td>\n",
       "      <td>0</td>\n",
       "      <td>0</td>\n",
       "      <td>0</td>\n",
       "      <td>0</td>\n",
       "      <td>0</td>\n",
       "      <td>0</td>\n",
       "    </tr>\n",
       "    <tr>\n",
       "      <th>3</th>\n",
       "      <td>0</td>\n",
       "      <td>0</td>\n",
       "      <td>0</td>\n",
       "      <td>0</td>\n",
       "      <td>0</td>\n",
       "      <td>0</td>\n",
       "      <td>0</td>\n",
       "      <td>0</td>\n",
       "      <td>0</td>\n",
       "      <td>0</td>\n",
       "      <td>0</td>\n",
       "      <td>0</td>\n",
       "      <td>0</td>\n",
       "      <td>0</td>\n",
       "      <td>0</td>\n",
       "      <td>0</td>\n",
       "      <td>0</td>\n",
       "      <td>0</td>\n",
       "      <td>0</td>\n",
       "      <td>0</td>\n",
       "      <td>0</td>\n",
       "      <td>0</td>\n",
       "      <td>0</td>\n",
       "      <td>0</td>\n",
       "      <td>0</td>\n",
       "      <td>0</td>\n",
       "      <td>0</td>\n",
       "      <td>0</td>\n",
       "      <td>0</td>\n",
       "      <td>0</td>\n",
       "      <td>0</td>\n",
       "      <td>0</td>\n",
       "      <td>0</td>\n",
       "      <td>0</td>\n",
       "      <td>0</td>\n",
       "      <td>0</td>\n",
       "      <td>0</td>\n",
       "      <td>0</td>\n",
       "      <td>0</td>\n",
       "      <td>0</td>\n",
       "      <td>...</td>\n",
       "      <td>0</td>\n",
       "      <td>0</td>\n",
       "      <td>0</td>\n",
       "      <td>0</td>\n",
       "      <td>0</td>\n",
       "      <td>0</td>\n",
       "      <td>0</td>\n",
       "      <td>0</td>\n",
       "      <td>0</td>\n",
       "      <td>0</td>\n",
       "      <td>0</td>\n",
       "      <td>0</td>\n",
       "      <td>0</td>\n",
       "      <td>0</td>\n",
       "      <td>0</td>\n",
       "      <td>0</td>\n",
       "      <td>0</td>\n",
       "      <td>0</td>\n",
       "      <td>0</td>\n",
       "      <td>0</td>\n",
       "      <td>0</td>\n",
       "      <td>0</td>\n",
       "      <td>0</td>\n",
       "      <td>0</td>\n",
       "      <td>0</td>\n",
       "      <td>0</td>\n",
       "      <td>0</td>\n",
       "      <td>0</td>\n",
       "      <td>0</td>\n",
       "      <td>0</td>\n",
       "      <td>0</td>\n",
       "      <td>0</td>\n",
       "      <td>0</td>\n",
       "      <td>0</td>\n",
       "      <td>0</td>\n",
       "      <td>0</td>\n",
       "      <td>0</td>\n",
       "      <td>0</td>\n",
       "      <td>0</td>\n",
       "      <td>0</td>\n",
       "    </tr>\n",
       "    <tr>\n",
       "      <th>4</th>\n",
       "      <td>4</td>\n",
       "      <td>0</td>\n",
       "      <td>0</td>\n",
       "      <td>0</td>\n",
       "      <td>0</td>\n",
       "      <td>0</td>\n",
       "      <td>0</td>\n",
       "      <td>0</td>\n",
       "      <td>0</td>\n",
       "      <td>0</td>\n",
       "      <td>0</td>\n",
       "      <td>0</td>\n",
       "      <td>0</td>\n",
       "      <td>0</td>\n",
       "      <td>0</td>\n",
       "      <td>0</td>\n",
       "      <td>0</td>\n",
       "      <td>0</td>\n",
       "      <td>0</td>\n",
       "      <td>0</td>\n",
       "      <td>0</td>\n",
       "      <td>0</td>\n",
       "      <td>0</td>\n",
       "      <td>0</td>\n",
       "      <td>0</td>\n",
       "      <td>0</td>\n",
       "      <td>0</td>\n",
       "      <td>0</td>\n",
       "      <td>0</td>\n",
       "      <td>0</td>\n",
       "      <td>0</td>\n",
       "      <td>0</td>\n",
       "      <td>0</td>\n",
       "      <td>0</td>\n",
       "      <td>0</td>\n",
       "      <td>0</td>\n",
       "      <td>0</td>\n",
       "      <td>0</td>\n",
       "      <td>0</td>\n",
       "      <td>0</td>\n",
       "      <td>...</td>\n",
       "      <td>0</td>\n",
       "      <td>0</td>\n",
       "      <td>0</td>\n",
       "      <td>0</td>\n",
       "      <td>0</td>\n",
       "      <td>0</td>\n",
       "      <td>0</td>\n",
       "      <td>0</td>\n",
       "      <td>0</td>\n",
       "      <td>0</td>\n",
       "      <td>0</td>\n",
       "      <td>0</td>\n",
       "      <td>0</td>\n",
       "      <td>0</td>\n",
       "      <td>0</td>\n",
       "      <td>0</td>\n",
       "      <td>0</td>\n",
       "      <td>0</td>\n",
       "      <td>0</td>\n",
       "      <td>0</td>\n",
       "      <td>0</td>\n",
       "      <td>0</td>\n",
       "      <td>0</td>\n",
       "      <td>0</td>\n",
       "      <td>0</td>\n",
       "      <td>0</td>\n",
       "      <td>0</td>\n",
       "      <td>0</td>\n",
       "      <td>0</td>\n",
       "      <td>0</td>\n",
       "      <td>0</td>\n",
       "      <td>0</td>\n",
       "      <td>0</td>\n",
       "      <td>0</td>\n",
       "      <td>0</td>\n",
       "      <td>0</td>\n",
       "      <td>0</td>\n",
       "      <td>0</td>\n",
       "      <td>0</td>\n",
       "      <td>0</td>\n",
       "    </tr>\n",
       "    <tr>\n",
       "      <th>...</th>\n",
       "      <td>...</td>\n",
       "      <td>...</td>\n",
       "      <td>...</td>\n",
       "      <td>...</td>\n",
       "      <td>...</td>\n",
       "      <td>...</td>\n",
       "      <td>...</td>\n",
       "      <td>...</td>\n",
       "      <td>...</td>\n",
       "      <td>...</td>\n",
       "      <td>...</td>\n",
       "      <td>...</td>\n",
       "      <td>...</td>\n",
       "      <td>...</td>\n",
       "      <td>...</td>\n",
       "      <td>...</td>\n",
       "      <td>...</td>\n",
       "      <td>...</td>\n",
       "      <td>...</td>\n",
       "      <td>...</td>\n",
       "      <td>...</td>\n",
       "      <td>...</td>\n",
       "      <td>...</td>\n",
       "      <td>...</td>\n",
       "      <td>...</td>\n",
       "      <td>...</td>\n",
       "      <td>...</td>\n",
       "      <td>...</td>\n",
       "      <td>...</td>\n",
       "      <td>...</td>\n",
       "      <td>...</td>\n",
       "      <td>...</td>\n",
       "      <td>...</td>\n",
       "      <td>...</td>\n",
       "      <td>...</td>\n",
       "      <td>...</td>\n",
       "      <td>...</td>\n",
       "      <td>...</td>\n",
       "      <td>...</td>\n",
       "      <td>...</td>\n",
       "      <td>...</td>\n",
       "      <td>...</td>\n",
       "      <td>...</td>\n",
       "      <td>...</td>\n",
       "      <td>...</td>\n",
       "      <td>...</td>\n",
       "      <td>...</td>\n",
       "      <td>...</td>\n",
       "      <td>...</td>\n",
       "      <td>...</td>\n",
       "      <td>...</td>\n",
       "      <td>...</td>\n",
       "      <td>...</td>\n",
       "      <td>...</td>\n",
       "      <td>...</td>\n",
       "      <td>...</td>\n",
       "      <td>...</td>\n",
       "      <td>...</td>\n",
       "      <td>...</td>\n",
       "      <td>...</td>\n",
       "      <td>...</td>\n",
       "      <td>...</td>\n",
       "      <td>...</td>\n",
       "      <td>...</td>\n",
       "      <td>...</td>\n",
       "      <td>...</td>\n",
       "      <td>...</td>\n",
       "      <td>...</td>\n",
       "      <td>...</td>\n",
       "      <td>...</td>\n",
       "      <td>...</td>\n",
       "      <td>...</td>\n",
       "      <td>...</td>\n",
       "      <td>...</td>\n",
       "      <td>...</td>\n",
       "      <td>...</td>\n",
       "      <td>...</td>\n",
       "      <td>...</td>\n",
       "      <td>...</td>\n",
       "      <td>...</td>\n",
       "      <td>...</td>\n",
       "    </tr>\n",
       "    <tr>\n",
       "      <th>9995</th>\n",
       "      <td>2</td>\n",
       "      <td>0</td>\n",
       "      <td>0</td>\n",
       "      <td>0</td>\n",
       "      <td>0</td>\n",
       "      <td>0</td>\n",
       "      <td>0</td>\n",
       "      <td>0</td>\n",
       "      <td>0</td>\n",
       "      <td>0</td>\n",
       "      <td>0</td>\n",
       "      <td>0</td>\n",
       "      <td>0</td>\n",
       "      <td>0</td>\n",
       "      <td>0</td>\n",
       "      <td>0</td>\n",
       "      <td>0</td>\n",
       "      <td>0</td>\n",
       "      <td>0</td>\n",
       "      <td>0</td>\n",
       "      <td>0</td>\n",
       "      <td>0</td>\n",
       "      <td>0</td>\n",
       "      <td>0</td>\n",
       "      <td>0</td>\n",
       "      <td>0</td>\n",
       "      <td>0</td>\n",
       "      <td>0</td>\n",
       "      <td>0</td>\n",
       "      <td>0</td>\n",
       "      <td>0</td>\n",
       "      <td>0</td>\n",
       "      <td>0</td>\n",
       "      <td>0</td>\n",
       "      <td>0</td>\n",
       "      <td>0</td>\n",
       "      <td>0</td>\n",
       "      <td>0</td>\n",
       "      <td>0</td>\n",
       "      <td>0</td>\n",
       "      <td>...</td>\n",
       "      <td>0</td>\n",
       "      <td>0</td>\n",
       "      <td>0</td>\n",
       "      <td>0</td>\n",
       "      <td>0</td>\n",
       "      <td>0</td>\n",
       "      <td>0</td>\n",
       "      <td>0</td>\n",
       "      <td>0</td>\n",
       "      <td>0</td>\n",
       "      <td>0</td>\n",
       "      <td>0</td>\n",
       "      <td>0</td>\n",
       "      <td>0</td>\n",
       "      <td>0</td>\n",
       "      <td>0</td>\n",
       "      <td>0</td>\n",
       "      <td>0</td>\n",
       "      <td>0</td>\n",
       "      <td>0</td>\n",
       "      <td>0</td>\n",
       "      <td>0</td>\n",
       "      <td>0</td>\n",
       "      <td>0</td>\n",
       "      <td>0</td>\n",
       "      <td>0</td>\n",
       "      <td>0</td>\n",
       "      <td>0</td>\n",
       "      <td>0</td>\n",
       "      <td>0</td>\n",
       "      <td>0</td>\n",
       "      <td>0</td>\n",
       "      <td>0</td>\n",
       "      <td>0</td>\n",
       "      <td>0</td>\n",
       "      <td>0</td>\n",
       "      <td>0</td>\n",
       "      <td>0</td>\n",
       "      <td>0</td>\n",
       "      <td>0</td>\n",
       "    </tr>\n",
       "    <tr>\n",
       "      <th>9996</th>\n",
       "      <td>3</td>\n",
       "      <td>0</td>\n",
       "      <td>0</td>\n",
       "      <td>0</td>\n",
       "      <td>0</td>\n",
       "      <td>0</td>\n",
       "      <td>0</td>\n",
       "      <td>0</td>\n",
       "      <td>0</td>\n",
       "      <td>0</td>\n",
       "      <td>0</td>\n",
       "      <td>0</td>\n",
       "      <td>0</td>\n",
       "      <td>0</td>\n",
       "      <td>0</td>\n",
       "      <td>0</td>\n",
       "      <td>0</td>\n",
       "      <td>0</td>\n",
       "      <td>0</td>\n",
       "      <td>0</td>\n",
       "      <td>0</td>\n",
       "      <td>0</td>\n",
       "      <td>0</td>\n",
       "      <td>0</td>\n",
       "      <td>0</td>\n",
       "      <td>0</td>\n",
       "      <td>0</td>\n",
       "      <td>0</td>\n",
       "      <td>0</td>\n",
       "      <td>0</td>\n",
       "      <td>0</td>\n",
       "      <td>0</td>\n",
       "      <td>0</td>\n",
       "      <td>0</td>\n",
       "      <td>0</td>\n",
       "      <td>0</td>\n",
       "      <td>0</td>\n",
       "      <td>0</td>\n",
       "      <td>0</td>\n",
       "      <td>0</td>\n",
       "      <td>...</td>\n",
       "      <td>0</td>\n",
       "      <td>0</td>\n",
       "      <td>0</td>\n",
       "      <td>0</td>\n",
       "      <td>0</td>\n",
       "      <td>0</td>\n",
       "      <td>0</td>\n",
       "      <td>0</td>\n",
       "      <td>0</td>\n",
       "      <td>0</td>\n",
       "      <td>0</td>\n",
       "      <td>0</td>\n",
       "      <td>0</td>\n",
       "      <td>0</td>\n",
       "      <td>0</td>\n",
       "      <td>0</td>\n",
       "      <td>0</td>\n",
       "      <td>0</td>\n",
       "      <td>0</td>\n",
       "      <td>0</td>\n",
       "      <td>0</td>\n",
       "      <td>0</td>\n",
       "      <td>0</td>\n",
       "      <td>0</td>\n",
       "      <td>0</td>\n",
       "      <td>0</td>\n",
       "      <td>0</td>\n",
       "      <td>0</td>\n",
       "      <td>0</td>\n",
       "      <td>0</td>\n",
       "      <td>0</td>\n",
       "      <td>0</td>\n",
       "      <td>0</td>\n",
       "      <td>0</td>\n",
       "      <td>0</td>\n",
       "      <td>0</td>\n",
       "      <td>0</td>\n",
       "      <td>0</td>\n",
       "      <td>0</td>\n",
       "      <td>0</td>\n",
       "    </tr>\n",
       "    <tr>\n",
       "      <th>9997</th>\n",
       "      <td>4</td>\n",
       "      <td>0</td>\n",
       "      <td>0</td>\n",
       "      <td>0</td>\n",
       "      <td>0</td>\n",
       "      <td>0</td>\n",
       "      <td>0</td>\n",
       "      <td>0</td>\n",
       "      <td>0</td>\n",
       "      <td>0</td>\n",
       "      <td>0</td>\n",
       "      <td>0</td>\n",
       "      <td>0</td>\n",
       "      <td>0</td>\n",
       "      <td>0</td>\n",
       "      <td>0</td>\n",
       "      <td>0</td>\n",
       "      <td>0</td>\n",
       "      <td>0</td>\n",
       "      <td>0</td>\n",
       "      <td>0</td>\n",
       "      <td>0</td>\n",
       "      <td>0</td>\n",
       "      <td>0</td>\n",
       "      <td>0</td>\n",
       "      <td>0</td>\n",
       "      <td>0</td>\n",
       "      <td>0</td>\n",
       "      <td>0</td>\n",
       "      <td>0</td>\n",
       "      <td>0</td>\n",
       "      <td>0</td>\n",
       "      <td>0</td>\n",
       "      <td>0</td>\n",
       "      <td>0</td>\n",
       "      <td>0</td>\n",
       "      <td>0</td>\n",
       "      <td>0</td>\n",
       "      <td>0</td>\n",
       "      <td>0</td>\n",
       "      <td>...</td>\n",
       "      <td>0</td>\n",
       "      <td>0</td>\n",
       "      <td>0</td>\n",
       "      <td>0</td>\n",
       "      <td>0</td>\n",
       "      <td>0</td>\n",
       "      <td>0</td>\n",
       "      <td>0</td>\n",
       "      <td>0</td>\n",
       "      <td>0</td>\n",
       "      <td>0</td>\n",
       "      <td>0</td>\n",
       "      <td>0</td>\n",
       "      <td>0</td>\n",
       "      <td>0</td>\n",
       "      <td>0</td>\n",
       "      <td>0</td>\n",
       "      <td>0</td>\n",
       "      <td>0</td>\n",
       "      <td>0</td>\n",
       "      <td>0</td>\n",
       "      <td>0</td>\n",
       "      <td>0</td>\n",
       "      <td>0</td>\n",
       "      <td>0</td>\n",
       "      <td>0</td>\n",
       "      <td>0</td>\n",
       "      <td>0</td>\n",
       "      <td>0</td>\n",
       "      <td>0</td>\n",
       "      <td>0</td>\n",
       "      <td>0</td>\n",
       "      <td>0</td>\n",
       "      <td>0</td>\n",
       "      <td>0</td>\n",
       "      <td>0</td>\n",
       "      <td>0</td>\n",
       "      <td>0</td>\n",
       "      <td>0</td>\n",
       "      <td>0</td>\n",
       "    </tr>\n",
       "    <tr>\n",
       "      <th>9998</th>\n",
       "      <td>5</td>\n",
       "      <td>0</td>\n",
       "      <td>0</td>\n",
       "      <td>0</td>\n",
       "      <td>0</td>\n",
       "      <td>0</td>\n",
       "      <td>0</td>\n",
       "      <td>0</td>\n",
       "      <td>0</td>\n",
       "      <td>0</td>\n",
       "      <td>0</td>\n",
       "      <td>0</td>\n",
       "      <td>0</td>\n",
       "      <td>0</td>\n",
       "      <td>0</td>\n",
       "      <td>0</td>\n",
       "      <td>0</td>\n",
       "      <td>0</td>\n",
       "      <td>0</td>\n",
       "      <td>0</td>\n",
       "      <td>0</td>\n",
       "      <td>0</td>\n",
       "      <td>0</td>\n",
       "      <td>0</td>\n",
       "      <td>0</td>\n",
       "      <td>0</td>\n",
       "      <td>0</td>\n",
       "      <td>0</td>\n",
       "      <td>0</td>\n",
       "      <td>0</td>\n",
       "      <td>0</td>\n",
       "      <td>0</td>\n",
       "      <td>0</td>\n",
       "      <td>0</td>\n",
       "      <td>0</td>\n",
       "      <td>0</td>\n",
       "      <td>0</td>\n",
       "      <td>0</td>\n",
       "      <td>0</td>\n",
       "      <td>0</td>\n",
       "      <td>...</td>\n",
       "      <td>0</td>\n",
       "      <td>0</td>\n",
       "      <td>0</td>\n",
       "      <td>0</td>\n",
       "      <td>0</td>\n",
       "      <td>0</td>\n",
       "      <td>0</td>\n",
       "      <td>0</td>\n",
       "      <td>0</td>\n",
       "      <td>0</td>\n",
       "      <td>0</td>\n",
       "      <td>0</td>\n",
       "      <td>0</td>\n",
       "      <td>0</td>\n",
       "      <td>0</td>\n",
       "      <td>0</td>\n",
       "      <td>0</td>\n",
       "      <td>0</td>\n",
       "      <td>0</td>\n",
       "      <td>0</td>\n",
       "      <td>0</td>\n",
       "      <td>0</td>\n",
       "      <td>0</td>\n",
       "      <td>0</td>\n",
       "      <td>0</td>\n",
       "      <td>0</td>\n",
       "      <td>0</td>\n",
       "      <td>0</td>\n",
       "      <td>0</td>\n",
       "      <td>0</td>\n",
       "      <td>0</td>\n",
       "      <td>0</td>\n",
       "      <td>0</td>\n",
       "      <td>0</td>\n",
       "      <td>0</td>\n",
       "      <td>0</td>\n",
       "      <td>0</td>\n",
       "      <td>0</td>\n",
       "      <td>0</td>\n",
       "      <td>0</td>\n",
       "    </tr>\n",
       "    <tr>\n",
       "      <th>9999</th>\n",
       "      <td>6</td>\n",
       "      <td>0</td>\n",
       "      <td>0</td>\n",
       "      <td>0</td>\n",
       "      <td>0</td>\n",
       "      <td>0</td>\n",
       "      <td>0</td>\n",
       "      <td>0</td>\n",
       "      <td>0</td>\n",
       "      <td>0</td>\n",
       "      <td>0</td>\n",
       "      <td>0</td>\n",
       "      <td>0</td>\n",
       "      <td>0</td>\n",
       "      <td>0</td>\n",
       "      <td>0</td>\n",
       "      <td>0</td>\n",
       "      <td>0</td>\n",
       "      <td>0</td>\n",
       "      <td>0</td>\n",
       "      <td>0</td>\n",
       "      <td>0</td>\n",
       "      <td>0</td>\n",
       "      <td>0</td>\n",
       "      <td>0</td>\n",
       "      <td>0</td>\n",
       "      <td>0</td>\n",
       "      <td>0</td>\n",
       "      <td>0</td>\n",
       "      <td>0</td>\n",
       "      <td>0</td>\n",
       "      <td>0</td>\n",
       "      <td>0</td>\n",
       "      <td>0</td>\n",
       "      <td>0</td>\n",
       "      <td>0</td>\n",
       "      <td>0</td>\n",
       "      <td>0</td>\n",
       "      <td>0</td>\n",
       "      <td>0</td>\n",
       "      <td>...</td>\n",
       "      <td>0</td>\n",
       "      <td>0</td>\n",
       "      <td>0</td>\n",
       "      <td>0</td>\n",
       "      <td>0</td>\n",
       "      <td>0</td>\n",
       "      <td>0</td>\n",
       "      <td>0</td>\n",
       "      <td>0</td>\n",
       "      <td>0</td>\n",
       "      <td>0</td>\n",
       "      <td>0</td>\n",
       "      <td>0</td>\n",
       "      <td>0</td>\n",
       "      <td>0</td>\n",
       "      <td>0</td>\n",
       "      <td>0</td>\n",
       "      <td>0</td>\n",
       "      <td>0</td>\n",
       "      <td>0</td>\n",
       "      <td>0</td>\n",
       "      <td>0</td>\n",
       "      <td>0</td>\n",
       "      <td>0</td>\n",
       "      <td>0</td>\n",
       "      <td>0</td>\n",
       "      <td>0</td>\n",
       "      <td>0</td>\n",
       "      <td>0</td>\n",
       "      <td>0</td>\n",
       "      <td>0</td>\n",
       "      <td>0</td>\n",
       "      <td>0</td>\n",
       "      <td>0</td>\n",
       "      <td>0</td>\n",
       "      <td>0</td>\n",
       "      <td>0</td>\n",
       "      <td>0</td>\n",
       "      <td>0</td>\n",
       "      <td>0</td>\n",
       "    </tr>\n",
       "  </tbody>\n",
       "</table>\n",
       "<p>10000 rows × 785 columns</p>\n",
       "</div>"
      ],
      "text/plain": [
       "      label  1x1  1x2  1x3  1x4  1x5  ...  28x23  28x24  28x25  28x26  28x27  28x28\n",
       "0         7    0    0    0    0    0  ...      0      0      0      0      0      0\n",
       "1         2    0    0    0    0    0  ...      0      0      0      0      0      0\n",
       "2         1    0    0    0    0    0  ...      0      0      0      0      0      0\n",
       "3         0    0    0    0    0    0  ...      0      0      0      0      0      0\n",
       "4         4    0    0    0    0    0  ...      0      0      0      0      0      0\n",
       "...     ...  ...  ...  ...  ...  ...  ...    ...    ...    ...    ...    ...    ...\n",
       "9995      2    0    0    0    0    0  ...      0      0      0      0      0      0\n",
       "9996      3    0    0    0    0    0  ...      0      0      0      0      0      0\n",
       "9997      4    0    0    0    0    0  ...      0      0      0      0      0      0\n",
       "9998      5    0    0    0    0    0  ...      0      0      0      0      0      0\n",
       "9999      6    0    0    0    0    0  ...      0      0      0      0      0      0\n",
       "\n",
       "[10000 rows x 785 columns]"
      ]
     },
     "execution_count": 288,
     "metadata": {
      "tags": []
     },
     "output_type": "execute_result"
    }
   ],
   "source": [
    "mnist_test = pd.read_csv(\"mnist_test.csv\")\n",
    "mnist_test"
   ]
  },
  {
   "cell_type": "code",
   "execution_count": null,
   "metadata": {
    "id": "7kOBPZM6WeUG"
   },
   "outputs": [],
   "source": [
    "X_test = mnist_test.iloc[:,1:].values\n",
    "Y_test = mnist_test.iloc[:,0].values"
   ]
  },
  {
   "cell_type": "code",
   "execution_count": null,
   "metadata": {
    "id": "7ipwNHXDXow6"
   },
   "outputs": [],
   "source": [
    "x_test =[]\n",
    "y_test = []\n",
    "\n",
    "for i in range(len(Y_test)):\n",
    "  if Y_test[i] == 4:\n",
    "    x_test.append(X_test[i])\n",
    "    y_test.append(1)\n",
    "  elif Y_test[i] == 7:\n",
    "    x_test.append(X_test[i])\n",
    "    y_test.append(-1)\n",
    "    "
   ]
  },
  {
   "cell_type": "code",
   "execution_count": null,
   "metadata": {
    "colab": {
     "base_uri": "https://localhost:8080/"
    },
    "executionInfo": {
     "elapsed": 9662,
     "status": "ok",
     "timestamp": 1618574234192,
     "user": {
      "displayName": "Sughandhan S",
      "photoUrl": "https://lh3.googleusercontent.com/a-/AOh14GgCzJgz5tDGcNqn108PikDmo9i8xVBqBE7WCrGurg=s64",
      "userId": "16893705064560269479"
     },
     "user_tz": -330
    },
    "id": "V1Fvah4zWeRH",
    "outputId": "05bd0be5-4684-4abd-d1bc-17c3beb8d233"
   },
   "outputs": [
    {
     "data": {
      "text/plain": [
       "array([[0, 0, 0, ..., 0, 0, 0],\n",
       "       [0, 0, 0, ..., 0, 0, 0],\n",
       "       [0, 0, 0, ..., 0, 0, 0],\n",
       "       ...,\n",
       "       [0, 0, 0, ..., 0, 0, 0],\n",
       "       [0, 0, 0, ..., 0, 0, 0],\n",
       "       [0, 0, 0, ..., 0, 0, 0]])"
      ]
     },
     "execution_count": 291,
     "metadata": {
      "tags": []
     },
     "output_type": "execute_result"
    }
   ],
   "source": [
    "x_test = np.array(x_test)\n",
    "x_test"
   ]
  },
  {
   "cell_type": "code",
   "execution_count": null,
   "metadata": {
    "colab": {
     "base_uri": "https://localhost:8080/"
    },
    "executionInfo": {
     "elapsed": 9491,
     "status": "ok",
     "timestamp": 1618574234192,
     "user": {
      "displayName": "Sughandhan S",
      "photoUrl": "https://lh3.googleusercontent.com/a-/AOh14GgCzJgz5tDGcNqn108PikDmo9i8xVBqBE7WCrGurg=s64",
      "userId": "16893705064560269479"
     },
     "user_tz": -330
    },
    "id": "VxcTwEQAWeOi",
    "outputId": "42b9dc3d-9184-4195-889e-2acf902ae2c9"
   },
   "outputs": [
    {
     "data": {
      "text/plain": [
       "array([-1,  1,  1, ...,  1, -1,  1])"
      ]
     },
     "execution_count": 292,
     "metadata": {
      "tags": []
     },
     "output_type": "execute_result"
    }
   ],
   "source": [
    "y_test = np.array(y_test)\n",
    "y_test"
   ]
  },
  {
   "cell_type": "code",
   "execution_count": null,
   "metadata": {
    "colab": {
     "base_uri": "https://localhost:8080/"
    },
    "executionInfo": {
     "elapsed": 9319,
     "status": "ok",
     "timestamp": 1618574234193,
     "user": {
      "displayName": "Sughandhan S",
      "photoUrl": "https://lh3.googleusercontent.com/a-/AOh14GgCzJgz5tDGcNqn108PikDmo9i8xVBqBE7WCrGurg=s64",
      "userId": "16893705064560269479"
     },
     "user_tz": -330
    },
    "id": "brveTf6jWeM7",
    "outputId": "93dd2a51-3fbf-4934-fafd-05b00609e7b9"
   },
   "outputs": [
    {
     "name": "stdout",
     "output_type": "stream",
     "text": [
      "(2010, 784)\n",
      "(2010,)\n"
     ]
    }
   ],
   "source": [
    "print(x_test.shape)\n",
    "print(y_test.shape)"
   ]
  },
  {
   "cell_type": "markdown",
   "metadata": {
    "id": "I2QcUfpIWe21"
   },
   "source": [
    "#Logistic Regression for Mnist DATA"
   ]
  },
  {
   "cell_type": "markdown",
   "metadata": {
    "id": "oD1cmroTgUBW"
   },
   "source": [
    "ACCURACY = 100%"
   ]
  },
  {
   "cell_type": "code",
   "execution_count": null,
   "metadata": {
    "id": "E8FTC7FIT4e6"
   },
   "outputs": [],
   "source": [
    "def sigmoid(z):\n",
    "  return (1/(1+np.exp(-z)))"
   ]
  },
  {
   "cell_type": "code",
   "execution_count": null,
   "metadata": {
    "id": "98kfQSVvLsKp"
   },
   "outputs": [],
   "source": [
    "def mnist_regression(train, labels, alpha, epochs):\n",
    "  w = np.random.uniform(-1, 1, 785)\n",
    "  while epochs>0:\n",
    "    dW = np.zeros(785)\n",
    "    epochs -= 1\n",
    "    z = w[784]\n",
    "    for i in range(784):\n",
    "      z += w[i]*train[:, i]\n",
    "    #WtX= sigmoid( -1*labels* z ) #np.multiply( -1*labels, z ) )\n",
    "    # for i in range(784):\n",
    "    #    dW[i] += -1*np.sum( WtX* np.multiply(labels, train[:, i])) #removing -1 from the front\n",
    "    # dW[784] += -1*np.sum(WtX *labels)                            #removing -1 from the front\n",
    "    idx=0\n",
    "    for i in train:\n",
    "      for j in range(785):\n",
    "        if j==784:\n",
    "          dW[784] += -1*sigmoid( -1*labels[idx]* z[idx] )*labels[idx]\n",
    "        else:\n",
    "          dW[j]+= -1* sigmoid( -1*labels[idx]* z[idx] )* labels[idx]*i[j]\n",
    "      idx += 1\n",
    "    w -= alpha*dW\n",
    "  print(labels.shape)\n",
    "  #print(WtX.shape)\n",
    "  print(train[:,1].shape)\n",
    "  print(len(w))\n",
    "  print(len(dW))\n",
    "  #print(WtX)\n",
    "  \n",
    "  return w"
   ]
  },
  {
   "cell_type": "code",
   "execution_count": null,
   "metadata": {
    "colab": {
     "base_uri": "https://localhost:8080/"
    },
    "executionInfo": {
     "elapsed": 8356,
     "status": "ok",
     "timestamp": 1618574234194,
     "user": {
      "displayName": "Sughandhan S",
      "photoUrl": "https://lh3.googleusercontent.com/a-/AOh14GgCzJgz5tDGcNqn108PikDmo9i8xVBqBE7WCrGurg=s64",
      "userId": "16893705064560269479"
     },
     "user_tz": -330
    },
    "id": "GqgCCZiGuYKu",
    "outputId": "461bd6c3-35ca-4caf-c732-bdb71675bdef"
   },
   "outputs": [
    {
     "data": {
      "text/plain": [
       "array([ 4, 10, 18])"
      ]
     },
     "execution_count": 296,
     "metadata": {
      "tags": []
     },
     "output_type": "execute_result"
    }
   ],
   "source": [
    "np.array([1,2,3]) * np.array([4,5,6])\n",
    "np.multiply(np.array([1,2,3]), np.array([4,5,6]))"
   ]
  },
  {
   "cell_type": "code",
   "execution_count": null,
   "metadata": {
    "colab": {
     "base_uri": "https://localhost:8080/"
    },
    "executionInfo": {
     "elapsed": 8062,
     "status": "ok",
     "timestamp": 1618574234195,
     "user": {
      "displayName": "Sughandhan S",
      "photoUrl": "https://lh3.googleusercontent.com/a-/AOh14GgCzJgz5tDGcNqn108PikDmo9i8xVBqBE7WCrGurg=s64",
      "userId": "16893705064560269479"
     },
     "user_tz": -330
    },
    "id": "FfhdDMsRsiH9",
    "outputId": "c5e035bf-d5bc-4dbd-b894-6c148e93da23"
   },
   "outputs": [
    {
     "data": {
      "text/plain": [
       "array([0, 0, 0, ..., 0, 0, 0])"
      ]
     },
     "execution_count": 297,
     "metadata": {
      "tags": []
     },
     "output_type": "execute_result"
    }
   ],
   "source": [
    "x_train[:,0]"
   ]
  },
  {
   "cell_type": "code",
   "execution_count": null,
   "metadata": {
    "colab": {
     "base_uri": "https://localhost:8080/"
    },
    "executionInfo": {
     "elapsed": 1063795,
     "status": "ok",
     "timestamp": 1618575309233,
     "user": {
      "displayName": "Sughandhan S",
      "photoUrl": "https://lh3.googleusercontent.com/a-/AOh14GgCzJgz5tDGcNqn108PikDmo9i8xVBqBE7WCrGurg=s64",
      "userId": "16893705064560269479"
     },
     "user_tz": -330
    },
    "id": "0BnWpG3zT3u-",
    "outputId": "b08bb1b6-6038-4bfe-e3c0-e5473e81eaa5"
   },
   "outputs": [
    {
     "name": "stderr",
     "output_type": "stream",
     "text": [
      "/usr/local/lib/python3.7/dist-packages/ipykernel_launcher.py:2: RuntimeWarning: overflow encountered in exp\n",
      "  \n"
     ]
    },
    {
     "name": "stdout",
     "output_type": "stream",
     "text": [
      "(12107,)\n",
      "(12107,)\n",
      "785\n",
      "785\n"
     ]
    }
   ],
   "source": [
    "hope = (mnist_regression(x_train, y_train, 0.01, 13))"
   ]
  },
  {
   "cell_type": "code",
   "execution_count": null,
   "metadata": {
    "colab": {
     "base_uri": "https://localhost:8080/"
    },
    "executionInfo": {
     "elapsed": 1057761,
     "status": "ok",
     "timestamp": 1618575309234,
     "user": {
      "displayName": "Sughandhan S",
      "photoUrl": "https://lh3.googleusercontent.com/a-/AOh14GgCzJgz5tDGcNqn108PikDmo9i8xVBqBE7WCrGurg=s64",
      "userId": "16893705064560269479"
     },
     "user_tz": -330
    },
    "id": "O01ztuxvedi2",
    "outputId": "4cc9e776-338a-45dd-a473-ff07c783aef5"
   },
   "outputs": [
    {
     "data": {
      "text/plain": [
       "array([-3.72637701e-01,  9.04938218e-01,  1.49818855e-01, -5.96539380e-01,\n",
       "       -7.38670675e-01,  6.95255405e-01,  9.15938722e-01, -7.48972296e-01,\n",
       "        1.16617297e-01, -7.77268819e-01, -1.49272402e-01,  2.26300891e-01,\n",
       "       -1.83665499e-01, -1.99057076e-01, -2.85800754e-01,  4.45178145e-01,\n",
       "        4.50624864e-01,  2.33883240e-01, -9.29443061e-01,  1.22617800e-01,\n",
       "        4.41579710e-02, -2.61987206e-01, -2.29783199e-02,  8.64005077e-01,\n",
       "        4.88362459e-01,  4.75815096e-01,  4.61181930e-01,  3.68458001e-01,\n",
       "       -7.23185169e-01,  5.43192703e-01, -3.73830834e-01, -3.03710586e-01,\n",
       "       -2.74841919e-01, -3.39488747e-02,  3.82180816e-01,  5.95576100e-01,\n",
       "        3.94312928e-01, -2.31916608e-01, -1.26470868e-01, -1.21548859e-01,\n",
       "       -5.07315096e-01,  9.42677533e-01,  2.76211693e+00,  3.54929798e-01,\n",
       "        2.66608314e-01,  5.27540238e-01, -8.77421402e-01,  6.07894554e-01,\n",
       "        7.07141387e-01, -1.04783283e-01,  3.10571964e-01, -8.90619526e-01,\n",
       "        8.87367429e-01, -8.19295130e-02,  9.11644890e-01,  6.73267263e-01,\n",
       "       -5.98433794e-01,  6.41644516e-01,  9.11477475e-01, -6.03283642e-01,\n",
       "        4.93434358e-01, -3.28536154e-01, -2.04502620e-01,  2.32478236e-01,\n",
       "        6.76997620e-01,  9.63744914e-01,  5.84214278e-01, -6.54228643e-01,\n",
       "        1.99923008e+00,  5.51282004e+00,  8.32944903e+00,  7.20097476e+00,\n",
       "        8.20484354e+00,  7.11405991e+00,  4.86576045e-01,  3.14311592e+00,\n",
       "        3.32249445e+00,  2.15980330e+00,  9.40202153e-01, -2.46321922e-02,\n",
       "        2.88593487e-01,  9.98955508e-01, -3.92204775e-01,  5.70742389e-01,\n",
       "        4.18241068e-01, -4.12513734e-01, -2.68061887e-01, -8.86448239e-01,\n",
       "       -8.39188010e-01,  7.00893969e-01,  3.27550098e-01,  2.17489258e+00,\n",
       "        3.50382999e+00,  1.20928733e+01,  3.33267861e+01,  2.80781079e+01,\n",
       "        1.93526405e+01,  3.12973170e+01,  5.29777364e+01,  7.38321496e+01,\n",
       "        9.50057017e+01,  8.27133195e+01,  6.15073841e+01,  7.88262821e+01,\n",
       "        1.04975491e+02,  1.02164615e+02,  6.97921044e+01,  3.94893256e+01,\n",
       "        9.54753047e+00,  8.89162001e-01,  3.73268526e-01, -8.18430270e-01,\n",
       "        8.22564613e-01, -7.07030733e-01,  3.35362783e-01, -1.75767395e+00,\n",
       "        4.01151596e+00,  1.65221557e+01,  2.57571745e+01,  5.09124629e+01,\n",
       "        9.20777787e+01,  1.36058436e+02,  1.85583929e+02,  2.15045795e+02,\n",
       "        2.60031315e+02,  2.57483410e+02,  2.67314514e+02,  3.38590411e+02,\n",
       "        4.94104847e+02,  6.01645960e+02,  6.55510601e+02,  7.60459614e+02,\n",
       "        9.39759080e+02,  8.56749080e+02,  6.27231111e+02,  3.57224023e+02,\n",
       "        1.33971694e+02,  2.40229825e+01,  3.59409931e+00, -1.40848516e-01,\n",
       "        4.72790313e-01, -6.43833447e-01,  8.70189576e-01, -6.67921380e-02,\n",
       "        2.19479061e+01,  4.40608739e+01,  1.14818129e+02,  1.79177728e+02,\n",
       "        2.65278169e+02,  5.51557026e+02,  7.37005622e+02,  8.68291332e+02,\n",
       "        9.99073976e+02,  9.96038749e+02,  9.72300010e+02,  1.01031753e+03,\n",
       "        1.41176407e+03,  1.95750856e+03,  2.40116419e+03,  2.79061024e+03,\n",
       "        3.05893349e+03,  2.76853796e+03,  2.09644550e+03,  1.28640746e+03,\n",
       "        5.23354065e+02,  9.60279942e+01,  3.00639152e+00, -2.15772700e-01,\n",
       "        2.80556169e-01, -2.40899772e-01, -1.21664936e+01, -4.47179725e+01,\n",
       "       -2.73848407e+01, -6.38758320e+01, -2.10318834e+02, -2.56087035e+02,\n",
       "       -2.26929428e+02,  8.69751525e+01,  3.30466542e+02,  4.27183074e+02,\n",
       "        4.97141071e+02,  1.53922186e+02, -4.44977768e+02, -5.03992088e+02,\n",
       "        2.92131248e+02,  1.48798669e+03,  2.76187665e+03,  3.78548462e+03,\n",
       "        4.07033954e+03,  3.64886677e+03,  2.84423563e+03,  1.74116838e+03,\n",
       "        7.49913951e+02,  1.65894531e+02,  2.07238738e+01,  5.86659657e-01,\n",
       "       -1.06223620e+00, -6.32889661e+00, -6.19819358e+01, -2.08998668e+02,\n",
       "       -4.47121181e+02, -8.66654877e+02, -1.52354180e+03, -2.12334578e+03,\n",
       "       -2.41684238e+03, -2.32345802e+03, -2.22630881e+03, -2.27256590e+03,\n",
       "       -2.74312672e+03, -3.97117050e+03, -5.38196085e+03, -6.02973067e+03,\n",
       "       -5.19217478e+03, -3.26776745e+03, -9.71808281e+02,  1.07703997e+03,\n",
       "        2.00480624e+03,  2.35737388e+03,  1.92583383e+03,  1.16899846e+03,\n",
       "        5.47556792e+02,  1.73859689e+02,  2.76552292e+01, -4.58272524e-01,\n",
       "       -2.03426601e+00, -5.24946362e+01, -2.26548887e+02, -6.38637749e+02,\n",
       "       -1.23263391e+03, -2.13718271e+03, -3.30695466e+03, -4.31671733e+03,\n",
       "       -4.76847974e+03, -4.74994325e+03, -4.78069635e+03, -4.91557000e+03,\n",
       "       -5.92748489e+03, -7.74690700e+03, -9.92188293e+03, -1.09033128e+04,\n",
       "       -9.94440535e+03, -7.29274780e+03, -4.31639235e+03, -1.89294339e+03,\n",
       "       -2.43300975e+02,  5.14486353e+02,  5.38922340e+02,  3.02611601e+02,\n",
       "        2.26149731e+02,  1.11049921e+02,  2.20044137e+01,  2.09775657e-01,\n",
       "       -1.06698609e+00, -7.32332312e+01, -3.47465545e+02, -9.95818639e+02,\n",
       "       -1.84715400e+03, -3.06798853e+03, -4.31122073e+03, -5.13943734e+03,\n",
       "       -5.29607962e+03, -4.91153781e+03, -4.35817214e+03, -4.37561239e+03,\n",
       "       -5.46804298e+03, -7.72164589e+03, -1.01932389e+04, -1.09023634e+04,\n",
       "       -9.60117334e+03, -7.04438777e+03, -4.55239749e+03, -2.89388355e+03,\n",
       "       -1.65878083e+03, -1.02184713e+03, -5.40301949e+02, -1.73063106e+02,\n",
       "       -2.87521711e+00,  2.17374525e+01, -8.60744202e+00, -2.16692573e+01,\n",
       "       -1.68452212e-01, -7.82406214e+01, -3.78017240e+02, -9.97925419e+02,\n",
       "       -1.83659526e+03, -2.97136716e+03, -3.85603254e+03, -4.09395854e+03,\n",
       "       -3.49398168e+03, -2.10036233e+03, -8.97440456e+02, -8.04754281e+02,\n",
       "       -2.18100942e+03, -5.08591154e+03, -7.12320130e+03, -7.28110489e+03,\n",
       "       -6.14129740e+03, -4.15498932e+03, -3.19618003e+03, -2.84107152e+03,\n",
       "       -2.60318739e+03, -1.90417736e+03, -1.15678598e+03, -3.38001111e+02,\n",
       "       -3.72940906e+01, -1.81684202e+01, -1.52798611e+01, -5.52027197e+00,\n",
       "       -3.43195047e+00, -7.96085655e+01, -4.00223459e+02, -8.47665034e+02,\n",
       "       -1.53911930e+03, -2.16987534e+03, -2.43380380e+03, -2.09731000e+03,\n",
       "       -5.42817936e+02,  1.84957832e+03,  3.35327211e+03,  2.96756621e+03,\n",
       "        6.34488134e+02, -2.37043059e+03, -3.74851119e+03, -3.39917935e+03,\n",
       "       -2.10844073e+03, -1.28976220e+03, -1.97577827e+03, -2.66037760e+03,\n",
       "       -2.82144036e+03, -2.04377515e+03, -1.19590874e+03, -3.36990713e+02,\n",
       "       -5.79880782e+00,  5.74640299e+00,  2.26383496e-01, -2.39391125e+00,\n",
       "       -2.71829527e+00, -6.72823277e+01, -3.13618752e+02, -7.05752130e+02,\n",
       "       -1.20861251e+03, -1.45385352e+03, -8.72101529e+02,  2.28878491e+02,\n",
       "        2.61541252e+03,  5.55076241e+03,  6.85699033e+03,  5.67304877e+03,\n",
       "        3.08525051e+03,  7.32853944e+02, -3.72119565e+02, -1.72366107e+02,\n",
       "        5.93482714e+02,  1.98478225e+02, -1.17071850e+03, -2.19206775e+03,\n",
       "       -2.16132944e+03, -1.28542834e+03, -6.72080842e+02, -1.68470793e+02,\n",
       "        4.16257838e+01, -1.05170038e+01, -1.06144127e+01, -8.28448529e+00,\n",
       "        8.52981097e-01, -4.20810728e+01, -1.70147751e+02, -4.68446519e+02,\n",
       "       -8.16022668e+02, -6.50415900e+02,  7.03499879e+02,  2.82972977e+03,\n",
       "        5.69176658e+03,  8.39523711e+03,  9.05293379e+03,  7.60257002e+03,\n",
       "        5.41185110e+03,  4.04483987e+03,  3.05404437e+03,  2.72745067e+03,\n",
       "        2.51481702e+03,  1.29861224e+03, -4.70588612e+02, -1.23419862e+03,\n",
       "       -8.31135183e+02, -2.91648545e+02,  1.39221770e+01,  9.88568386e+01,\n",
       "        1.25300480e+01, -8.94910499e+00,  1.26382357e+00, -2.02586760e-01,\n",
       "        8.76552439e-01, -1.92445515e+01, -7.57075144e+01, -2.24662122e+02,\n",
       "       -2.37641401e+02,  3.08764673e+02,  2.24047762e+03,  4.96734429e+03,\n",
       "        7.88819393e+03,  1.00683421e+04,  1.03269193e+04,  9.29330504e+03,\n",
       "        8.20504137e+03,  7.39247064e+03,  6.33098003e+03,  4.94106605e+03,\n",
       "        3.23704664e+03,  1.47267480e+03,  5.84302327e+01, -5.71310077e+01,\n",
       "        2.84440362e+02,  3.42624600e+02,  1.91572422e+02,  1.09564887e+02,\n",
       "        6.94890400e+01,  2.38656122e+01,  1.53826350e+00,  8.56410398e-01,\n",
       "        5.77779635e-01, -4.24243734e-01, -1.74712849e+01, -5.23542256e+01,\n",
       "        1.35478183e+02,  1.01252032e+03,  3.00891636e+03,  5.74433917e+03,\n",
       "        8.51959794e+03,  1.00952757e+04,  1.02905158e+04,  9.87143125e+03,\n",
       "        9.29863998e+03,  8.46748010e+03,  7.12193657e+03,  4.83913221e+03,\n",
       "        2.72069506e+03,  8.23220717e+02,  3.36769606e+02,  4.86198791e+02,\n",
       "        4.43391901e+02,  2.39742976e+02,  6.83850203e+01,  9.54713911e+01,\n",
       "        4.26477486e+01,  4.43213386e+01,  9.31670336e+00,  1.70335161e-01,\n",
       "       -8.03623612e-01, -3.68421062e-01, -3.01697502e+00, -2.31507699e+01,\n",
       "        1.63594540e+02,  1.14558571e+03,  2.81684658e+03,  4.95194707e+03,\n",
       "        6.94607185e+03,  7.92447630e+03,  8.13180409e+03,  7.85253639e+03,\n",
       "        7.10111361e+03,  6.15706711e+03,  4.93210805e+03,  3.09311521e+03,\n",
       "        1.44862516e+03,  4.63357264e+02,  3.73765675e+02,  2.69701999e+02,\n",
       "        3.57663236e+02,  1.26573289e+02, -4.95205939e+01,  1.84913916e+01,\n",
       "        9.25518266e+00,  4.02721914e+01,  9.46505725e+00,  8.01571033e-01,\n",
       "       -6.61827267e-01, -9.73392606e-01,  2.67982467e+00, -2.83385343e+01,\n",
       "        7.69461526e+01,  8.48608131e+02,  1.99734781e+03,  3.31703271e+03,\n",
       "        4.26385656e+03,  4.64736173e+03,  4.69940123e+03,  4.17178318e+03,\n",
       "        3.19841326e+03,  2.33329638e+03,  1.61286130e+03,  8.43584573e+02,\n",
       "        2.38625701e+02, -2.04705263e+02, -5.24180510e+01,  1.82875483e+02,\n",
       "        1.87696124e+02,  2.76226070e+01, -9.48850716e+01, -1.33043386e+01,\n",
       "       -5.21130145e+01, -1.94592715e+01, -1.19109516e+01, -1.21127745e-01,\n",
       "       -6.11133274e-01,  1.14179253e-02, -8.17702235e+00, -1.79495337e+01,\n",
       "        2.11441565e-02,  4.56866903e+02,  1.11837660e+03,  1.71663288e+03,\n",
       "        1.95473378e+03,  1.98890438e+03,  1.62035777e+03,  1.00519795e+03,\n",
       "        3.87259601e+02, -2.80629587e+02, -5.16465870e+02, -4.75210808e+02,\n",
       "       -5.08906954e+02, -6.31532077e+02, -1.72326096e+02,  1.70421358e+02,\n",
       "        1.39125650e+02,  5.02697021e+01,  2.49807984e+00,  2.49536736e+01,\n",
       "       -1.48965350e+00, -8.25018642e+00, -1.14711547e+01,  8.60594558e-01,\n",
       "       -5.03069365e-01, -2.75949230e+00, -1.97303944e+01, -3.34204361e+00,\n",
       "       -1.60440977e+00,  2.35926311e+02,  4.14943608e+02,  5.78395122e+02,\n",
       "        5.66930952e+02,  3.33669558e+02, -1.41838555e+02, -7.52453364e+02,\n",
       "       -1.35500025e+03, -1.58048807e+03, -1.45161864e+03, -9.41174245e+02,\n",
       "       -6.67229019e+02, -2.65385212e+02,  3.46729152e+02,  4.53127068e+02,\n",
       "        4.40607508e+02,  3.03320703e+02,  1.36731445e+02,  7.70975749e+01,\n",
       "        8.42990626e+00, -8.22682307e-02, -2.66160574e-01,  9.92755705e-01,\n",
       "        5.47965328e-01,  1.62773953e-01, -1.95356788e-01,  6.09318935e+00,\n",
       "        1.64658153e+01,  6.17697603e+01,  1.48602851e+02,  1.59276474e+02,\n",
       "       -8.42754525e+01, -4.67118965e+02, -1.09964659e+03, -1.57486857e+03,\n",
       "       -2.15064898e+03, -2.21316114e+03, -1.78330067e+03, -1.18329883e+03,\n",
       "       -5.53396138e+02,  1.07976649e+02,  7.12681505e+02,  8.07256197e+02,\n",
       "        6.50062011e+02,  4.17569140e+02,  2.07131389e+02,  9.06847901e+01,\n",
       "        1.44368493e+01, -3.81390958e+00,  2.10134935e-01, -3.23795162e-01,\n",
       "        1.97078759e-01,  7.98030810e-01,  2.18513429e-01,  1.74352268e-01,\n",
       "       -5.34182874e+00, -1.03624859e+01, -5.43997036e+01, -2.03717343e+02,\n",
       "       -5.61615169e+02, -1.10302614e+03, -1.62618280e+03, -2.22973654e+03,\n",
       "       -2.50248809e+03, -2.24332271e+03, -1.73583712e+03, -1.09092669e+03,\n",
       "       -4.64830854e+02,  4.40418816e+02,  9.96949419e+02,  1.11290489e+03,\n",
       "        7.68897045e+02,  4.89723827e+02,  2.60969417e+02,  1.07651425e+02,\n",
       "        2.70038130e+01, -2.40287921e+00, -9.33204750e-01, -8.59190888e-01,\n",
       "        7.26048919e-01,  9.97614391e-01,  1.75409072e-01, -1.21829490e+00,\n",
       "       -2.22231799e+01, -1.06803109e+02, -2.63809241e+02, -6.43184244e+02,\n",
       "       -1.14567592e+03, -1.73278121e+03, -2.18867567e+03, -2.59932252e+03,\n",
       "       -2.59842137e+03, -2.19675930e+03, -1.83082365e+03, -1.06360311e+03,\n",
       "       -2.43151439e+02,  6.17501038e+02,  1.19538428e+03,  1.28574365e+03,\n",
       "        8.78137154e+02,  5.72242036e+02,  2.73233071e+02,  1.18502123e+02,\n",
       "        3.00498547e+01,  2.17304147e+00,  1.28145370e+00, -3.12323775e-01,\n",
       "        7.24685925e-01,  3.90213781e-02,  8.67254121e-01, -1.79077059e+00,\n",
       "       -5.47463751e+01, -2.11360942e+02, -5.79597998e+02, -1.09465489e+03,\n",
       "       -1.64552250e+03, -2.28023201e+03, -2.75608465e+03, -2.93155982e+03,\n",
       "       -2.82307526e+03, -2.54703804e+03, -1.88693989e+03, -1.14222606e+03,\n",
       "       -3.07884901e+02,  5.36958632e+02,  1.18581042e+03,  1.23674629e+03,\n",
       "        8.93874477e+02,  5.33375100e+02,  2.33513883e+02,  9.42065703e+01,\n",
       "        2.09907203e+01,  1.53412570e+00,  5.67647004e-01,  5.98397931e-01,\n",
       "        3.17510953e-01,  7.95736229e-01, -2.39556155e+00, -9.09409063e+00,\n",
       "       -9.66508935e+01, -3.28862251e+02, -7.65490084e+02, -1.49334423e+03,\n",
       "       -2.22591251e+03, -2.90426715e+03, -3.44422530e+03, -3.56405730e+03,\n",
       "       -3.77583780e+03, -3.60985054e+03, -2.68320231e+03, -2.02305448e+03,\n",
       "       -1.16242218e+03, -3.20648941e+02,  3.97329945e+02,  5.48175253e+02,\n",
       "        4.25680192e+02,  2.82543069e+02,  1.30616148e+02,  5.65642205e+01,\n",
       "        5.04779704e+00,  7.53053345e-01,  8.84930257e-01, -5.61364174e-02,\n",
       "        9.30051680e-01,  5.99632505e-01, -5.80263059e-01, -1.24385423e+01,\n",
       "       -9.03778222e+01, -2.53913091e+02, -7.06277080e+02, -1.46891275e+03,\n",
       "       -2.41853781e+03, -3.15286572e+03, -3.85474551e+03, -4.56772230e+03,\n",
       "       -4.96855098e+03, -4.64733864e+03, -3.93644529e+03, -3.20245140e+03,\n",
       "       -2.39812168e+03, -1.53811063e+03, -6.97822714e+02, -3.35461634e+02,\n",
       "       -1.30444381e+02, -5.54796846e+01, -8.20153246e+00,  1.80020312e+01,\n",
       "       -2.04252688e+00, -8.54975250e-01,  6.95191853e-01,  5.14938340e-01,\n",
       "       -8.29437157e-01,  5.24269660e-01,  3.76784706e-01,  9.58741273e-01,\n",
       "       -7.46370828e+00, -7.30994735e+01, -2.84845419e+02, -6.80477505e+02,\n",
       "       -1.22260549e+03, -1.78143511e+03, -2.34934371e+03, -2.86722416e+03,\n",
       "       -3.09262533e+03, -3.08729244e+03, -2.77748643e+03, -2.28035676e+03,\n",
       "       -1.71051221e+03, -1.10940894e+03, -6.31214231e+02, -3.14709253e+02,\n",
       "       -1.20642456e+02, -8.97582030e+01, -4.44558577e+01, -3.23052416e+00,\n",
       "       -7.51751329e-01, -2.05330829e-02, -1.69597193e-01, -3.83529600e-01,\n",
       "       -7.34707938e-01,  8.65926244e-01,  4.73489813e-01,  1.72648257e-01,\n",
       "       -2.48988065e+00, -1.24906447e+01, -2.81024354e+01, -4.93002279e+01,\n",
       "       -6.93441077e+01, -1.03565759e+02, -1.73482093e+02, -2.16555409e+02,\n",
       "       -2.96349296e+02, -3.86818918e+02, -4.59831677e+02, -4.04032550e+02,\n",
       "       -3.41919850e+02, -2.43238687e+02, -1.64828978e+02, -6.37507375e+01,\n",
       "       -2.32630319e+01, -2.82567852e+01, -2.54316876e+01, -2.12784372e+00,\n",
       "        2.68871268e-01, -3.83556028e-01,  2.49506755e-01,  6.22040341e-01,\n",
       "       -5.17971793e+00])"
      ]
     },
     "execution_count": 300,
     "metadata": {
      "tags": []
     },
     "output_type": "execute_result"
    }
   ],
   "source": [
    "hope"
   ]
  },
  {
   "cell_type": "markdown",
   "metadata": {
    "id": "0lLBPBpCYnU4"
   },
   "source": [
    "#Testing Model on Testing DATA"
   ]
  },
  {
   "cell_type": "code",
   "execution_count": null,
   "metadata": {
    "colab": {
     "base_uri": "https://localhost:8080/"
    },
    "executionInfo": {
     "elapsed": 1057119,
     "status": "ok",
     "timestamp": 1618575309235,
     "user": {
      "displayName": "Sughandhan S",
      "photoUrl": "https://lh3.googleusercontent.com/a-/AOh14GgCzJgz5tDGcNqn108PikDmo9i8xVBqBE7WCrGurg=s64",
      "userId": "16893705064560269479"
     },
     "user_tz": -330
    },
    "id": "bQMLXf3QuNqK",
    "outputId": "b6b813c8-acc6-4885-ceff-2a6a799501b2"
   },
   "outputs": [
    {
     "data": {
      "text/plain": [
       "array([-1,  1,  1, ...,  1, -1,  1])"
      ]
     },
     "execution_count": 301,
     "metadata": {
      "tags": []
     },
     "output_type": "execute_result"
    }
   ],
   "source": [
    "y_test"
   ]
  },
  {
   "cell_type": "code",
   "execution_count": null,
   "metadata": {
    "colab": {
     "base_uri": "https://localhost:8080/"
    },
    "executionInfo": {
     "elapsed": 1056807,
     "status": "ok",
     "timestamp": 1618575309235,
     "user": {
      "displayName": "Sughandhan S",
      "photoUrl": "https://lh3.googleusercontent.com/a-/AOh14GgCzJgz5tDGcNqn108PikDmo9i8xVBqBE7WCrGurg=s64",
      "userId": "16893705064560269479"
     },
     "user_tz": -330
    },
    "id": "LIq00PLwWlL9",
    "outputId": "69f9e992-9175-48b0-b8cb-9fcaef51f95c"
   },
   "outputs": [
    {
     "data": {
      "text/plain": [
       "(784,)"
      ]
     },
     "execution_count": 302,
     "metadata": {
      "tags": []
     },
     "output_type": "execute_result"
    }
   ],
   "source": [
    "x_test[0].shape"
   ]
  },
  {
   "cell_type": "code",
   "execution_count": null,
   "metadata": {
    "id": "QUXDEYjjVLvv"
   },
   "outputs": [],
   "source": [
    "def logistic_acc(wi, test, T_label ):\n",
    "  acc=0;\n",
    "  # z = wi[784]\n",
    "  # for i in range(784):\n",
    "  #   z += wi[i]*test[:, i]\n",
    "\n",
    "  y_pred = []\n",
    "  idx=0\n",
    "  for i in test:\n",
    "    z = wi[784]\n",
    "    for j in range(784):\n",
    "      z += wi[j]*i[j]\n",
    "    if z>=0:\n",
    "      if T_label[idx]==1:\n",
    "        acc +=1\n",
    "    else:\n",
    "      if T_label[idx]==-1:\n",
    "        acc +=1\n",
    "    idx +=1\n",
    "  acc /= len(test)\n",
    "  acc *= 100\n",
    "  print(\"Accuracy is \", acc, \"%\")\n",
    "  print(len(y_pred))\n",
    "  print(len(T_label))\n",
    "  print(y_pred==T_label)\n",
    "  return y_pred\n",
    "  #y_pred = sigmoid( )\n",
    "  #y_pred = np.multiply(T_labels, z)\n",
    "  #y_pred = z\n",
    "  # l = len(y_pred)\n",
    "  # print(y_pred)\n",
    "  # for i in range(l):\n",
    "  #   if y_pred[i]>=0:\n",
    "  #     y_pred[i]=1\n",
    "  #     #acc+=1\n",
    "  #   elif y_pred[i]<0:\n",
    "  #     y_pred[i]=-1\n",
    "  # for i in range(l):\n",
    "  #   if y_pred[i] == T_labels[i]:\n",
    "  #     acc+=1\n",
    "  \n"
   ]
  },
  {
   "cell_type": "code",
   "execution_count": null,
   "metadata": {
    "colab": {
     "base_uri": "https://localhost:8080/"
    },
    "executionInfo": {
     "elapsed": 1056065,
     "status": "ok",
     "timestamp": 1618575309236,
     "user": {
      "displayName": "Sughandhan S",
      "photoUrl": "https://lh3.googleusercontent.com/a-/AOh14GgCzJgz5tDGcNqn108PikDmo9i8xVBqBE7WCrGurg=s64",
      "userId": "16893705064560269479"
     },
     "user_tz": -330
    },
    "id": "aOI0xUZmx9St",
    "outputId": "eb2b72ea-70b4-43f9-8bec-38796494223c"
   },
   "outputs": [
    {
     "name": "stdout",
     "output_type": "stream",
     "text": [
      "[array([  0,   0,   0,   0,   0,   0,   0,   0,   0,   0,   0,   0,   0,\n",
      "         0,   0,   0,   0,   0,   0,   0,   0,   0,   0,   0,   0,   0,\n",
      "         0,   0,   0,   0,   0,   0,   0,   0,   0,   0,   0,   0,   0,\n",
      "         0,   0,   0,   0,   0,   0,   0,   0,   0,   0,   0,   0,   0,\n",
      "         0,   0,   0,   0,   0,   0,   0,   0,   0,   0,   0,   0,   0,\n",
      "         0,   0,   0,   0,   0,   0,   0,   0,   0,   0,   0,   0,   0,\n",
      "         0,   0,   0,   0,   0,   0,   0,   0,   0,   0,   0,   0,   0,\n",
      "         0,   0,   0,   0,   0,   0,   0,   0,   0,   0,   0,   0,   0,\n",
      "         0,   0,   0,   0,   0,   0,   0,   0,   0,   0,   0,   0,   0,\n",
      "         0,   0,   0,   0,   0,   0,   0,   0,   0,   0,   0,   0,   0,\n",
      "         0,   0,   0,   0,   0,   0,   0,   0,   0,   0,   0,   0,   0,\n",
      "         0,   0,   0,   0,   0,   0,   0,   0,   0,   0,   0,   0,   0,\n",
      "         0,   0,   0,   0,   0,   0,   0,   0,   0,   0,   0,   0,   0,\n",
      "         0,   0,   0,   0,   0,   0,   0,   0,   0,   0,   0,   0,   0,\n",
      "         0,   0,   0,   0,   0,   0,   0,   0,   0,   0,   0,   0,   0,\n",
      "         0,   0,   0,   0,   0,   0,   0,  84, 185, 159, 151,  60,  36,\n",
      "         0,   0,   0,   0,   0,   0,   0,   0,   0,   0,   0,   0,   0,\n",
      "         0,   0,   0,   0,   0,   0,   0,   0,   0, 222, 254, 254, 254,\n",
      "       254, 241, 198, 198, 198, 198, 198, 198, 198, 198, 170,  52,   0,\n",
      "         0,   0,   0,   0,   0,   0,   0,   0,   0,   0,   0,  67, 114,\n",
      "        72, 114, 163, 227, 254, 225, 254, 254, 254, 250, 229, 254, 254,\n",
      "       140,   0,   0,   0,   0,   0,   0,   0,   0,   0,   0,   0,   0,\n",
      "         0,   0,   0,   0,   0,  17,  66,  14,  67,  67,  67,  59,  21,\n",
      "       236, 254, 106,   0,   0,   0,   0,   0,   0,   0,   0,   0,   0,\n",
      "         0,   0,   0,   0,   0,   0,   0,   0,   0,   0,   0,   0,   0,\n",
      "         0,  83, 253, 209,  18,   0,   0,   0,   0,   0,   0,   0,   0,\n",
      "         0,   0,   0,   0,   0,   0,   0,   0,   0,   0,   0,   0,   0,\n",
      "         0,   0,  22, 233, 255,  83,   0,   0,   0,   0,   0,   0,   0,\n",
      "         0,   0,   0,   0,   0,   0,   0,   0,   0,   0,   0,   0,   0,\n",
      "         0,   0,   0,   0, 129, 254, 238,  44,   0,   0,   0,   0,   0,\n",
      "         0,   0,   0,   0,   0,   0,   0,   0,   0,   0,   0,   0,   0,\n",
      "         0,   0,   0,   0,   0,  59, 249, 254,  62,   0,   0,   0,   0,\n",
      "         0,   0,   0,   0,   0,   0,   0,   0,   0,   0,   0,   0,   0,\n",
      "         0,   0,   0,   0,   0,   0,   0, 133, 254, 187,   5,   0,   0,\n",
      "         0,   0,   0,   0,   0,   0,   0,   0,   0,   0,   0,   0,   0,\n",
      "         0,   0,   0,   0,   0,   0,   0,   0,   9, 205, 248,  58,   0,\n",
      "         0,   0,   0,   0,   0,   0,   0,   0,   0,   0,   0,   0,   0,\n",
      "         0,   0,   0,   0,   0,   0,   0,   0,   0,   0, 126, 254, 182,\n",
      "         0,   0,   0,   0,   0,   0,   0,   0,   0,   0,   0,   0,   0,\n",
      "         0,   0,   0,   0,   0,   0,   0,   0,   0,   0,   0,  75, 251,\n",
      "       240,  57,   0,   0,   0,   0,   0,   0,   0,   0,   0,   0,   0,\n",
      "         0,   0,   0,   0,   0,   0,   0,   0,   0,   0,   0,   0,  19,\n",
      "       221, 254, 166,   0,   0,   0,   0,   0,   0,   0,   0,   0,   0,\n",
      "         0,   0,   0,   0,   0,   0,   0,   0,   0,   0,   0,   0,   0,\n",
      "         3, 203, 254, 219,  35,   0,   0,   0,   0,   0,   0,   0,   0,\n",
      "         0,   0,   0,   0,   0,   0,   0,   0,   0,   0,   0,   0,   0,\n",
      "         0,   0,  38, 254, 254,  77,   0,   0,   0,   0,   0,   0,   0,\n",
      "         0,   0,   0,   0,   0,   0,   0,   0,   0,   0,   0,   0,   0,\n",
      "         0,   0,   0,  31, 224, 254, 115,   1,   0,   0,   0,   0,   0,\n",
      "         0,   0,   0,   0,   0,   0,   0,   0,   0,   0,   0,   0,   0,\n",
      "         0,   0,   0,   0,   0, 133, 254, 254,  52,   0,   0,   0,   0,\n",
      "         0,   0,   0,   0,   0,   0,   0,   0,   0,   0,   0,   0,   0,\n",
      "         0,   0,   0,   0,   0,   0,  61, 242, 254, 254,  52,   0,   0,\n",
      "         0,   0,   0,   0,   0,   0,   0,   0,   0,   0,   0,   0,   0,\n",
      "         0,   0,   0,   0,   0,   0,   0,   0, 121, 254, 254, 219,  40,\n",
      "         0,   0,   0,   0,   0,   0,   0,   0,   0,   0,   0,   0,   0,\n",
      "         0,   0,   0,   0,   0,   0,   0,   0,   0,   0, 121, 254, 207,\n",
      "        18,   0,   0,   0,   0,   0,   0,   0,   0,   0,   0,   0,   0,\n",
      "         0,   0,   0,   0,   0,   0,   0,   0,   0,   0,   0,   0,   0,\n",
      "         0,   0,   0,   0,   0,   0,   0,   0,   0,   0,   0,   0,   0,\n",
      "         0,   0,   0,   0])\n",
      " 1]\n"
     ]
    },
    {
     "name": "stderr",
     "output_type": "stream",
     "text": [
      "/usr/local/lib/python3.7/dist-packages/ipykernel_launcher.py:1: VisibleDeprecationWarning: Creating an ndarray from ragged nested sequences (which is a list-or-tuple of lists-or-tuples-or ndarrays with different lengths or shapes) is deprecated. If you meant to do this, you must specify 'dtype=object' when creating the ndarray\n",
      "  \"\"\"Entry point for launching an IPython kernel.\n"
     ]
    }
   ],
   "source": [
    "e = np.array([x_test[0],1])\n",
    "print(e)"
   ]
  },
  {
   "cell_type": "code",
   "execution_count": null,
   "metadata": {
    "colab": {
     "base_uri": "https://localhost:8080/"
    },
    "executionInfo": {
     "elapsed": 1055962,
     "status": "ok",
     "timestamp": 1618575309807,
     "user": {
      "displayName": "Sughandhan S",
      "photoUrl": "https://lh3.googleusercontent.com/a-/AOh14GgCzJgz5tDGcNqn108PikDmo9i8xVBqBE7WCrGurg=s64",
      "userId": "16893705064560269479"
     },
     "user_tz": -330
    },
    "id": "6WTDXad4byVp",
    "outputId": "880345d2-8491-4bfc-f060-cce1dcd755cf"
   },
   "outputs": [
    {
     "name": "stdout",
     "output_type": "stream",
     "text": [
      "Accuracy is  98.00995024875621 %\n",
      "0\n",
      "2010\n",
      "False\n"
     ]
    },
    {
     "name": "stderr",
     "output_type": "stream",
     "text": [
      "/usr/local/lib/python3.7/dist-packages/ipykernel_launcher.py:25: DeprecationWarning: elementwise comparison failed; this will raise an error in the future.\n"
     ]
    }
   ],
   "source": [
    "abc = logistic_acc(hope, x_test, y_test)"
   ]
  },
  {
   "cell_type": "code",
   "execution_count": null,
   "metadata": {
    "id": "JPELSSlEIaW7"
   },
   "outputs": [],
   "source": []
  },
  {
   "cell_type": "code",
   "execution_count": null,
   "metadata": {
    "colab": {
     "base_uri": "https://localhost:8080/"
    },
    "executionInfo": {
     "elapsed": 2078,
     "status": "ok",
     "timestamp": 1618566821035,
     "user": {
      "displayName": "Sughandhan S",
      "photoUrl": "https://lh3.googleusercontent.com/a-/AOh14GgCzJgz5tDGcNqn108PikDmo9i8xVBqBE7WCrGurg=s64",
      "userId": "16893705064560269479"
     },
     "user_tz": -330
    },
    "id": "r1jwXDMRe5vm",
    "outputId": "c1d7742e-09c2-4135-d981-5c8bbeed25f5"
   },
   "outputs": [
    {
     "data": {
      "text/plain": [
       "1"
      ]
     },
     "execution_count": 492,
     "metadata": {
      "tags": []
     },
     "output_type": "execute_result"
    }
   ],
   "source": [
    "y_test.max()"
   ]
  },
  {
   "cell_type": "code",
   "execution_count": null,
   "metadata": {
    "colab": {
     "base_uri": "https://localhost:8080/"
    },
    "executionInfo": {
     "elapsed": 1916,
     "status": "ok",
     "timestamp": 1618566821036,
     "user": {
      "displayName": "Sughandhan S",
      "photoUrl": "https://lh3.googleusercontent.com/a-/AOh14GgCzJgz5tDGcNqn108PikDmo9i8xVBqBE7WCrGurg=s64",
      "userId": "16893705064560269479"
     },
     "user_tz": -330
    },
    "id": "-yVekiKofy09",
    "outputId": "e8f5f882-c882-40f3-faa5-c9ba214e87a6"
   },
   "outputs": [
    {
     "data": {
      "text/plain": [
       "-1"
      ]
     },
     "execution_count": 493,
     "metadata": {
      "tags": []
     },
     "output_type": "execute_result"
    }
   ],
   "source": [
    "y_test.min()"
   ]
  },
  {
   "cell_type": "code",
   "execution_count": null,
   "metadata": {
    "colab": {
     "base_uri": "https://localhost:8080/",
     "height": 165
    },
    "executionInfo": {
     "elapsed": 29879,
     "status": "error",
     "timestamp": 1618564906797,
     "user": {
      "displayName": "Sughandhan S",
      "photoUrl": "https://lh3.googleusercontent.com/a-/AOh14GgCzJgz5tDGcNqn108PikDmo9i8xVBqBE7WCrGurg=s64",
      "userId": "16893705064560269479"
     },
     "user_tz": -330
    },
    "id": "YkcVWnm6dNX9",
    "outputId": "46c730fc-2c54-4213-a603-67d50a92ba29"
   },
   "outputs": [
    {
     "ename": "AttributeError",
     "evalue": "ignored",
     "output_type": "error",
     "traceback": [
      "\u001b[0;31m---------------------------------------------------------------------------\u001b[0m",
      "\u001b[0;31mAttributeError\u001b[0m                            Traceback (most recent call last)",
      "\u001b[0;32m<ipython-input-190-5e908c1ca863>\u001b[0m in \u001b[0;36m<module>\u001b[0;34m()\u001b[0m\n\u001b[0;32m----> 1\u001b[0;31m \u001b[0mabc\u001b[0m\u001b[0;34m.\u001b[0m\u001b[0mmax\u001b[0m\u001b[0;34m(\u001b[0m\u001b[0;34m)\u001b[0m\u001b[0;34m\u001b[0m\u001b[0;34m\u001b[0m\u001b[0m\n\u001b[0m",
      "\u001b[0;31mAttributeError\u001b[0m: 'list' object has no attribute 'max'"
     ]
    }
   ],
   "source": [
    "abc.max()"
   ]
  },
  {
   "cell_type": "code",
   "execution_count": null,
   "metadata": {
    "id": "ZLo915coezZl"
   },
   "outputs": [],
   "source": [
    "abc.min()"
   ]
  },
  {
   "cell_type": "code",
   "execution_count": null,
   "metadata": {
    "id": "mFj3aLPdfmKA"
   },
   "outputs": [],
   "source": [
    "y_test"
   ]
  },
  {
   "cell_type": "code",
   "execution_count": null,
   "metadata": {
    "id": "Z9Y0C1kGpIFW"
   },
   "outputs": [],
   "source": [
    "abc"
   ]
  },
  {
   "cell_type": "code",
   "execution_count": null,
   "metadata": {
    "id": "pcRGPU76QMmd"
   },
   "outputs": [],
   "source": []
  }
 ],
 "metadata": {
  "colab": {
   "authorship_tag": "ABX9TyO3ZEv63QSAdN8qmRODZdgx",
   "collapsed_sections": [],
   "name": "Lab 7.ipynb",
   "provenance": []
  },
  "kernelspec": {
   "display_name": "Python 3",
   "language": "python",
   "name": "python3"
  },
  "language_info": {
   "codemirror_mode": {
    "name": "ipython",
    "version": 3
   },
   "file_extension": ".py",
   "mimetype": "text/x-python",
   "name": "python",
   "nbconvert_exporter": "python",
   "pygments_lexer": "ipython3",
   "version": "3.7.3"
  }
 },
 "nbformat": 4,
 "nbformat_minor": 1
}
